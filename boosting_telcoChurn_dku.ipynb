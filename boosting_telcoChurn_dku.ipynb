{
  "nbformat": 4,
  "nbformat_minor": 0,
  "metadata": {
    "colab": {
      "name": "boosting_telcoChurn_dku.ipynb",
      "provenance": [],
      "collapsed_sections": [],
      "toc_visible": true
    },
    "kernelspec": {
      "name": "python3",
      "display_name": "Python 3"
    },
    "accelerator": "GPU"
  },
  "cells": [
    {
      "cell_type": "markdown",
      "metadata": {
        "id": "kaAsfmYorLni",
        "colab_type": "text"
      },
      "source": [
        "# Unit 5 Project - Telco Churn With Boosting Models"
      ]
    },
    {
      "cell_type": "markdown",
      "metadata": {
        "id": "E3-UW-tKWcsm",
        "colab_type": "text"
      },
      "source": [
        "**First started on December 11, 2019.**"
      ]
    },
    {
      "cell_type": "markdown",
      "metadata": {
        "id": "5uUbHCILuYS-",
        "colab_type": "text"
      },
      "source": [
        "**Brief**\n",
        "\n",
        "In a telecomunnications dataset, the telco company would like to know which customers are likely to leave (churn). \n",
        "\n",
        "A plan also needs to be developed to try to keep customers from leaving/churning."
      ]
    },
    {
      "cell_type": "markdown",
      "metadata": {
        "id": "nnETXBAgrQuS",
        "colab_type": "text"
      },
      "source": [
        "For this boosting models with classification project, I am using the Unit 2 Telco Churn dataset."
      ]
    },
    {
      "cell_type": "code",
      "metadata": {
        "id": "2ko37GQrr72I",
        "colab_type": "code",
        "outputId": "aba079a2-4c38-486d-8aef-635f6e03336e",
        "colab": {
          "base_uri": "https://localhost:8080/",
          "height": 68
        }
      },
      "source": [
        "pip install xgboost"
      ],
      "execution_count": 0,
      "outputs": [
        {
          "output_type": "stream",
          "text": [
            "Requirement already satisfied: xgboost in /usr/local/lib/python3.6/dist-packages (0.90)\n",
            "Requirement already satisfied: scipy in /usr/local/lib/python3.6/dist-packages (from xgboost) (1.3.3)\n",
            "Requirement already satisfied: numpy in /usr/local/lib/python3.6/dist-packages (from xgboost) (1.17.4)\n"
          ],
          "name": "stdout"
        }
      ]
    },
    {
      "cell_type": "code",
      "metadata": {
        "id": "5PADUwFYr-Mp",
        "colab_type": "code",
        "outputId": "7613d954-5d68-4334-f4cd-2da22dafef86",
        "colab": {
          "base_uri": "https://localhost:8080/",
          "height": 362
        }
      },
      "source": [
        "pip install catboost"
      ],
      "execution_count": 0,
      "outputs": [
        {
          "output_type": "stream",
          "text": [
            "Collecting catboost\n",
            "\u001b[?25l  Downloading https://files.pythonhosted.org/packages/97/c4/586923de4634f88a31fd1b4966e15707a912b98b6f4566651b5ef58f36b5/catboost-0.20.2-cp36-none-manylinux1_x86_64.whl (63.9MB)\n",
            "\u001b[K     |████████████████████████████████| 63.9MB 45kB/s \n",
            "\u001b[?25hRequirement already satisfied: plotly in /usr/local/lib/python3.6/dist-packages (from catboost) (4.1.1)\n",
            "Requirement already satisfied: graphviz in /usr/local/lib/python3.6/dist-packages (from catboost) (0.10.1)\n",
            "Requirement already satisfied: matplotlib in /usr/local/lib/python3.6/dist-packages (from catboost) (3.1.2)\n",
            "Requirement already satisfied: pandas>=0.24.0 in /usr/local/lib/python3.6/dist-packages (from catboost) (0.25.3)\n",
            "Requirement already satisfied: numpy>=1.16.0 in /usr/local/lib/python3.6/dist-packages (from catboost) (1.17.4)\n",
            "Requirement already satisfied: six in /usr/local/lib/python3.6/dist-packages (from catboost) (1.12.0)\n",
            "Requirement already satisfied: scipy in /usr/local/lib/python3.6/dist-packages (from catboost) (1.3.3)\n",
            "Requirement already satisfied: retrying>=1.3.3 in /usr/local/lib/python3.6/dist-packages (from plotly->catboost) (1.3.3)\n",
            "Requirement already satisfied: pyparsing!=2.0.4,!=2.1.2,!=2.1.6,>=2.0.1 in /usr/local/lib/python3.6/dist-packages (from matplotlib->catboost) (2.4.5)\n",
            "Requirement already satisfied: python-dateutil>=2.1 in /usr/local/lib/python3.6/dist-packages (from matplotlib->catboost) (2.6.1)\n",
            "Requirement already satisfied: cycler>=0.10 in /usr/local/lib/python3.6/dist-packages (from matplotlib->catboost) (0.10.0)\n",
            "Requirement already satisfied: kiwisolver>=1.0.1 in /usr/local/lib/python3.6/dist-packages (from matplotlib->catboost) (1.1.0)\n",
            "Requirement already satisfied: pytz>=2017.2 in /usr/local/lib/python3.6/dist-packages (from pandas>=0.24.0->catboost) (2018.9)\n",
            "Requirement already satisfied: setuptools in /usr/local/lib/python3.6/dist-packages (from kiwisolver>=1.0.1->matplotlib->catboost) (42.0.2)\n",
            "Installing collected packages: catboost\n",
            "Successfully installed catboost-0.20.2\n"
          ],
          "name": "stdout"
        }
      ]
    },
    {
      "cell_type": "code",
      "metadata": {
        "id": "n0ekQvtZrMb6",
        "colab_type": "code",
        "colab": {}
      },
      "source": [
        "# Imports:\n",
        "\n",
        "import pandas as pd\n",
        "import numpy as np\n",
        "import matplotlib.pyplot as plt\n",
        "import seaborn as sns\n",
        "\n",
        "from sklearn import ensemble, preprocessing\n",
        "from sklearn.model_selection import train_test_split\n",
        "from sklearn.metrics import classification_report\n",
        "\n",
        "import xgboost as xgb\n",
        "from catboost import CatBoostClassifier\n",
        "\n",
        "# Show all columns\n",
        "pd.set_option('display.max_columns', None)"
      ],
      "execution_count": 0,
      "outputs": []
    },
    {
      "cell_type": "code",
      "metadata": {
        "id": "mZl2xritrwmo",
        "colab_type": "code",
        "outputId": "131c60b8-e385-43db-d141-50ba082f1538",
        "colab": {
          "base_uri": "https://localhost:8080/",
          "height": 122
        }
      },
      "source": [
        "from google.colab import drive\n",
        "drive.mount('/content/drive')"
      ],
      "execution_count": 0,
      "outputs": [
        {
          "output_type": "stream",
          "text": [
            "Go to this URL in a browser: https://accounts.google.com/o/oauth2/auth?client_id=947318989803-6bn6qk8qdgf4n4g3pfee6491hc0brc4i.apps.googleusercontent.com&redirect_uri=urn%3aietf%3awg%3aoauth%3a2.0%3aoob&response_type=code&scope=email%20https%3a%2f%2fwww.googleapis.com%2fauth%2fdocs.test%20https%3a%2f%2fwww.googleapis.com%2fauth%2fdrive%20https%3a%2f%2fwww.googleapis.com%2fauth%2fdrive.photos.readonly%20https%3a%2f%2fwww.googleapis.com%2fauth%2fpeopleapi.readonly\n",
            "\n",
            "Enter your authorization code:\n",
            "··········\n",
            "Mounted at /content/drive\n"
          ],
          "name": "stdout"
        }
      ]
    },
    {
      "cell_type": "code",
      "metadata": {
        "id": "-PRwMl8KrMkL",
        "colab_type": "code",
        "colab": {}
      },
      "source": [
        "# Read data in:\n",
        "\n",
        "telco_data = pd.read_csv('/content/drive/My Drive/Telco-Customer-Churn.csv')"
      ],
      "execution_count": 0,
      "outputs": []
    },
    {
      "cell_type": "code",
      "metadata": {
        "id": "pV-VhHATr4hi",
        "colab_type": "code",
        "outputId": "f64e3220-212f-4981-8999-cd8decb8c6c6",
        "colab": {
          "base_uri": "https://localhost:8080/",
          "height": 308
        }
      },
      "source": [
        "# Preview\n",
        "\n",
        "telco_data.head()"
      ],
      "execution_count": 0,
      "outputs": [
        {
          "output_type": "execute_result",
          "data": {
            "text/html": [
              "<div>\n",
              "<style scoped>\n",
              "    .dataframe tbody tr th:only-of-type {\n",
              "        vertical-align: middle;\n",
              "    }\n",
              "\n",
              "    .dataframe tbody tr th {\n",
              "        vertical-align: top;\n",
              "    }\n",
              "\n",
              "    .dataframe thead th {\n",
              "        text-align: right;\n",
              "    }\n",
              "</style>\n",
              "<table border=\"1\" class=\"dataframe\">\n",
              "  <thead>\n",
              "    <tr style=\"text-align: right;\">\n",
              "      <th></th>\n",
              "      <th>customerID</th>\n",
              "      <th>gender</th>\n",
              "      <th>SeniorCitizen</th>\n",
              "      <th>Partner</th>\n",
              "      <th>Dependents</th>\n",
              "      <th>tenure</th>\n",
              "      <th>PhoneService</th>\n",
              "      <th>MultipleLines</th>\n",
              "      <th>InternetService</th>\n",
              "      <th>OnlineSecurity</th>\n",
              "      <th>OnlineBackup</th>\n",
              "      <th>DeviceProtection</th>\n",
              "      <th>TechSupport</th>\n",
              "      <th>StreamingTV</th>\n",
              "      <th>StreamingMovies</th>\n",
              "      <th>Contract</th>\n",
              "      <th>PaperlessBilling</th>\n",
              "      <th>PaymentMethod</th>\n",
              "      <th>MonthlyCharges</th>\n",
              "      <th>TotalCharges</th>\n",
              "      <th>Churn</th>\n",
              "    </tr>\n",
              "  </thead>\n",
              "  <tbody>\n",
              "    <tr>\n",
              "      <th>0</th>\n",
              "      <td>7590-VHVEG</td>\n",
              "      <td>Female</td>\n",
              "      <td>0</td>\n",
              "      <td>Yes</td>\n",
              "      <td>No</td>\n",
              "      <td>1</td>\n",
              "      <td>No</td>\n",
              "      <td>No phone service</td>\n",
              "      <td>DSL</td>\n",
              "      <td>No</td>\n",
              "      <td>Yes</td>\n",
              "      <td>No</td>\n",
              "      <td>No</td>\n",
              "      <td>No</td>\n",
              "      <td>No</td>\n",
              "      <td>Month-to-month</td>\n",
              "      <td>Yes</td>\n",
              "      <td>Electronic check</td>\n",
              "      <td>29.85</td>\n",
              "      <td>29.85</td>\n",
              "      <td>No</td>\n",
              "    </tr>\n",
              "    <tr>\n",
              "      <th>1</th>\n",
              "      <td>5575-GNVDE</td>\n",
              "      <td>Male</td>\n",
              "      <td>0</td>\n",
              "      <td>No</td>\n",
              "      <td>No</td>\n",
              "      <td>34</td>\n",
              "      <td>Yes</td>\n",
              "      <td>No</td>\n",
              "      <td>DSL</td>\n",
              "      <td>Yes</td>\n",
              "      <td>No</td>\n",
              "      <td>Yes</td>\n",
              "      <td>No</td>\n",
              "      <td>No</td>\n",
              "      <td>No</td>\n",
              "      <td>One year</td>\n",
              "      <td>No</td>\n",
              "      <td>Mailed check</td>\n",
              "      <td>56.95</td>\n",
              "      <td>1889.5</td>\n",
              "      <td>No</td>\n",
              "    </tr>\n",
              "    <tr>\n",
              "      <th>2</th>\n",
              "      <td>3668-QPYBK</td>\n",
              "      <td>Male</td>\n",
              "      <td>0</td>\n",
              "      <td>No</td>\n",
              "      <td>No</td>\n",
              "      <td>2</td>\n",
              "      <td>Yes</td>\n",
              "      <td>No</td>\n",
              "      <td>DSL</td>\n",
              "      <td>Yes</td>\n",
              "      <td>Yes</td>\n",
              "      <td>No</td>\n",
              "      <td>No</td>\n",
              "      <td>No</td>\n",
              "      <td>No</td>\n",
              "      <td>Month-to-month</td>\n",
              "      <td>Yes</td>\n",
              "      <td>Mailed check</td>\n",
              "      <td>53.85</td>\n",
              "      <td>108.15</td>\n",
              "      <td>Yes</td>\n",
              "    </tr>\n",
              "    <tr>\n",
              "      <th>3</th>\n",
              "      <td>7795-CFOCW</td>\n",
              "      <td>Male</td>\n",
              "      <td>0</td>\n",
              "      <td>No</td>\n",
              "      <td>No</td>\n",
              "      <td>45</td>\n",
              "      <td>No</td>\n",
              "      <td>No phone service</td>\n",
              "      <td>DSL</td>\n",
              "      <td>Yes</td>\n",
              "      <td>No</td>\n",
              "      <td>Yes</td>\n",
              "      <td>Yes</td>\n",
              "      <td>No</td>\n",
              "      <td>No</td>\n",
              "      <td>One year</td>\n",
              "      <td>No</td>\n",
              "      <td>Bank transfer (automatic)</td>\n",
              "      <td>42.30</td>\n",
              "      <td>1840.75</td>\n",
              "      <td>No</td>\n",
              "    </tr>\n",
              "    <tr>\n",
              "      <th>4</th>\n",
              "      <td>9237-HQITU</td>\n",
              "      <td>Female</td>\n",
              "      <td>0</td>\n",
              "      <td>No</td>\n",
              "      <td>No</td>\n",
              "      <td>2</td>\n",
              "      <td>Yes</td>\n",
              "      <td>No</td>\n",
              "      <td>Fiber optic</td>\n",
              "      <td>No</td>\n",
              "      <td>No</td>\n",
              "      <td>No</td>\n",
              "      <td>No</td>\n",
              "      <td>No</td>\n",
              "      <td>No</td>\n",
              "      <td>Month-to-month</td>\n",
              "      <td>Yes</td>\n",
              "      <td>Electronic check</td>\n",
              "      <td>70.70</td>\n",
              "      <td>151.65</td>\n",
              "      <td>Yes</td>\n",
              "    </tr>\n",
              "  </tbody>\n",
              "</table>\n",
              "</div>"
            ],
            "text/plain": [
              "   customerID  gender  SeniorCitizen Partner Dependents  tenure PhoneService  \\\n",
              "0  7590-VHVEG  Female              0     Yes         No       1           No   \n",
              "1  5575-GNVDE    Male              0      No         No      34          Yes   \n",
              "2  3668-QPYBK    Male              0      No         No       2          Yes   \n",
              "3  7795-CFOCW    Male              0      No         No      45           No   \n",
              "4  9237-HQITU  Female              0      No         No       2          Yes   \n",
              "\n",
              "      MultipleLines InternetService OnlineSecurity OnlineBackup  \\\n",
              "0  No phone service             DSL             No          Yes   \n",
              "1                No             DSL            Yes           No   \n",
              "2                No             DSL            Yes          Yes   \n",
              "3  No phone service             DSL            Yes           No   \n",
              "4                No     Fiber optic             No           No   \n",
              "\n",
              "  DeviceProtection TechSupport StreamingTV StreamingMovies        Contract  \\\n",
              "0               No          No          No              No  Month-to-month   \n",
              "1              Yes          No          No              No        One year   \n",
              "2               No          No          No              No  Month-to-month   \n",
              "3              Yes         Yes          No              No        One year   \n",
              "4               No          No          No              No  Month-to-month   \n",
              "\n",
              "  PaperlessBilling              PaymentMethod  MonthlyCharges TotalCharges  \\\n",
              "0              Yes           Electronic check           29.85        29.85   \n",
              "1               No               Mailed check           56.95       1889.5   \n",
              "2              Yes               Mailed check           53.85       108.15   \n",
              "3               No  Bank transfer (automatic)           42.30      1840.75   \n",
              "4              Yes           Electronic check           70.70       151.65   \n",
              "\n",
              "  Churn  \n",
              "0    No  \n",
              "1    No  \n",
              "2   Yes  \n",
              "3    No  \n",
              "4   Yes  "
            ]
          },
          "metadata": {
            "tags": []
          },
          "execution_count": 7
        }
      ]
    },
    {
      "cell_type": "code",
      "metadata": {
        "id": "sKGfAtDwsXBQ",
        "colab_type": "code",
        "outputId": "96e751aa-b9f5-42bc-aeb6-5a8ae8f04f21",
        "colab": {
          "base_uri": "https://localhost:8080/",
          "height": 119
        }
      },
      "source": [
        "telco_data.columns"
      ],
      "execution_count": 0,
      "outputs": [
        {
          "output_type": "execute_result",
          "data": {
            "text/plain": [
              "Index(['customerID', 'gender', 'SeniorCitizen', 'Partner', 'Dependents',\n",
              "       'tenure', 'PhoneService', 'MultipleLines', 'InternetService',\n",
              "       'OnlineSecurity', 'OnlineBackup', 'DeviceProtection', 'TechSupport',\n",
              "       'StreamingTV', 'StreamingMovies', 'Contract', 'PaperlessBilling',\n",
              "       'PaymentMethod', 'MonthlyCharges', 'TotalCharges', 'Churn'],\n",
              "      dtype='object')"
            ]
          },
          "metadata": {
            "tags": []
          },
          "execution_count": 8
        }
      ]
    },
    {
      "cell_type": "code",
      "metadata": {
        "id": "Z95rC1g5sYcu",
        "colab_type": "code",
        "outputId": "fb9469cd-f8b0-41e9-f18c-24e6efc77064",
        "colab": {
          "base_uri": "https://localhost:8080/",
          "height": 461
        }
      },
      "source": [
        "telco_data.info()"
      ],
      "execution_count": 0,
      "outputs": [
        {
          "output_type": "stream",
          "text": [
            "<class 'pandas.core.frame.DataFrame'>\n",
            "RangeIndex: 7043 entries, 0 to 7042\n",
            "Data columns (total 21 columns):\n",
            "customerID          7043 non-null object\n",
            "gender              7043 non-null object\n",
            "SeniorCitizen       7043 non-null int64\n",
            "Partner             7043 non-null object\n",
            "Dependents          7043 non-null object\n",
            "tenure              7043 non-null int64\n",
            "PhoneService        7043 non-null object\n",
            "MultipleLines       7043 non-null object\n",
            "InternetService     7043 non-null object\n",
            "OnlineSecurity      7043 non-null object\n",
            "OnlineBackup        7043 non-null object\n",
            "DeviceProtection    7043 non-null object\n",
            "TechSupport         7043 non-null object\n",
            "StreamingTV         7043 non-null object\n",
            "StreamingMovies     7043 non-null object\n",
            "Contract            7043 non-null object\n",
            "PaperlessBilling    7043 non-null object\n",
            "PaymentMethod       7043 non-null object\n",
            "MonthlyCharges      7043 non-null float64\n",
            "TotalCharges        7043 non-null object\n",
            "Churn               7043 non-null object\n",
            "dtypes: float64(1), int64(2), object(18)\n",
            "memory usage: 1.1+ MB\n"
          ],
          "name": "stdout"
        }
      ]
    },
    {
      "cell_type": "markdown",
      "metadata": {
        "id": "dD9txubFuLA3",
        "colab_type": "text"
      },
      "source": [
        "There are no NULL values."
      ]
    },
    {
      "cell_type": "code",
      "metadata": {
        "id": "F_tadhyILkVt",
        "colab_type": "code",
        "outputId": "e116605c-832c-4f59-a9ed-01f51451202f",
        "colab": {
          "base_uri": "https://localhost:8080/",
          "height": 393
        }
      },
      "source": [
        "telco_data.nunique()"
      ],
      "execution_count": 0,
      "outputs": [
        {
          "output_type": "execute_result",
          "data": {
            "text/plain": [
              "customerID          7043\n",
              "gender                 2\n",
              "SeniorCitizen          2\n",
              "Partner                2\n",
              "Dependents             2\n",
              "tenure                73\n",
              "PhoneService           2\n",
              "MultipleLines          3\n",
              "InternetService        3\n",
              "OnlineSecurity         3\n",
              "OnlineBackup           3\n",
              "DeviceProtection       3\n",
              "TechSupport            3\n",
              "StreamingTV            3\n",
              "StreamingMovies        3\n",
              "Contract               3\n",
              "PaperlessBilling       2\n",
              "PaymentMethod          4\n",
              "MonthlyCharges      1585\n",
              "TotalCharges        6531\n",
              "Churn                  2\n",
              "dtype: int64"
            ]
          },
          "metadata": {
            "tags": []
          },
          "execution_count": 10
        }
      ]
    },
    {
      "cell_type": "markdown",
      "metadata": {
        "id": "Rs13BkBJswf5",
        "colab_type": "text"
      },
      "source": [
        "# Some Exploratory Data Analysis (EDA)"
      ]
    },
    {
      "cell_type": "code",
      "metadata": {
        "id": "man700hAsnt1",
        "colab_type": "code",
        "colab": {}
      },
      "source": [
        ""
      ],
      "execution_count": 0,
      "outputs": []
    },
    {
      "cell_type": "markdown",
      "metadata": {
        "id": "NBnniUktsn2L",
        "colab_type": "text"
      },
      "source": [
        "## Kaplan-Meier Survival Curve - Copied Mostly From Unit 2 Classification\n"
      ]
    },
    {
      "cell_type": "markdown",
      "metadata": {
        "id": "ODZxTyZ-wRox",
        "colab_type": "text"
      },
      "source": [
        "**Same thing from Unit 2 Project**"
      ]
    },
    {
      "cell_type": "markdown",
      "metadata": {
        "id": "TrFGI_ELxm3e",
        "colab_type": "text"
      },
      "source": [
        "A Kaplan-Meier survival curve from the statistical field of Survival Analysis can be used to model churns from different groups.\n",
        "\n",
        "The groups here are Month-To-Month customers, One-Year contract customers and Two-Year contract customers.\n",
        "\n",
        "This Kaplan-Meier survival curve looks at the people leaving (customer churn) and the remaining customers over time (tenure)."
      ]
    },
    {
      "cell_type": "markdown",
      "metadata": {
        "id": "hmx156ySeqro",
        "colab_type": "text"
      },
      "source": [
        "The statistical field of survival analysis involves time to event data.\n",
        "\n",
        "* Tenure: Customer service time (months)\n",
        "* Event Of Interest: Churn (Yes/ True)\n",
        "* Kaplan-Meier survival curve visualization for customer churn by contract.\n",
        "* Survival curve estimates the probability of the customer staying (non-churn) past a point in time.\n",
        "\n",
        "&nbsp;\n",
        "\n",
        "[Survival Analysis Python Reference](https://lifelines.readthedocs.io/en/latest/Survival%20Analysis%20intro.html)\n",
        "\n",
        "---\n",
        "\n",
        "Given a customer's time with the business $C$, the survival function of a population $S(t)$ is the probability of the customer time $C$ being greater than some point in time $t$.\n",
        "\n",
        "$$S(t) = P(C > t)$$\n",
        "\n",
        "&nbsp;\n",
        "\n",
        "The survival function is related to the cumulative distribution function $F(t)$. This formula holds true.\n",
        "\n",
        "$$S(t) = 1 - F(t) = 1 - P(C \\leq t)$$\n"
      ]
    },
    {
      "cell_type": "code",
      "metadata": {
        "id": "SgxNK_lhfGp_",
        "colab_type": "code",
        "outputId": "6802bdc0-fd3b-4ae9-c704-1e622a829b45",
        "colab": {
          "base_uri": "https://localhost:8080/",
          "height": 379
        }
      },
      "source": [
        "pip install lifelines"
      ],
      "execution_count": 0,
      "outputs": [
        {
          "output_type": "stream",
          "text": [
            "Collecting lifelines\n",
            "\u001b[?25l  Downloading https://files.pythonhosted.org/packages/74/0b/d9479bd5a41128c55aeee2523604cc5d84d3ed9800e26b3ecee41d26414f/lifelines-0.23.5-py2.py3-none-any.whl (403kB)\n",
            "\r\u001b[K     |▉                               | 10kB 30.1MB/s eta 0:00:01\r\u001b[K     |█▋                              | 20kB 468kB/s eta 0:00:01\r\u001b[K     |██▍                             | 30kB 700kB/s eta 0:00:01\r\u001b[K     |███▎                            | 40kB 761kB/s eta 0:00:01\r\u001b[K     |████                            | 51kB 948kB/s eta 0:00:01\r\u001b[K     |████▉                           | 61kB 1.1MB/s eta 0:00:01\r\u001b[K     |█████▊                          | 71kB 1.3MB/s eta 0:00:01\r\u001b[K     |██████▌                         | 81kB 1.5MB/s eta 0:00:01\r\u001b[K     |███████▎                        | 92kB 1.7MB/s eta 0:00:01\r\u001b[K     |████████▏                       | 102kB 1.6MB/s eta 0:00:01\r\u001b[K     |█████████                       | 112kB 1.6MB/s eta 0:00:01\r\u001b[K     |█████████▊                      | 122kB 1.6MB/s eta 0:00:01\r\u001b[K     |██████████▋                     | 133kB 1.6MB/s eta 0:00:01\r\u001b[K     |███████████▍                    | 143kB 1.6MB/s eta 0:00:01\r\u001b[K     |████████████▏                   | 153kB 1.6MB/s eta 0:00:01\r\u001b[K     |█████████████                   | 163kB 1.6MB/s eta 0:00:01\r\u001b[K     |█████████████▉                  | 174kB 1.6MB/s eta 0:00:01\r\u001b[K     |██████████████▋                 | 184kB 1.6MB/s eta 0:00:01\r\u001b[K     |███████████████▍                | 194kB 1.6MB/s eta 0:00:01\r\u001b[K     |████████████████▎               | 204kB 1.6MB/s eta 0:00:01\r\u001b[K     |█████████████████               | 215kB 1.6MB/s eta 0:00:01\r\u001b[K     |█████████████████▉              | 225kB 1.6MB/s eta 0:00:01\r\u001b[K     |██████████████████▊             | 235kB 1.6MB/s eta 0:00:01\r\u001b[K     |███████████████████▌            | 245kB 1.6MB/s eta 0:00:01\r\u001b[K     |████████████████████▎           | 256kB 1.6MB/s eta 0:00:01\r\u001b[K     |█████████████████████▏          | 266kB 1.6MB/s eta 0:00:01\r\u001b[K     |██████████████████████          | 276kB 1.6MB/s eta 0:00:01\r\u001b[K     |██████████████████████▊         | 286kB 1.6MB/s eta 0:00:01\r\u001b[K     |███████████████████████▋        | 296kB 1.6MB/s eta 0:00:01\r\u001b[K     |████████████████████████▍       | 307kB 1.6MB/s eta 0:00:01\r\u001b[K     |█████████████████████████▏      | 317kB 1.6MB/s eta 0:00:01\r\u001b[K     |██████████████████████████      | 327kB 1.6MB/s eta 0:00:01\r\u001b[K     |██████████████████████████▉     | 337kB 1.6MB/s eta 0:00:01\r\u001b[K     |███████████████████████████▋    | 348kB 1.6MB/s eta 0:00:01\r\u001b[K     |████████████████████████████▍   | 358kB 1.6MB/s eta 0:00:01\r\u001b[K     |█████████████████████████████▎  | 368kB 1.6MB/s eta 0:00:01\r\u001b[K     |██████████████████████████████  | 378kB 1.6MB/s eta 0:00:01\r\u001b[K     |██████████████████████████████▉ | 389kB 1.6MB/s eta 0:00:01\r\u001b[K     |███████████████████████████████▊| 399kB 1.6MB/s eta 0:00:01\r\u001b[K     |████████████████████████████████| 409kB 1.6MB/s \n",
            "\u001b[?25hRequirement already satisfied: scipy>=1.0 in /usr/local/lib/python3.6/dist-packages (from lifelines) (1.3.3)\n",
            "Requirement already satisfied: autograd>=1.3 in /usr/local/lib/python3.6/dist-packages (from lifelines) (1.3)\n",
            "Requirement already satisfied: matplotlib>=3.0 in /usr/local/lib/python3.6/dist-packages (from lifelines) (3.1.2)\n",
            "Collecting autograd-gamma>=0.3\n",
            "  Downloading https://files.pythonhosted.org/packages/3e/87/788c4bf90cc5c534cb3b7fdb5b719175e33e2658decce75e35e2ce69766f/autograd_gamma-0.4.1-py2.py3-none-any.whl\n",
            "Requirement already satisfied: pandas>=0.23.0 in /usr/local/lib/python3.6/dist-packages (from lifelines) (0.25.3)\n",
            "Requirement already satisfied: numpy>=1.14.0 in /usr/local/lib/python3.6/dist-packages (from lifelines) (1.17.4)\n",
            "Requirement already satisfied: future>=0.15.2 in /usr/local/lib/python3.6/dist-packages (from autograd>=1.3->lifelines) (0.16.0)\n",
            "Requirement already satisfied: kiwisolver>=1.0.1 in /usr/local/lib/python3.6/dist-packages (from matplotlib>=3.0->lifelines) (1.1.0)\n",
            "Requirement already satisfied: pyparsing!=2.0.4,!=2.1.2,!=2.1.6,>=2.0.1 in /usr/local/lib/python3.6/dist-packages (from matplotlib>=3.0->lifelines) (2.4.5)\n",
            "Requirement already satisfied: python-dateutil>=2.1 in /usr/local/lib/python3.6/dist-packages (from matplotlib>=3.0->lifelines) (2.6.1)\n",
            "Requirement already satisfied: cycler>=0.10 in /usr/local/lib/python3.6/dist-packages (from matplotlib>=3.0->lifelines) (0.10.0)\n",
            "Requirement already satisfied: pytz>=2017.2 in /usr/local/lib/python3.6/dist-packages (from pandas>=0.23.0->lifelines) (2018.9)\n",
            "Requirement already satisfied: setuptools in /usr/local/lib/python3.6/dist-packages (from kiwisolver>=1.0.1->matplotlib>=3.0->lifelines) (42.0.2)\n",
            "Requirement already satisfied: six>=1.5 in /usr/local/lib/python3.6/dist-packages (from python-dateutil>=2.1->matplotlib>=3.0->lifelines) (1.12.0)\n",
            "Installing collected packages: autograd-gamma, lifelines\n",
            "Successfully installed autograd-gamma-0.4.1 lifelines-0.23.5\n"
          ],
          "name": "stdout"
        }
      ]
    },
    {
      "cell_type": "code",
      "metadata": {
        "id": "o1KpQ-DJyOPr",
        "colab_type": "code",
        "colab": {}
      },
      "source": [
        "# Ref: https://lifelines.readthedocs.io/en/latest/Quickstart.html\n",
        "# Ref 2: https://plot.ly/ipython-notebooks/survival-analysis-r-vs-python/\n",
        "# Use lifelines library for survival analysis.\n",
        "\n",
        "from lifelines import KaplanMeierFitter"
      ],
      "execution_count": 0,
      "outputs": []
    },
    {
      "cell_type": "markdown",
      "metadata": {
        "id": "UaAaPEBdyx8y",
        "colab_type": "text"
      },
      "source": [
        "##### Overall Churn"
      ]
    },
    {
      "cell_type": "code",
      "metadata": {
        "id": "DYdJBnoEzF8j",
        "colab_type": "code",
        "colab": {}
      },
      "source": [
        "# Set variables for Kaplan-Meier survival curve:\n",
        "\n",
        "km_time = telco_data['tenure']\n",
        "km_churn = telco_data['Churn'].apply(lambda x: True if x == 'Yes' else False)"
      ],
      "execution_count": 0,
      "outputs": []
    },
    {
      "cell_type": "code",
      "metadata": {
        "id": "FUyEFgJ4zvol",
        "colab_type": "code",
        "outputId": "2980dc32-0bd5-4826-9356-aa27c5a5effb",
        "colab": {
          "base_uri": "https://localhost:8080/",
          "height": 119
        }
      },
      "source": [
        "# Check churn_km\n",
        "\n",
        "km_churn.head()"
      ],
      "execution_count": 0,
      "outputs": [
        {
          "output_type": "execute_result",
          "data": {
            "text/plain": [
              "0    False\n",
              "1    False\n",
              "2     True\n",
              "3    False\n",
              "4     True\n",
              "Name: Churn, dtype: bool"
            ]
          },
          "metadata": {
            "tags": []
          },
          "execution_count": 14
        }
      ]
    },
    {
      "cell_type": "markdown",
      "metadata": {
        "id": "-xW07-ubb0B8",
        "colab_type": "text"
      },
      "source": [
        "**How Many Customers Churn**"
      ]
    },
    {
      "cell_type": "code",
      "metadata": {
        "id": "I7sKgHr5cLMf",
        "colab_type": "code",
        "outputId": "cb3aa488-a63c-4211-8f1d-0eeea871744e",
        "colab": {
          "base_uri": "https://localhost:8080/",
          "height": 34
        }
      },
      "source": [
        "# Number of customers in dataset\n",
        "\n",
        "km_churn.count()"
      ],
      "execution_count": 0,
      "outputs": [
        {
          "output_type": "execute_result",
          "data": {
            "text/plain": [
              "7043"
            ]
          },
          "metadata": {
            "tags": []
          },
          "execution_count": 15
        }
      ]
    },
    {
      "cell_type": "code",
      "metadata": {
        "id": "VsqNlTudb3ow",
        "colab_type": "code",
        "outputId": "94933b34-e8e4-4849-c3ef-37c1bf997b5f",
        "colab": {
          "base_uri": "https://localhost:8080/",
          "height": 68
        }
      },
      "source": [
        "# 1869 out of 7043 Churn\n",
        "\n",
        "km_churn.value_counts()"
      ],
      "execution_count": 0,
      "outputs": [
        {
          "output_type": "execute_result",
          "data": {
            "text/plain": [
              "False    5174\n",
              "True     1869\n",
              "Name: Churn, dtype: int64"
            ]
          },
          "metadata": {
            "tags": []
          },
          "execution_count": 16
        }
      ]
    },
    {
      "cell_type": "code",
      "metadata": {
        "id": "TwwzDngAcN-Z",
        "colab_type": "code",
        "outputId": "08957738-e1d1-4706-8721-2726334dae62",
        "colab": {
          "base_uri": "https://localhost:8080/",
          "height": 68
        }
      },
      "source": [
        "km_churn.value_counts(normalize = True)"
      ],
      "execution_count": 0,
      "outputs": [
        {
          "output_type": "execute_result",
          "data": {
            "text/plain": [
              "False    0.73463\n",
              "True     0.26537\n",
              "Name: Churn, dtype: float64"
            ]
          },
          "metadata": {
            "tags": []
          },
          "execution_count": 17
        }
      ]
    },
    {
      "cell_type": "markdown",
      "metadata": {
        "id": "FClbeTQccSX3",
        "colab_type": "text"
      },
      "source": [
        "There are 1869 customers who churn from the 7043 customers in the dataset. This is about 26.5 percent of 7043."
      ]
    },
    {
      "cell_type": "code",
      "metadata": {
        "id": "zzC7RAiX1A_T",
        "colab_type": "code",
        "outputId": "39cca8b7-baf5-4ba0-c355-1f17b2c83d6a",
        "colab": {
          "base_uri": "https://localhost:8080/",
          "height": 51
        }
      },
      "source": [
        "# Median & mean tenure:\n",
        "\n",
        "print(f'Median tenure: {np.median(km_time)}')\n",
        "print(f'Mean tenure: {np.mean(km_time)}')"
      ],
      "execution_count": 0,
      "outputs": [
        {
          "output_type": "stream",
          "text": [
            "Median tenure: 29.0\n",
            "Mean tenure: 32.37114865824223\n"
          ],
          "name": "stdout"
        }
      ]
    },
    {
      "cell_type": "code",
      "metadata": {
        "id": "X10Vw4UjyQJx",
        "colab_type": "code",
        "outputId": "99d91694-79b6-43b9-ae06-8d6797065d1c",
        "colab": {
          "base_uri": "https://localhost:8080/",
          "height": 34
        }
      },
      "source": [
        "# Fit Kaplan Meier Curve\n",
        "\n",
        "km_curve = KaplanMeierFitter()\n",
        "km_curve.fit(km_time, event_observed = km_churn)"
      ],
      "execution_count": 0,
      "outputs": [
        {
          "output_type": "execute_result",
          "data": {
            "text/plain": [
              "<lifelines.KaplanMeierFitter:\"KM_estimate\", fitted with 7043 total observations, 5174 right-censored observations>"
            ]
          },
          "metadata": {
            "tags": []
          },
          "execution_count": 19
        }
      ]
    },
    {
      "cell_type": "code",
      "metadata": {
        "id": "a8n_gHPqzXBm",
        "colab_type": "code",
        "outputId": "40dc9b54-008a-4698-b1c7-544dded2fed8",
        "colab": {
          "base_uri": "https://localhost:8080/",
          "height": 337
        }
      },
      "source": [
        "# Plot Of Tenure Time For All Customers\n",
        "\n",
        "# Set style:\n",
        "\n",
        "km_curve.survival_function_\n",
        "km_curve.cumulative_density_\n",
        "#km_curve.median_\n",
        "\n",
        "km_curve.plot_survival_function() # or just kmf.plot()\n",
        "\n",
        "# Median line:\n",
        "#plt.axvline(x = np.median(time_km), color = 'green', alpha = 0.3)\n",
        "\n",
        "# Mean line:\n",
        "#plt.axvline(x = np.mean(time_km), color = 'black', alpha = 0.2)\n",
        "\n",
        "# Look at 12 months and 24 months tenure (1 yr and 2 yr contracts)\n",
        "\n",
        "#plt.axvline(x = 12, color = 'black', alpha = 0.2)\n",
        "\n",
        "#plt.axvline(x = 24, color = 'black', alpha = 0.2)\n",
        "\n",
        "\n",
        "\n",
        "plt.xlabel('\\n Customer Tenure (Months)')\n",
        "plt.ylabel('Probability Of Customer Not Churning \\n')\n",
        "plt.title('Kaplan-Meier Survival Curve \\n Telecommunications Customer Churn Data \\n')\n",
        "\n",
        "plt.savefig('overallChurn.png', dpi=300, bbox_inches = \"tight\")"
      ],
      "execution_count": 0,
      "outputs": [
        {
          "output_type": "display_data",
          "data": {
            "image/png": "[encoded data removed]",
            "text/plain": [
              "<Figure size 432x288 with 1 Axes>"
            ]
          },
          "metadata": {
            "tags": []
          }
        }
      ]
    },
    {
      "cell_type": "markdown",
      "metadata": {
        "id": "hG1AiF8W2uLo",
        "colab_type": "text"
      },
      "source": [
        "**Observations**\n",
        "\n",
        "* It appears that after 12 months, there is a 15% chance of the customers leaving. \n",
        "* After 20 months there is a 80% chance of non-churn or a 20% chance of the customer leaving."
      ]
    },
    {
      "cell_type": "markdown",
      "metadata": {
        "id": "6cPnY7Gl4-l5",
        "colab_type": "text"
      },
      "source": [
        "##### By Contract Type"
      ]
    },
    {
      "cell_type": "code",
      "metadata": {
        "id": "iIyKIcCIzdKs",
        "colab_type": "code",
        "colab": {}
      },
      "source": [
        "# Filtered data for Kaplan-Meier\n",
        "\n",
        "telco_km = telco_data[['Contract', 'tenure', 'Churn']]"
      ],
      "execution_count": 0,
      "outputs": []
    },
    {
      "cell_type": "code",
      "metadata": {
        "id": "oAW2HH066TNX",
        "colab_type": "code",
        "outputId": "4da4e6bd-197a-41b7-8b38-11d76a32601a",
        "colab": {
          "base_uri": "https://localhost:8080/",
          "height": 203
        }
      },
      "source": [
        "# Check:\n",
        "\n",
        "telco_km.tail(5)"
      ],
      "execution_count": 0,
      "outputs": [
        {
          "output_type": "execute_result",
          "data": {
            "text/html": [
              "<div>\n",
              "<style scoped>\n",
              "    .dataframe tbody tr th:only-of-type {\n",
              "        vertical-align: middle;\n",
              "    }\n",
              "\n",
              "    .dataframe tbody tr th {\n",
              "        vertical-align: top;\n",
              "    }\n",
              "\n",
              "    .dataframe thead th {\n",
              "        text-align: right;\n",
              "    }\n",
              "</style>\n",
              "<table border=\"1\" class=\"dataframe\">\n",
              "  <thead>\n",
              "    <tr style=\"text-align: right;\">\n",
              "      <th></th>\n",
              "      <th>Contract</th>\n",
              "      <th>tenure</th>\n",
              "      <th>Churn</th>\n",
              "    </tr>\n",
              "  </thead>\n",
              "  <tbody>\n",
              "    <tr>\n",
              "      <th>7038</th>\n",
              "      <td>One year</td>\n",
              "      <td>24</td>\n",
              "      <td>No</td>\n",
              "    </tr>\n",
              "    <tr>\n",
              "      <th>7039</th>\n",
              "      <td>One year</td>\n",
              "      <td>72</td>\n",
              "      <td>No</td>\n",
              "    </tr>\n",
              "    <tr>\n",
              "      <th>7040</th>\n",
              "      <td>Month-to-month</td>\n",
              "      <td>11</td>\n",
              "      <td>No</td>\n",
              "    </tr>\n",
              "    <tr>\n",
              "      <th>7041</th>\n",
              "      <td>Month-to-month</td>\n",
              "      <td>4</td>\n",
              "      <td>Yes</td>\n",
              "    </tr>\n",
              "    <tr>\n",
              "      <th>7042</th>\n",
              "      <td>Two year</td>\n",
              "      <td>66</td>\n",
              "      <td>No</td>\n",
              "    </tr>\n",
              "  </tbody>\n",
              "</table>\n",
              "</div>"
            ],
            "text/plain": [
              "            Contract  tenure Churn\n",
              "7038        One year      24    No\n",
              "7039        One year      72    No\n",
              "7040  Month-to-month      11    No\n",
              "7041  Month-to-month       4   Yes\n",
              "7042        Two year      66    No"
            ]
          },
          "metadata": {
            "tags": []
          },
          "execution_count": 22
        }
      ]
    },
    {
      "cell_type": "code",
      "metadata": {
        "id": "W7jyhWjN5Qfz",
        "colab_type": "code",
        "colab": {}
      },
      "source": [
        "# Filter by contract:\n",
        "\n",
        "telco_km_mthmth = telco_km[telco_km['Contract'] == 'Month-to-month']\n",
        "\n",
        "telco_km_oneyear = telco_km[telco_km['Contract'] == 'One year']\n",
        "\n",
        "telco_km_twoyear = telco_km[telco_km['Contract'] == 'Two year']"
      ],
      "execution_count": 0,
      "outputs": []
    },
    {
      "cell_type": "markdown",
      "metadata": {
        "id": "yCu7sInFb_TC",
        "colab_type": "text"
      },
      "source": [
        "**Month To Month Tenure**"
      ]
    },
    {
      "cell_type": "code",
      "metadata": {
        "id": "OVytOZGK5RsG",
        "colab_type": "code",
        "outputId": "298afdfb-781c-4328-f116-b6e55c1febfa",
        "colab": {
          "base_uri": "https://localhost:8080/",
          "height": 119
        }
      },
      "source": [
        "mthmth_tenure = telco_km_mthmth['tenure']\n",
        "\n",
        "mthmth_tenure.head()"
      ],
      "execution_count": 0,
      "outputs": [
        {
          "output_type": "execute_result",
          "data": {
            "text/plain": [
              "0     1\n",
              "2     2\n",
              "4     2\n",
              "5     8\n",
              "6    22\n",
              "Name: tenure, dtype: int64"
            ]
          },
          "metadata": {
            "tags": []
          },
          "execution_count": 24
        }
      ]
    },
    {
      "cell_type": "code",
      "metadata": {
        "id": "JW9E1N4Ycq88",
        "colab_type": "code",
        "outputId": "3aec6b40-e61e-4dd7-88c5-c009b0d446c3",
        "colab": {
          "base_uri": "https://localhost:8080/",
          "height": 85
        }
      },
      "source": [
        "# Number of Month To Month customers:\n",
        "\n",
        "\n",
        "telco_data['Contract'].value_counts()"
      ],
      "execution_count": 0,
      "outputs": [
        {
          "output_type": "execute_result",
          "data": {
            "text/plain": [
              "Month-to-month    3875\n",
              "Two year          1695\n",
              "One year          1473\n",
              "Name: Contract, dtype: int64"
            ]
          },
          "metadata": {
            "tags": []
          },
          "execution_count": 25
        }
      ]
    },
    {
      "cell_type": "code",
      "metadata": {
        "id": "QGz9GofjbKVY",
        "colab_type": "code",
        "outputId": "2a8b3fa3-4a52-4549-e4e1-60e34afecfa9",
        "colab": {
          "base_uri": "https://localhost:8080/",
          "height": 119
        }
      },
      "source": [
        "# Change Yes and No to True & False:\n",
        "\n",
        "churn_mthmth = telco_km_mthmth['Churn'].apply(lambda x: True if x == 'Yes' else False)\n",
        "\n",
        "churn_mthmth.head()"
      ],
      "execution_count": 0,
      "outputs": [
        {
          "output_type": "execute_result",
          "data": {
            "text/plain": [
              "0    False\n",
              "2     True\n",
              "4     True\n",
              "5     True\n",
              "6    False\n",
              "Name: Churn, dtype: bool"
            ]
          },
          "metadata": {
            "tags": []
          },
          "execution_count": 26
        }
      ]
    },
    {
      "cell_type": "code",
      "metadata": {
        "id": "nP6qMrYXem0-",
        "colab_type": "code",
        "outputId": "f6b2e0a8-f34e-4b1e-92fb-322eedd155d5",
        "colab": {
          "base_uri": "https://localhost:8080/",
          "height": 171
        }
      },
      "source": [
        "mthmth_tenure.describe()"
      ],
      "execution_count": 0,
      "outputs": [
        {
          "output_type": "execute_result",
          "data": {
            "text/plain": [
              "count    3875.000000\n",
              "mean       18.036645\n",
              "std        17.689054\n",
              "min         1.000000\n",
              "25%         3.000000\n",
              "50%        12.000000\n",
              "75%        29.000000\n",
              "max        72.000000\n",
              "Name: tenure, dtype: float64"
            ]
          },
          "metadata": {
            "tags": []
          },
          "execution_count": 27
        }
      ]
    },
    {
      "cell_type": "code",
      "metadata": {
        "id": "j2T8YjOqQ1Fl",
        "colab_type": "code",
        "outputId": "e6d3e77f-2725-4ade-d443-9e0972b02a06",
        "colab": {
          "base_uri": "https://localhost:8080/",
          "height": 34
        }
      },
      "source": [
        "churn_mthmth.sum()"
      ],
      "execution_count": 0,
      "outputs": [
        {
          "output_type": "execute_result",
          "data": {
            "text/plain": [
              "1655"
            ]
          },
          "metadata": {
            "tags": []
          },
          "execution_count": 28
        }
      ]
    },
    {
      "cell_type": "code",
      "metadata": {
        "id": "MBWgxyuQet5D",
        "colab_type": "code",
        "outputId": "ffa08ff4-37f5-4d9e-8e8d-ce8cca36eb86",
        "colab": {
          "base_uri": "https://localhost:8080/",
          "height": 296
        }
      },
      "source": [
        "# Distribution Plot of month to month tenure:\n",
        "\n",
        "sns.distplot(mthmth_tenure, kde = False)\n",
        "#plt.xticks(range(0, 75, 6))"
      ],
      "execution_count": 0,
      "outputs": [
        {
          "output_type": "execute_result",
          "data": {
            "text/plain": [
              "<matplotlib.axes._subplots.AxesSubplot at 0x7fa7fdda8748>"
            ]
          },
          "metadata": {
            "tags": []
          },
          "execution_count": 29
        },
        {
          "output_type": "display_data",
          "data": {
            "image/png": "[encoded data removed]",
            "text/plain": [
              "<Figure size 432x288 with 1 Axes>"
            ]
          },
          "metadata": {
            "tags": []
          }
        }
      ]
    },
    {
      "cell_type": "code",
      "metadata": {
        "id": "aFxPY9BKfVCS",
        "colab_type": "code",
        "colab": {}
      },
      "source": [
        "# Kaplan-Meier Survival Curve For Month To Month\n",
        "\n",
        "#ax = plt.subplot(111)\n",
        "\n",
        "#kmf_catg.fit(mthmth_tenure , churn_mthmth, label = 'Month-To-Month')\n",
        "#kmf_catg.survival_function_.plot(ax=ax)\n",
        "                                 \n",
        "#kmf2 = plt.gcf()"
      ],
      "execution_count": 0,
      "outputs": []
    },
    {
      "cell_type": "code",
      "metadata": {
        "id": "8W8I9kFVb0-f",
        "colab_type": "code",
        "colab": {}
      },
      "source": [
        "# Obtain tenure times and Churn events from one year contracts and two year contracts:\n",
        "\n",
        "oneyear_tenure = telco_km_oneyear['tenure']\n",
        "churn_oneyear = telco_km_oneyear['Churn'].apply(lambda x: True if x == 'Yes' else False)\n",
        "\n",
        "twoyear_tenure = telco_km_twoyear['tenure']\n",
        "churn_twoyear = telco_km_twoyear['Churn'].apply(lambda x: True if x == 'Yes' else False)"
      ],
      "execution_count": 0,
      "outputs": []
    },
    {
      "cell_type": "code",
      "metadata": {
        "id": "tha_kw2H5RoM",
        "colab_type": "code",
        "outputId": "9f57e81a-001a-42db-9bf0-74873d563ba0",
        "colab": {
          "base_uri": "https://localhost:8080/",
          "height": 119
        }
      },
      "source": [
        "churn_oneyear.head()"
      ],
      "execution_count": 0,
      "outputs": [
        {
          "output_type": "execute_result",
          "data": {
            "text/plain": [
              "1     False\n",
              "3     False\n",
              "9     False\n",
              "12    False\n",
              "16    False\n",
              "Name: Churn, dtype: bool"
            ]
          },
          "metadata": {
            "tags": []
          },
          "execution_count": 32
        }
      ]
    },
    {
      "cell_type": "markdown",
      "metadata": {
        "id": "UOpFQyU2feCa",
        "colab_type": "text"
      },
      "source": [
        "### Kaplan-Meier Curve For All Three Contracts - Month-To-Month Churns Most"
      ]
    },
    {
      "cell_type": "code",
      "metadata": {
        "id": "58OwCbXZbEsJ",
        "colab_type": "code",
        "outputId": "6d7f5fdd-a4c6-4d8d-86c6-3a311b3f5eca",
        "colab": {
          "base_uri": "https://localhost:8080/",
          "height": 316
        }
      },
      "source": [
        "# Fit Kaplan Meier Curve\n",
        "# Removed grid and added legend frame after presentation\n",
        "\n",
        "# Set style:\n",
        "\n",
        "plt.style.use('seaborn-whitegrid')\n",
        "\n",
        "kmf_catg = KaplanMeierFitter()\n",
        "\n",
        "ax = plt.subplot(111)\n",
        "\n",
        "kmf_catg.fit(twoyear_tenure, churn_twoyear, label = 'Two Year')\n",
        "kmf_catg.survival_function_.plot(ax=ax)\n",
        "\n",
        "kmf_catg.fit(oneyear_tenure , churn_oneyear, label = 'One Year')\n",
        "kmf_catg.survival_function_.plot(ax=ax)\n",
        "\n",
        "kmf_catg.fit(mthmth_tenure , churn_mthmth, label = 'Month-To-Month')\n",
        "kmf_catg.survival_function_.plot(ax=ax)\n",
        "\n",
        "plt.title('Kaplan-Meier Survival Curve By Contracts \\n')\n",
        "plt.xlabel('\\n Time In Months (t)')\n",
        "plt.ylabel('Probability Of Customer Staying \\n Past Time t \\n')\n",
        "plt.legend(frameon = True)\n",
        "plt.grid()\n",
        "\n",
        "plt.savefig('Churn_byContract.png', dpi=300, bbox_inches = \"tight\")"
      ],
      "execution_count": 0,
      "outputs": [
        {
          "output_type": "display_data",
          "data": {
            "image/png": "[encoded data removed]",
            "text/plain": [
              "<Figure size 432x288 with 1 Axes>"
            ]
          },
          "metadata": {
            "tags": []
          }
        }
      ]
    },
    {
      "cell_type": "markdown",
      "metadata": {
        "id": "11NMIrNuo8_W",
        "colab_type": "text"
      },
      "source": [
        "This Kaplan-Meier survival curve turned out very nicely in terms of comparing groups. It can be easily be seen that over time that month-to-month customers are more likely to leave compared to the one-year and two-year contracts.\n"
      ]
    },
    {
      "cell_type": "markdown",
      "metadata": {
        "id": "64qWbV-9dTJG",
        "colab_type": "text"
      },
      "source": [
        "**Month-To-Month Contracts Analysis**\n",
        "\n",
        "* It appears that 40% of month-to-month customers do churn by the 20th month. \n",
        "\n",
        "* About 25% of month-to-month customers churn by the 10th month."
      ]
    },
    {
      "cell_type": "code",
      "metadata": {
        "id": "xi5Nfoqtjw9z",
        "colab_type": "code",
        "outputId": "abe0f1d2-4f56-4f46-ceee-bf6c4afa61b5",
        "colab": {
          "base_uri": "https://localhost:8080/",
          "height": 34
        }
      },
      "source": [
        "# 40% Of The Number Of Month-To-Month Customers:\n",
        "# Represents number of loss customers by month 20\n",
        "\n",
        "0.4 * 3875 "
      ],
      "execution_count": 0,
      "outputs": [
        {
          "output_type": "execute_result",
          "data": {
            "text/plain": [
              "1550.0"
            ]
          },
          "metadata": {
            "tags": []
          },
          "execution_count": 34
        }
      ]
    },
    {
      "cell_type": "code",
      "metadata": {
        "id": "GNYapi1C0tPt",
        "colab_type": "code",
        "outputId": "ba5b4ec6-2ffc-42a8-fe03-a036c69bfe30",
        "colab": {
          "base_uri": "https://localhost:8080/",
          "height": 34
        }
      },
      "source": [
        "# 25% Of The Number Of Month-To-Month Customers:\n",
        "# Represents number of loss customers by month 10\n",
        "\n",
        "0.25 * 3875 "
      ],
      "execution_count": 0,
      "outputs": [
        {
          "output_type": "execute_result",
          "data": {
            "text/plain": [
              "968.75"
            ]
          },
          "metadata": {
            "tags": []
          },
          "execution_count": 35
        }
      ]
    },
    {
      "cell_type": "code",
      "metadata": {
        "id": "OI-DkMc0dg9e",
        "colab_type": "code",
        "outputId": "615de677-62ee-4e7b-85c4-5363f9e42336",
        "colab": {
          "base_uri": "https://localhost:8080/",
          "height": 393
        }
      },
      "source": [
        "telco_data[(telco_data['Contract'] == 'Month-to-month') & (telco_data['tenure'] > 10)].count()"
      ],
      "execution_count": 0,
      "outputs": [
        {
          "output_type": "execute_result",
          "data": {
            "text/plain": [
              "customerID          2047\n",
              "gender              2047\n",
              "SeniorCitizen       2047\n",
              "Partner             2047\n",
              "Dependents          2047\n",
              "tenure              2047\n",
              "PhoneService        2047\n",
              "MultipleLines       2047\n",
              "InternetService     2047\n",
              "OnlineSecurity      2047\n",
              "OnlineBackup        2047\n",
              "DeviceProtection    2047\n",
              "TechSupport         2047\n",
              "StreamingTV         2047\n",
              "StreamingMovies     2047\n",
              "Contract            2047\n",
              "PaperlessBilling    2047\n",
              "PaymentMethod       2047\n",
              "MonthlyCharges      2047\n",
              "TotalCharges        2047\n",
              "Churn               2047\n",
              "dtype: int64"
            ]
          },
          "metadata": {
            "tags": []
          },
          "execution_count": 36
        }
      ]
    },
    {
      "cell_type": "code",
      "metadata": {
        "id": "XYrpddHAeUf9",
        "colab_type": "code",
        "outputId": "8d2012ad-8f8b-4687-9d69-269f63ddc07f",
        "colab": {
          "base_uri": "https://localhost:8080/",
          "height": 393
        }
      },
      "source": [
        "telco_data[(telco_data['Contract'] == 'Month-to-month') & (telco_data['tenure'] <= 10)].count()"
      ],
      "execution_count": 0,
      "outputs": [
        {
          "output_type": "execute_result",
          "data": {
            "text/plain": [
              "customerID          1828\n",
              "gender              1828\n",
              "SeniorCitizen       1828\n",
              "Partner             1828\n",
              "Dependents          1828\n",
              "tenure              1828\n",
              "PhoneService        1828\n",
              "MultipleLines       1828\n",
              "InternetService     1828\n",
              "OnlineSecurity      1828\n",
              "OnlineBackup        1828\n",
              "DeviceProtection    1828\n",
              "TechSupport         1828\n",
              "StreamingTV         1828\n",
              "StreamingMovies     1828\n",
              "Contract            1828\n",
              "PaperlessBilling    1828\n",
              "PaymentMethod       1828\n",
              "MonthlyCharges      1828\n",
              "TotalCharges        1828\n",
              "Churn               1828\n",
              "dtype: int64"
            ]
          },
          "metadata": {
            "tags": []
          },
          "execution_count": 37
        }
      ]
    },
    {
      "cell_type": "markdown",
      "metadata": {
        "id": "i2aCh3wyyGgl",
        "colab_type": "text"
      },
      "source": [
        "## Overall Churn Counts By Contract"
      ]
    },
    {
      "cell_type": "markdown",
      "metadata": {
        "id": "TpI-tkTiZQ6W",
        "colab_type": "text"
      },
      "source": [
        "Want to look at number of churns over tenure time (months) for each contract.\n",
        "\n",
        "1. Month-To-Month (`telco_km_mthmth`)\n",
        "2. One Year (`telco_km_oneyear`)\n",
        "3. Two Year (`telco_km_twoyear`)"
      ]
    },
    {
      "cell_type": "markdown",
      "metadata": {
        "id": "xm6_W-nGZ1Dw",
        "colab_type": "text"
      },
      "source": [
        "##### Month-To-Month"
      ]
    },
    {
      "cell_type": "code",
      "metadata": {
        "colab_type": "code",
        "id": "TM1uZQ3wV1Xv",
        "outputId": "971d5a42-7feb-4840-861f-c86bbf9201d9",
        "colab": {
          "base_uri": "https://localhost:8080/",
          "height": 203
        }
      },
      "source": [
        "# Monthly contract customers\n",
        "\n",
        "telco_km_mthmth.head()"
      ],
      "execution_count": 0,
      "outputs": [
        {
          "output_type": "execute_result",
          "data": {
            "text/html": [
              "<div>\n",
              "<style scoped>\n",
              "    .dataframe tbody tr th:only-of-type {\n",
              "        vertical-align: middle;\n",
              "    }\n",
              "\n",
              "    .dataframe tbody tr th {\n",
              "        vertical-align: top;\n",
              "    }\n",
              "\n",
              "    .dataframe thead th {\n",
              "        text-align: right;\n",
              "    }\n",
              "</style>\n",
              "<table border=\"1\" class=\"dataframe\">\n",
              "  <thead>\n",
              "    <tr style=\"text-align: right;\">\n",
              "      <th></th>\n",
              "      <th>Contract</th>\n",
              "      <th>tenure</th>\n",
              "      <th>Churn</th>\n",
              "    </tr>\n",
              "  </thead>\n",
              "  <tbody>\n",
              "    <tr>\n",
              "      <th>0</th>\n",
              "      <td>Month-to-month</td>\n",
              "      <td>1</td>\n",
              "      <td>No</td>\n",
              "    </tr>\n",
              "    <tr>\n",
              "      <th>2</th>\n",
              "      <td>Month-to-month</td>\n",
              "      <td>2</td>\n",
              "      <td>Yes</td>\n",
              "    </tr>\n",
              "    <tr>\n",
              "      <th>4</th>\n",
              "      <td>Month-to-month</td>\n",
              "      <td>2</td>\n",
              "      <td>Yes</td>\n",
              "    </tr>\n",
              "    <tr>\n",
              "      <th>5</th>\n",
              "      <td>Month-to-month</td>\n",
              "      <td>8</td>\n",
              "      <td>Yes</td>\n",
              "    </tr>\n",
              "    <tr>\n",
              "      <th>6</th>\n",
              "      <td>Month-to-month</td>\n",
              "      <td>22</td>\n",
              "      <td>No</td>\n",
              "    </tr>\n",
              "  </tbody>\n",
              "</table>\n",
              "</div>"
            ],
            "text/plain": [
              "         Contract  tenure Churn\n",
              "0  Month-to-month       1    No\n",
              "2  Month-to-month       2   Yes\n",
              "4  Month-to-month       2   Yes\n",
              "5  Month-to-month       8   Yes\n",
              "6  Month-to-month      22    No"
            ]
          },
          "metadata": {
            "tags": []
          },
          "execution_count": 38
        }
      ]
    },
    {
      "cell_type": "code",
      "metadata": {
        "id": "Z6AqZhZVWr0G",
        "colab_type": "code",
        "outputId": "536809d2-9ed3-4ee1-c7a5-db4884911f4f",
        "colab": {
          "base_uri": "https://localhost:8080/",
          "height": 203
        }
      },
      "source": [
        "# 1) Churned numbers for month-to-month customers\n",
        "\n",
        "telco_monthly_churn = telco_km_mthmth[telco_km_mthmth['Churn'] == 'Yes']\n",
        "\n",
        "telco_monthly_churn.head()"
      ],
      "execution_count": 0,
      "outputs": [
        {
          "output_type": "execute_result",
          "data": {
            "text/html": [
              "<div>\n",
              "<style scoped>\n",
              "    .dataframe tbody tr th:only-of-type {\n",
              "        vertical-align: middle;\n",
              "    }\n",
              "\n",
              "    .dataframe tbody tr th {\n",
              "        vertical-align: top;\n",
              "    }\n",
              "\n",
              "    .dataframe thead th {\n",
              "        text-align: right;\n",
              "    }\n",
              "</style>\n",
              "<table border=\"1\" class=\"dataframe\">\n",
              "  <thead>\n",
              "    <tr style=\"text-align: right;\">\n",
              "      <th></th>\n",
              "      <th>Contract</th>\n",
              "      <th>tenure</th>\n",
              "      <th>Churn</th>\n",
              "    </tr>\n",
              "  </thead>\n",
              "  <tbody>\n",
              "    <tr>\n",
              "      <th>2</th>\n",
              "      <td>Month-to-month</td>\n",
              "      <td>2</td>\n",
              "      <td>Yes</td>\n",
              "    </tr>\n",
              "    <tr>\n",
              "      <th>4</th>\n",
              "      <td>Month-to-month</td>\n",
              "      <td>2</td>\n",
              "      <td>Yes</td>\n",
              "    </tr>\n",
              "    <tr>\n",
              "      <th>5</th>\n",
              "      <td>Month-to-month</td>\n",
              "      <td>8</td>\n",
              "      <td>Yes</td>\n",
              "    </tr>\n",
              "    <tr>\n",
              "      <th>8</th>\n",
              "      <td>Month-to-month</td>\n",
              "      <td>28</td>\n",
              "      <td>Yes</td>\n",
              "    </tr>\n",
              "    <tr>\n",
              "      <th>13</th>\n",
              "      <td>Month-to-month</td>\n",
              "      <td>49</td>\n",
              "      <td>Yes</td>\n",
              "    </tr>\n",
              "  </tbody>\n",
              "</table>\n",
              "</div>"
            ],
            "text/plain": [
              "          Contract  tenure Churn\n",
              "2   Month-to-month       2   Yes\n",
              "4   Month-to-month       2   Yes\n",
              "5   Month-to-month       8   Yes\n",
              "8   Month-to-month      28   Yes\n",
              "13  Month-to-month      49   Yes"
            ]
          },
          "metadata": {
            "tags": []
          },
          "execution_count": 39
        }
      ]
    },
    {
      "cell_type": "code",
      "metadata": {
        "id": "NQHMq8Gktdk9",
        "colab_type": "code",
        "outputId": "1c726314-c607-4fbe-c451-6e163524177c",
        "colab": {
          "base_uri": "https://localhost:8080/",
          "height": 85
        }
      },
      "source": [
        "telco_monthly_churn.count()"
      ],
      "execution_count": 0,
      "outputs": [
        {
          "output_type": "execute_result",
          "data": {
            "text/plain": [
              "Contract    1655\n",
              "tenure      1655\n",
              "Churn       1655\n",
              "dtype: int64"
            ]
          },
          "metadata": {
            "tags": []
          },
          "execution_count": 40
        }
      ]
    },
    {
      "cell_type": "code",
      "metadata": {
        "colab_type": "code",
        "id": "TtyJvSVpV1Xx",
        "colab": {}
      },
      "source": [
        "# Month-to-month churn counts\n",
        "monthly_churn_counts =  telco_monthly_churn.groupby(['tenure'])['Churn'].count()"
      ],
      "execution_count": 0,
      "outputs": []
    },
    {
      "cell_type": "code",
      "metadata": {
        "id": "3zIJbqUbj1W1",
        "colab_type": "code",
        "outputId": "27da2290-33aa-40ae-f665-6ecd754e68bf",
        "colab": {
          "base_uri": "https://localhost:8080/",
          "height": 34
        }
      },
      "source": [
        "# Total churn counts:\n",
        "\n",
        "monthly_churn_counts.sum()"
      ],
      "execution_count": 0,
      "outputs": [
        {
          "output_type": "execute_result",
          "data": {
            "text/plain": [
              "1655"
            ]
          },
          "metadata": {
            "tags": []
          },
          "execution_count": 42
        }
      ]
    },
    {
      "cell_type": "code",
      "metadata": {
        "colab_type": "code",
        "id": "1VE8NzeAV1Xy",
        "outputId": "09a6dddd-9dfa-4be2-d8d7-d35e0d7f4d82",
        "colab": {
          "base_uri": "https://localhost:8080/",
          "height": 293
        }
      },
      "source": [
        "# Month-to-month churn plots:\n",
        "\n",
        "sns.lineplot(x = monthly_churn_counts.index, y = monthly_churn_counts, \n",
        "             color = 'green',\n",
        "             alpha = 0.8)\n"
      ],
      "execution_count": 0,
      "outputs": [
        {
          "output_type": "execute_result",
          "data": {
            "text/plain": [
              "<matplotlib.axes._subplots.AxesSubplot at 0x7fa7fdc74710>"
            ]
          },
          "metadata": {
            "tags": []
          },
          "execution_count": 43
        },
        {
          "output_type": "display_data",
          "data": {
            "image/png": "[encoded data removed]",
            "text/plain": [
              "<Figure size 432x288 with 1 Axes>"
            ]
          },
          "metadata": {
            "tags": []
          }
        }
      ]
    },
    {
      "cell_type": "markdown",
      "metadata": {
        "id": "hX_UC3alZ7kq",
        "colab_type": "text"
      },
      "source": [
        "##### One Year Contract Customers"
      ]
    },
    {
      "cell_type": "code",
      "metadata": {
        "id": "B8WrVn28Zg6n",
        "colab_type": "code",
        "outputId": "0df4b214-9bbf-4341-b71e-7e1b507ebc51",
        "colab": {
          "base_uri": "https://localhost:8080/",
          "height": 203
        }
      },
      "source": [
        "# 2) Churned numbers for one year contract customers\n",
        "\n",
        "oneyear_churn = telco_km_oneyear[telco_km_oneyear['Churn'] == 'Yes']\n",
        "\n",
        "oneyear_churn.head()"
      ],
      "execution_count": 0,
      "outputs": [
        {
          "output_type": "execute_result",
          "data": {
            "text/html": [
              "<div>\n",
              "<style scoped>\n",
              "    .dataframe tbody tr th:only-of-type {\n",
              "        vertical-align: middle;\n",
              "    }\n",
              "\n",
              "    .dataframe tbody tr th {\n",
              "        vertical-align: top;\n",
              "    }\n",
              "\n",
              "    .dataframe thead th {\n",
              "        text-align: right;\n",
              "    }\n",
              "</style>\n",
              "<table border=\"1\" class=\"dataframe\">\n",
              "  <thead>\n",
              "    <tr style=\"text-align: right;\">\n",
              "      <th></th>\n",
              "      <th>Contract</th>\n",
              "      <th>tenure</th>\n",
              "      <th>Churn</th>\n",
              "    </tr>\n",
              "  </thead>\n",
              "  <tbody>\n",
              "    <tr>\n",
              "      <th>173</th>\n",
              "      <td>One year</td>\n",
              "      <td>53</td>\n",
              "      <td>Yes</td>\n",
              "    </tr>\n",
              "    <tr>\n",
              "      <th>317</th>\n",
              "      <td>One year</td>\n",
              "      <td>38</td>\n",
              "      <td>Yes</td>\n",
              "    </tr>\n",
              "    <tr>\n",
              "      <th>320</th>\n",
              "      <td>One year</td>\n",
              "      <td>54</td>\n",
              "      <td>Yes</td>\n",
              "    </tr>\n",
              "    <tr>\n",
              "      <th>335</th>\n",
              "      <td>One year</td>\n",
              "      <td>68</td>\n",
              "      <td>Yes</td>\n",
              "    </tr>\n",
              "    <tr>\n",
              "      <th>495</th>\n",
              "      <td>One year</td>\n",
              "      <td>22</td>\n",
              "      <td>Yes</td>\n",
              "    </tr>\n",
              "  </tbody>\n",
              "</table>\n",
              "</div>"
            ],
            "text/plain": [
              "     Contract  tenure Churn\n",
              "173  One year      53   Yes\n",
              "317  One year      38   Yes\n",
              "320  One year      54   Yes\n",
              "335  One year      68   Yes\n",
              "495  One year      22   Yes"
            ]
          },
          "metadata": {
            "tags": []
          },
          "execution_count": 44
        }
      ]
    },
    {
      "cell_type": "code",
      "metadata": {
        "id": "-jO-uVWOaETB",
        "colab_type": "code",
        "colab": {}
      },
      "source": [
        "# 1 yr contract churn counts\n",
        "\n",
        "oneyear_churn_counts =  oneyear_churn.groupby(['tenure'])['Churn'].count()"
      ],
      "execution_count": 0,
      "outputs": []
    },
    {
      "cell_type": "code",
      "metadata": {
        "id": "Xz5YQ5xtaEIf",
        "colab_type": "code",
        "outputId": "a0a78da0-abdf-4666-f713-9be204d0e5c4",
        "colab": {
          "base_uri": "https://localhost:8080/",
          "height": 222
        }
      },
      "source": [
        "# Check counts:\n",
        "\n",
        "oneyear_churn_counts.head(10)"
      ],
      "execution_count": 0,
      "outputs": [
        {
          "output_type": "execute_result",
          "data": {
            "text/plain": [
              "tenure\n",
              "2     2\n",
              "4     1\n",
              "5     1\n",
              "7     1\n",
              "8     1\n",
              "9     1\n",
              "11    1\n",
              "12    5\n",
              "13    1\n",
              "14    1\n",
              "Name: Churn, dtype: int64"
            ]
          },
          "metadata": {
            "tags": []
          },
          "execution_count": 46
        }
      ]
    },
    {
      "cell_type": "code",
      "metadata": {
        "id": "VwZprx-HaD9U",
        "colab_type": "code",
        "outputId": "f13c3d07-6684-4f6b-8202-5575d47d98b2",
        "colab": {
          "base_uri": "https://localhost:8080/",
          "height": 293
        }
      },
      "source": [
        "# One year contract churn plots:\n",
        "\n",
        "sns.lineplot(x = oneyear_churn_counts.index, y = oneyear_churn_counts, \n",
        "             color = 'red',\n",
        "             alpha = 0.4)\n",
        "\n"
      ],
      "execution_count": 0,
      "outputs": [
        {
          "output_type": "execute_result",
          "data": {
            "text/plain": [
              "<matplotlib.axes._subplots.AxesSubplot at 0x7fa7fdbd9940>"
            ]
          },
          "metadata": {
            "tags": []
          },
          "execution_count": 47
        },
        {
          "output_type": "display_data",
          "data": {
            "image/png": "[encoded data removed]",
            "text/plain": [
              "<Figure size 432x288 with 1 Axes>"
            ]
          },
          "metadata": {
            "tags": []
          }
        }
      ]
    },
    {
      "cell_type": "markdown",
      "metadata": {
        "id": "0458nOKcaAgv",
        "colab_type": "text"
      },
      "source": [
        "##### Two Year Contract Customers"
      ]
    },
    {
      "cell_type": "code",
      "metadata": {
        "id": "KJjZt7s7bFD_",
        "colab_type": "code",
        "outputId": "a7232620-d590-462a-b0a5-1032924e2a9f",
        "colab": {
          "base_uri": "https://localhost:8080/",
          "height": 203
        }
      },
      "source": [
        "# 3) Churned numbers for one year contract customers\n",
        "\n",
        "twoyear_churn = telco_km_twoyear[telco_km_twoyear['Churn'] == 'Yes']\n",
        "\n",
        "twoyear_churn.head()"
      ],
      "execution_count": 0,
      "outputs": [
        {
          "output_type": "execute_result",
          "data": {
            "text/html": [
              "<div>\n",
              "<style scoped>\n",
              "    .dataframe tbody tr th:only-of-type {\n",
              "        vertical-align: middle;\n",
              "    }\n",
              "\n",
              "    .dataframe tbody tr th {\n",
              "        vertical-align: top;\n",
              "    }\n",
              "\n",
              "    .dataframe thead th {\n",
              "        text-align: right;\n",
              "    }\n",
              "</style>\n",
              "<table border=\"1\" class=\"dataframe\">\n",
              "  <thead>\n",
              "    <tr style=\"text-align: right;\">\n",
              "      <th></th>\n",
              "      <th>Contract</th>\n",
              "      <th>tenure</th>\n",
              "      <th>Churn</th>\n",
              "    </tr>\n",
              "  </thead>\n",
              "  <tbody>\n",
              "    <tr>\n",
              "      <th>104</th>\n",
              "      <td>Two year</td>\n",
              "      <td>68</td>\n",
              "      <td>Yes</td>\n",
              "    </tr>\n",
              "    <tr>\n",
              "      <th>268</th>\n",
              "      <td>Two year</td>\n",
              "      <td>59</td>\n",
              "      <td>Yes</td>\n",
              "    </tr>\n",
              "    <tr>\n",
              "      <th>336</th>\n",
              "      <td>Two year</td>\n",
              "      <td>43</td>\n",
              "      <td>Yes</td>\n",
              "    </tr>\n",
              "    <tr>\n",
              "      <th>811</th>\n",
              "      <td>Two year</td>\n",
              "      <td>70</td>\n",
              "      <td>Yes</td>\n",
              "    </tr>\n",
              "    <tr>\n",
              "      <th>975</th>\n",
              "      <td>Two year</td>\n",
              "      <td>71</td>\n",
              "      <td>Yes</td>\n",
              "    </tr>\n",
              "  </tbody>\n",
              "</table>\n",
              "</div>"
            ],
            "text/plain": [
              "     Contract  tenure Churn\n",
              "104  Two year      68   Yes\n",
              "268  Two year      59   Yes\n",
              "336  Two year      43   Yes\n",
              "811  Two year      70   Yes\n",
              "975  Two year      71   Yes"
            ]
          },
          "metadata": {
            "tags": []
          },
          "execution_count": 48
        }
      ]
    },
    {
      "cell_type": "code",
      "metadata": {
        "id": "NymTsgEUbFeD",
        "colab_type": "code",
        "colab": {}
      },
      "source": [
        "# 2 yr contract churn counts\n",
        "\n",
        "twoyear_churn_counts =  twoyear_churn.groupby(['tenure'])['Churn'].count()"
      ],
      "execution_count": 0,
      "outputs": []
    },
    {
      "cell_type": "code",
      "metadata": {
        "id": "l5lJKv-DbFvA",
        "colab_type": "code",
        "outputId": "8edba202-1aa9-48a2-c6e4-c6de5f95b841",
        "colab": {
          "base_uri": "https://localhost:8080/",
          "height": 136
        }
      },
      "source": [
        "# Check:\n",
        "\n",
        "twoyear_churn_counts.head()"
      ],
      "execution_count": 0,
      "outputs": [
        {
          "output_type": "execute_result",
          "data": {
            "text/plain": [
              "tenure\n",
              "25    1\n",
              "33    1\n",
              "39    1\n",
              "43    1\n",
              "46    1\n",
              "Name: Churn, dtype: int64"
            ]
          },
          "metadata": {
            "tags": []
          },
          "execution_count": 50
        }
      ]
    },
    {
      "cell_type": "code",
      "metadata": {
        "id": "kx0q3DT3bfjg",
        "colab_type": "code",
        "outputId": "52786ef7-9194-41b1-ec3c-432e0d390499",
        "colab": {
          "base_uri": "https://localhost:8080/",
          "height": 276
        }
      },
      "source": [
        "# Two year contract churn plots:\n",
        "\n",
        "sns.lineplot(x = twoyear_churn_counts.index, y = twoyear_churn_counts, \n",
        "             color = 'blue',\n",
        "             alpha = 0.4)\n",
        "\n",
        "plt.grid()"
      ],
      "execution_count": 0,
      "outputs": [
        {
          "output_type": "display_data",
          "data": {
            "image/png": "[encoded data removed]",
            "text/plain": [
              "<Figure size 432x288 with 1 Axes>"
            ]
          },
          "metadata": {
            "tags": []
          }
        }
      ]
    },
    {
      "cell_type": "markdown",
      "metadata": {
        "id": "FhAYA_vMby7-",
        "colab_type": "text"
      },
      "source": [
        "##### All Three Customer Churn Plots In One"
      ]
    },
    {
      "cell_type": "code",
      "metadata": {
        "id": "-e1GsNffb7a5",
        "colab_type": "code",
        "outputId": "45a936a3-8f25-441c-9407-42648dceac5b",
        "colab": {
          "base_uri": "https://localhost:8080/",
          "height": 416
        }
      },
      "source": [
        "## A Better Plot Than The Above For Comparison\n",
        "\n",
        "# Subplots\n",
        "\n",
        "fig, axes = plt.subplots(figsize = (10, 5), \n",
        "                                    nrows = 1, \n",
        "                                    ncols = 3,\n",
        "                                    sharex = True,\n",
        "                                    sharey = True)\n",
        "\n",
        "# fig = overall figure\n",
        "\n",
        "# Left (ax1) plot - Month-To-Month Customer Churn\n",
        "\n",
        "sns.lineplot(x = monthly_churn_counts.index, y = monthly_churn_counts, \n",
        "             color = 'green',\n",
        "             alpha = 0.8,\n",
        "             ax = axes[0])\n",
        "\n",
        "\n",
        "# Center (ax2) Plot - One year contract churn numbers\n",
        "\n",
        "sns.lineplot(x = oneyear_churn_counts.index, y = oneyear_churn_counts, \n",
        "             color = 'red',\n",
        "             alpha = 0.4,\n",
        "             ax = axes[1])\n",
        "\n",
        "# Right (ax3) Plot - Two year contract churn plots:\n",
        "\n",
        "sns.lineplot(x = twoyear_churn_counts.index, y = twoyear_churn_counts, \n",
        "             color = 'blue',\n",
        "             alpha = 0.4,\n",
        "             ax = axes[2])\n",
        "\n",
        "# Vertical light blue lines to separate years:\n",
        "\n",
        "#for i in range(3):\n",
        "#  axes[i].axvline(x = '2018-01-01', linewidth=2, color='blue', alpha = 0.10)\n",
        "#  axes[i].axvline(x = '2017-01-01', linewidth=2, color='blue', alpha = 0.10)\n",
        "#  axes[i].axvline(x = '2016-01-01', linewidth=2, color='blue', alpha = 0.10)\n",
        "\n",
        "# Set titles:\n",
        "\n",
        "axes[0].set_title('Month-To-Month  \\n')\n",
        "\n",
        "axes[1].set_title('One Year  \\n')\n",
        "\n",
        "axes[2].set_title('Two Year \\n')\n",
        "\n",
        "# y-axis Label:\n",
        "\n",
        "axes[0].set_ylabel(\"Number Of Churned Customers \\n\")\n",
        "\n",
        "# x-axis labels for labelling and rotation:\n",
        "# https://stackoverflow.com/questions/31186019/rotate-tick-labels-in-subplot-pyplot-matplotlib-gridspec\n",
        "\n",
        "for j in range(3):\n",
        "  axes[j].set_xlabel('\\n Tenure (Months)')\n",
        "\n",
        "# Main title:\n",
        "plt.suptitle('Customer Churn Numbers By Contract \\n', \n",
        "             size = 14, \n",
        "             y = 1.10)\n",
        "\n",
        "plt.tight_layout()\n",
        "\n",
        "# x-ticks:\n",
        "\n",
        "plt.xticks(np.arange(0, 74, step = 6))\n",
        "\n",
        "# Save figure:\n",
        "\n",
        "plt.autoscale()\n",
        "plt.savefig('churnCounts_contract.png', dpi=300, bbox_inches = \"tight\")\n",
        "\n",
        "plt.show()"
      ],
      "execution_count": 0,
      "outputs": [
        {
          "output_type": "display_data",
          "data": {
            "image/png": "[encoded data removed]",
            "text/plain": [
              "<Figure size 720x360 with 3 Axes>"
            ]
          },
          "metadata": {
            "tags": []
          }
        }
      ]
    },
    {
      "cell_type": "markdown",
      "metadata": {
        "id": "IVR9DpisK3wd",
        "colab_type": "text"
      },
      "source": [
        "# Data Preprocessing"
      ]
    },
    {
      "cell_type": "code",
      "metadata": {
        "id": "JE1TiENkLAjF",
        "colab_type": "code",
        "outputId": "0eb4bd27-a6b4-408d-9bd8-d30c894fc138",
        "colab": {
          "base_uri": "https://localhost:8080/",
          "height": 308
        }
      },
      "source": [
        "telco_data.head()"
      ],
      "execution_count": 0,
      "outputs": [
        {
          "output_type": "execute_result",
          "data": {
            "text/html": [
              "<div>\n",
              "<style scoped>\n",
              "    .dataframe tbody tr th:only-of-type {\n",
              "        vertical-align: middle;\n",
              "    }\n",
              "\n",
              "    .dataframe tbody tr th {\n",
              "        vertical-align: top;\n",
              "    }\n",
              "\n",
              "    .dataframe thead th {\n",
              "        text-align: right;\n",
              "    }\n",
              "</style>\n",
              "<table border=\"1\" class=\"dataframe\">\n",
              "  <thead>\n",
              "    <tr style=\"text-align: right;\">\n",
              "      <th></th>\n",
              "      <th>customerID</th>\n",
              "      <th>gender</th>\n",
              "      <th>SeniorCitizen</th>\n",
              "      <th>Partner</th>\n",
              "      <th>Dependents</th>\n",
              "      <th>tenure</th>\n",
              "      <th>PhoneService</th>\n",
              "      <th>MultipleLines</th>\n",
              "      <th>InternetService</th>\n",
              "      <th>OnlineSecurity</th>\n",
              "      <th>OnlineBackup</th>\n",
              "      <th>DeviceProtection</th>\n",
              "      <th>TechSupport</th>\n",
              "      <th>StreamingTV</th>\n",
              "      <th>StreamingMovies</th>\n",
              "      <th>Contract</th>\n",
              "      <th>PaperlessBilling</th>\n",
              "      <th>PaymentMethod</th>\n",
              "      <th>MonthlyCharges</th>\n",
              "      <th>TotalCharges</th>\n",
              "      <th>Churn</th>\n",
              "    </tr>\n",
              "  </thead>\n",
              "  <tbody>\n",
              "    <tr>\n",
              "      <th>0</th>\n",
              "      <td>7590-VHVEG</td>\n",
              "      <td>Female</td>\n",
              "      <td>0</td>\n",
              "      <td>Yes</td>\n",
              "      <td>No</td>\n",
              "      <td>1</td>\n",
              "      <td>No</td>\n",
              "      <td>No phone service</td>\n",
              "      <td>DSL</td>\n",
              "      <td>No</td>\n",
              "      <td>Yes</td>\n",
              "      <td>No</td>\n",
              "      <td>No</td>\n",
              "      <td>No</td>\n",
              "      <td>No</td>\n",
              "      <td>Month-to-month</td>\n",
              "      <td>Yes</td>\n",
              "      <td>Electronic check</td>\n",
              "      <td>29.85</td>\n",
              "      <td>29.85</td>\n",
              "      <td>No</td>\n",
              "    </tr>\n",
              "    <tr>\n",
              "      <th>1</th>\n",
              "      <td>5575-GNVDE</td>\n",
              "      <td>Male</td>\n",
              "      <td>0</td>\n",
              "      <td>No</td>\n",
              "      <td>No</td>\n",
              "      <td>34</td>\n",
              "      <td>Yes</td>\n",
              "      <td>No</td>\n",
              "      <td>DSL</td>\n",
              "      <td>Yes</td>\n",
              "      <td>No</td>\n",
              "      <td>Yes</td>\n",
              "      <td>No</td>\n",
              "      <td>No</td>\n",
              "      <td>No</td>\n",
              "      <td>One year</td>\n",
              "      <td>No</td>\n",
              "      <td>Mailed check</td>\n",
              "      <td>56.95</td>\n",
              "      <td>1889.5</td>\n",
              "      <td>No</td>\n",
              "    </tr>\n",
              "    <tr>\n",
              "      <th>2</th>\n",
              "      <td>3668-QPYBK</td>\n",
              "      <td>Male</td>\n",
              "      <td>0</td>\n",
              "      <td>No</td>\n",
              "      <td>No</td>\n",
              "      <td>2</td>\n",
              "      <td>Yes</td>\n",
              "      <td>No</td>\n",
              "      <td>DSL</td>\n",
              "      <td>Yes</td>\n",
              "      <td>Yes</td>\n",
              "      <td>No</td>\n",
              "      <td>No</td>\n",
              "      <td>No</td>\n",
              "      <td>No</td>\n",
              "      <td>Month-to-month</td>\n",
              "      <td>Yes</td>\n",
              "      <td>Mailed check</td>\n",
              "      <td>53.85</td>\n",
              "      <td>108.15</td>\n",
              "      <td>Yes</td>\n",
              "    </tr>\n",
              "    <tr>\n",
              "      <th>3</th>\n",
              "      <td>7795-CFOCW</td>\n",
              "      <td>Male</td>\n",
              "      <td>0</td>\n",
              "      <td>No</td>\n",
              "      <td>No</td>\n",
              "      <td>45</td>\n",
              "      <td>No</td>\n",
              "      <td>No phone service</td>\n",
              "      <td>DSL</td>\n",
              "      <td>Yes</td>\n",
              "      <td>No</td>\n",
              "      <td>Yes</td>\n",
              "      <td>Yes</td>\n",
              "      <td>No</td>\n",
              "      <td>No</td>\n",
              "      <td>One year</td>\n",
              "      <td>No</td>\n",
              "      <td>Bank transfer (automatic)</td>\n",
              "      <td>42.30</td>\n",
              "      <td>1840.75</td>\n",
              "      <td>No</td>\n",
              "    </tr>\n",
              "    <tr>\n",
              "      <th>4</th>\n",
              "      <td>9237-HQITU</td>\n",
              "      <td>Female</td>\n",
              "      <td>0</td>\n",
              "      <td>No</td>\n",
              "      <td>No</td>\n",
              "      <td>2</td>\n",
              "      <td>Yes</td>\n",
              "      <td>No</td>\n",
              "      <td>Fiber optic</td>\n",
              "      <td>No</td>\n",
              "      <td>No</td>\n",
              "      <td>No</td>\n",
              "      <td>No</td>\n",
              "      <td>No</td>\n",
              "      <td>No</td>\n",
              "      <td>Month-to-month</td>\n",
              "      <td>Yes</td>\n",
              "      <td>Electronic check</td>\n",
              "      <td>70.70</td>\n",
              "      <td>151.65</td>\n",
              "      <td>Yes</td>\n",
              "    </tr>\n",
              "  </tbody>\n",
              "</table>\n",
              "</div>"
            ],
            "text/plain": [
              "   customerID  gender  SeniorCitizen Partner Dependents  tenure PhoneService  \\\n",
              "0  7590-VHVEG  Female              0     Yes         No       1           No   \n",
              "1  5575-GNVDE    Male              0      No         No      34          Yes   \n",
              "2  3668-QPYBK    Male              0      No         No       2          Yes   \n",
              "3  7795-CFOCW    Male              0      No         No      45           No   \n",
              "4  9237-HQITU  Female              0      No         No       2          Yes   \n",
              "\n",
              "      MultipleLines InternetService OnlineSecurity OnlineBackup  \\\n",
              "0  No phone service             DSL             No          Yes   \n",
              "1                No             DSL            Yes           No   \n",
              "2                No             DSL            Yes          Yes   \n",
              "3  No phone service             DSL            Yes           No   \n",
              "4                No     Fiber optic             No           No   \n",
              "\n",
              "  DeviceProtection TechSupport StreamingTV StreamingMovies        Contract  \\\n",
              "0               No          No          No              No  Month-to-month   \n",
              "1              Yes          No          No              No        One year   \n",
              "2               No          No          No              No  Month-to-month   \n",
              "3              Yes         Yes          No              No        One year   \n",
              "4               No          No          No              No  Month-to-month   \n",
              "\n",
              "  PaperlessBilling              PaymentMethod  MonthlyCharges TotalCharges  \\\n",
              "0              Yes           Electronic check           29.85        29.85   \n",
              "1               No               Mailed check           56.95       1889.5   \n",
              "2              Yes               Mailed check           53.85       108.15   \n",
              "3               No  Bank transfer (automatic)           42.30      1840.75   \n",
              "4              Yes           Electronic check           70.70       151.65   \n",
              "\n",
              "  Churn  \n",
              "0    No  \n",
              "1    No  \n",
              "2   Yes  \n",
              "3    No  \n",
              "4   Yes  "
            ]
          },
          "metadata": {
            "tags": []
          },
          "execution_count": 53
        }
      ]
    },
    {
      "cell_type": "code",
      "metadata": {
        "id": "Tm6TOyBMMH4j",
        "colab_type": "code",
        "outputId": "5992e3a0-1d1c-4768-9b23-f0c0e36e4986",
        "colab": {
          "base_uri": "https://localhost:8080/",
          "height": 376
        }
      },
      "source": [
        "list(telco_data.columns)"
      ],
      "execution_count": 0,
      "outputs": [
        {
          "output_type": "execute_result",
          "data": {
            "text/plain": [
              "['customerID',\n",
              " 'gender',\n",
              " 'SeniorCitizen',\n",
              " 'Partner',\n",
              " 'Dependents',\n",
              " 'tenure',\n",
              " 'PhoneService',\n",
              " 'MultipleLines',\n",
              " 'InternetService',\n",
              " 'OnlineSecurity',\n",
              " 'OnlineBackup',\n",
              " 'DeviceProtection',\n",
              " 'TechSupport',\n",
              " 'StreamingTV',\n",
              " 'StreamingMovies',\n",
              " 'Contract',\n",
              " 'PaperlessBilling',\n",
              " 'PaymentMethod',\n",
              " 'MonthlyCharges',\n",
              " 'TotalCharges',\n",
              " 'Churn']"
            ]
          },
          "metadata": {
            "tags": []
          },
          "execution_count": 58
        }
      ]
    },
    {
      "cell_type": "code",
      "metadata": {
        "id": "cliBea49NHrB",
        "colab_type": "code",
        "outputId": "437f714c-7d40-4218-82aa-9fe2423a7f7c",
        "colab": {
          "base_uri": "https://localhost:8080/",
          "height": 34
        }
      },
      "source": [
        "len(list(telco_data.columns))"
      ],
      "execution_count": 0,
      "outputs": [
        {
          "output_type": "execute_result",
          "data": {
            "text/plain": [
              "21"
            ]
          },
          "metadata": {
            "tags": []
          },
          "execution_count": 59
        }
      ]
    },
    {
      "cell_type": "code",
      "metadata": {
        "id": "j7ithnVgMw7T",
        "colab_type": "code",
        "outputId": "bf29e1d6-d2f6-49fb-d7ea-1bbd3f099f3d",
        "colab": {
          "base_uri": "https://localhost:8080/",
          "height": 342
        }
      },
      "source": [
        "# Remove Churn and customerID columns from columns list (experiment):\n",
        "\n",
        "list(set(telco_data.columns) - set(['Churn', 'customerID']))"
      ],
      "execution_count": 0,
      "outputs": [
        {
          "output_type": "execute_result",
          "data": {
            "text/plain": [
              "['PaymentMethod',\n",
              " 'InternetService',\n",
              " 'tenure',\n",
              " 'PhoneService',\n",
              " 'StreamingMovies',\n",
              " 'OnlineBackup',\n",
              " 'OnlineSecurity',\n",
              " 'MonthlyCharges',\n",
              " 'PaperlessBilling',\n",
              " 'Dependents',\n",
              " 'DeviceProtection',\n",
              " 'StreamingTV',\n",
              " 'SeniorCitizen',\n",
              " 'TotalCharges',\n",
              " 'MultipleLines',\n",
              " 'Contract',\n",
              " 'Partner',\n",
              " 'gender',\n",
              " 'TechSupport']"
            ]
          },
          "metadata": {
            "tags": []
          },
          "execution_count": 60
        }
      ]
    },
    {
      "cell_type": "code",
      "metadata": {
        "id": "F7ul2FgAs-9U",
        "colab_type": "code",
        "colab": {}
      },
      "source": [
        "# Select variables:\n",
        "\n",
        "X_cols = list(set(telco_data.columns) - set(['Churn', 'customerID']))\n",
        "\n",
        "y_cols = ['Churn']"
      ],
      "execution_count": 0,
      "outputs": []
    },
    {
      "cell_type": "code",
      "metadata": {
        "id": "lYR764ZesusO",
        "colab_type": "code",
        "outputId": "c75db8f4-6a8f-4dd6-fa32-97f47ced607c",
        "colab": {
          "base_uri": "https://localhost:8080/",
          "height": 34
        }
      },
      "source": [
        "len(X_cols)"
      ],
      "execution_count": 0,
      "outputs": [
        {
          "output_type": "execute_result",
          "data": {
            "text/plain": [
              "19"
            ]
          },
          "metadata": {
            "tags": []
          },
          "execution_count": 62
        }
      ]
    },
    {
      "cell_type": "code",
      "metadata": {
        "id": "_Ed6XDsvN8p7",
        "colab_type": "code",
        "colab": {}
      },
      "source": [
        "# Make a copy for transformed data:\n",
        "\n",
        "telco_data_tf = telco_data.copy()"
      ],
      "execution_count": 0,
      "outputs": []
    },
    {
      "cell_type": "code",
      "metadata": {
        "id": "PTNXFubiRF3q",
        "colab_type": "code",
        "colab": {}
      },
      "source": [
        "# Create empty dictionary:\n",
        "\n",
        "encoders = {}"
      ],
      "execution_count": 0,
      "outputs": []
    },
    {
      "cell_type": "code",
      "metadata": {
        "id": "-2zHGqgJRLHP",
        "colab_type": "code",
        "colab": {}
      },
      "source": [
        "# Label encode on applicable X_columns:\n",
        "\n",
        "for column in X_cols:\n",
        "  if telco_data[column].dtype != pd.np.object: # Strings considered to be objects in Numpy module\n",
        "    continue\n",
        "  # Fitting inidividual Label Encoders\n",
        "  le = preprocessing.LabelEncoder() \n",
        "  le.fit(telco_data[column].values)\n",
        "  telco_data_tf[column] = le.transform(telco_data[column])\n",
        "  # Add label encoder into dictionary\n",
        "  encoders[column] = le"
      ],
      "execution_count": 0,
      "outputs": []
    },
    {
      "cell_type": "code",
      "metadata": {
        "id": "mrDW6Ib5UUGB",
        "colab_type": "code",
        "colab": {}
      },
      "source": [
        "# Encode y-column = Churn:\n",
        "\n",
        "# Fitting inidividual Label Encoders\n",
        "le = preprocessing.LabelEncoder() \n",
        "\n",
        "le.fit(telco_data['Churn'].values)\n",
        "telco_data_tf['Churn'] = le.transform(telco_data['Churn'])\n",
        "\n",
        "# Add label encoder into dictionary\n",
        "encoders['Churn'] = le\n",
        "  "
      ],
      "execution_count": 0,
      "outputs": []
    },
    {
      "cell_type": "code",
      "metadata": {
        "id": "h9wPZX3NUhhu",
        "colab_type": "code",
        "outputId": "c4cd5c65-843a-4ac3-f14b-cde227e9b45d",
        "colab": {
          "base_uri": "https://localhost:8080/",
          "height": 308
        }
      },
      "source": [
        "# Preview transformed data:\n",
        "\n",
        "telco_data_tf.head()"
      ],
      "execution_count": 0,
      "outputs": [
        {
          "output_type": "execute_result",
          "data": {
            "text/html": [
              "<div>\n",
              "<style scoped>\n",
              "    .dataframe tbody tr th:only-of-type {\n",
              "        vertical-align: middle;\n",
              "    }\n",
              "\n",
              "    .dataframe tbody tr th {\n",
              "        vertical-align: top;\n",
              "    }\n",
              "\n",
              "    .dataframe thead th {\n",
              "        text-align: right;\n",
              "    }\n",
              "</style>\n",
              "<table border=\"1\" class=\"dataframe\">\n",
              "  <thead>\n",
              "    <tr style=\"text-align: right;\">\n",
              "      <th></th>\n",
              "      <th>customerID</th>\n",
              "      <th>gender</th>\n",
              "      <th>SeniorCitizen</th>\n",
              "      <th>Partner</th>\n",
              "      <th>Dependents</th>\n",
              "      <th>tenure</th>\n",
              "      <th>PhoneService</th>\n",
              "      <th>MultipleLines</th>\n",
              "      <th>InternetService</th>\n",
              "      <th>OnlineSecurity</th>\n",
              "      <th>OnlineBackup</th>\n",
              "      <th>DeviceProtection</th>\n",
              "      <th>TechSupport</th>\n",
              "      <th>StreamingTV</th>\n",
              "      <th>StreamingMovies</th>\n",
              "      <th>Contract</th>\n",
              "      <th>PaperlessBilling</th>\n",
              "      <th>PaymentMethod</th>\n",
              "      <th>MonthlyCharges</th>\n",
              "      <th>TotalCharges</th>\n",
              "      <th>Churn</th>\n",
              "    </tr>\n",
              "  </thead>\n",
              "  <tbody>\n",
              "    <tr>\n",
              "      <th>0</th>\n",
              "      <td>7590-VHVEG</td>\n",
              "      <td>0</td>\n",
              "      <td>0</td>\n",
              "      <td>1</td>\n",
              "      <td>0</td>\n",
              "      <td>1</td>\n",
              "      <td>0</td>\n",
              "      <td>1</td>\n",
              "      <td>0</td>\n",
              "      <td>0</td>\n",
              "      <td>2</td>\n",
              "      <td>0</td>\n",
              "      <td>0</td>\n",
              "      <td>0</td>\n",
              "      <td>0</td>\n",
              "      <td>0</td>\n",
              "      <td>1</td>\n",
              "      <td>2</td>\n",
              "      <td>29.85</td>\n",
              "      <td>2505</td>\n",
              "      <td>0</td>\n",
              "    </tr>\n",
              "    <tr>\n",
              "      <th>1</th>\n",
              "      <td>5575-GNVDE</td>\n",
              "      <td>1</td>\n",
              "      <td>0</td>\n",
              "      <td>0</td>\n",
              "      <td>0</td>\n",
              "      <td>34</td>\n",
              "      <td>1</td>\n",
              "      <td>0</td>\n",
              "      <td>0</td>\n",
              "      <td>2</td>\n",
              "      <td>0</td>\n",
              "      <td>2</td>\n",
              "      <td>0</td>\n",
              "      <td>0</td>\n",
              "      <td>0</td>\n",
              "      <td>1</td>\n",
              "      <td>0</td>\n",
              "      <td>3</td>\n",
              "      <td>56.95</td>\n",
              "      <td>1466</td>\n",
              "      <td>0</td>\n",
              "    </tr>\n",
              "    <tr>\n",
              "      <th>2</th>\n",
              "      <td>3668-QPYBK</td>\n",
              "      <td>1</td>\n",
              "      <td>0</td>\n",
              "      <td>0</td>\n",
              "      <td>0</td>\n",
              "      <td>2</td>\n",
              "      <td>1</td>\n",
              "      <td>0</td>\n",
              "      <td>0</td>\n",
              "      <td>2</td>\n",
              "      <td>2</td>\n",
              "      <td>0</td>\n",
              "      <td>0</td>\n",
              "      <td>0</td>\n",
              "      <td>0</td>\n",
              "      <td>0</td>\n",
              "      <td>1</td>\n",
              "      <td>3</td>\n",
              "      <td>53.85</td>\n",
              "      <td>157</td>\n",
              "      <td>1</td>\n",
              "    </tr>\n",
              "    <tr>\n",
              "      <th>3</th>\n",
              "      <td>7795-CFOCW</td>\n",
              "      <td>1</td>\n",
              "      <td>0</td>\n",
              "      <td>0</td>\n",
              "      <td>0</td>\n",
              "      <td>45</td>\n",
              "      <td>0</td>\n",
              "      <td>1</td>\n",
              "      <td>0</td>\n",
              "      <td>2</td>\n",
              "      <td>0</td>\n",
              "      <td>2</td>\n",
              "      <td>2</td>\n",
              "      <td>0</td>\n",
              "      <td>0</td>\n",
              "      <td>1</td>\n",
              "      <td>0</td>\n",
              "      <td>0</td>\n",
              "      <td>42.30</td>\n",
              "      <td>1400</td>\n",
              "      <td>0</td>\n",
              "    </tr>\n",
              "    <tr>\n",
              "      <th>4</th>\n",
              "      <td>9237-HQITU</td>\n",
              "      <td>0</td>\n",
              "      <td>0</td>\n",
              "      <td>0</td>\n",
              "      <td>0</td>\n",
              "      <td>2</td>\n",
              "      <td>1</td>\n",
              "      <td>0</td>\n",
              "      <td>1</td>\n",
              "      <td>0</td>\n",
              "      <td>0</td>\n",
              "      <td>0</td>\n",
              "      <td>0</td>\n",
              "      <td>0</td>\n",
              "      <td>0</td>\n",
              "      <td>0</td>\n",
              "      <td>1</td>\n",
              "      <td>2</td>\n",
              "      <td>70.70</td>\n",
              "      <td>925</td>\n",
              "      <td>1</td>\n",
              "    </tr>\n",
              "  </tbody>\n",
              "</table>\n",
              "</div>"
            ],
            "text/plain": [
              "   customerID  gender  SeniorCitizen  Partner  Dependents  tenure  \\\n",
              "0  7590-VHVEG       0              0        1           0       1   \n",
              "1  5575-GNVDE       1              0        0           0      34   \n",
              "2  3668-QPYBK       1              0        0           0       2   \n",
              "3  7795-CFOCW       1              0        0           0      45   \n",
              "4  9237-HQITU       0              0        0           0       2   \n",
              "\n",
              "   PhoneService  MultipleLines  InternetService  OnlineSecurity  OnlineBackup  \\\n",
              "0             0              1                0               0             2   \n",
              "1             1              0                0               2             0   \n",
              "2             1              0                0               2             2   \n",
              "3             0              1                0               2             0   \n",
              "4             1              0                1               0             0   \n",
              "\n",
              "   DeviceProtection  TechSupport  StreamingTV  StreamingMovies  Contract  \\\n",
              "0                 0            0            0                0         0   \n",
              "1                 2            0            0                0         1   \n",
              "2                 0            0            0                0         0   \n",
              "3                 2            2            0                0         1   \n",
              "4                 0            0            0                0         0   \n",
              "\n",
              "   PaperlessBilling  PaymentMethod  MonthlyCharges  TotalCharges  Churn  \n",
              "0                 1              2           29.85          2505      0  \n",
              "1                 0              3           56.95          1466      0  \n",
              "2                 1              3           53.85           157      1  \n",
              "3                 0              0           42.30          1400      0  \n",
              "4                 1              2           70.70           925      1  "
            ]
          },
          "metadata": {
            "tags": []
          },
          "execution_count": 67
        }
      ]
    },
    {
      "cell_type": "code",
      "metadata": {
        "id": "epJqtWF5VF2q",
        "colab_type": "code",
        "outputId": "4a63e14f-cca6-4076-d4c4-ab6a4d6e1892",
        "colab": {
          "base_uri": "https://localhost:8080/",
          "height": 308
        }
      },
      "source": [
        "# Compare with original telco data:\n",
        "\n",
        "telco_data.head()"
      ],
      "execution_count": 0,
      "outputs": [
        {
          "output_type": "execute_result",
          "data": {
            "text/html": [
              "<div>\n",
              "<style scoped>\n",
              "    .dataframe tbody tr th:only-of-type {\n",
              "        vertical-align: middle;\n",
              "    }\n",
              "\n",
              "    .dataframe tbody tr th {\n",
              "        vertical-align: top;\n",
              "    }\n",
              "\n",
              "    .dataframe thead th {\n",
              "        text-align: right;\n",
              "    }\n",
              "</style>\n",
              "<table border=\"1\" class=\"dataframe\">\n",
              "  <thead>\n",
              "    <tr style=\"text-align: right;\">\n",
              "      <th></th>\n",
              "      <th>customerID</th>\n",
              "      <th>gender</th>\n",
              "      <th>SeniorCitizen</th>\n",
              "      <th>Partner</th>\n",
              "      <th>Dependents</th>\n",
              "      <th>tenure</th>\n",
              "      <th>PhoneService</th>\n",
              "      <th>MultipleLines</th>\n",
              "      <th>InternetService</th>\n",
              "      <th>OnlineSecurity</th>\n",
              "      <th>OnlineBackup</th>\n",
              "      <th>DeviceProtection</th>\n",
              "      <th>TechSupport</th>\n",
              "      <th>StreamingTV</th>\n",
              "      <th>StreamingMovies</th>\n",
              "      <th>Contract</th>\n",
              "      <th>PaperlessBilling</th>\n",
              "      <th>PaymentMethod</th>\n",
              "      <th>MonthlyCharges</th>\n",
              "      <th>TotalCharges</th>\n",
              "      <th>Churn</th>\n",
              "    </tr>\n",
              "  </thead>\n",
              "  <tbody>\n",
              "    <tr>\n",
              "      <th>0</th>\n",
              "      <td>7590-VHVEG</td>\n",
              "      <td>Female</td>\n",
              "      <td>0</td>\n",
              "      <td>Yes</td>\n",
              "      <td>No</td>\n",
              "      <td>1</td>\n",
              "      <td>No</td>\n",
              "      <td>No phone service</td>\n",
              "      <td>DSL</td>\n",
              "      <td>No</td>\n",
              "      <td>Yes</td>\n",
              "      <td>No</td>\n",
              "      <td>No</td>\n",
              "      <td>No</td>\n",
              "      <td>No</td>\n",
              "      <td>Month-to-month</td>\n",
              "      <td>Yes</td>\n",
              "      <td>Electronic check</td>\n",
              "      <td>29.85</td>\n",
              "      <td>29.85</td>\n",
              "      <td>No</td>\n",
              "    </tr>\n",
              "    <tr>\n",
              "      <th>1</th>\n",
              "      <td>5575-GNVDE</td>\n",
              "      <td>Male</td>\n",
              "      <td>0</td>\n",
              "      <td>No</td>\n",
              "      <td>No</td>\n",
              "      <td>34</td>\n",
              "      <td>Yes</td>\n",
              "      <td>No</td>\n",
              "      <td>DSL</td>\n",
              "      <td>Yes</td>\n",
              "      <td>No</td>\n",
              "      <td>Yes</td>\n",
              "      <td>No</td>\n",
              "      <td>No</td>\n",
              "      <td>No</td>\n",
              "      <td>One year</td>\n",
              "      <td>No</td>\n",
              "      <td>Mailed check</td>\n",
              "      <td>56.95</td>\n",
              "      <td>1889.5</td>\n",
              "      <td>No</td>\n",
              "    </tr>\n",
              "    <tr>\n",
              "      <th>2</th>\n",
              "      <td>3668-QPYBK</td>\n",
              "      <td>Male</td>\n",
              "      <td>0</td>\n",
              "      <td>No</td>\n",
              "      <td>No</td>\n",
              "      <td>2</td>\n",
              "      <td>Yes</td>\n",
              "      <td>No</td>\n",
              "      <td>DSL</td>\n",
              "      <td>Yes</td>\n",
              "      <td>Yes</td>\n",
              "      <td>No</td>\n",
              "      <td>No</td>\n",
              "      <td>No</td>\n",
              "      <td>No</td>\n",
              "      <td>Month-to-month</td>\n",
              "      <td>Yes</td>\n",
              "      <td>Mailed check</td>\n",
              "      <td>53.85</td>\n",
              "      <td>108.15</td>\n",
              "      <td>Yes</td>\n",
              "    </tr>\n",
              "    <tr>\n",
              "      <th>3</th>\n",
              "      <td>7795-CFOCW</td>\n",
              "      <td>Male</td>\n",
              "      <td>0</td>\n",
              "      <td>No</td>\n",
              "      <td>No</td>\n",
              "      <td>45</td>\n",
              "      <td>No</td>\n",
              "      <td>No phone service</td>\n",
              "      <td>DSL</td>\n",
              "      <td>Yes</td>\n",
              "      <td>No</td>\n",
              "      <td>Yes</td>\n",
              "      <td>Yes</td>\n",
              "      <td>No</td>\n",
              "      <td>No</td>\n",
              "      <td>One year</td>\n",
              "      <td>No</td>\n",
              "      <td>Bank transfer (automatic)</td>\n",
              "      <td>42.30</td>\n",
              "      <td>1840.75</td>\n",
              "      <td>No</td>\n",
              "    </tr>\n",
              "    <tr>\n",
              "      <th>4</th>\n",
              "      <td>9237-HQITU</td>\n",
              "      <td>Female</td>\n",
              "      <td>0</td>\n",
              "      <td>No</td>\n",
              "      <td>No</td>\n",
              "      <td>2</td>\n",
              "      <td>Yes</td>\n",
              "      <td>No</td>\n",
              "      <td>Fiber optic</td>\n",
              "      <td>No</td>\n",
              "      <td>No</td>\n",
              "      <td>No</td>\n",
              "      <td>No</td>\n",
              "      <td>No</td>\n",
              "      <td>No</td>\n",
              "      <td>Month-to-month</td>\n",
              "      <td>Yes</td>\n",
              "      <td>Electronic check</td>\n",
              "      <td>70.70</td>\n",
              "      <td>151.65</td>\n",
              "      <td>Yes</td>\n",
              "    </tr>\n",
              "  </tbody>\n",
              "</table>\n",
              "</div>"
            ],
            "text/plain": [
              "   customerID  gender  SeniorCitizen Partner Dependents  tenure PhoneService  \\\n",
              "0  7590-VHVEG  Female              0     Yes         No       1           No   \n",
              "1  5575-GNVDE    Male              0      No         No      34          Yes   \n",
              "2  3668-QPYBK    Male              0      No         No       2          Yes   \n",
              "3  7795-CFOCW    Male              0      No         No      45           No   \n",
              "4  9237-HQITU  Female              0      No         No       2          Yes   \n",
              "\n",
              "      MultipleLines InternetService OnlineSecurity OnlineBackup  \\\n",
              "0  No phone service             DSL             No          Yes   \n",
              "1                No             DSL            Yes           No   \n",
              "2                No             DSL            Yes          Yes   \n",
              "3  No phone service             DSL            Yes           No   \n",
              "4                No     Fiber optic             No           No   \n",
              "\n",
              "  DeviceProtection TechSupport StreamingTV StreamingMovies        Contract  \\\n",
              "0               No          No          No              No  Month-to-month   \n",
              "1              Yes          No          No              No        One year   \n",
              "2               No          No          No              No  Month-to-month   \n",
              "3              Yes         Yes          No              No        One year   \n",
              "4               No          No          No              No  Month-to-month   \n",
              "\n",
              "  PaperlessBilling              PaymentMethod  MonthlyCharges TotalCharges  \\\n",
              "0              Yes           Electronic check           29.85        29.85   \n",
              "1               No               Mailed check           56.95       1889.5   \n",
              "2              Yes               Mailed check           53.85       108.15   \n",
              "3               No  Bank transfer (automatic)           42.30      1840.75   \n",
              "4              Yes           Electronic check           70.70       151.65   \n",
              "\n",
              "  Churn  \n",
              "0    No  \n",
              "1    No  \n",
              "2   Yes  \n",
              "3    No  \n",
              "4   Yes  "
            ]
          },
          "metadata": {
            "tags": []
          },
          "execution_count": 68
        }
      ]
    },
    {
      "cell_type": "code",
      "metadata": {
        "id": "aSNm7p-eUhym",
        "colab_type": "code",
        "outputId": "4f6950b9-face-41bd-9e93-17876157eae6",
        "colab": {
          "base_uri": "https://localhost:8080/",
          "height": 307
        }
      },
      "source": [
        "# Check encoders:\n",
        "encoders"
      ],
      "execution_count": 0,
      "outputs": [
        {
          "output_type": "execute_result",
          "data": {
            "text/plain": [
              "{'Churn': LabelEncoder(),\n",
              " 'Contract': LabelEncoder(),\n",
              " 'Dependents': LabelEncoder(),\n",
              " 'DeviceProtection': LabelEncoder(),\n",
              " 'InternetService': LabelEncoder(),\n",
              " 'MultipleLines': LabelEncoder(),\n",
              " 'OnlineBackup': LabelEncoder(),\n",
              " 'OnlineSecurity': LabelEncoder(),\n",
              " 'PaperlessBilling': LabelEncoder(),\n",
              " 'Partner': LabelEncoder(),\n",
              " 'PaymentMethod': LabelEncoder(),\n",
              " 'PhoneService': LabelEncoder(),\n",
              " 'StreamingMovies': LabelEncoder(),\n",
              " 'StreamingTV': LabelEncoder(),\n",
              " 'TechSupport': LabelEncoder(),\n",
              " 'TotalCharges': LabelEncoder(),\n",
              " 'gender': LabelEncoder()}"
            ]
          },
          "metadata": {
            "tags": []
          },
          "execution_count": 69
        }
      ]
    },
    {
      "cell_type": "markdown",
      "metadata": {
        "id": "0q9WJr_AVNGr",
        "colab_type": "text"
      },
      "source": [
        "In `Churn` Yes is 1 and No is 0."
      ]
    },
    {
      "cell_type": "markdown",
      "metadata": {
        "id": "CH4WZPDNTeQE",
        "colab_type": "text"
      },
      "source": [
        "## Train Test Split & Train Val Split"
      ]
    },
    {
      "cell_type": "code",
      "metadata": {
        "id": "qMfkTqgwTdq0",
        "colab_type": "code",
        "colab": {}
      },
      "source": [
        "# Train test split:\n",
        "\n",
        "X_rest, X_test, y_rest, y_test = train_test_split(telco_data_tf[X_cols],\n",
        "                                                    telco_data_tf[y_cols],\n",
        "                                                    random_state = 42,\n",
        "                                                     test_size = 0.2)"
      ],
      "execution_count": 0,
      "outputs": []
    },
    {
      "cell_type": "code",
      "metadata": {
        "id": "5R7ec1JYTd2n",
        "colab_type": "code",
        "colab": {}
      },
      "source": [
        "# Train val split\n",
        "# Test size 0.25 for taking 25% of 80% of rest data\n",
        "\n",
        "X_train, X_val, y_train, y_val = train_test_split(X_rest,\n",
        "                                                  y_rest,\n",
        "                                                  random_state = 42,\n",
        "                                                  test_size = 0.25)"
      ],
      "execution_count": 0,
      "outputs": []
    },
    {
      "cell_type": "code",
      "metadata": {
        "id": "KLERe8JXT596",
        "colab_type": "code",
        "outputId": "f58648fa-744e-426e-9589-e5cabc69bcdb",
        "colab": {
          "base_uri": "https://localhost:8080/",
          "height": 68
        }
      },
      "source": [
        "# Check shapes:\n",
        "\n",
        "print(f'Shape for X_rest: {X_rest.shape}')\n",
        "print(f'Shape for X_train: {X_train.shape}')\n",
        "print(f'Shape for X_test: {X_test.shape}')"
      ],
      "execution_count": 0,
      "outputs": [
        {
          "output_type": "stream",
          "text": [
            "Shape for X_rest: (5634, 19)\n",
            "Shape for X_train: (4225, 19)\n",
            "Shape for X_test: (1409, 19)\n"
          ],
          "name": "stdout"
        }
      ]
    },
    {
      "cell_type": "markdown",
      "metadata": {
        "id": "oNS_NJDrtAUF",
        "colab_type": "text"
      },
      "source": [
        "# Ensemble Methods For Classification"
      ]
    },
    {
      "cell_type": "markdown",
      "metadata": {
        "id": "LgOOi-BjVzmO",
        "colab_type": "text"
      },
      "source": [
        "In the previous classification project on the Telco dataset, the three models that were used are:\n",
        "\n",
        "* Logsitic Regression\n",
        "* K-Nearest Neighbours\n",
        "* Decision Trees\n",
        "\n",
        "---\n",
        "\n",
        "K-Nearests Neighbours was not good as it was biased towards points near the test data.\n",
        "\n",
        "Logistic Regression results are somewhat hard to interpret.\n",
        "\n",
        "Decision trees are not as good as random forests and other ensemble methods."
      ]
    },
    {
      "cell_type": "code",
      "metadata": {
        "id": "ww4azytMtC3-",
        "colab_type": "code",
        "colab": {}
      },
      "source": [
        ""
      ],
      "execution_count": 0,
      "outputs": []
    },
    {
      "cell_type": "code",
      "metadata": {
        "id": "x-UpleWKtDa0",
        "colab_type": "code",
        "colab": {}
      },
      "source": [
        ""
      ],
      "execution_count": 0,
      "outputs": []
    },
    {
      "cell_type": "markdown",
      "metadata": {
        "id": "x8GkOqC9tEEX",
        "colab_type": "text"
      },
      "source": [
        "## 1) Random Forest (Randomized Grid Search)"
      ]
    },
    {
      "cell_type": "code",
      "metadata": {
        "id": "QjBLLeR2wvvf",
        "colab_type": "code",
        "colab": {}
      },
      "source": [
        "from sklearn.ensemble import RandomForestClassifier\n",
        "\n",
        "from sklearn.model_selection import RandomizedSearchCV\n",
        "\n",
        "from sklearn.metrics import classification_report\n",
        "\n",
        "from sklearn.metrics import recall_score"
      ],
      "execution_count": 0,
      "outputs": []
    },
    {
      "cell_type": "code",
      "metadata": {
        "id": "TOK0nTEiwqh4",
        "colab_type": "code",
        "colab": {}
      },
      "source": [
        "# Random Forest Model:\n",
        "\n",
        "rf_model = RandomForestClassifier(random_state = 42)"
      ],
      "execution_count": 0,
      "outputs": []
    },
    {
      "cell_type": "code",
      "metadata": {
        "id": "txzn8RYPtGDk",
        "colab_type": "code",
        "colab": {}
      },
      "source": [
        "# Parameters for CV:\n",
        "\n",
        "rf_params = {\n",
        "    'n_estimators': [6, 7],\n",
        "    'bootstrap': [True, False],\n",
        "    'min_samples_split': [2, 3, 4, 5, 10],\n",
        "    'min_samples_leaf': [4, 8, 9, 10],\n",
        "    'class_weight': ['balanced'],\n",
        "}"
      ],
      "execution_count": 0,
      "outputs": []
    },
    {
      "cell_type": "code",
      "metadata": {
        "id": "Xc4vcXmvtGqa",
        "colab_type": "code",
        "outputId": "86143f2d-f770-4b27-95e8-a1da9669f7f0",
        "colab": {
          "base_uri": "https://localhost:8080/",
          "height": 550
        }
      },
      "source": [
        "# Randomized Grid Search:\n",
        "\n",
        "rf_grid = RandomizedSearchCV(estimator = rf_model,\n",
        "                             param_distributions = rf_params,\n",
        "                             n_iter = 5,\n",
        "                             cv = 5,\n",
        "                             verbose = 2,\n",
        "                             random_state = 42,\n",
        "                             n_jobs = -1)\n",
        "\n",
        "rf_grid.fit(X_train, y_train)"
      ],
      "execution_count": 0,
      "outputs": [
        {
          "output_type": "stream",
          "text": [
            "Fitting 5 folds for each of 5 candidates, totalling 25 fits\n"
          ],
          "name": "stdout"
        },
        {
          "output_type": "stream",
          "text": [
            "[Parallel(n_jobs=-1)]: Using backend LokyBackend with 2 concurrent workers.\n",
            "[Parallel(n_jobs=-1)]: Done  25 out of  25 | elapsed:    1.8s finished\n",
            "/usr/local/lib/python3.6/dist-packages/sklearn/model_selection/_search.py:715: DataConversionWarning: A column-vector y was passed when a 1d array was expected. Please change the shape of y to (n_samples,), for example using ravel().\n",
            "  self.best_estimator_.fit(X, y, **fit_params)\n"
          ],
          "name": "stderr"
        },
        {
          "output_type": "execute_result",
          "data": {
            "text/plain": [
              "RandomizedSearchCV(cv=5, error_score='raise-deprecating',\n",
              "                   estimator=RandomForestClassifier(bootstrap=True,\n",
              "                                                    class_weight=None,\n",
              "                                                    criterion='gini',\n",
              "                                                    max_depth=None,\n",
              "                                                    max_features='auto',\n",
              "                                                    max_leaf_nodes=None,\n",
              "                                                    min_impurity_decrease=0.0,\n",
              "                                                    min_impurity_split=None,\n",
              "                                                    min_samples_leaf=1,\n",
              "                                                    min_samples_split=2,\n",
              "                                                    min_weight_fraction_leaf=0.0,\n",
              "                                                    n_estimators='warn',\n",
              "                                                    n_jobs=None,\n",
              "                                                    oob_score=False,\n",
              "                                                    random_state=42, verbose=0,\n",
              "                                                    warm_start=False),\n",
              "                   iid='warn', n_iter=5, n_jobs=-1,\n",
              "                   param_distributions={'bootstrap': [True, False],\n",
              "                                        'class_weight': ['balanced'],\n",
              "                                        'min_samples_leaf': [4, 8, 9, 10],\n",
              "                                        'min_samples_split': [2, 3, 4, 5, 10],\n",
              "                                        'n_estimators': [6, 7]},\n",
              "                   pre_dispatch='2*n_jobs', random_state=42, refit=True,\n",
              "                   return_train_score=False, scoring=None, verbose=2)"
            ]
          },
          "metadata": {
            "tags": []
          },
          "execution_count": 76
        }
      ]
    },
    {
      "cell_type": "code",
      "metadata": {
        "id": "4cTUGGjItGtm",
        "colab_type": "code",
        "outputId": "907df31b-db7f-406b-e247-794cfbc0dd22",
        "colab": {
          "base_uri": "https://localhost:8080/",
          "height": 34
        }
      },
      "source": [
        "rf_grid.best_score_"
      ],
      "execution_count": 0,
      "outputs": [
        {
          "output_type": "execute_result",
          "data": {
            "text/plain": [
              "0.7585798816568048"
            ]
          },
          "metadata": {
            "tags": []
          },
          "execution_count": 77
        }
      ]
    },
    {
      "cell_type": "code",
      "metadata": {
        "id": "RLiECqWKzPtH",
        "colab_type": "code",
        "outputId": "3ee6ddb8-4918-470d-e8b4-879bc0885b4f",
        "colab": {
          "base_uri": "https://localhost:8080/",
          "height": 102
        }
      },
      "source": [
        "rf_grid.best_params_"
      ],
      "execution_count": 0,
      "outputs": [
        {
          "output_type": "execute_result",
          "data": {
            "text/plain": [
              "{'bootstrap': True,\n",
              " 'class_weight': 'balanced',\n",
              " 'min_samples_leaf': 4,\n",
              " 'min_samples_split': 2,\n",
              " 'n_estimators': 6}"
            ]
          },
          "metadata": {
            "tags": []
          },
          "execution_count": 78
        }
      ]
    },
    {
      "cell_type": "code",
      "metadata": {
        "id": "43lBN0oeyuLr",
        "colab_type": "code",
        "colab": {}
      },
      "source": [
        "y_predict = rf_grid.predict(X_test)"
      ],
      "execution_count": 0,
      "outputs": []
    },
    {
      "cell_type": "code",
      "metadata": {
        "id": "xsk9_aIpy1yr",
        "colab_type": "code",
        "outputId": "bf03cd02-ab5e-48d8-f2ff-6c3b2dd868be",
        "colab": {
          "base_uri": "https://localhost:8080/",
          "height": 171
        }
      },
      "source": [
        "print(classification_report(y_test, y_predict))"
      ],
      "execution_count": 0,
      "outputs": [
        {
          "output_type": "stream",
          "text": [
            "              precision    recall  f1-score   support\n",
            "\n",
            "           0       0.89      0.80      0.84      1036\n",
            "           1       0.56      0.72      0.63       373\n",
            "\n",
            "    accuracy                           0.78      1409\n",
            "   macro avg       0.73      0.76      0.74      1409\n",
            "weighted avg       0.80      0.78      0.79      1409\n",
            "\n"
          ],
          "name": "stdout"
        }
      ]
    },
    {
      "cell_type": "markdown",
      "metadata": {
        "id": "hhrhXOWUy7a3",
        "colab_type": "text"
      },
      "source": [
        "### Random Forest 2 (Rand Grid Search)"
      ]
    },
    {
      "cell_type": "code",
      "metadata": {
        "id": "heosWXh6Klnt",
        "colab_type": "code",
        "colab": {}
      },
      "source": [
        "# Parameters for CV:\n",
        "\n",
        "rf_params2 = {\n",
        "    'n_estimators': [6, 7, 8, 9, 10, 11, 12],\n",
        "    'bootstrap': [True, False],\n",
        "    'min_samples_split': [2, 3, 4, 5, 6, 7, 8, 9, 10],\n",
        "    'min_samples_leaf': np.arange(5, 20, 1),\n",
        "    'class_weight': ['balanced'],\n",
        "}"
      ],
      "execution_count": 0,
      "outputs": []
    },
    {
      "cell_type": "code",
      "metadata": {
        "id": "AbNbJH4-KqP5",
        "colab_type": "code",
        "outputId": "f9dd8021-a9df-4e71-af86-10cb7781ac9a",
        "colab": {
          "base_uri": "https://localhost:8080/",
          "height": 584
        }
      },
      "source": [
        "# Randomized Grid Search:\n",
        "\n",
        "rf_grid2 = RandomizedSearchCV(estimator = rf_model,\n",
        "                             param_distributions = rf_params2,\n",
        "                             n_iter = 5,\n",
        "                             cv = 5,\n",
        "                             verbose = 2,\n",
        "                             random_state = 42,\n",
        "                             n_jobs = -1)\n",
        "\n",
        "rf_grid2.fit(X_train, y_train)"
      ],
      "execution_count": 0,
      "outputs": [
        {
          "output_type": "stream",
          "text": [
            "[Parallel(n_jobs=-1)]: Using backend LokyBackend with 2 concurrent workers.\n"
          ],
          "name": "stderr"
        },
        {
          "output_type": "stream",
          "text": [
            "Fitting 5 folds for each of 5 candidates, totalling 25 fits\n"
          ],
          "name": "stdout"
        },
        {
          "output_type": "stream",
          "text": [
            "[Parallel(n_jobs=-1)]: Done  22 out of  25 | elapsed:    0.8s remaining:    0.1s\n",
            "[Parallel(n_jobs=-1)]: Done  25 out of  25 | elapsed:    0.9s finished\n",
            "/usr/local/lib/python3.6/dist-packages/sklearn/model_selection/_search.py:715: DataConversionWarning: A column-vector y was passed when a 1d array was expected. Please change the shape of y to (n_samples,), for example using ravel().\n",
            "  self.best_estimator_.fit(X, y, **fit_params)\n"
          ],
          "name": "stderr"
        },
        {
          "output_type": "execute_result",
          "data": {
            "text/plain": [
              "RandomizedSearchCV(cv=5, error_score='raise-deprecating',\n",
              "                   estimator=RandomForestClassifier(bootstrap=True,\n",
              "                                                    class_weight=None,\n",
              "                                                    criterion='gini',\n",
              "                                                    max_depth=None,\n",
              "                                                    max_features='auto',\n",
              "                                                    max_leaf_nodes=None,\n",
              "                                                    min_impurity_decrease=0.0,\n",
              "                                                    min_impurity_split=None,\n",
              "                                                    min_samples_leaf=1,\n",
              "                                                    min_samples_split=2,\n",
              "                                                    min_weight_fraction_leaf=0.0,\n",
              "                                                    n_estimators='warn',\n",
              "                                                    n_jobs=None,\n",
              "                                                    oob_sc...\n",
              "                                                    warm_start=False),\n",
              "                   iid='warn', n_iter=5, n_jobs=-1,\n",
              "                   param_distributions={'bootstrap': [True, False],\n",
              "                                        'class_weight': ['balanced'],\n",
              "                                        'min_samples_leaf': array([ 5,  6,  7,  8,  9, 10, 11, 12, 13, 14, 15, 16, 17, 18, 19]),\n",
              "                                        'min_samples_split': [2, 3, 4, 5, 6, 7,\n",
              "                                                              8, 9, 10],\n",
              "                                        'n_estimators': [6, 7, 8, 9, 10, 11,\n",
              "                                                         12]},\n",
              "                   pre_dispatch='2*n_jobs', random_state=42, refit=True,\n",
              "                   return_train_score=False, scoring=None, verbose=2)"
            ]
          },
          "metadata": {
            "tags": []
          },
          "execution_count": 82
        }
      ]
    },
    {
      "cell_type": "code",
      "metadata": {
        "id": "BbDGYiVuKqZV",
        "colab_type": "code",
        "outputId": "09312607-825c-4cda-a174-a88c34f51687",
        "colab": {
          "base_uri": "https://localhost:8080/",
          "height": 34
        }
      },
      "source": [
        "rf_grid2.best_score_"
      ],
      "execution_count": 0,
      "outputs": [
        {
          "output_type": "execute_result",
          "data": {
            "text/plain": [
              "0.757396449704142"
            ]
          },
          "metadata": {
            "tags": []
          },
          "execution_count": 83
        }
      ]
    },
    {
      "cell_type": "code",
      "metadata": {
        "id": "VNe8WhDRKqiJ",
        "colab_type": "code",
        "outputId": "d7b8c218-6e39-413a-8252-cd32007bbf30",
        "colab": {
          "base_uri": "https://localhost:8080/",
          "height": 102
        }
      },
      "source": [
        "rf_grid2.best_params_"
      ],
      "execution_count": 0,
      "outputs": [
        {
          "output_type": "execute_result",
          "data": {
            "text/plain": [
              "{'bootstrap': False,\n",
              " 'class_weight': 'balanced',\n",
              " 'min_samples_leaf': 10,\n",
              " 'min_samples_split': 6,\n",
              " 'n_estimators': 12}"
            ]
          },
          "metadata": {
            "tags": []
          },
          "execution_count": 84
        }
      ]
    },
    {
      "cell_type": "code",
      "metadata": {
        "id": "VM32u-8qLA3n",
        "colab_type": "code",
        "outputId": "4dfdb21a-aaca-4dfa-8c87-7477faa84b43",
        "colab": {
          "base_uri": "https://localhost:8080/",
          "height": 171
        }
      },
      "source": [
        "print(classification_report(y_test, rf_grid2.predict(X_test)))"
      ],
      "execution_count": 0,
      "outputs": [
        {
          "output_type": "stream",
          "text": [
            "              precision    recall  f1-score   support\n",
            "\n",
            "           0       0.91      0.75      0.83      1036\n",
            "           1       0.54      0.80      0.65       373\n",
            "\n",
            "    accuracy                           0.77      1409\n",
            "   macro avg       0.73      0.78      0.74      1409\n",
            "weighted avg       0.82      0.77      0.78      1409\n",
            "\n"
          ],
          "name": "stdout"
        }
      ]
    },
    {
      "cell_type": "markdown",
      "metadata": {
        "id": "5xLR4vbyLZ1i",
        "colab_type": "text"
      },
      "source": [
        "### Grid Search "
      ]
    },
    {
      "cell_type": "code",
      "metadata": {
        "id": "KBdAi7GIMCUU",
        "colab_type": "code",
        "colab": {}
      },
      "source": [
        "from sklearn.model_selection import GridSearchCV"
      ],
      "execution_count": 0,
      "outputs": []
    },
    {
      "cell_type": "code",
      "metadata": {
        "id": "cZV2CvVFLZFC",
        "colab_type": "code",
        "colab": {}
      },
      "source": [
        "# Parameters for CV:\n",
        "\n",
        "rf_params3 = {\n",
        "    'n_estimators': np.arange(10, 12, 1),\n",
        "    'bootstrap': [False],\n",
        "    'min_samples_split': np.arange(5, 10, 1),\n",
        "    'min_samples_leaf': np.arange(7, 10, 1),\n",
        "    'class_weight': ['balanced'],\n",
        "}"
      ],
      "execution_count": 0,
      "outputs": []
    },
    {
      "cell_type": "code",
      "metadata": {
        "id": "CzOz-U-yLqLF",
        "colab_type": "code",
        "colab": {}
      },
      "source": [
        "rf_grid3 = GridSearchCV(rf_model, \n",
        "                        rf_params3,\n",
        "                        cv = 5,\n",
        "                        verbose = 1,\n",
        "                        n_jobs = -1)"
      ],
      "execution_count": 0,
      "outputs": []
    },
    {
      "cell_type": "code",
      "metadata": {
        "id": "mhr6T3NVLqUI",
        "colab_type": "code",
        "outputId": "50beedfd-f42e-4e22-aff3-b74987ebdada",
        "colab": {
          "base_uri": "https://localhost:8080/",
          "height": 481
        }
      },
      "source": [
        "rf_grid3.fit(X_train, y_train)"
      ],
      "execution_count": 0,
      "outputs": [
        {
          "output_type": "stream",
          "text": [
            "[Parallel(n_jobs=-1)]: Using backend LokyBackend with 2 concurrent workers.\n"
          ],
          "name": "stderr"
        },
        {
          "output_type": "stream",
          "text": [
            "Fitting 5 folds for each of 30 candidates, totalling 150 fits\n"
          ],
          "name": "stdout"
        },
        {
          "output_type": "stream",
          "text": [
            "[Parallel(n_jobs=-1)]: Done  88 tasks      | elapsed:    3.3s\n",
            "[Parallel(n_jobs=-1)]: Done 150 out of 150 | elapsed:    5.5s finished\n",
            "/usr/local/lib/python3.6/dist-packages/sklearn/model_selection/_search.py:715: DataConversionWarning: A column-vector y was passed when a 1d array was expected. Please change the shape of y to (n_samples,), for example using ravel().\n",
            "  self.best_estimator_.fit(X, y, **fit_params)\n"
          ],
          "name": "stderr"
        },
        {
          "output_type": "execute_result",
          "data": {
            "text/plain": [
              "GridSearchCV(cv=5, error_score='raise-deprecating',\n",
              "             estimator=RandomForestClassifier(bootstrap=True, class_weight=None,\n",
              "                                              criterion='gini', max_depth=None,\n",
              "                                              max_features='auto',\n",
              "                                              max_leaf_nodes=None,\n",
              "                                              min_impurity_decrease=0.0,\n",
              "                                              min_impurity_split=None,\n",
              "                                              min_samples_leaf=1,\n",
              "                                              min_samples_split=2,\n",
              "                                              min_weight_fraction_leaf=0.0,\n",
              "                                              n_estimators='warn', n_jobs=None,\n",
              "                                              oob_score=False, random_state=42,\n",
              "                                              verbose=0, warm_start=False),\n",
              "             iid='warn', n_jobs=-1,\n",
              "             param_grid={'bootstrap': [False], 'class_weight': ['balanced'],\n",
              "                         'min_samples_leaf': array([7, 8, 9]),\n",
              "                         'min_samples_split': array([5, 6, 7, 8, 9]),\n",
              "                         'n_estimators': array([10, 11])},\n",
              "             pre_dispatch='2*n_jobs', refit=True, return_train_score=False,\n",
              "             scoring=None, verbose=1)"
            ]
          },
          "metadata": {
            "tags": []
          },
          "execution_count": 89
        }
      ]
    },
    {
      "cell_type": "code",
      "metadata": {
        "id": "2cYyqTdF16a6",
        "colab_type": "code",
        "outputId": "05dfcc51-df33-47a3-97e9-a4898beed56a",
        "colab": {
          "base_uri": "https://localhost:8080/",
          "height": 34
        }
      },
      "source": [
        "rf_grid3.best_score_"
      ],
      "execution_count": 0,
      "outputs": [
        {
          "output_type": "execute_result",
          "data": {
            "text/plain": [
              "0.7526627218934911"
            ]
          },
          "metadata": {
            "tags": []
          },
          "execution_count": 90
        }
      ]
    },
    {
      "cell_type": "code",
      "metadata": {
        "id": "kgEtlJym2LYF",
        "colab_type": "code",
        "outputId": "81c38526-97e5-4623-eafe-b64c476b200d",
        "colab": {
          "base_uri": "https://localhost:8080/",
          "height": 102
        }
      },
      "source": [
        "rf_grid3.best_params_"
      ],
      "execution_count": 0,
      "outputs": [
        {
          "output_type": "execute_result",
          "data": {
            "text/plain": [
              "{'bootstrap': False,\n",
              " 'class_weight': 'balanced',\n",
              " 'min_samples_leaf': 8,\n",
              " 'min_samples_split': 5,\n",
              " 'n_estimators': 11}"
            ]
          },
          "metadata": {
            "tags": []
          },
          "execution_count": 91
        }
      ]
    },
    {
      "cell_type": "code",
      "metadata": {
        "id": "MUgnZ1V9_UCs",
        "colab_type": "code",
        "outputId": "563eb334-cb3a-4292-f150-946fddc57f61",
        "colab": {
          "base_uri": "https://localhost:8080/",
          "height": 171
        }
      },
      "source": [
        "print(classification_report(y_test, rf_grid3.predict(X_test)))"
      ],
      "execution_count": 0,
      "outputs": [
        {
          "output_type": "stream",
          "text": [
            "              precision    recall  f1-score   support\n",
            "\n",
            "           0       0.91      0.76      0.83      1036\n",
            "           1       0.54      0.80      0.65       373\n",
            "\n",
            "    accuracy                           0.77      1409\n",
            "   macro avg       0.73      0.78      0.74      1409\n",
            "weighted avg       0.81      0.77      0.78      1409\n",
            "\n"
          ],
          "name": "stdout"
        }
      ]
    },
    {
      "cell_type": "markdown",
      "metadata": {
        "id": "ztPqmYUdtG83",
        "colab_type": "text"
      },
      "source": [
        "## 2) Adaboost"
      ]
    },
    {
      "cell_type": "code",
      "metadata": {
        "id": "-ihDjr6StKD4",
        "colab_type": "code",
        "colab": {}
      },
      "source": [
        "adaBoost = ensemble.AdaBoostClassifier(random_state = 42)"
      ],
      "execution_count": 0,
      "outputs": []
    },
    {
      "cell_type": "code",
      "metadata": {
        "id": "cHjZyM4d44Ax",
        "colab_type": "code",
        "outputId": "2e1eaa0c-02c7-4eef-a052-136db1f482b1",
        "colab": {
          "base_uri": "https://localhost:8080/",
          "height": 51
        }
      },
      "source": [
        "adaBoost.get_params"
      ],
      "execution_count": 0,
      "outputs": [
        {
          "output_type": "execute_result",
          "data": {
            "text/plain": [
              "<bound method BaseEstimator.get_params of AdaBoostClassifier(algorithm='SAMME.R', base_estimator=None, learning_rate=1.0,\n",
              "                   n_estimators=50, random_state=42)>"
            ]
          },
          "metadata": {
            "tags": []
          },
          "execution_count": 94
        }
      ]
    },
    {
      "cell_type": "markdown",
      "metadata": {
        "id": "vP7QQQZF4Z1K",
        "colab_type": "text"
      },
      "source": [
        "### Randomized Grid Search "
      ]
    },
    {
      "cell_type": "code",
      "metadata": {
        "id": "x53qSdJo4rWF",
        "colab_type": "code",
        "colab": {}
      },
      "source": [
        "# Parameters For Randomized Grid Search ONe:\n",
        "\n",
        "aboost_grid = {\n",
        "    'n_estimators': np.arange(30, 80, 1),\n",
        "    'algorithm': ['SAMME', 'SAMME.R'],\n",
        "    'learning_rate': [0.5, 0.6, 0.7, 0.8, 0.9, 1, 1.1, 1.2, 1.3, 1.4, 1.5],\n",
        "    'random_state': [42],\n",
        "}"
      ],
      "execution_count": 0,
      "outputs": []
    },
    {
      "cell_type": "code",
      "metadata": {
        "id": "anaPu5_UtLLM",
        "colab_type": "code",
        "colab": {}
      },
      "source": [
        "# Randomized Grid Search:\n",
        "\n",
        "aboost_1 = RandomizedSearchCV(estimator = adaBoost,\n",
        "                             param_distributions = aboost_grid,\n",
        "                             n_iter = 5,\n",
        "                             cv = 5,\n",
        "                             verbose = 2,\n",
        "                             random_state = 42,\n",
        "                             n_jobs = -1)\n"
      ],
      "execution_count": 0,
      "outputs": []
    },
    {
      "cell_type": "code",
      "metadata": {
        "id": "PGmlN0FStLOP",
        "colab_type": "code",
        "outputId": "cd1c0e45-fdc7-49bc-a58c-a9cc6a345b99",
        "colab": {
          "base_uri": "https://localhost:8080/",
          "height": 413
        }
      },
      "source": [
        "aboost_1.fit(X_train, y_train)"
      ],
      "execution_count": 0,
      "outputs": [
        {
          "output_type": "stream",
          "text": [
            "[Parallel(n_jobs=-1)]: Using backend LokyBackend with 2 concurrent workers.\n"
          ],
          "name": "stderr"
        },
        {
          "output_type": "stream",
          "text": [
            "Fitting 5 folds for each of 5 candidates, totalling 25 fits\n"
          ],
          "name": "stdout"
        },
        {
          "output_type": "stream",
          "text": [
            "[Parallel(n_jobs=-1)]: Done  25 out of  25 | elapsed:    3.8s finished\n",
            "/usr/local/lib/python3.6/dist-packages/sklearn/utils/validation.py:724: DataConversionWarning: A column-vector y was passed when a 1d array was expected. Please change the shape of y to (n_samples, ), for example using ravel().\n",
            "  y = column_or_1d(y, warn=True)\n"
          ],
          "name": "stderr"
        },
        {
          "output_type": "execute_result",
          "data": {
            "text/plain": [
              "RandomizedSearchCV(cv=5, error_score='raise-deprecating',\n",
              "                   estimator=AdaBoostClassifier(algorithm='SAMME.R',\n",
              "                                                base_estimator=None,\n",
              "                                                learning_rate=1.0,\n",
              "                                                n_estimators=50,\n",
              "                                                random_state=42),\n",
              "                   iid='warn', n_iter=5, n_jobs=-1,\n",
              "                   param_distributions={'algorithm': ['SAMME', 'SAMME.R'],\n",
              "                                        'learning_rate': [0.5, 0.6, 0.7, 0.8,\n",
              "                                                          0.9, 1, 1.1, 1.2, 1.3,\n",
              "                                                          1.4, 1.5],\n",
              "                                        'n_estimators': array([30, 31, 32, 33, 34, 35, 36, 37, 38, 39, 40, 41, 42, 43, 44, 45, 46,\n",
              "       47, 48, 49, 50, 51, 52, 53, 54, 55, 56, 57, 58, 59, 60, 61, 62, 63,\n",
              "       64, 65, 66, 67, 68, 69, 70, 71, 72, 73, 74, 75, 76, 77, 78, 79]),\n",
              "                                        'random_state': [42]},\n",
              "                   pre_dispatch='2*n_jobs', random_state=42, refit=True,\n",
              "                   return_train_score=False, scoring=None, verbose=2)"
            ]
          },
          "metadata": {
            "tags": []
          },
          "execution_count": 97
        }
      ]
    },
    {
      "cell_type": "code",
      "metadata": {
        "id": "WcCqKr3NtLSN",
        "colab_type": "code",
        "outputId": "d39fb21d-b5cf-4af1-d098-12ab0e7ba9ec",
        "colab": {
          "base_uri": "https://localhost:8080/",
          "height": 34
        }
      },
      "source": [
        "aboost_1.best_score_"
      ],
      "execution_count": 0,
      "outputs": [
        {
          "output_type": "execute_result",
          "data": {
            "text/plain": [
              "0.7959763313609467"
            ]
          },
          "metadata": {
            "tags": []
          },
          "execution_count": 98
        }
      ]
    },
    {
      "cell_type": "code",
      "metadata": {
        "id": "QdXc6vf_5tBi",
        "colab_type": "code",
        "outputId": "d798ae51-a0bf-498e-d369-2e5a7829ac00",
        "colab": {
          "base_uri": "https://localhost:8080/",
          "height": 85
        }
      },
      "source": [
        "aboost_1.best_params_"
      ],
      "execution_count": 0,
      "outputs": [
        {
          "output_type": "execute_result",
          "data": {
            "text/plain": [
              "{'algorithm': 'SAMME.R',\n",
              " 'learning_rate': 1.1,\n",
              " 'n_estimators': 40,\n",
              " 'random_state': 42}"
            ]
          },
          "metadata": {
            "tags": []
          },
          "execution_count": 99
        }
      ]
    },
    {
      "cell_type": "markdown",
      "metadata": {
        "id": "hilKROpI58-z",
        "colab_type": "text"
      },
      "source": [
        "### Grid Search"
      ]
    },
    {
      "cell_type": "code",
      "metadata": {
        "id": "rApBNzn_6BY5",
        "colab_type": "code",
        "colab": {}
      },
      "source": [
        "# Parameters For Grid Search in Adaboost\n",
        "\n",
        "aboost_grid2 = {\n",
        "    'n_estimators': np.arange(45, 51, 1),\n",
        "    'algorithm': ['SAMME', 'SAMME.R'],\n",
        "    'learning_rate': [1, 1.1, 1.2, 1.3],\n",
        "    'random_state': [42],\n",
        "}"
      ],
      "execution_count": 0,
      "outputs": []
    },
    {
      "cell_type": "code",
      "metadata": {
        "id": "zlaklHLg6EQK",
        "colab_type": "code",
        "colab": {}
      },
      "source": [
        "# Grid Search:\n",
        "\n",
        "aboost_2 = GridSearchCV(adaBoost, \n",
        "                        aboost_grid2,\n",
        "                        cv = 5,\n",
        "                        verbose = 1,\n",
        "                        n_jobs = -1)"
      ],
      "execution_count": 0,
      "outputs": []
    },
    {
      "cell_type": "code",
      "metadata": {
        "id": "tBlLChs46QZZ",
        "colab_type": "code",
        "outputId": "8db98d67-56c8-4d78-d8b7-90d53369d589",
        "colab": {
          "base_uri": "https://localhost:8080/",
          "height": 362
        }
      },
      "source": [
        "aboost_2.fit(X_train, y_train)"
      ],
      "execution_count": 0,
      "outputs": [
        {
          "output_type": "stream",
          "text": [
            "Fitting 5 folds for each of 48 candidates, totalling 240 fits\n"
          ],
          "name": "stdout"
        },
        {
          "output_type": "stream",
          "text": [
            "[Parallel(n_jobs=-1)]: Using backend LokyBackend with 2 concurrent workers.\n",
            "[Parallel(n_jobs=-1)]: Done  46 tasks      | elapsed:    5.3s\n",
            "[Parallel(n_jobs=-1)]: Done 196 tasks      | elapsed:   23.5s\n",
            "[Parallel(n_jobs=-1)]: Done 240 out of 240 | elapsed:   29.3s finished\n",
            "/usr/local/lib/python3.6/dist-packages/sklearn/utils/validation.py:724: DataConversionWarning: A column-vector y was passed when a 1d array was expected. Please change the shape of y to (n_samples, ), for example using ravel().\n",
            "  y = column_or_1d(y, warn=True)\n"
          ],
          "name": "stderr"
        },
        {
          "output_type": "execute_result",
          "data": {
            "text/plain": [
              "GridSearchCV(cv=5, error_score='raise-deprecating',\n",
              "             estimator=AdaBoostClassifier(algorithm='SAMME.R',\n",
              "                                          base_estimator=None,\n",
              "                                          learning_rate=1.0, n_estimators=50,\n",
              "                                          random_state=42),\n",
              "             iid='warn', n_jobs=-1,\n",
              "             param_grid={'algorithm': ['SAMME', 'SAMME.R'],\n",
              "                         'learning_rate': [1, 1.1, 1.2, 1.3],\n",
              "                         'n_estimators': array([45, 46, 47, 48, 49, 50]),\n",
              "                         'random_state': [42]},\n",
              "             pre_dispatch='2*n_jobs', refit=True, return_train_score=False,\n",
              "             scoring=None, verbose=1)"
            ]
          },
          "metadata": {
            "tags": []
          },
          "execution_count": 102
        }
      ]
    },
    {
      "cell_type": "code",
      "metadata": {
        "id": "p9kpK6Zt6VMs",
        "colab_type": "code",
        "outputId": "c7b7114e-5bba-426f-f19e-eb1bf3470607",
        "colab": {
          "base_uri": "https://localhost:8080/",
          "height": 34
        }
      },
      "source": [
        "aboost_2.best_score_"
      ],
      "execution_count": 0,
      "outputs": [
        {
          "output_type": "execute_result",
          "data": {
            "text/plain": [
              "0.7997633136094675"
            ]
          },
          "metadata": {
            "tags": []
          },
          "execution_count": 103
        }
      ]
    },
    {
      "cell_type": "code",
      "metadata": {
        "id": "GJ_87jfv6VZ-",
        "colab_type": "code",
        "outputId": "49062f9d-57ba-4012-9593-be819a703f03",
        "colab": {
          "base_uri": "https://localhost:8080/",
          "height": 85
        }
      },
      "source": [
        "aboost_2.best_params_"
      ],
      "execution_count": 0,
      "outputs": [
        {
          "output_type": "execute_result",
          "data": {
            "text/plain": [
              "{'algorithm': 'SAMME',\n",
              " 'learning_rate': 1.3,\n",
              " 'n_estimators': 49,\n",
              " 'random_state': 42}"
            ]
          },
          "metadata": {
            "tags": []
          },
          "execution_count": 104
        }
      ]
    },
    {
      "cell_type": "code",
      "metadata": {
        "id": "Jzcq4XXL7tEl",
        "colab_type": "code",
        "outputId": "98cd47c2-9fcc-41bc-8a11-1720fcb10e9d",
        "colab": {
          "base_uri": "https://localhost:8080/",
          "height": 171
        }
      },
      "source": [
        "print(classification_report(y_test, aboost_2.predict(X_test)))"
      ],
      "execution_count": 0,
      "outputs": [
        {
          "output_type": "stream",
          "text": [
            "              precision    recall  f1-score   support\n",
            "\n",
            "           0       0.85      0.90      0.87      1036\n",
            "           1       0.67      0.56      0.61       373\n",
            "\n",
            "    accuracy                           0.81      1409\n",
            "   macro avg       0.76      0.73      0.74      1409\n",
            "weighted avg       0.80      0.81      0.80      1409\n",
            "\n"
          ],
          "name": "stdout"
        }
      ]
    },
    {
      "cell_type": "markdown",
      "metadata": {
        "id": "hV-3hrQB9F_u",
        "colab_type": "text"
      },
      "source": [
        "## 3) Gradient Boosting"
      ]
    },
    {
      "cell_type": "code",
      "metadata": {
        "id": "f8yErFv4_eTR",
        "colab_type": "code",
        "colab": {}
      },
      "source": [
        "gradBoost = ensemble.GradientBoostingClassifier(verbose = 1, random_state = 42)"
      ],
      "execution_count": 0,
      "outputs": []
    },
    {
      "cell_type": "code",
      "metadata": {
        "id": "YsTUjMNfAf0S",
        "colab_type": "code",
        "outputId": "fca2cc64-3488-441a-8c9c-d94cd5db2531",
        "colab": {
          "base_uri": "https://localhost:8080/",
          "height": 188
        }
      },
      "source": [
        "gradBoost.get_params"
      ],
      "execution_count": 0,
      "outputs": [
        {
          "output_type": "execute_result",
          "data": {
            "text/plain": [
              "<bound method BaseEstimator.get_params of GradientBoostingClassifier(criterion='friedman_mse', init=None,\n",
              "                           learning_rate=0.1, loss='deviance', max_depth=3,\n",
              "                           max_features=None, max_leaf_nodes=None,\n",
              "                           min_impurity_decrease=0.0, min_impurity_split=None,\n",
              "                           min_samples_leaf=1, min_samples_split=2,\n",
              "                           min_weight_fraction_leaf=0.0, n_estimators=100,\n",
              "                           n_iter_no_change=None, presort='auto',\n",
              "                           random_state=42, subsample=1.0, tol=0.0001,\n",
              "                           validation_fraction=0.1, verbose=1,\n",
              "                           warm_start=False)>"
            ]
          },
          "metadata": {
            "tags": []
          },
          "execution_count": 107
        }
      ]
    },
    {
      "cell_type": "markdown",
      "metadata": {
        "id": "W6JT0A2MAiOn",
        "colab_type": "text"
      },
      "source": [
        "### Randomized Grid Search"
      ]
    },
    {
      "cell_type": "code",
      "metadata": {
        "id": "mTzXoqW7_m9r",
        "colab_type": "code",
        "colab": {}
      },
      "source": [
        "# Params for gradient boost:\n",
        "\n",
        "gboost_params = {\n",
        "    'n_estimators': np.arange(90, 150, 1),\n",
        "    'loss': ['deviance', 'exponential'],\n",
        "    'subsample': [0.5, 0.6, 0.7, 0.8, 0.9, 1.0],\n",
        "    'learning_rate': [0.7, 0.8, 0.9, 1, 1.1, 1.2, 1.3],\n",
        "    'min_samples_split': [2, 3, 4, 5, 10],\n",
        "    'min_samples_leaf': [4, 8, 9, 10],\n",
        "    'max_depth': np.arange(3, 10, 1),\n",
        "    'max_features': ['auto', 'log2', None]\n",
        "}"
      ],
      "execution_count": 0,
      "outputs": []
    },
    {
      "cell_type": "code",
      "metadata": {
        "id": "4zVUhUa7_est",
        "colab_type": "code",
        "colab": {}
      },
      "source": [
        "# Randomized Grid Search:\n",
        "\n",
        "gboost_model = RandomizedSearchCV(estimator = gradBoost,\n",
        "                             param_distributions = gboost_params,\n",
        "                             n_iter = 5,\n",
        "                             cv = 5,\n",
        "                             verbose = 2,\n",
        "                             random_state = 42,\n",
        "                             n_jobs = -1)\n"
      ],
      "execution_count": 0,
      "outputs": []
    },
    {
      "cell_type": "code",
      "metadata": {
        "id": "ms3U7mvO_ep1",
        "colab_type": "code",
        "outputId": "6cc72b6e-e387-4aed-a053-3963855ea406",
        "colab": {
          "base_uri": "https://localhost:8080/",
          "height": 857
        }
      },
      "source": [
        "gboost_model.fit(X_train, y_train)"
      ],
      "execution_count": 0,
      "outputs": [
        {
          "output_type": "stream",
          "text": [
            "Fitting 5 folds for each of 5 candidates, totalling 25 fits\n"
          ],
          "name": "stdout"
        },
        {
          "output_type": "stream",
          "text": [
            "[Parallel(n_jobs=-1)]: Using backend LokyBackend with 2 concurrent workers.\n",
            "[Parallel(n_jobs=-1)]: Done  25 out of  25 | elapsed:   13.1s finished\n",
            "/usr/local/lib/python3.6/dist-packages/sklearn/ensemble/gradient_boosting.py:1450: DataConversionWarning: A column-vector y was passed when a 1d array was expected. Please change the shape of y to (n_samples, ), for example using ravel().\n",
            "  y = column_or_1d(y, warn=True)\n"
          ],
          "name": "stderr"
        },
        {
          "output_type": "stream",
          "text": [
            "      Iter       Train Loss   Remaining Time \n",
            "         1           0.7301            0.27s\n",
            "         2           0.6983            0.25s\n",
            "         3           0.6757            0.24s\n",
            "         4           0.6628            0.24s\n",
            "         5           0.6513            0.23s\n",
            "         6           0.6453            0.23s\n",
            "         7           0.6407            0.22s\n",
            "         8           0.6326            0.22s\n",
            "         9           0.6249            0.22s\n",
            "        10           0.6174            0.21s\n",
            "        20           0.5637            0.18s\n",
            "        30           0.5127            0.16s\n",
            "        40           0.4682            0.13s\n",
            "        50           0.4305            0.11s\n",
            "        60           0.3963            0.08s\n",
            "        70           0.3652            0.06s\n",
            "        80           0.3339            0.03s\n",
            "        90           0.3054            0.01s\n"
          ],
          "name": "stdout"
        },
        {
          "output_type": "execute_result",
          "data": {
            "text/plain": [
              "RandomizedSearchCV(cv=5, error_score='raise-deprecating',\n",
              "                   estimator=GradientBoostingClassifier(criterion='friedman_mse',\n",
              "                                                        init=None,\n",
              "                                                        learning_rate=0.1,\n",
              "                                                        loss='deviance',\n",
              "                                                        max_depth=3,\n",
              "                                                        max_features=None,\n",
              "                                                        max_leaf_nodes=None,\n",
              "                                                        min_impurity_decrease=0.0,\n",
              "                                                        min_impurity_split=None,\n",
              "                                                        min_samples_leaf=1,\n",
              "                                                        min_samples_split=2,\n",
              "                                                        min_weight_fraction_leaf=0.0,\n",
              "                                                        n_estimators=100,\n",
              "                                                        n_i...\n",
              "                                        'n_estimators': array([ 90,  91,  92,  93,  94,  95,  96,  97,  98,  99, 100, 101, 102,\n",
              "       103, 104, 105, 106, 107, 108, 109, 110, 111, 112, 113, 114, 115,\n",
              "       116, 117, 118, 119, 120, 121, 122, 123, 124, 125, 126, 127, 128,\n",
              "       129, 130, 131, 132, 133, 134, 135, 136, 137, 138, 139, 140, 141,\n",
              "       142, 143, 144, 145, 146, 147, 148, 149]),\n",
              "                                        'subsample': [0.5, 0.6, 0.7, 0.8, 0.9,\n",
              "                                                      1.0]},\n",
              "                   pre_dispatch='2*n_jobs', random_state=42, refit=True,\n",
              "                   return_train_score=False, scoring=None, verbose=2)"
            ]
          },
          "metadata": {
            "tags": []
          },
          "execution_count": 110
        }
      ]
    },
    {
      "cell_type": "code",
      "metadata": {
        "id": "uMotrhNL_emk",
        "colab_type": "code",
        "outputId": "5b28315f-4e0c-4c32-d0ef-3eb717dc5b74",
        "colab": {
          "base_uri": "https://localhost:8080/",
          "height": 34
        }
      },
      "source": [
        "gboost_model.best_score_"
      ],
      "execution_count": 0,
      "outputs": [
        {
          "output_type": "execute_result",
          "data": {
            "text/plain": [
              "0.7502958579881657"
            ]
          },
          "metadata": {
            "tags": []
          },
          "execution_count": 111
        }
      ]
    },
    {
      "cell_type": "code",
      "metadata": {
        "id": "tUn_1_Dj_ekV",
        "colab_type": "code",
        "outputId": "0bcf5cf1-11ab-4496-afd3-60d284921072",
        "colab": {
          "base_uri": "https://localhost:8080/",
          "height": 154
        }
      },
      "source": [
        "gboost_model.best_params_"
      ],
      "execution_count": 0,
      "outputs": [
        {
          "output_type": "execute_result",
          "data": {
            "text/plain": [
              "{'learning_rate': 1.2,\n",
              " 'loss': 'exponential',\n",
              " 'max_depth': 4,\n",
              " 'max_features': 'log2',\n",
              " 'min_samples_leaf': 4,\n",
              " 'min_samples_split': 4,\n",
              " 'n_estimators': 93,\n",
              " 'subsample': 1.0}"
            ]
          },
          "metadata": {
            "tags": []
          },
          "execution_count": 112
        }
      ]
    },
    {
      "cell_type": "markdown",
      "metadata": {
        "id": "G3stsuZCEavU",
        "colab_type": "text"
      },
      "source": [
        "### Grid Search"
      ]
    },
    {
      "cell_type": "code",
      "metadata": {
        "id": "dVJHWTa0_egR",
        "colab_type": "code",
        "colab": {}
      },
      "source": [
        "# Params for gradient boost:\n",
        "# Had to cut down on parameter choices to reduce runtime.\n",
        "\n",
        "gboost_params2 = {\n",
        "    'n_estimators': np.arange(90, 96, 1),\n",
        "    'loss': ['exponential'],\n",
        "    'min_samples_leaf': [4, 5],\n",
        "    'max_depth': np.arange(3, 6, 1),\n",
        "    'learning_rate': [1, 1.1, 1.2],\n",
        "    'subsample': [1.0]\n",
        "}"
      ],
      "execution_count": 0,
      "outputs": []
    },
    {
      "cell_type": "code",
      "metadata": {
        "id": "Iz6MGyUq_edS",
        "colab_type": "code",
        "colab": {}
      },
      "source": [
        "# Grid Search:\n",
        "\n",
        "gboost_model2 = GridSearchCV(gradBoost, \n",
        "                        gboost_params2,\n",
        "                        cv = 5,\n",
        "                        verbose = 1,\n",
        "                        n_jobs = -1)\n"
      ],
      "execution_count": 0,
      "outputs": []
    },
    {
      "cell_type": "code",
      "metadata": {
        "id": "zX4ZvUbHE_IW",
        "colab_type": "code",
        "outputId": "92cbfeee-c875-4803-bac7-b722faf60b12",
        "colab": {
          "base_uri": "https://localhost:8080/",
          "height": 908
        }
      },
      "source": [
        "gboost_model2.fit(X_train, y_train)"
      ],
      "execution_count": 0,
      "outputs": [
        {
          "output_type": "stream",
          "text": [
            "Fitting 5 folds for each of 108 candidates, totalling 540 fits\n"
          ],
          "name": "stdout"
        },
        {
          "output_type": "stream",
          "text": [
            "[Parallel(n_jobs=-1)]: Using backend LokyBackend with 2 concurrent workers.\n",
            "[Parallel(n_jobs=-1)]: Done  46 tasks      | elapsed:   10.2s\n",
            "[Parallel(n_jobs=-1)]: Done 196 tasks      | elapsed:  1.0min\n",
            "[Parallel(n_jobs=-1)]: Done 446 tasks      | elapsed:  2.3min\n",
            "[Parallel(n_jobs=-1)]: Done 540 out of 540 | elapsed:  2.9min finished\n",
            "/usr/local/lib/python3.6/dist-packages/sklearn/ensemble/gradient_boosting.py:1450: DataConversionWarning: A column-vector y was passed when a 1d array was expected. Please change the shape of y to (n_samples, ), for example using ravel().\n",
            "  y = column_or_1d(y, warn=True)\n"
          ],
          "name": "stderr"
        },
        {
          "output_type": "stream",
          "text": [
            "      Iter       Train Loss   Remaining Time \n",
            "         1           0.7205            0.40s\n",
            "         2           0.6870            0.36s\n",
            "         3           0.6710            0.36s\n",
            "         4           0.6611            0.33s\n",
            "         5           0.6569            0.32s\n",
            "         6           0.6499            0.32s\n",
            "         7           0.6470            0.31s\n",
            "         8           0.6417            0.31s\n",
            "         9           0.6368            0.31s\n",
            "        10           0.6310            0.30s\n",
            "        20           0.5893            0.25s\n",
            "        30           0.5582            0.21s\n",
            "        40           0.5291            0.17s\n",
            "        50           0.5057            0.14s\n",
            "        60           0.4821            0.10s\n",
            "        70           0.4597            0.07s\n",
            "        80           0.4408            0.04s\n",
            "        90           0.4205            0.00s\n"
          ],
          "name": "stdout"
        },
        {
          "output_type": "execute_result",
          "data": {
            "text/plain": [
              "GridSearchCV(cv=5, error_score='raise-deprecating',\n",
              "             estimator=GradientBoostingClassifier(criterion='friedman_mse',\n",
              "                                                  init=None, learning_rate=0.1,\n",
              "                                                  loss='deviance', max_depth=3,\n",
              "                                                  max_features=None,\n",
              "                                                  max_leaf_nodes=None,\n",
              "                                                  min_impurity_decrease=0.0,\n",
              "                                                  min_impurity_split=None,\n",
              "                                                  min_samples_leaf=1,\n",
              "                                                  min_samples_split=2,\n",
              "                                                  min_weight_fraction_leaf=0.0,\n",
              "                                                  n_estimators=100,\n",
              "                                                  n_iter_no...\n",
              "                                                  subsample=1.0, tol=0.0001,\n",
              "                                                  validation_fraction=0.1,\n",
              "                                                  verbose=1, warm_start=False),\n",
              "             iid='warn', n_jobs=-1,\n",
              "             param_grid={'learning_rate': [1, 1.1, 1.2],\n",
              "                         'loss': ['exponential'], 'max_depth': array([3, 4, 5]),\n",
              "                         'min_samples_leaf': [4, 5],\n",
              "                         'n_estimators': array([90, 91, 92, 93, 94, 95]),\n",
              "                         'subsample': [1.0]},\n",
              "             pre_dispatch='2*n_jobs', refit=True, return_train_score=False,\n",
              "             scoring=None, verbose=1)"
            ]
          },
          "metadata": {
            "tags": []
          },
          "execution_count": 115
        }
      ]
    },
    {
      "cell_type": "markdown",
      "metadata": {
        "id": "oFwFfYfLLci5",
        "colab_type": "text"
      },
      "source": [
        "Running this grid search with Gradient Boosting took a long time. I did not track the time but I'd say a good 5 to 10 minutes. "
      ]
    },
    {
      "cell_type": "code",
      "metadata": {
        "id": "rekFIDFLL32C",
        "colab_type": "code",
        "outputId": "2ab433d4-601e-456e-b6aa-a2035e58f15c",
        "colab": {
          "base_uri": "https://localhost:8080/",
          "height": 34
        }
      },
      "source": [
        "gboost_model2.best_score_"
      ],
      "execution_count": 0,
      "outputs": [
        {
          "output_type": "execute_result",
          "data": {
            "text/plain": [
              "0.7649704142011834"
            ]
          },
          "metadata": {
            "tags": []
          },
          "execution_count": 116
        }
      ]
    },
    {
      "cell_type": "code",
      "metadata": {
        "id": "aJQNCP9pL8E-",
        "colab_type": "code",
        "outputId": "075fc30c-1e85-4fa7-b606-d6dee52a52f6",
        "colab": {
          "base_uri": "https://localhost:8080/",
          "height": 119
        }
      },
      "source": [
        "gboost_model2.best_params_"
      ],
      "execution_count": 0,
      "outputs": [
        {
          "output_type": "execute_result",
          "data": {
            "text/plain": [
              "{'learning_rate': 1,\n",
              " 'loss': 'exponential',\n",
              " 'max_depth': 3,\n",
              " 'min_samples_leaf': 5,\n",
              " 'n_estimators': 90,\n",
              " 'subsample': 1.0}"
            ]
          },
          "metadata": {
            "tags": []
          },
          "execution_count": 117
        }
      ]
    },
    {
      "cell_type": "code",
      "metadata": {
        "id": "dl10oD3aL8OP",
        "colab_type": "code",
        "outputId": "305143e1-5217-45a6-8395-73f5fb4159a6",
        "colab": {
          "base_uri": "https://localhost:8080/",
          "height": 171
        }
      },
      "source": [
        "print(classification_report(y_test, gboost_model2.predict(X_test)))"
      ],
      "execution_count": 0,
      "outputs": [
        {
          "output_type": "stream",
          "text": [
            "              precision    recall  f1-score   support\n",
            "\n",
            "           0       0.83      0.86      0.85      1036\n",
            "           1       0.57      0.51      0.54       373\n",
            "\n",
            "    accuracy                           0.77      1409\n",
            "   macro avg       0.70      0.69      0.69      1409\n",
            "weighted avg       0.76      0.77      0.76      1409\n",
            "\n"
          ],
          "name": "stdout"
        }
      ]
    },
    {
      "cell_type": "markdown",
      "metadata": {
        "id": "v8_s9Xl0tLm8",
        "colab_type": "text"
      },
      "source": [
        "## 4) Xtreme Gradient Boosting (XGBoost)"
      ]
    },
    {
      "cell_type": "markdown",
      "metadata": {
        "id": "5P1iAmTbdLzJ",
        "colab_type": "text"
      },
      "source": [
        "There are three boosters available.\n",
        "\n",
        "* gbtree\n",
        "* gbdart\n",
        "* gblinear\n",
        "\n",
        "I am going to try each of the three with Randomized Grid Search and Grid Search.\n",
        "\n",
        "---\n",
        "\n",
        "Link: https://xgboost.readthedocs.io/en/latest/parameter.html"
      ]
    },
    {
      "cell_type": "code",
      "metadata": {
        "id": "G27s26sZtPol",
        "colab_type": "code",
        "colab": {}
      },
      "source": [
        "xgboost = xgb.XGBClassifier(random_state = 42)"
      ],
      "execution_count": 0,
      "outputs": []
    },
    {
      "cell_type": "code",
      "metadata": {
        "id": "h-eqaKG-fHdE",
        "colab_type": "code",
        "outputId": "3ab7309a-5095-4b10-9614-d1dc9f16b893",
        "colab": {
          "base_uri": "https://localhost:8080/",
          "height": 136
        }
      },
      "source": [
        "xgboost.get_params"
      ],
      "execution_count": 0,
      "outputs": [
        {
          "output_type": "execute_result",
          "data": {
            "text/plain": [
              "<bound method XGBModel.get_params of XGBClassifier(base_score=0.5, booster='gbtree', colsample_bylevel=1,\n",
              "              colsample_bynode=1, colsample_bytree=1, gamma=0,\n",
              "              learning_rate=0.1, max_delta_step=0, max_depth=3,\n",
              "              min_child_weight=1, missing=None, n_estimators=100, n_jobs=1,\n",
              "              nthread=None, objective='binary:logistic', random_state=42,\n",
              "              reg_alpha=0, reg_lambda=1, scale_pos_weight=1, seed=None,\n",
              "              silent=None, subsample=1, verbosity=1)>"
            ]
          },
          "metadata": {
            "tags": []
          },
          "execution_count": 120
        }
      ]
    },
    {
      "cell_type": "markdown",
      "metadata": {
        "id": "X3t2IkXrdWj9",
        "colab_type": "text"
      },
      "source": [
        "### GBTree"
      ]
    },
    {
      "cell_type": "markdown",
      "metadata": {
        "id": "CDA53R0kFtQX",
        "colab_type": "text"
      },
      "source": [
        "#### Randomized Grid Search"
      ]
    },
    {
      "cell_type": "code",
      "metadata": {
        "id": "SLnYeT05tQHr",
        "colab_type": "code",
        "colab": {}
      },
      "source": [
        "# Params for gradient boost:\n",
        "\n",
        "xg_tree_params = {\n",
        "    'booster': ['gbtree'],\n",
        "    'learning_rate': [0.2, 0.3, 0.4, 0.5, 0.6, 0.7, 0.8, 0.9, 1.0],\n",
        "    'max_depth': np.arange(6, 12, 1),\n",
        "    'reg_lambda': np.arange(0.5, 2, 0.1),\n",
        "    'reg_alpha': np.arange(0.5, 2, 0.1),\n",
        "    'n_estimators': np.arange(80, 120, 1),\n",
        "    'min_split_loss': np.arange(1, 50, 1)\n",
        "}"
      ],
      "execution_count": 0,
      "outputs": []
    },
    {
      "cell_type": "code",
      "metadata": {
        "id": "vbtdwV5qtQKf",
        "colab_type": "code",
        "colab": {}
      },
      "source": [
        "# Randomized Grid Search:\n",
        "\n",
        "xgBoost_tree = RandomizedSearchCV(estimator = xgboost,\n",
        "                             param_distributions = xg_tree_params,\n",
        "                             n_iter = 10,\n",
        "                             cv = 5,\n",
        "                             verbose = 2,\n",
        "                             random_state = 42,\n",
        "                             n_jobs = -1)\n"
      ],
      "execution_count": 0,
      "outputs": []
    },
    {
      "cell_type": "code",
      "metadata": {
        "id": "QPBaeBRLF7LQ",
        "colab_type": "code",
        "outputId": "62a152d1-d1ce-4aa0-8a14-eb6b30e62dc9",
        "colab": {
          "base_uri": "https://localhost:8080/",
          "height": 550
        }
      },
      "source": [
        "xgBoost_tree.fit(X_train, y_train)"
      ],
      "execution_count": 0,
      "outputs": [
        {
          "output_type": "stream",
          "text": [
            "Fitting 5 folds for each of 10 candidates, totalling 50 fits\n"
          ],
          "name": "stdout"
        },
        {
          "output_type": "stream",
          "text": [
            "[Parallel(n_jobs=-1)]: Using backend LokyBackend with 2 concurrent workers.\n",
            "/usr/local/lib/python3.6/dist-packages/joblib/externals/loky/process_executor.py:706: UserWarning: A worker stopped while some jobs were given to the executor. This can be caused by a too short worker timeout or by a memory leak.\n",
            "  \"timeout or by a memory leak.\", UserWarning\n",
            "[Parallel(n_jobs=-1)]: Done  37 tasks      | elapsed:   22.8s\n",
            "[Parallel(n_jobs=-1)]: Done  50 out of  50 | elapsed:   29.7s finished\n",
            "/usr/local/lib/python3.6/dist-packages/sklearn/preprocessing/label.py:219: DataConversionWarning: A column-vector y was passed when a 1d array was expected. Please change the shape of y to (n_samples, ), for example using ravel().\n",
            "  y = column_or_1d(y, warn=True)\n",
            "/usr/local/lib/python3.6/dist-packages/sklearn/preprocessing/label.py:252: DataConversionWarning: A column-vector y was passed when a 1d array was expected. Please change the shape of y to (n_samples, ), for example using ravel().\n",
            "  y = column_or_1d(y, warn=True)\n"
          ],
          "name": "stderr"
        },
        {
          "output_type": "execute_result",
          "data": {
            "text/plain": [
              "RandomizedSearchCV(cv=5, error_score='raise-deprecating',\n",
              "                   estimator=XGBClassifier(base_score=0.5, booster='gbtree',\n",
              "                                           colsample_bylevel=1,\n",
              "                                           colsample_bynode=1,\n",
              "                                           colsample_bytree=1, gamma=0,\n",
              "                                           learning_rate=0.1, max_delta_step=0,\n",
              "                                           max_depth=3, min_child_weight=1,\n",
              "                                           missing=None, n_estimators=100,\n",
              "                                           n_jobs=1, nthread=None,\n",
              "                                           objective='binary:logistic',\n",
              "                                           random_state=42, reg_alpha=...\n",
              "        93,  94,  95,  96,  97,  98,  99, 100, 101, 102, 103, 104, 105,\n",
              "       106, 107, 108, 109, 110, 111, 112, 113, 114, 115, 116, 117, 118,\n",
              "       119]),\n",
              "                                        'reg_alpha': array([0.5, 0.6, 0.7, 0.8, 0.9, 1. , 1.1, 1.2, 1.3, 1.4, 1.5, 1.6, 1.7,\n",
              "       1.8, 1.9]),\n",
              "                                        'reg_lambda': array([0.5, 0.6, 0.7, 0.8, 0.9, 1. , 1.1, 1.2, 1.3, 1.4, 1.5, 1.6, 1.7,\n",
              "       1.8, 1.9])},\n",
              "                   pre_dispatch='2*n_jobs', random_state=42, refit=True,\n",
              "                   return_train_score=False, scoring=None, verbose=2)"
            ]
          },
          "metadata": {
            "tags": []
          },
          "execution_count": 123
        }
      ]
    },
    {
      "cell_type": "code",
      "metadata": {
        "id": "IrMBkP4BF7Un",
        "colab_type": "code",
        "outputId": "da296192-c8ed-4338-eccb-89668703fb53",
        "colab": {
          "base_uri": "https://localhost:8080/",
          "height": 34
        }
      },
      "source": [
        "xgBoost_tree.best_score_"
      ],
      "execution_count": 0,
      "outputs": [
        {
          "output_type": "execute_result",
          "data": {
            "text/plain": [
              "0.7978698224852071"
            ]
          },
          "metadata": {
            "tags": []
          },
          "execution_count": 124
        }
      ]
    },
    {
      "cell_type": "code",
      "metadata": {
        "id": "88Piiep3iQXq",
        "colab_type": "code",
        "outputId": "dd124e99-1155-4486-b711-c49e548f00ee",
        "colab": {
          "base_uri": "https://localhost:8080/",
          "height": 136
        }
      },
      "source": [
        "xgBoost_tree.best_params_"
      ],
      "execution_count": 0,
      "outputs": [
        {
          "output_type": "execute_result",
          "data": {
            "text/plain": [
              "{'booster': 'gbtree',\n",
              " 'learning_rate': 1.0,\n",
              " 'max_depth': 6,\n",
              " 'min_split_loss': 10,\n",
              " 'n_estimators': 83,\n",
              " 'reg_alpha': 0.5,\n",
              " 'reg_lambda': 1.6999999999999997}"
            ]
          },
          "metadata": {
            "tags": []
          },
          "execution_count": 125
        }
      ]
    },
    {
      "cell_type": "markdown",
      "metadata": {
        "id": "dpW4GHXQF6oh",
        "colab_type": "text"
      },
      "source": [
        "#### Grid Search"
      ]
    },
    {
      "cell_type": "code",
      "metadata": {
        "id": "Xhw5Nh5qGDN8",
        "colab_type": "code",
        "colab": {}
      },
      "source": [
        "# Params for gradient boost:\n",
        "\n",
        "xg_tree_params2 = {\n",
        "    'booster': ['gbtree'],\n",
        "    'learning_rate': [0.9, 1.0],\n",
        "    'max_depth': [6],\n",
        "    'reg_lambda': [1.6, 1.7],\n",
        "    'reg_alpha': [0.5],\n",
        "    'n_estimators': np.arange(80, 86, 1),\n",
        "    'min_split_loss': [10]\n",
        "}"
      ],
      "execution_count": 0,
      "outputs": []
    },
    {
      "cell_type": "code",
      "metadata": {
        "id": "GEsjL_LCGDan",
        "colab_type": "code",
        "colab": {}
      },
      "source": [
        "# Grid Search:\n",
        "\n",
        "xgBoost_tree2 = GridSearchCV(xgboost, \n",
        "                        xg_tree_params2,\n",
        "                        cv = 5,\n",
        "                        verbose = 1,\n",
        "                        n_jobs = -1)\n"
      ],
      "execution_count": 0,
      "outputs": []
    },
    {
      "cell_type": "code",
      "metadata": {
        "id": "EWOIEP2uGDf6",
        "colab_type": "code",
        "outputId": "c9496d53-8e31-4f0e-f1a2-89cd660ab65b",
        "colab": {
          "base_uri": "https://localhost:8080/",
          "height": 481
        }
      },
      "source": [
        "xgBoost_tree2.fit(X_train, y_train)"
      ],
      "execution_count": 0,
      "outputs": [
        {
          "output_type": "stream",
          "text": [
            "Fitting 5 folds for each of 24 candidates, totalling 120 fits\n"
          ],
          "name": "stdout"
        },
        {
          "output_type": "stream",
          "text": [
            "[Parallel(n_jobs=-1)]: Using backend LokyBackend with 2 concurrent workers.\n",
            "[Parallel(n_jobs=-1)]: Done  46 tasks      | elapsed:   12.4s\n",
            "[Parallel(n_jobs=-1)]: Done 120 out of 120 | elapsed:   32.3s finished\n",
            "/usr/local/lib/python3.6/dist-packages/sklearn/preprocessing/label.py:219: DataConversionWarning: A column-vector y was passed when a 1d array was expected. Please change the shape of y to (n_samples, ), for example using ravel().\n",
            "  y = column_or_1d(y, warn=True)\n",
            "/usr/local/lib/python3.6/dist-packages/sklearn/preprocessing/label.py:252: DataConversionWarning: A column-vector y was passed when a 1d array was expected. Please change the shape of y to (n_samples, ), for example using ravel().\n",
            "  y = column_or_1d(y, warn=True)\n"
          ],
          "name": "stderr"
        },
        {
          "output_type": "execute_result",
          "data": {
            "text/plain": [
              "GridSearchCV(cv=5, error_score='raise-deprecating',\n",
              "             estimator=XGBClassifier(base_score=0.5, booster='gbtree',\n",
              "                                     colsample_bylevel=1, colsample_bynode=1,\n",
              "                                     colsample_bytree=1, gamma=0,\n",
              "                                     learning_rate=0.1, max_delta_step=0,\n",
              "                                     max_depth=3, min_child_weight=1,\n",
              "                                     missing=None, n_estimators=100, n_jobs=1,\n",
              "                                     nthread=None, objective='binary:logistic',\n",
              "                                     random_state=42, reg_alpha=0, reg_...\n",
              "                                     scale_pos_weight=1, seed=None, silent=None,\n",
              "                                     subsample=1, verbosity=1),\n",
              "             iid='warn', n_jobs=-1,\n",
              "             param_grid={'booster': ['gbtree'], 'learning_rate': [0.9, 1.0],\n",
              "                         'max_depth': [6], 'min_split_loss': [10],\n",
              "                         'n_estimators': array([80, 81, 82, 83, 84, 85]),\n",
              "                         'reg_alpha': [0.5], 'reg_lambda': [1.6, 1.7]},\n",
              "             pre_dispatch='2*n_jobs', refit=True, return_train_score=False,\n",
              "             scoring=None, verbose=1)"
            ]
          },
          "metadata": {
            "tags": []
          },
          "execution_count": 128
        }
      ]
    },
    {
      "cell_type": "code",
      "metadata": {
        "id": "3uWnmlhCGDXC",
        "colab_type": "code",
        "outputId": "c1c3939a-4fc0-46b7-b7d2-dd9efe3692fd",
        "colab": {
          "base_uri": "https://localhost:8080/",
          "height": 34
        }
      },
      "source": [
        "xgBoost_tree2.best_score_"
      ],
      "execution_count": 0,
      "outputs": [
        {
          "output_type": "execute_result",
          "data": {
            "text/plain": [
              "0.7981065088757396"
            ]
          },
          "metadata": {
            "tags": []
          },
          "execution_count": 129
        }
      ]
    },
    {
      "cell_type": "code",
      "metadata": {
        "id": "5vD797oKqcg5",
        "colab_type": "code",
        "outputId": "4940878d-9df2-4a49-e2f2-d44cb4e6044e",
        "colab": {
          "base_uri": "https://localhost:8080/",
          "height": 136
        }
      },
      "source": [
        "xgBoost_tree2.best_params_"
      ],
      "execution_count": 0,
      "outputs": [
        {
          "output_type": "execute_result",
          "data": {
            "text/plain": [
              "{'booster': 'gbtree',\n",
              " 'learning_rate': 0.9,\n",
              " 'max_depth': 6,\n",
              " 'min_split_loss': 10,\n",
              " 'n_estimators': 80,\n",
              " 'reg_alpha': 0.5,\n",
              " 'reg_lambda': 1.6}"
            ]
          },
          "metadata": {
            "tags": []
          },
          "execution_count": 130
        }
      ]
    },
    {
      "cell_type": "markdown",
      "metadata": {
        "id": "DkDEeSPrnfgD",
        "colab_type": "text"
      },
      "source": [
        "### Dart Booster"
      ]
    },
    {
      "cell_type": "code",
      "metadata": {
        "id": "i8vNW5WxoKoU",
        "colab_type": "code",
        "outputId": "a450a7dd-0949-4a20-af41-24da2c8ad2d9",
        "colab": {
          "base_uri": "https://localhost:8080/",
          "height": 136
        }
      },
      "source": [
        "xgb.XGBClassifier(random_state = 42, booster = 'dart')"
      ],
      "execution_count": 0,
      "outputs": [
        {
          "output_type": "execute_result",
          "data": {
            "text/plain": [
              "XGBClassifier(base_score=0.5, booster='dart', colsample_bylevel=1,\n",
              "              colsample_bynode=1, colsample_bytree=1, gamma=0,\n",
              "              learning_rate=0.1, max_delta_step=0, max_depth=3,\n",
              "              min_child_weight=1, missing=None, n_estimators=100, n_jobs=1,\n",
              "              nthread=None, objective='binary:logistic', random_state=42,\n",
              "              reg_alpha=0, reg_lambda=1, scale_pos_weight=1, seed=None,\n",
              "              silent=None, subsample=1, verbosity=1)"
            ]
          },
          "metadata": {
            "tags": []
          },
          "execution_count": 131
        }
      ]
    },
    {
      "cell_type": "markdown",
      "metadata": {
        "id": "GepeB51Nr_yC",
        "colab_type": "text"
      },
      "source": [
        "#### Randomized Grid Search"
      ]
    },
    {
      "cell_type": "code",
      "metadata": {
        "id": "FGSnIFLKnmAZ",
        "colab_type": "code",
        "colab": {}
      },
      "source": [
        "# Params for gradient boost:\n",
        "\n",
        "xg_dart_params = {\n",
        "    'booster': ['dart'],\n",
        "    'sample_type': ['uniform', 'weighted'],\n",
        "    'normalize_type': ['tree', 'forest'],\n",
        "    'rate_drop': np.arange(0, 1.1, 0.1),\n",
        "    'skip_drop': np.arange(0, 1.1, 0.1),\n",
        "    'learning_rate': [0.2, 0.3, 0.4, 0.5, 0.6, 0.7, 0.8, 0.9, 1.0],\n",
        "    'max_depth': np.arange(6, 12, 1),\n",
        "    'reg_lambda': np.arange(0.5, 2, 0.1),\n",
        "    'reg_alpha': np.arange(0.5, 2, 0.1),\n",
        "    'n_estimators': np.arange(80, 120, 1),\n",
        "    'min_split_loss': np.arange(1, 50, 1)\n",
        "}"
      ],
      "execution_count": 0,
      "outputs": []
    },
    {
      "cell_type": "code",
      "metadata": {
        "id": "a-YukWDNpJPd",
        "colab_type": "code",
        "colab": {}
      },
      "source": [
        "# Randomized Grid Search:\n",
        "\n",
        "xgBoost_dart = RandomizedSearchCV(estimator = xgboost,\n",
        "                             param_distributions = xg_dart_params,\n",
        "                             n_iter = 10,\n",
        "                             cv = 5,\n",
        "                             verbose = 2,\n",
        "                             random_state = 42,\n",
        "                             n_jobs = -1)\n"
      ],
      "execution_count": 0,
      "outputs": []
    },
    {
      "cell_type": "code",
      "metadata": {
        "id": "ruXE9kr8qzST",
        "colab_type": "code",
        "outputId": "5bdda3cf-32d0-4f8c-8a9d-474d79a61c96",
        "colab": {
          "base_uri": "https://localhost:8080/",
          "height": 498
        }
      },
      "source": [
        "xgBoost_dart.fit(X_train, y_train)"
      ],
      "execution_count": 0,
      "outputs": [
        {
          "output_type": "stream",
          "text": [
            "Fitting 5 folds for each of 10 candidates, totalling 50 fits\n"
          ],
          "name": "stdout"
        },
        {
          "output_type": "stream",
          "text": [
            "[Parallel(n_jobs=-1)]: Using backend LokyBackend with 2 concurrent workers.\n",
            "[Parallel(n_jobs=-1)]: Done  37 tasks      | elapsed:   25.4s\n",
            "[Parallel(n_jobs=-1)]: Done  50 out of  50 | elapsed:   33.8s finished\n",
            "/usr/local/lib/python3.6/dist-packages/sklearn/preprocessing/label.py:219: DataConversionWarning: A column-vector y was passed when a 1d array was expected. Please change the shape of y to (n_samples, ), for example using ravel().\n",
            "  y = column_or_1d(y, warn=True)\n",
            "/usr/local/lib/python3.6/dist-packages/sklearn/preprocessing/label.py:252: DataConversionWarning: A column-vector y was passed when a 1d array was expected. Please change the shape of y to (n_samples, ), for example using ravel().\n",
            "  y = column_or_1d(y, warn=True)\n"
          ],
          "name": "stderr"
        },
        {
          "output_type": "execute_result",
          "data": {
            "text/plain": [
              "RandomizedSearchCV(cv=5, error_score='raise-deprecating',\n",
              "                   estimator=XGBClassifier(base_score=0.5, booster='gbtree',\n",
              "                                           colsample_bylevel=1,\n",
              "                                           colsample_bynode=1,\n",
              "                                           colsample_bytree=1, gamma=0,\n",
              "                                           learning_rate=0.1, max_delta_step=0,\n",
              "                                           max_depth=3, min_child_weight=1,\n",
              "                                           missing=None, n_estimators=100,\n",
              "                                           n_jobs=1, nthread=None,\n",
              "                                           objective='binary:logistic',\n",
              "                                           random_state=42, reg_alpha=...\n",
              "                                        'reg_alpha': array([0.5, 0.6, 0.7, 0.8, 0.9, 1. , 1.1, 1.2, 1.3, 1.4, 1.5, 1.6, 1.7,\n",
              "       1.8, 1.9]),\n",
              "                                        'reg_lambda': array([0.5, 0.6, 0.7, 0.8, 0.9, 1. , 1.1, 1.2, 1.3, 1.4, 1.5, 1.6, 1.7,\n",
              "       1.8, 1.9]),\n",
              "                                        'sample_type': ['uniform', 'weighted'],\n",
              "                                        'skip_drop': array([0. , 0.1, 0.2, 0.3, 0.4, 0.5, 0.6, 0.7, 0.8, 0.9, 1. ])},\n",
              "                   pre_dispatch='2*n_jobs', random_state=42, refit=True,\n",
              "                   return_train_score=False, scoring=None, verbose=2)"
            ]
          },
          "metadata": {
            "tags": []
          },
          "execution_count": 134
        }
      ]
    },
    {
      "cell_type": "code",
      "metadata": {
        "id": "EiY58W7Wq21-",
        "colab_type": "code",
        "outputId": "52e04b28-d5ef-4db7-d167-18d43d9b0e55",
        "colab": {
          "base_uri": "https://localhost:8080/",
          "height": 34
        }
      },
      "source": [
        "xgBoost_dart.best_score_"
      ],
      "execution_count": 0,
      "outputs": [
        {
          "output_type": "execute_result",
          "data": {
            "text/plain": [
              "0.8"
            ]
          },
          "metadata": {
            "tags": []
          },
          "execution_count": 135
        }
      ]
    },
    {
      "cell_type": "code",
      "metadata": {
        "id": "XNfgEo52q3Gg",
        "colab_type": "code",
        "outputId": "f41232f6-6aad-4272-90cd-e7157536fc2e",
        "colab": {
          "base_uri": "https://localhost:8080/",
          "height": 205
        }
      },
      "source": [
        "xgBoost_dart.best_params_"
      ],
      "execution_count": 0,
      "outputs": [
        {
          "output_type": "execute_result",
          "data": {
            "text/plain": [
              "{'booster': 'dart',\n",
              " 'learning_rate': 1.0,\n",
              " 'max_depth': 7,\n",
              " 'min_split_loss': 11,\n",
              " 'n_estimators': 102,\n",
              " 'normalize_type': 'forest',\n",
              " 'rate_drop': 0.1,\n",
              " 'reg_alpha': 0.6,\n",
              " 'reg_lambda': 1.1999999999999997,\n",
              " 'sample_type': 'weighted',\n",
              " 'skip_drop': 1.0}"
            ]
          },
          "metadata": {
            "tags": []
          },
          "execution_count": 136
        }
      ]
    },
    {
      "cell_type": "markdown",
      "metadata": {
        "id": "WY9McfROrrC6",
        "colab_type": "text"
      },
      "source": [
        "#### Grid Search"
      ]
    },
    {
      "cell_type": "code",
      "metadata": {
        "id": "ugDVJWwAq3aq",
        "colab_type": "code",
        "colab": {}
      },
      "source": [
        "# Params for gradient boost:\n",
        "\n",
        "xg_dart_params2 = {\n",
        "    'booster': ['dart'],\n",
        "    'sample_type': ['weighted'],\n",
        "    'normalize_type': ['forest'],\n",
        "    'rate_drop': [0.1, 0.2, 0.3],\n",
        "    'skip_drop': [1],\n",
        "    'learning_rate': [0.9, 1.0, 1.1],\n",
        "    'max_depth': [7],\n",
        "    'reg_lambda':[0.9, 1, 1.1],\n",
        "    'n_estimators': [100],\n",
        "    'min_split_loss': [10, 11]\n",
        "}"
      ],
      "execution_count": 0,
      "outputs": []
    },
    {
      "cell_type": "code",
      "metadata": {
        "id": "yEm__i0fsQ_a",
        "colab_type": "code",
        "colab": {}
      },
      "source": [
        "# Grid Search:\n",
        "\n",
        "xgBoost_dart2 = GridSearchCV(xgboost, \n",
        "                        xg_dart_params2,\n",
        "                        cv = 5,\n",
        "                        verbose = 1,\n",
        "                        n_jobs = -1)\n"
      ],
      "execution_count": 0,
      "outputs": []
    },
    {
      "cell_type": "code",
      "metadata": {
        "id": "rBa18EMpsf3u",
        "colab_type": "code",
        "outputId": "279d86dd-5aff-46b8-ac16-a9951ffca630",
        "colab": {
          "base_uri": "https://localhost:8080/",
          "height": 498
        }
      },
      "source": [
        "xgBoost_dart2.fit(X_train, y_train)"
      ],
      "execution_count": 0,
      "outputs": [
        {
          "output_type": "stream",
          "text": [
            "Fitting 5 folds for each of 54 candidates, totalling 270 fits\n"
          ],
          "name": "stdout"
        },
        {
          "output_type": "stream",
          "text": [
            "[Parallel(n_jobs=-1)]: Using backend LokyBackend with 2 concurrent workers.\n",
            "[Parallel(n_jobs=-1)]: Done  46 tasks      | elapsed:   21.2s\n",
            "[Parallel(n_jobs=-1)]: Done 196 tasks      | elapsed:  1.5min\n",
            "[Parallel(n_jobs=-1)]: Done 270 out of 270 | elapsed:  2.0min finished\n",
            "/usr/local/lib/python3.6/dist-packages/sklearn/preprocessing/label.py:219: DataConversionWarning: A column-vector y was passed when a 1d array was expected. Please change the shape of y to (n_samples, ), for example using ravel().\n",
            "  y = column_or_1d(y, warn=True)\n",
            "/usr/local/lib/python3.6/dist-packages/sklearn/preprocessing/label.py:252: DataConversionWarning: A column-vector y was passed when a 1d array was expected. Please change the shape of y to (n_samples, ), for example using ravel().\n",
            "  y = column_or_1d(y, warn=True)\n"
          ],
          "name": "stderr"
        },
        {
          "output_type": "execute_result",
          "data": {
            "text/plain": [
              "GridSearchCV(cv=5, error_score='raise-deprecating',\n",
              "             estimator=XGBClassifier(base_score=0.5, booster='gbtree',\n",
              "                                     colsample_bylevel=1, colsample_bynode=1,\n",
              "                                     colsample_bytree=1, gamma=0,\n",
              "                                     learning_rate=0.1, max_delta_step=0,\n",
              "                                     max_depth=3, min_child_weight=1,\n",
              "                                     missing=None, n_estimators=100, n_jobs=1,\n",
              "                                     nthread=None, objective='binary:logistic',\n",
              "                                     random_state=42, reg_alpha=0, reg_...\n",
              "             iid='warn', n_jobs=-1,\n",
              "             param_grid={'booster': ['dart'], 'learning_rate': [0.9, 1.0, 1.1],\n",
              "                         'max_depth': [7], 'min_split_loss': [10, 11],\n",
              "                         'n_estimators': [100], 'normalize_type': ['forest'],\n",
              "                         'rate_drop': [0.1, 0.2, 0.3],\n",
              "                         'reg_lambda': [0.9, 1, 1.1],\n",
              "                         'sample_type': ['weighted'], 'skip_drop': [1]},\n",
              "             pre_dispatch='2*n_jobs', refit=True, return_train_score=False,\n",
              "             scoring=None, verbose=1)"
            ]
          },
          "metadata": {
            "tags": []
          },
          "execution_count": 139
        }
      ]
    },
    {
      "cell_type": "code",
      "metadata": {
        "id": "nUnLJ0W8sgB0",
        "colab_type": "code",
        "outputId": "b9da1eed-302c-4621-eca9-13aeb5c7c902",
        "colab": {
          "base_uri": "https://localhost:8080/",
          "height": 34
        }
      },
      "source": [
        "xgBoost_dart2.best_score_"
      ],
      "execution_count": 0,
      "outputs": [
        {
          "output_type": "execute_result",
          "data": {
            "text/plain": [
              "0.8021301775147929"
            ]
          },
          "metadata": {
            "tags": []
          },
          "execution_count": 140
        }
      ]
    },
    {
      "cell_type": "code",
      "metadata": {
        "id": "CIZyYetqsFgE",
        "colab_type": "code",
        "outputId": "e658e006-eb36-4e51-a4a3-52b6afe923fc",
        "colab": {
          "base_uri": "https://localhost:8080/",
          "height": 188
        }
      },
      "source": [
        "xgBoost_dart2.best_params_"
      ],
      "execution_count": 0,
      "outputs": [
        {
          "output_type": "execute_result",
          "data": {
            "text/plain": [
              "{'booster': 'dart',\n",
              " 'learning_rate': 1.1,\n",
              " 'max_depth': 7,\n",
              " 'min_split_loss': 10,\n",
              " 'n_estimators': 100,\n",
              " 'normalize_type': 'forest',\n",
              " 'rate_drop': 0.1,\n",
              " 'reg_lambda': 1.1,\n",
              " 'sample_type': 'weighted',\n",
              " 'skip_drop': 1}"
            ]
          },
          "metadata": {
            "tags": []
          },
          "execution_count": 141
        }
      ]
    },
    {
      "cell_type": "markdown",
      "metadata": {
        "id": "EMnvNag11Jzm",
        "colab_type": "text"
      },
      "source": [
        "This best score of 80.2% looks really good compared to the others so far."
      ]
    },
    {
      "cell_type": "code",
      "metadata": {
        "id": "UJyGnhbYsGIS",
        "colab_type": "code",
        "colab": {}
      },
      "source": [
        ""
      ],
      "execution_count": 0,
      "outputs": []
    },
    {
      "cell_type": "markdown",
      "metadata": {
        "id": "1Ja208PDq3_i",
        "colab_type": "text"
      },
      "source": [
        "### Linear Booster (gblinear)"
      ]
    },
    {
      "cell_type": "code",
      "metadata": {
        "id": "31jiOKRrrx6c",
        "colab_type": "code",
        "outputId": "7299d568-9369-4009-dadc-a067942fd316",
        "colab": {
          "base_uri": "https://localhost:8080/",
          "height": 136
        }
      },
      "source": [
        "xgb.XGBClassifier(random_state = 42, booster = 'gblinear')"
      ],
      "execution_count": 0,
      "outputs": [
        {
          "output_type": "execute_result",
          "data": {
            "text/plain": [
              "XGBClassifier(base_score=0.5, booster='gblinear', colsample_bylevel=1,\n",
              "              colsample_bynode=1, colsample_bytree=1, gamma=0,\n",
              "              learning_rate=0.1, max_delta_step=0, max_depth=3,\n",
              "              min_child_weight=1, missing=None, n_estimators=100, n_jobs=1,\n",
              "              nthread=None, objective='binary:logistic', random_state=42,\n",
              "              reg_alpha=0, reg_lambda=1, scale_pos_weight=1, seed=None,\n",
              "              silent=None, subsample=1, verbosity=1)"
            ]
          },
          "metadata": {
            "tags": []
          },
          "execution_count": 142
        }
      ]
    },
    {
      "cell_type": "code",
      "metadata": {
        "id": "blGpvS9HryJF",
        "colab_type": "code",
        "colab": {}
      },
      "source": [
        ""
      ],
      "execution_count": 0,
      "outputs": []
    },
    {
      "cell_type": "markdown",
      "metadata": {
        "id": "i7xBW6Gvrya7",
        "colab_type": "text"
      },
      "source": [
        "#### Randomized Grid Search"
      ]
    },
    {
      "cell_type": "code",
      "metadata": {
        "id": "MWZr7UY_ryC0",
        "colab_type": "code",
        "colab": {}
      },
      "source": [
        "# Params for gradient boost:\n",
        "\n",
        "xg_linear_params = {\n",
        "    'booster': ['gblinear'],\n",
        "    'sample_type': ['uniform', 'weighted'],\n",
        "    'normalize_type': ['tree', 'forest'],\n",
        "    'rate_drop': np.arange(0, 1.1, 0.1),\n",
        "    'skip_drop': np.arange(0, 1.1, 0.1),\n",
        "    'learning_rate': [0.2, 0.3, 0.4, 0.5, 0.6, 0.7, 0.8, 0.9, 1.0],\n",
        "    'max_depth': np.arange(6, 12, 1),\n",
        "    'reg_lambda': np.arange(0.5, 2, 0.1),\n",
        "    'reg_alpha': np.arange(0.5, 2, 0.1),\n",
        "    'n_estimators': np.arange(80, 120, 1),\n",
        "    'min_split_loss': np.arange(1, 50, 1)\n",
        "}"
      ],
      "execution_count": 0,
      "outputs": []
    },
    {
      "cell_type": "code",
      "metadata": {
        "id": "yfzSfIlVveCQ",
        "colab_type": "code",
        "colab": {}
      },
      "source": [
        "# Randomized Grid Search:\n",
        "\n",
        "xgBoost_linear = RandomizedSearchCV(estimator = xgboost,\n",
        "                             param_distributions = xg_linear_params,\n",
        "                             n_iter = 10,\n",
        "                             cv = 5,\n",
        "                             verbose = 2,\n",
        "                             random_state = 42,\n",
        "                             n_jobs = -1)\n"
      ],
      "execution_count": 0,
      "outputs": []
    },
    {
      "cell_type": "code",
      "metadata": {
        "id": "uhwCTYK1veMn",
        "colab_type": "code",
        "outputId": "a5821b4a-03b5-44bf-a2d5-64301a18cbcb",
        "colab": {
          "base_uri": "https://localhost:8080/",
          "height": 481
        }
      },
      "source": [
        "xgBoost_linear.fit(X_train, y_train)"
      ],
      "execution_count": 0,
      "outputs": [
        {
          "output_type": "stream",
          "text": [
            "Fitting 5 folds for each of 10 candidates, totalling 50 fits\n"
          ],
          "name": "stdout"
        },
        {
          "output_type": "stream",
          "text": [
            "[Parallel(n_jobs=-1)]: Using backend LokyBackend with 2 concurrent workers.\n",
            "[Parallel(n_jobs=-1)]: Done  50 out of  50 | elapsed:    4.3s finished\n",
            "/usr/local/lib/python3.6/dist-packages/sklearn/preprocessing/label.py:219: DataConversionWarning: A column-vector y was passed when a 1d array was expected. Please change the shape of y to (n_samples, ), for example using ravel().\n",
            "  y = column_or_1d(y, warn=True)\n",
            "/usr/local/lib/python3.6/dist-packages/sklearn/preprocessing/label.py:252: DataConversionWarning: A column-vector y was passed when a 1d array was expected. Please change the shape of y to (n_samples, ), for example using ravel().\n",
            "  y = column_or_1d(y, warn=True)\n"
          ],
          "name": "stderr"
        },
        {
          "output_type": "execute_result",
          "data": {
            "text/plain": [
              "RandomizedSearchCV(cv=5, error_score='raise-deprecating',\n",
              "                   estimator=XGBClassifier(base_score=0.5, booster='gbtree',\n",
              "                                           colsample_bylevel=1,\n",
              "                                           colsample_bynode=1,\n",
              "                                           colsample_bytree=1, gamma=0,\n",
              "                                           learning_rate=0.1, max_delta_step=0,\n",
              "                                           max_depth=3, min_child_weight=1,\n",
              "                                           missing=None, n_estimators=100,\n",
              "                                           n_jobs=1, nthread=None,\n",
              "                                           objective='binary:logistic',\n",
              "                                           random_state=42, reg_alpha=...\n",
              "                                        'reg_alpha': array([0.5, 0.6, 0.7, 0.8, 0.9, 1. , 1.1, 1.2, 1.3, 1.4, 1.5, 1.6, 1.7,\n",
              "       1.8, 1.9]),\n",
              "                                        'reg_lambda': array([0.5, 0.6, 0.7, 0.8, 0.9, 1. , 1.1, 1.2, 1.3, 1.4, 1.5, 1.6, 1.7,\n",
              "       1.8, 1.9]),\n",
              "                                        'sample_type': ['uniform', 'weighted'],\n",
              "                                        'skip_drop': array([0. , 0.1, 0.2, 0.3, 0.4, 0.5, 0.6, 0.7, 0.8, 0.9, 1. ])},\n",
              "                   pre_dispatch='2*n_jobs', random_state=42, refit=True,\n",
              "                   return_train_score=False, scoring=None, verbose=2)"
            ]
          },
          "metadata": {
            "tags": []
          },
          "execution_count": 145
        }
      ]
    },
    {
      "cell_type": "code",
      "metadata": {
        "id": "4yvMf2rls2EJ",
        "colab_type": "code",
        "outputId": "633ad8a3-7e71-4239-c1b2-b39eaf3e3431",
        "colab": {
          "base_uri": "https://localhost:8080/",
          "height": 34
        }
      },
      "source": [
        "xgBoost_linear.best_score_"
      ],
      "execution_count": 0,
      "outputs": [
        {
          "output_type": "execute_result",
          "data": {
            "text/plain": [
              "0.7853254437869822"
            ]
          },
          "metadata": {
            "tags": []
          },
          "execution_count": 146
        }
      ]
    },
    {
      "cell_type": "code",
      "metadata": {
        "id": "2pgWrmEBs3OC",
        "colab_type": "code",
        "outputId": "cc06ac9d-908e-4f02-fdb0-31de7bddfd68",
        "colab": {
          "base_uri": "https://localhost:8080/",
          "height": 205
        }
      },
      "source": [
        "xgBoost_linear.best_params_"
      ],
      "execution_count": 0,
      "outputs": [
        {
          "output_type": "execute_result",
          "data": {
            "text/plain": [
              "{'booster': 'gblinear',\n",
              " 'learning_rate': 0.4,\n",
              " 'max_depth': 6,\n",
              " 'min_split_loss': 1,\n",
              " 'n_estimators': 99,\n",
              " 'normalize_type': 'forest',\n",
              " 'rate_drop': 0.0,\n",
              " 'reg_alpha': 0.6,\n",
              " 'reg_lambda': 0.7,\n",
              " 'sample_type': 'uniform',\n",
              " 'skip_drop': 0.0}"
            ]
          },
          "metadata": {
            "tags": []
          },
          "execution_count": 147
        }
      ]
    },
    {
      "cell_type": "markdown",
      "metadata": {
        "id": "khXJQIPpr2vu",
        "colab_type": "text"
      },
      "source": [
        "#### Grid Search"
      ]
    },
    {
      "cell_type": "code",
      "metadata": {
        "id": "L1q1Uwa8r4oQ",
        "colab_type": "code",
        "colab": {}
      },
      "source": [
        "# Params for gradient boost:\n",
        "\n",
        "xg_linear_params2 = {\n",
        "    'booster': ['gblinear'],\n",
        "    'sample_type': ['uniform'],\n",
        "    'normalize_type': ['forest'],\n",
        "    'rate_drop': [0, 0.1, 0.2],\n",
        "    'skip_drop': [0, 0.1],\n",
        "    'learning_rate': [0.9, 1.0],\n",
        "    'max_depth': [6],\n",
        "    'reg_lambda':[0.7, 0.8],\n",
        "    'reg_alpha': [0.5, 0.6],\n",
        "    'n_estimators': [100],\n",
        "    'min_split_loss': [1]\n",
        "}"
      ],
      "execution_count": 0,
      "outputs": []
    },
    {
      "cell_type": "code",
      "metadata": {
        "id": "rhMDBYQJr4zR",
        "colab_type": "code",
        "colab": {}
      },
      "source": [
        "# Randomized Grid Search:\n",
        "\n",
        "xgBoost_linear2 = GridSearchCV(xgboost, \n",
        "                        xg_linear_params2,\n",
        "                        cv = 5,\n",
        "                        verbose = 1,\n",
        "                        n_jobs = -1)\n"
      ],
      "execution_count": 0,
      "outputs": []
    },
    {
      "cell_type": "code",
      "metadata": {
        "id": "k8-ZEhmsvvt4",
        "colab_type": "code",
        "outputId": "7cd563f4-fbe1-4cb4-fb12-e38e73f10c4c",
        "colab": {
          "base_uri": "https://localhost:8080/",
          "height": 481
        }
      },
      "source": [
        "xgBoost_linear2.fit(X_train, y_train)"
      ],
      "execution_count": 0,
      "outputs": [
        {
          "output_type": "stream",
          "text": [
            "[Parallel(n_jobs=-1)]: Using backend LokyBackend with 2 concurrent workers.\n"
          ],
          "name": "stderr"
        },
        {
          "output_type": "stream",
          "text": [
            "Fitting 5 folds for each of 48 candidates, totalling 240 fits\n"
          ],
          "name": "stdout"
        },
        {
          "output_type": "stream",
          "text": [
            "[Parallel(n_jobs=-1)]: Done  88 tasks      | elapsed:    6.7s\n",
            "[Parallel(n_jobs=-1)]: Done 240 out of 240 | elapsed:   18.4s finished\n",
            "/usr/local/lib/python3.6/dist-packages/sklearn/preprocessing/label.py:219: DataConversionWarning: A column-vector y was passed when a 1d array was expected. Please change the shape of y to (n_samples, ), for example using ravel().\n",
            "  y = column_or_1d(y, warn=True)\n",
            "/usr/local/lib/python3.6/dist-packages/sklearn/preprocessing/label.py:252: DataConversionWarning: A column-vector y was passed when a 1d array was expected. Please change the shape of y to (n_samples, ), for example using ravel().\n",
            "  y = column_or_1d(y, warn=True)\n"
          ],
          "name": "stderr"
        },
        {
          "output_type": "execute_result",
          "data": {
            "text/plain": [
              "GridSearchCV(cv=5, error_score='raise-deprecating',\n",
              "             estimator=XGBClassifier(base_score=0.5, booster='gbtree',\n",
              "                                     colsample_bylevel=1, colsample_bynode=1,\n",
              "                                     colsample_bytree=1, gamma=0,\n",
              "                                     learning_rate=0.1, max_delta_step=0,\n",
              "                                     max_depth=3, min_child_weight=1,\n",
              "                                     missing=None, n_estimators=100, n_jobs=1,\n",
              "                                     nthread=None, objective='binary:logistic',\n",
              "                                     random_state=42, reg_alpha=0, reg_...\n",
              "             iid='warn', n_jobs=-1,\n",
              "             param_grid={'booster': ['gblinear'], 'learning_rate': [0.9, 1.0],\n",
              "                         'max_depth': [6], 'min_split_loss': [1],\n",
              "                         'n_estimators': [100], 'normalize_type': ['forest'],\n",
              "                         'rate_drop': [0, 0.1, 0.2], 'reg_alpha': [0.5, 0.6],\n",
              "                         'reg_lambda': [0.7, 0.8], 'sample_type': ['uniform'],\n",
              "                         'skip_drop': [0, 0.1]},\n",
              "             pre_dispatch='2*n_jobs', refit=True, return_train_score=False,\n",
              "             scoring=None, verbose=1)"
            ]
          },
          "metadata": {
            "tags": []
          },
          "execution_count": 150
        }
      ]
    },
    {
      "cell_type": "code",
      "metadata": {
        "id": "aEnqXhTZvv56",
        "colab_type": "code",
        "outputId": "c348c9c9-35d4-400a-9028-0d78e14147d5",
        "colab": {
          "base_uri": "https://localhost:8080/",
          "height": 34
        }
      },
      "source": [
        "xgBoost_linear2.best_score_"
      ],
      "execution_count": 0,
      "outputs": [
        {
          "output_type": "execute_result",
          "data": {
            "text/plain": [
              "0.7879289940828402"
            ]
          },
          "metadata": {
            "tags": []
          },
          "execution_count": 151
        }
      ]
    },
    {
      "cell_type": "code",
      "metadata": {
        "id": "pwAQ3JjLv9OP",
        "colab_type": "code",
        "outputId": "af6140ee-4cdd-4a13-d4b3-c693d793d15b",
        "colab": {
          "base_uri": "https://localhost:8080/",
          "height": 205
        }
      },
      "source": [
        "xgBoost_linear2.best_params_"
      ],
      "execution_count": 0,
      "outputs": [
        {
          "output_type": "execute_result",
          "data": {
            "text/plain": [
              "{'booster': 'gblinear',\n",
              " 'learning_rate': 0.9,\n",
              " 'max_depth': 6,\n",
              " 'min_split_loss': 1,\n",
              " 'n_estimators': 100,\n",
              " 'normalize_type': 'forest',\n",
              " 'rate_drop': 0,\n",
              " 'reg_alpha': 0.5,\n",
              " 'reg_lambda': 0.7,\n",
              " 'sample_type': 'uniform',\n",
              " 'skip_drop': 0}"
            ]
          },
          "metadata": {
            "tags": []
          },
          "execution_count": 152
        }
      ]
    },
    {
      "cell_type": "code",
      "metadata": {
        "id": "o_E6JIREv9ZI",
        "colab_type": "code",
        "colab": {}
      },
      "source": [
        ""
      ],
      "execution_count": 0,
      "outputs": []
    },
    {
      "cell_type": "markdown",
      "metadata": {
        "id": "r-2HZWBQtQuf",
        "colab_type": "text"
      },
      "source": [
        "## 5) CatBoost"
      ]
    },
    {
      "cell_type": "code",
      "metadata": {
        "id": "SAtqQ5tktSfQ",
        "colab_type": "code",
        "colab": {}
      },
      "source": [
        "# Read data in:\n",
        "\n",
        "telco_data_cat = pd.read_csv('/content/drive/My Drive/Telco-Customer-Churn.csv')"
      ],
      "execution_count": 0,
      "outputs": []
    },
    {
      "cell_type": "code",
      "metadata": {
        "id": "kZYB7E6xneLD",
        "colab_type": "code",
        "outputId": "a2842b8e-a45d-4d15-a2c2-fb16213a91e0",
        "colab": {
          "base_uri": "https://localhost:8080/",
          "height": 308
        }
      },
      "source": [
        "telco_data_cat.head()"
      ],
      "execution_count": 0,
      "outputs": [
        {
          "output_type": "execute_result",
          "data": {
            "text/html": [
              "<div>\n",
              "<style scoped>\n",
              "    .dataframe tbody tr th:only-of-type {\n",
              "        vertical-align: middle;\n",
              "    }\n",
              "\n",
              "    .dataframe tbody tr th {\n",
              "        vertical-align: top;\n",
              "    }\n",
              "\n",
              "    .dataframe thead th {\n",
              "        text-align: right;\n",
              "    }\n",
              "</style>\n",
              "<table border=\"1\" class=\"dataframe\">\n",
              "  <thead>\n",
              "    <tr style=\"text-align: right;\">\n",
              "      <th></th>\n",
              "      <th>customerID</th>\n",
              "      <th>gender</th>\n",
              "      <th>SeniorCitizen</th>\n",
              "      <th>Partner</th>\n",
              "      <th>Dependents</th>\n",
              "      <th>tenure</th>\n",
              "      <th>PhoneService</th>\n",
              "      <th>MultipleLines</th>\n",
              "      <th>InternetService</th>\n",
              "      <th>OnlineSecurity</th>\n",
              "      <th>OnlineBackup</th>\n",
              "      <th>DeviceProtection</th>\n",
              "      <th>TechSupport</th>\n",
              "      <th>StreamingTV</th>\n",
              "      <th>StreamingMovies</th>\n",
              "      <th>Contract</th>\n",
              "      <th>PaperlessBilling</th>\n",
              "      <th>PaymentMethod</th>\n",
              "      <th>MonthlyCharges</th>\n",
              "      <th>TotalCharges</th>\n",
              "      <th>Churn</th>\n",
              "    </tr>\n",
              "  </thead>\n",
              "  <tbody>\n",
              "    <tr>\n",
              "      <th>0</th>\n",
              "      <td>7590-VHVEG</td>\n",
              "      <td>Female</td>\n",
              "      <td>0</td>\n",
              "      <td>Yes</td>\n",
              "      <td>No</td>\n",
              "      <td>1</td>\n",
              "      <td>No</td>\n",
              "      <td>No phone service</td>\n",
              "      <td>DSL</td>\n",
              "      <td>No</td>\n",
              "      <td>Yes</td>\n",
              "      <td>No</td>\n",
              "      <td>No</td>\n",
              "      <td>No</td>\n",
              "      <td>No</td>\n",
              "      <td>Month-to-month</td>\n",
              "      <td>Yes</td>\n",
              "      <td>Electronic check</td>\n",
              "      <td>29.85</td>\n",
              "      <td>29.85</td>\n",
              "      <td>No</td>\n",
              "    </tr>\n",
              "    <tr>\n",
              "      <th>1</th>\n",
              "      <td>5575-GNVDE</td>\n",
              "      <td>Male</td>\n",
              "      <td>0</td>\n",
              "      <td>No</td>\n",
              "      <td>No</td>\n",
              "      <td>34</td>\n",
              "      <td>Yes</td>\n",
              "      <td>No</td>\n",
              "      <td>DSL</td>\n",
              "      <td>Yes</td>\n",
              "      <td>No</td>\n",
              "      <td>Yes</td>\n",
              "      <td>No</td>\n",
              "      <td>No</td>\n",
              "      <td>No</td>\n",
              "      <td>One year</td>\n",
              "      <td>No</td>\n",
              "      <td>Mailed check</td>\n",
              "      <td>56.95</td>\n",
              "      <td>1889.5</td>\n",
              "      <td>No</td>\n",
              "    </tr>\n",
              "    <tr>\n",
              "      <th>2</th>\n",
              "      <td>3668-QPYBK</td>\n",
              "      <td>Male</td>\n",
              "      <td>0</td>\n",
              "      <td>No</td>\n",
              "      <td>No</td>\n",
              "      <td>2</td>\n",
              "      <td>Yes</td>\n",
              "      <td>No</td>\n",
              "      <td>DSL</td>\n",
              "      <td>Yes</td>\n",
              "      <td>Yes</td>\n",
              "      <td>No</td>\n",
              "      <td>No</td>\n",
              "      <td>No</td>\n",
              "      <td>No</td>\n",
              "      <td>Month-to-month</td>\n",
              "      <td>Yes</td>\n",
              "      <td>Mailed check</td>\n",
              "      <td>53.85</td>\n",
              "      <td>108.15</td>\n",
              "      <td>Yes</td>\n",
              "    </tr>\n",
              "    <tr>\n",
              "      <th>3</th>\n",
              "      <td>7795-CFOCW</td>\n",
              "      <td>Male</td>\n",
              "      <td>0</td>\n",
              "      <td>No</td>\n",
              "      <td>No</td>\n",
              "      <td>45</td>\n",
              "      <td>No</td>\n",
              "      <td>No phone service</td>\n",
              "      <td>DSL</td>\n",
              "      <td>Yes</td>\n",
              "      <td>No</td>\n",
              "      <td>Yes</td>\n",
              "      <td>Yes</td>\n",
              "      <td>No</td>\n",
              "      <td>No</td>\n",
              "      <td>One year</td>\n",
              "      <td>No</td>\n",
              "      <td>Bank transfer (automatic)</td>\n",
              "      <td>42.30</td>\n",
              "      <td>1840.75</td>\n",
              "      <td>No</td>\n",
              "    </tr>\n",
              "    <tr>\n",
              "      <th>4</th>\n",
              "      <td>9237-HQITU</td>\n",
              "      <td>Female</td>\n",
              "      <td>0</td>\n",
              "      <td>No</td>\n",
              "      <td>No</td>\n",
              "      <td>2</td>\n",
              "      <td>Yes</td>\n",
              "      <td>No</td>\n",
              "      <td>Fiber optic</td>\n",
              "      <td>No</td>\n",
              "      <td>No</td>\n",
              "      <td>No</td>\n",
              "      <td>No</td>\n",
              "      <td>No</td>\n",
              "      <td>No</td>\n",
              "      <td>Month-to-month</td>\n",
              "      <td>Yes</td>\n",
              "      <td>Electronic check</td>\n",
              "      <td>70.70</td>\n",
              "      <td>151.65</td>\n",
              "      <td>Yes</td>\n",
              "    </tr>\n",
              "  </tbody>\n",
              "</table>\n",
              "</div>"
            ],
            "text/plain": [
              "   customerID  gender  SeniorCitizen Partner Dependents  tenure PhoneService  \\\n",
              "0  7590-VHVEG  Female              0     Yes         No       1           No   \n",
              "1  5575-GNVDE    Male              0      No         No      34          Yes   \n",
              "2  3668-QPYBK    Male              0      No         No       2          Yes   \n",
              "3  7795-CFOCW    Male              0      No         No      45           No   \n",
              "4  9237-HQITU  Female              0      No         No       2          Yes   \n",
              "\n",
              "      MultipleLines InternetService OnlineSecurity OnlineBackup  \\\n",
              "0  No phone service             DSL             No          Yes   \n",
              "1                No             DSL            Yes           No   \n",
              "2                No             DSL            Yes          Yes   \n",
              "3  No phone service             DSL            Yes           No   \n",
              "4                No     Fiber optic             No           No   \n",
              "\n",
              "  DeviceProtection TechSupport StreamingTV StreamingMovies        Contract  \\\n",
              "0               No          No          No              No  Month-to-month   \n",
              "1              Yes          No          No              No        One year   \n",
              "2               No          No          No              No  Month-to-month   \n",
              "3              Yes         Yes          No              No        One year   \n",
              "4               No          No          No              No  Month-to-month   \n",
              "\n",
              "  PaperlessBilling              PaymentMethod  MonthlyCharges TotalCharges  \\\n",
              "0              Yes           Electronic check           29.85        29.85   \n",
              "1               No               Mailed check           56.95       1889.5   \n",
              "2              Yes               Mailed check           53.85       108.15   \n",
              "3               No  Bank transfer (automatic)           42.30      1840.75   \n",
              "4              Yes           Electronic check           70.70       151.65   \n",
              "\n",
              "  Churn  \n",
              "0    No  \n",
              "1    No  \n",
              "2   Yes  \n",
              "3    No  \n",
              "4   Yes  "
            ]
          },
          "metadata": {
            "tags": []
          },
          "execution_count": 154
        }
      ]
    },
    {
      "cell_type": "code",
      "metadata": {
        "colab_type": "code",
        "outputId": "ff13d012-fc97-4cf9-ac0a-a048da8eba94",
        "id": "sGDXzTDqnnpJ",
        "colab": {
          "base_uri": "https://localhost:8080/",
          "height": 119
        }
      },
      "source": [
        "telco_data_cat.columns"
      ],
      "execution_count": 0,
      "outputs": [
        {
          "output_type": "execute_result",
          "data": {
            "text/plain": [
              "Index(['customerID', 'gender', 'SeniorCitizen', 'Partner', 'Dependents',\n",
              "       'tenure', 'PhoneService', 'MultipleLines', 'InternetService',\n",
              "       'OnlineSecurity', 'OnlineBackup', 'DeviceProtection', 'TechSupport',\n",
              "       'StreamingTV', 'StreamingMovies', 'Contract', 'PaperlessBilling',\n",
              "       'PaymentMethod', 'MonthlyCharges', 'TotalCharges', 'Churn'],\n",
              "      dtype='object')"
            ]
          },
          "metadata": {
            "tags": []
          },
          "execution_count": 155
        }
      ]
    },
    {
      "cell_type": "code",
      "metadata": {
        "id": "FWh4njTTnopw",
        "colab_type": "code",
        "outputId": "0b547cc4-4a37-4928-9a31-c4e3b00d827e",
        "colab": {
          "base_uri": "https://localhost:8080/",
          "height": 461
        }
      },
      "source": [
        "telco_data_cat.info()"
      ],
      "execution_count": 0,
      "outputs": [
        {
          "output_type": "stream",
          "text": [
            "<class 'pandas.core.frame.DataFrame'>\n",
            "RangeIndex: 7043 entries, 0 to 7042\n",
            "Data columns (total 21 columns):\n",
            "customerID          7043 non-null object\n",
            "gender              7043 non-null object\n",
            "SeniorCitizen       7043 non-null int64\n",
            "Partner             7043 non-null object\n",
            "Dependents          7043 non-null object\n",
            "tenure              7043 non-null int64\n",
            "PhoneService        7043 non-null object\n",
            "MultipleLines       7043 non-null object\n",
            "InternetService     7043 non-null object\n",
            "OnlineSecurity      7043 non-null object\n",
            "OnlineBackup        7043 non-null object\n",
            "DeviceProtection    7043 non-null object\n",
            "TechSupport         7043 non-null object\n",
            "StreamingTV         7043 non-null object\n",
            "StreamingMovies     7043 non-null object\n",
            "Contract            7043 non-null object\n",
            "PaperlessBilling    7043 non-null object\n",
            "PaymentMethod       7043 non-null object\n",
            "MonthlyCharges      7043 non-null float64\n",
            "TotalCharges        7043 non-null object\n",
            "Churn               7043 non-null object\n",
            "dtypes: float64(1), int64(2), object(18)\n",
            "memory usage: 1.1+ MB\n"
          ],
          "name": "stdout"
        }
      ]
    },
    {
      "cell_type": "code",
      "metadata": {
        "id": "nLwUnihtoNxj",
        "colab_type": "code",
        "colab": {}
      },
      "source": [
        "# Convert Churn values from Yes / No to 0 and 1s.\n",
        "\n",
        "telco_data_cat['Churn'] = telco_data_cat['Churn'].map({'Yes': 1, 'No': 0})"
      ],
      "execution_count": 0,
      "outputs": []
    },
    {
      "cell_type": "code",
      "metadata": {
        "id": "fumodbaKqHEB",
        "colab_type": "code",
        "outputId": "ddefb0d2-2b92-4c40-9c34-6e8a68d46687",
        "colab": {
          "base_uri": "https://localhost:8080/",
          "height": 308
        }
      },
      "source": [
        "telco_data_cat.head()"
      ],
      "execution_count": 0,
      "outputs": [
        {
          "output_type": "execute_result",
          "data": {
            "text/html": [
              "<div>\n",
              "<style scoped>\n",
              "    .dataframe tbody tr th:only-of-type {\n",
              "        vertical-align: middle;\n",
              "    }\n",
              "\n",
              "    .dataframe tbody tr th {\n",
              "        vertical-align: top;\n",
              "    }\n",
              "\n",
              "    .dataframe thead th {\n",
              "        text-align: right;\n",
              "    }\n",
              "</style>\n",
              "<table border=\"1\" class=\"dataframe\">\n",
              "  <thead>\n",
              "    <tr style=\"text-align: right;\">\n",
              "      <th></th>\n",
              "      <th>customerID</th>\n",
              "      <th>gender</th>\n",
              "      <th>SeniorCitizen</th>\n",
              "      <th>Partner</th>\n",
              "      <th>Dependents</th>\n",
              "      <th>tenure</th>\n",
              "      <th>PhoneService</th>\n",
              "      <th>MultipleLines</th>\n",
              "      <th>InternetService</th>\n",
              "      <th>OnlineSecurity</th>\n",
              "      <th>OnlineBackup</th>\n",
              "      <th>DeviceProtection</th>\n",
              "      <th>TechSupport</th>\n",
              "      <th>StreamingTV</th>\n",
              "      <th>StreamingMovies</th>\n",
              "      <th>Contract</th>\n",
              "      <th>PaperlessBilling</th>\n",
              "      <th>PaymentMethod</th>\n",
              "      <th>MonthlyCharges</th>\n",
              "      <th>TotalCharges</th>\n",
              "      <th>Churn</th>\n",
              "    </tr>\n",
              "  </thead>\n",
              "  <tbody>\n",
              "    <tr>\n",
              "      <th>0</th>\n",
              "      <td>7590-VHVEG</td>\n",
              "      <td>Female</td>\n",
              "      <td>0</td>\n",
              "      <td>Yes</td>\n",
              "      <td>No</td>\n",
              "      <td>1</td>\n",
              "      <td>No</td>\n",
              "      <td>No phone service</td>\n",
              "      <td>DSL</td>\n",
              "      <td>No</td>\n",
              "      <td>Yes</td>\n",
              "      <td>No</td>\n",
              "      <td>No</td>\n",
              "      <td>No</td>\n",
              "      <td>No</td>\n",
              "      <td>Month-to-month</td>\n",
              "      <td>Yes</td>\n",
              "      <td>Electronic check</td>\n",
              "      <td>29.85</td>\n",
              "      <td>29.85</td>\n",
              "      <td>0</td>\n",
              "    </tr>\n",
              "    <tr>\n",
              "      <th>1</th>\n",
              "      <td>5575-GNVDE</td>\n",
              "      <td>Male</td>\n",
              "      <td>0</td>\n",
              "      <td>No</td>\n",
              "      <td>No</td>\n",
              "      <td>34</td>\n",
              "      <td>Yes</td>\n",
              "      <td>No</td>\n",
              "      <td>DSL</td>\n",
              "      <td>Yes</td>\n",
              "      <td>No</td>\n",
              "      <td>Yes</td>\n",
              "      <td>No</td>\n",
              "      <td>No</td>\n",
              "      <td>No</td>\n",
              "      <td>One year</td>\n",
              "      <td>No</td>\n",
              "      <td>Mailed check</td>\n",
              "      <td>56.95</td>\n",
              "      <td>1889.5</td>\n",
              "      <td>0</td>\n",
              "    </tr>\n",
              "    <tr>\n",
              "      <th>2</th>\n",
              "      <td>3668-QPYBK</td>\n",
              "      <td>Male</td>\n",
              "      <td>0</td>\n",
              "      <td>No</td>\n",
              "      <td>No</td>\n",
              "      <td>2</td>\n",
              "      <td>Yes</td>\n",
              "      <td>No</td>\n",
              "      <td>DSL</td>\n",
              "      <td>Yes</td>\n",
              "      <td>Yes</td>\n",
              "      <td>No</td>\n",
              "      <td>No</td>\n",
              "      <td>No</td>\n",
              "      <td>No</td>\n",
              "      <td>Month-to-month</td>\n",
              "      <td>Yes</td>\n",
              "      <td>Mailed check</td>\n",
              "      <td>53.85</td>\n",
              "      <td>108.15</td>\n",
              "      <td>1</td>\n",
              "    </tr>\n",
              "    <tr>\n",
              "      <th>3</th>\n",
              "      <td>7795-CFOCW</td>\n",
              "      <td>Male</td>\n",
              "      <td>0</td>\n",
              "      <td>No</td>\n",
              "      <td>No</td>\n",
              "      <td>45</td>\n",
              "      <td>No</td>\n",
              "      <td>No phone service</td>\n",
              "      <td>DSL</td>\n",
              "      <td>Yes</td>\n",
              "      <td>No</td>\n",
              "      <td>Yes</td>\n",
              "      <td>Yes</td>\n",
              "      <td>No</td>\n",
              "      <td>No</td>\n",
              "      <td>One year</td>\n",
              "      <td>No</td>\n",
              "      <td>Bank transfer (automatic)</td>\n",
              "      <td>42.30</td>\n",
              "      <td>1840.75</td>\n",
              "      <td>0</td>\n",
              "    </tr>\n",
              "    <tr>\n",
              "      <th>4</th>\n",
              "      <td>9237-HQITU</td>\n",
              "      <td>Female</td>\n",
              "      <td>0</td>\n",
              "      <td>No</td>\n",
              "      <td>No</td>\n",
              "      <td>2</td>\n",
              "      <td>Yes</td>\n",
              "      <td>No</td>\n",
              "      <td>Fiber optic</td>\n",
              "      <td>No</td>\n",
              "      <td>No</td>\n",
              "      <td>No</td>\n",
              "      <td>No</td>\n",
              "      <td>No</td>\n",
              "      <td>No</td>\n",
              "      <td>Month-to-month</td>\n",
              "      <td>Yes</td>\n",
              "      <td>Electronic check</td>\n",
              "      <td>70.70</td>\n",
              "      <td>151.65</td>\n",
              "      <td>1</td>\n",
              "    </tr>\n",
              "  </tbody>\n",
              "</table>\n",
              "</div>"
            ],
            "text/plain": [
              "   customerID  gender  SeniorCitizen Partner Dependents  tenure PhoneService  \\\n",
              "0  7590-VHVEG  Female              0     Yes         No       1           No   \n",
              "1  5575-GNVDE    Male              0      No         No      34          Yes   \n",
              "2  3668-QPYBK    Male              0      No         No       2          Yes   \n",
              "3  7795-CFOCW    Male              0      No         No      45           No   \n",
              "4  9237-HQITU  Female              0      No         No       2          Yes   \n",
              "\n",
              "      MultipleLines InternetService OnlineSecurity OnlineBackup  \\\n",
              "0  No phone service             DSL             No          Yes   \n",
              "1                No             DSL            Yes           No   \n",
              "2                No             DSL            Yes          Yes   \n",
              "3  No phone service             DSL            Yes           No   \n",
              "4                No     Fiber optic             No           No   \n",
              "\n",
              "  DeviceProtection TechSupport StreamingTV StreamingMovies        Contract  \\\n",
              "0               No          No          No              No  Month-to-month   \n",
              "1              Yes          No          No              No        One year   \n",
              "2               No          No          No              No  Month-to-month   \n",
              "3              Yes         Yes          No              No        One year   \n",
              "4               No          No          No              No  Month-to-month   \n",
              "\n",
              "  PaperlessBilling              PaymentMethod  MonthlyCharges TotalCharges  \\\n",
              "0              Yes           Electronic check           29.85        29.85   \n",
              "1               No               Mailed check           56.95       1889.5   \n",
              "2              Yes               Mailed check           53.85       108.15   \n",
              "3               No  Bank transfer (automatic)           42.30      1840.75   \n",
              "4              Yes           Electronic check           70.70       151.65   \n",
              "\n",
              "   Churn  \n",
              "0      0  \n",
              "1      0  \n",
              "2      1  \n",
              "3      0  \n",
              "4      1  "
            ]
          },
          "metadata": {
            "tags": []
          },
          "execution_count": 158
        }
      ]
    },
    {
      "cell_type": "code",
      "metadata": {
        "id": "9yxR8rgktTW7",
        "colab_type": "code",
        "colab": {}
      },
      "source": [
        "# Set variables:\n",
        "# Catboost takes in numerical values as target variable.\n",
        "\n",
        "X_cat_columns = list(set(telco_data_cat.columns) - set(['Churn', 'customerID']))\n",
        "\n",
        "y_cat_columns = ['Churn']"
      ],
      "execution_count": 0,
      "outputs": []
    },
    {
      "cell_type": "code",
      "metadata": {
        "id": "kJNjjxMhtTZu",
        "colab_type": "code",
        "colab": {}
      },
      "source": [
        "# le = Label Encoder\n",
        "\n",
        "cat_train_enc = preprocessing.LabelEncoder()\n",
        "cat_train_enc.fit(telco_data_cat['Churn'])\n",
        "\n",
        "telco_data_cat['target'] = cat_train_enc.transform(telco_data_cat['Churn'])"
      ],
      "execution_count": 0,
      "outputs": []
    },
    {
      "cell_type": "code",
      "metadata": {
        "id": "7G3-E_SjmU_4",
        "colab_type": "code",
        "outputId": "c95556d4-51a7-4802-d6f2-0a7456587a77",
        "colab": {
          "base_uri": "https://localhost:8080/",
          "height": 34
        }
      },
      "source": [
        "cat_train_enc.classes_"
      ],
      "execution_count": 0,
      "outputs": [
        {
          "output_type": "execute_result",
          "data": {
            "text/plain": [
              "array([0, 1])"
            ]
          },
          "metadata": {
            "tags": []
          },
          "execution_count": 161
        }
      ]
    },
    {
      "cell_type": "code",
      "metadata": {
        "id": "rk-EKFcwriQE",
        "colab_type": "code",
        "outputId": "4b385792-4692-4aec-812c-6391b1c75c7e",
        "colab": {
          "base_uri": "https://localhost:8080/",
          "height": 308
        }
      },
      "source": [
        "telco_data_cat.head()"
      ],
      "execution_count": 0,
      "outputs": [
        {
          "output_type": "execute_result",
          "data": {
            "text/html": [
              "<div>\n",
              "<style scoped>\n",
              "    .dataframe tbody tr th:only-of-type {\n",
              "        vertical-align: middle;\n",
              "    }\n",
              "\n",
              "    .dataframe tbody tr th {\n",
              "        vertical-align: top;\n",
              "    }\n",
              "\n",
              "    .dataframe thead th {\n",
              "        text-align: right;\n",
              "    }\n",
              "</style>\n",
              "<table border=\"1\" class=\"dataframe\">\n",
              "  <thead>\n",
              "    <tr style=\"text-align: right;\">\n",
              "      <th></th>\n",
              "      <th>customerID</th>\n",
              "      <th>gender</th>\n",
              "      <th>SeniorCitizen</th>\n",
              "      <th>Partner</th>\n",
              "      <th>Dependents</th>\n",
              "      <th>tenure</th>\n",
              "      <th>PhoneService</th>\n",
              "      <th>MultipleLines</th>\n",
              "      <th>InternetService</th>\n",
              "      <th>OnlineSecurity</th>\n",
              "      <th>OnlineBackup</th>\n",
              "      <th>DeviceProtection</th>\n",
              "      <th>TechSupport</th>\n",
              "      <th>StreamingTV</th>\n",
              "      <th>StreamingMovies</th>\n",
              "      <th>Contract</th>\n",
              "      <th>PaperlessBilling</th>\n",
              "      <th>PaymentMethod</th>\n",
              "      <th>MonthlyCharges</th>\n",
              "      <th>TotalCharges</th>\n",
              "      <th>Churn</th>\n",
              "      <th>target</th>\n",
              "    </tr>\n",
              "  </thead>\n",
              "  <tbody>\n",
              "    <tr>\n",
              "      <th>0</th>\n",
              "      <td>7590-VHVEG</td>\n",
              "      <td>Female</td>\n",
              "      <td>0</td>\n",
              "      <td>Yes</td>\n",
              "      <td>No</td>\n",
              "      <td>1</td>\n",
              "      <td>No</td>\n",
              "      <td>No phone service</td>\n",
              "      <td>DSL</td>\n",
              "      <td>No</td>\n",
              "      <td>Yes</td>\n",
              "      <td>No</td>\n",
              "      <td>No</td>\n",
              "      <td>No</td>\n",
              "      <td>No</td>\n",
              "      <td>Month-to-month</td>\n",
              "      <td>Yes</td>\n",
              "      <td>Electronic check</td>\n",
              "      <td>29.85</td>\n",
              "      <td>29.85</td>\n",
              "      <td>0</td>\n",
              "      <td>0</td>\n",
              "    </tr>\n",
              "    <tr>\n",
              "      <th>1</th>\n",
              "      <td>5575-GNVDE</td>\n",
              "      <td>Male</td>\n",
              "      <td>0</td>\n",
              "      <td>No</td>\n",
              "      <td>No</td>\n",
              "      <td>34</td>\n",
              "      <td>Yes</td>\n",
              "      <td>No</td>\n",
              "      <td>DSL</td>\n",
              "      <td>Yes</td>\n",
              "      <td>No</td>\n",
              "      <td>Yes</td>\n",
              "      <td>No</td>\n",
              "      <td>No</td>\n",
              "      <td>No</td>\n",
              "      <td>One year</td>\n",
              "      <td>No</td>\n",
              "      <td>Mailed check</td>\n",
              "      <td>56.95</td>\n",
              "      <td>1889.5</td>\n",
              "      <td>0</td>\n",
              "      <td>0</td>\n",
              "    </tr>\n",
              "    <tr>\n",
              "      <th>2</th>\n",
              "      <td>3668-QPYBK</td>\n",
              "      <td>Male</td>\n",
              "      <td>0</td>\n",
              "      <td>No</td>\n",
              "      <td>No</td>\n",
              "      <td>2</td>\n",
              "      <td>Yes</td>\n",
              "      <td>No</td>\n",
              "      <td>DSL</td>\n",
              "      <td>Yes</td>\n",
              "      <td>Yes</td>\n",
              "      <td>No</td>\n",
              "      <td>No</td>\n",
              "      <td>No</td>\n",
              "      <td>No</td>\n",
              "      <td>Month-to-month</td>\n",
              "      <td>Yes</td>\n",
              "      <td>Mailed check</td>\n",
              "      <td>53.85</td>\n",
              "      <td>108.15</td>\n",
              "      <td>1</td>\n",
              "      <td>1</td>\n",
              "    </tr>\n",
              "    <tr>\n",
              "      <th>3</th>\n",
              "      <td>7795-CFOCW</td>\n",
              "      <td>Male</td>\n",
              "      <td>0</td>\n",
              "      <td>No</td>\n",
              "      <td>No</td>\n",
              "      <td>45</td>\n",
              "      <td>No</td>\n",
              "      <td>No phone service</td>\n",
              "      <td>DSL</td>\n",
              "      <td>Yes</td>\n",
              "      <td>No</td>\n",
              "      <td>Yes</td>\n",
              "      <td>Yes</td>\n",
              "      <td>No</td>\n",
              "      <td>No</td>\n",
              "      <td>One year</td>\n",
              "      <td>No</td>\n",
              "      <td>Bank transfer (automatic)</td>\n",
              "      <td>42.30</td>\n",
              "      <td>1840.75</td>\n",
              "      <td>0</td>\n",
              "      <td>0</td>\n",
              "    </tr>\n",
              "    <tr>\n",
              "      <th>4</th>\n",
              "      <td>9237-HQITU</td>\n",
              "      <td>Female</td>\n",
              "      <td>0</td>\n",
              "      <td>No</td>\n",
              "      <td>No</td>\n",
              "      <td>2</td>\n",
              "      <td>Yes</td>\n",
              "      <td>No</td>\n",
              "      <td>Fiber optic</td>\n",
              "      <td>No</td>\n",
              "      <td>No</td>\n",
              "      <td>No</td>\n",
              "      <td>No</td>\n",
              "      <td>No</td>\n",
              "      <td>No</td>\n",
              "      <td>Month-to-month</td>\n",
              "      <td>Yes</td>\n",
              "      <td>Electronic check</td>\n",
              "      <td>70.70</td>\n",
              "      <td>151.65</td>\n",
              "      <td>1</td>\n",
              "      <td>1</td>\n",
              "    </tr>\n",
              "  </tbody>\n",
              "</table>\n",
              "</div>"
            ],
            "text/plain": [
              "   customerID  gender  SeniorCitizen Partner Dependents  tenure PhoneService  \\\n",
              "0  7590-VHVEG  Female              0     Yes         No       1           No   \n",
              "1  5575-GNVDE    Male              0      No         No      34          Yes   \n",
              "2  3668-QPYBK    Male              0      No         No       2          Yes   \n",
              "3  7795-CFOCW    Male              0      No         No      45           No   \n",
              "4  9237-HQITU  Female              0      No         No       2          Yes   \n",
              "\n",
              "      MultipleLines InternetService OnlineSecurity OnlineBackup  \\\n",
              "0  No phone service             DSL             No          Yes   \n",
              "1                No             DSL            Yes           No   \n",
              "2                No             DSL            Yes          Yes   \n",
              "3  No phone service             DSL            Yes           No   \n",
              "4                No     Fiber optic             No           No   \n",
              "\n",
              "  DeviceProtection TechSupport StreamingTV StreamingMovies        Contract  \\\n",
              "0               No          No          No              No  Month-to-month   \n",
              "1              Yes          No          No              No        One year   \n",
              "2               No          No          No              No  Month-to-month   \n",
              "3              Yes         Yes          No              No        One year   \n",
              "4               No          No          No              No  Month-to-month   \n",
              "\n",
              "  PaperlessBilling              PaymentMethod  MonthlyCharges TotalCharges  \\\n",
              "0              Yes           Electronic check           29.85        29.85   \n",
              "1               No               Mailed check           56.95       1889.5   \n",
              "2              Yes               Mailed check           53.85       108.15   \n",
              "3               No  Bank transfer (automatic)           42.30      1840.75   \n",
              "4              Yes           Electronic check           70.70       151.65   \n",
              "\n",
              "   Churn  target  \n",
              "0      0       0  \n",
              "1      0       0  \n",
              "2      1       1  \n",
              "3      0       0  \n",
              "4      1       1  "
            ]
          },
          "metadata": {
            "tags": []
          },
          "execution_count": 162
        }
      ]
    },
    {
      "cell_type": "code",
      "metadata": {
        "id": "3yzsOjjTmVcv",
        "colab_type": "code",
        "colab": {}
      },
      "source": [
        "#Train test split\n",
        "\n",
        "cat_X_train, cat_X_test ,\\\n",
        "cat_y_train, cat_y_test = train_test_split(telco_data_cat[X_cat_columns],\n",
        "                                           telco_data_cat['target'],\n",
        "                                           random_state = 42)"
      ],
      "execution_count": 0,
      "outputs": []
    },
    {
      "cell_type": "code",
      "metadata": {
        "id": "gmtJOC7bmV0B",
        "colab_type": "code",
        "outputId": "6ef8e86a-646c-4838-c489-89fc756509c8",
        "colab": {
          "base_uri": "https://localhost:8080/",
          "height": 608
        }
      },
      "source": [
        "# Check:\n",
        "cat_X_train"
      ],
      "execution_count": 0,
      "outputs": [
        {
          "output_type": "execute_result",
          "data": {
            "text/html": [
              "<div>\n",
              "<style scoped>\n",
              "    .dataframe tbody tr th:only-of-type {\n",
              "        vertical-align: middle;\n",
              "    }\n",
              "\n",
              "    .dataframe tbody tr th {\n",
              "        vertical-align: top;\n",
              "    }\n",
              "\n",
              "    .dataframe thead th {\n",
              "        text-align: right;\n",
              "    }\n",
              "</style>\n",
              "<table border=\"1\" class=\"dataframe\">\n",
              "  <thead>\n",
              "    <tr style=\"text-align: right;\">\n",
              "      <th></th>\n",
              "      <th>PaymentMethod</th>\n",
              "      <th>InternetService</th>\n",
              "      <th>tenure</th>\n",
              "      <th>PhoneService</th>\n",
              "      <th>StreamingMovies</th>\n",
              "      <th>OnlineBackup</th>\n",
              "      <th>OnlineSecurity</th>\n",
              "      <th>MonthlyCharges</th>\n",
              "      <th>PaperlessBilling</th>\n",
              "      <th>Dependents</th>\n",
              "      <th>DeviceProtection</th>\n",
              "      <th>StreamingTV</th>\n",
              "      <th>SeniorCitizen</th>\n",
              "      <th>TotalCharges</th>\n",
              "      <th>MultipleLines</th>\n",
              "      <th>Contract</th>\n",
              "      <th>Partner</th>\n",
              "      <th>gender</th>\n",
              "      <th>TechSupport</th>\n",
              "    </tr>\n",
              "  </thead>\n",
              "  <tbody>\n",
              "    <tr>\n",
              "      <th>6607</th>\n",
              "      <td>Electronic check</td>\n",
              "      <td>DSL</td>\n",
              "      <td>1</td>\n",
              "      <td>No</td>\n",
              "      <td>No</td>\n",
              "      <td>No</td>\n",
              "      <td>No</td>\n",
              "      <td>25.30</td>\n",
              "      <td>Yes</td>\n",
              "      <td>Yes</td>\n",
              "      <td>No</td>\n",
              "      <td>No</td>\n",
              "      <td>0</td>\n",
              "      <td>25.3</td>\n",
              "      <td>No phone service</td>\n",
              "      <td>Month-to-month</td>\n",
              "      <td>No</td>\n",
              "      <td>Male</td>\n",
              "      <td>No</td>\n",
              "    </tr>\n",
              "    <tr>\n",
              "      <th>2598</th>\n",
              "      <td>Electronic check</td>\n",
              "      <td>Fiber optic</td>\n",
              "      <td>7</td>\n",
              "      <td>Yes</td>\n",
              "      <td>No</td>\n",
              "      <td>No</td>\n",
              "      <td>No</td>\n",
              "      <td>75.15</td>\n",
              "      <td>Yes</td>\n",
              "      <td>No</td>\n",
              "      <td>Yes</td>\n",
              "      <td>No</td>\n",
              "      <td>0</td>\n",
              "      <td>525</td>\n",
              "      <td>No</td>\n",
              "      <td>Month-to-month</td>\n",
              "      <td>No</td>\n",
              "      <td>Female</td>\n",
              "      <td>No</td>\n",
              "    </tr>\n",
              "    <tr>\n",
              "      <th>2345</th>\n",
              "      <td>Bank transfer (automatic)</td>\n",
              "      <td>No</td>\n",
              "      <td>4</td>\n",
              "      <td>Yes</td>\n",
              "      <td>No internet service</td>\n",
              "      <td>No internet service</td>\n",
              "      <td>No internet service</td>\n",
              "      <td>20.05</td>\n",
              "      <td>Yes</td>\n",
              "      <td>Yes</td>\n",
              "      <td>No internet service</td>\n",
              "      <td>No internet service</td>\n",
              "      <td>0</td>\n",
              "      <td>85.5</td>\n",
              "      <td>No</td>\n",
              "      <td>Month-to-month</td>\n",
              "      <td>No</td>\n",
              "      <td>Female</td>\n",
              "      <td>No internet service</td>\n",
              "    </tr>\n",
              "    <tr>\n",
              "      <th>4093</th>\n",
              "      <td>Credit card (automatic)</td>\n",
              "      <td>Fiber optic</td>\n",
              "      <td>29</td>\n",
              "      <td>Yes</td>\n",
              "      <td>No</td>\n",
              "      <td>No</td>\n",
              "      <td>No</td>\n",
              "      <td>76.00</td>\n",
              "      <td>Yes</td>\n",
              "      <td>No</td>\n",
              "      <td>No</td>\n",
              "      <td>No</td>\n",
              "      <td>0</td>\n",
              "      <td>2215.25</td>\n",
              "      <td>Yes</td>\n",
              "      <td>Month-to-month</td>\n",
              "      <td>No</td>\n",
              "      <td>Female</td>\n",
              "      <td>No</td>\n",
              "    </tr>\n",
              "    <tr>\n",
              "      <th>693</th>\n",
              "      <td>Credit card (automatic)</td>\n",
              "      <td>Fiber optic</td>\n",
              "      <td>3</td>\n",
              "      <td>Yes</td>\n",
              "      <td>No</td>\n",
              "      <td>No</td>\n",
              "      <td>No</td>\n",
              "      <td>75.10</td>\n",
              "      <td>Yes</td>\n",
              "      <td>No</td>\n",
              "      <td>No</td>\n",
              "      <td>No</td>\n",
              "      <td>0</td>\n",
              "      <td>270.7</td>\n",
              "      <td>Yes</td>\n",
              "      <td>Month-to-month</td>\n",
              "      <td>No</td>\n",
              "      <td>Female</td>\n",
              "      <td>No</td>\n",
              "    </tr>\n",
              "    <tr>\n",
              "      <th>...</th>\n",
              "      <td>...</td>\n",
              "      <td>...</td>\n",
              "      <td>...</td>\n",
              "      <td>...</td>\n",
              "      <td>...</td>\n",
              "      <td>...</td>\n",
              "      <td>...</td>\n",
              "      <td>...</td>\n",
              "      <td>...</td>\n",
              "      <td>...</td>\n",
              "      <td>...</td>\n",
              "      <td>...</td>\n",
              "      <td>...</td>\n",
              "      <td>...</td>\n",
              "      <td>...</td>\n",
              "      <td>...</td>\n",
              "      <td>...</td>\n",
              "      <td>...</td>\n",
              "      <td>...</td>\n",
              "    </tr>\n",
              "    <tr>\n",
              "      <th>3772</th>\n",
              "      <td>Electronic check</td>\n",
              "      <td>Fiber optic</td>\n",
              "      <td>1</td>\n",
              "      <td>Yes</td>\n",
              "      <td>Yes</td>\n",
              "      <td>No</td>\n",
              "      <td>Yes</td>\n",
              "      <td>95.00</td>\n",
              "      <td>Yes</td>\n",
              "      <td>No</td>\n",
              "      <td>No</td>\n",
              "      <td>Yes</td>\n",
              "      <td>0</td>\n",
              "      <td>95</td>\n",
              "      <td>No</td>\n",
              "      <td>Month-to-month</td>\n",
              "      <td>Yes</td>\n",
              "      <td>Male</td>\n",
              "      <td>No</td>\n",
              "    </tr>\n",
              "    <tr>\n",
              "      <th>5191</th>\n",
              "      <td>Credit card (automatic)</td>\n",
              "      <td>DSL</td>\n",
              "      <td>23</td>\n",
              "      <td>Yes</td>\n",
              "      <td>Yes</td>\n",
              "      <td>Yes</td>\n",
              "      <td>Yes</td>\n",
              "      <td>91.10</td>\n",
              "      <td>Yes</td>\n",
              "      <td>Yes</td>\n",
              "      <td>Yes</td>\n",
              "      <td>Yes</td>\n",
              "      <td>0</td>\n",
              "      <td>2198.3</td>\n",
              "      <td>Yes</td>\n",
              "      <td>Two year</td>\n",
              "      <td>Yes</td>\n",
              "      <td>Female</td>\n",
              "      <td>Yes</td>\n",
              "    </tr>\n",
              "    <tr>\n",
              "      <th>5226</th>\n",
              "      <td>Electronic check</td>\n",
              "      <td>No</td>\n",
              "      <td>12</td>\n",
              "      <td>Yes</td>\n",
              "      <td>No internet service</td>\n",
              "      <td>No internet service</td>\n",
              "      <td>No internet service</td>\n",
              "      <td>21.15</td>\n",
              "      <td>Yes</td>\n",
              "      <td>Yes</td>\n",
              "      <td>No internet service</td>\n",
              "      <td>No internet service</td>\n",
              "      <td>0</td>\n",
              "      <td>306.05</td>\n",
              "      <td>No</td>\n",
              "      <td>Month-to-month</td>\n",
              "      <td>Yes</td>\n",
              "      <td>Male</td>\n",
              "      <td>No internet service</td>\n",
              "    </tr>\n",
              "    <tr>\n",
              "      <th>5390</th>\n",
              "      <td>Electronic check</td>\n",
              "      <td>Fiber optic</td>\n",
              "      <td>12</td>\n",
              "      <td>Yes</td>\n",
              "      <td>Yes</td>\n",
              "      <td>No</td>\n",
              "      <td>No</td>\n",
              "      <td>99.45</td>\n",
              "      <td>Yes</td>\n",
              "      <td>No</td>\n",
              "      <td>Yes</td>\n",
              "      <td>Yes</td>\n",
              "      <td>1</td>\n",
              "      <td>1200.15</td>\n",
              "      <td>Yes</td>\n",
              "      <td>Month-to-month</td>\n",
              "      <td>No</td>\n",
              "      <td>Male</td>\n",
              "      <td>No</td>\n",
              "    </tr>\n",
              "    <tr>\n",
              "      <th>860</th>\n",
              "      <td>Credit card (automatic)</td>\n",
              "      <td>No</td>\n",
              "      <td>26</td>\n",
              "      <td>Yes</td>\n",
              "      <td>No internet service</td>\n",
              "      <td>No internet service</td>\n",
              "      <td>No internet service</td>\n",
              "      <td>19.80</td>\n",
              "      <td>No</td>\n",
              "      <td>No</td>\n",
              "      <td>No internet service</td>\n",
              "      <td>No internet service</td>\n",
              "      <td>0</td>\n",
              "      <td>457.3</td>\n",
              "      <td>No</td>\n",
              "      <td>One year</td>\n",
              "      <td>No</td>\n",
              "      <td>Male</td>\n",
              "      <td>No internet service</td>\n",
              "    </tr>\n",
              "  </tbody>\n",
              "</table>\n",
              "<p>5282 rows × 19 columns</p>\n",
              "</div>"
            ],
            "text/plain": [
              "                  PaymentMethod InternetService  tenure PhoneService  \\\n",
              "6607           Electronic check             DSL       1           No   \n",
              "2598           Electronic check     Fiber optic       7          Yes   \n",
              "2345  Bank transfer (automatic)              No       4          Yes   \n",
              "4093    Credit card (automatic)     Fiber optic      29          Yes   \n",
              "693     Credit card (automatic)     Fiber optic       3          Yes   \n",
              "...                         ...             ...     ...          ...   \n",
              "3772           Electronic check     Fiber optic       1          Yes   \n",
              "5191    Credit card (automatic)             DSL      23          Yes   \n",
              "5226           Electronic check              No      12          Yes   \n",
              "5390           Electronic check     Fiber optic      12          Yes   \n",
              "860     Credit card (automatic)              No      26          Yes   \n",
              "\n",
              "          StreamingMovies         OnlineBackup       OnlineSecurity  \\\n",
              "6607                   No                   No                   No   \n",
              "2598                   No                   No                   No   \n",
              "2345  No internet service  No internet service  No internet service   \n",
              "4093                   No                   No                   No   \n",
              "693                    No                   No                   No   \n",
              "...                   ...                  ...                  ...   \n",
              "3772                  Yes                   No                  Yes   \n",
              "5191                  Yes                  Yes                  Yes   \n",
              "5226  No internet service  No internet service  No internet service   \n",
              "5390                  Yes                   No                   No   \n",
              "860   No internet service  No internet service  No internet service   \n",
              "\n",
              "      MonthlyCharges PaperlessBilling Dependents     DeviceProtection  \\\n",
              "6607           25.30              Yes        Yes                   No   \n",
              "2598           75.15              Yes         No                  Yes   \n",
              "2345           20.05              Yes        Yes  No internet service   \n",
              "4093           76.00              Yes         No                   No   \n",
              "693            75.10              Yes         No                   No   \n",
              "...              ...              ...        ...                  ...   \n",
              "3772           95.00              Yes         No                   No   \n",
              "5191           91.10              Yes        Yes                  Yes   \n",
              "5226           21.15              Yes        Yes  No internet service   \n",
              "5390           99.45              Yes         No                  Yes   \n",
              "860            19.80               No         No  No internet service   \n",
              "\n",
              "              StreamingTV  SeniorCitizen TotalCharges     MultipleLines  \\\n",
              "6607                   No              0         25.3  No phone service   \n",
              "2598                   No              0          525                No   \n",
              "2345  No internet service              0         85.5                No   \n",
              "4093                   No              0      2215.25               Yes   \n",
              "693                    No              0        270.7               Yes   \n",
              "...                   ...            ...          ...               ...   \n",
              "3772                  Yes              0           95                No   \n",
              "5191                  Yes              0       2198.3               Yes   \n",
              "5226  No internet service              0       306.05                No   \n",
              "5390                  Yes              1      1200.15               Yes   \n",
              "860   No internet service              0        457.3                No   \n",
              "\n",
              "            Contract Partner  gender          TechSupport  \n",
              "6607  Month-to-month      No    Male                   No  \n",
              "2598  Month-to-month      No  Female                   No  \n",
              "2345  Month-to-month      No  Female  No internet service  \n",
              "4093  Month-to-month      No  Female                   No  \n",
              "693   Month-to-month      No  Female                   No  \n",
              "...              ...     ...     ...                  ...  \n",
              "3772  Month-to-month     Yes    Male                   No  \n",
              "5191        Two year     Yes  Female                  Yes  \n",
              "5226  Month-to-month     Yes    Male  No internet service  \n",
              "5390  Month-to-month      No    Male                   No  \n",
              "860         One year      No    Male  No internet service  \n",
              "\n",
              "[5282 rows x 19 columns]"
            ]
          },
          "metadata": {
            "tags": []
          },
          "execution_count": 164
        }
      ]
    },
    {
      "cell_type": "code",
      "metadata": {
        "id": "dmAxgBhYuR9g",
        "colab_type": "code",
        "outputId": "f156c0db-42e0-4bc6-847d-0fdf33863421",
        "colab": {
          "base_uri": "https://localhost:8080/",
          "height": 308
        }
      },
      "source": [
        "telco_data_cat.head()"
      ],
      "execution_count": 0,
      "outputs": [
        {
          "output_type": "execute_result",
          "data": {
            "text/html": [
              "<div>\n",
              "<style scoped>\n",
              "    .dataframe tbody tr th:only-of-type {\n",
              "        vertical-align: middle;\n",
              "    }\n",
              "\n",
              "    .dataframe tbody tr th {\n",
              "        vertical-align: top;\n",
              "    }\n",
              "\n",
              "    .dataframe thead th {\n",
              "        text-align: right;\n",
              "    }\n",
              "</style>\n",
              "<table border=\"1\" class=\"dataframe\">\n",
              "  <thead>\n",
              "    <tr style=\"text-align: right;\">\n",
              "      <th></th>\n",
              "      <th>customerID</th>\n",
              "      <th>gender</th>\n",
              "      <th>SeniorCitizen</th>\n",
              "      <th>Partner</th>\n",
              "      <th>Dependents</th>\n",
              "      <th>tenure</th>\n",
              "      <th>PhoneService</th>\n",
              "      <th>MultipleLines</th>\n",
              "      <th>InternetService</th>\n",
              "      <th>OnlineSecurity</th>\n",
              "      <th>OnlineBackup</th>\n",
              "      <th>DeviceProtection</th>\n",
              "      <th>TechSupport</th>\n",
              "      <th>StreamingTV</th>\n",
              "      <th>StreamingMovies</th>\n",
              "      <th>Contract</th>\n",
              "      <th>PaperlessBilling</th>\n",
              "      <th>PaymentMethod</th>\n",
              "      <th>MonthlyCharges</th>\n",
              "      <th>TotalCharges</th>\n",
              "      <th>Churn</th>\n",
              "      <th>target</th>\n",
              "    </tr>\n",
              "  </thead>\n",
              "  <tbody>\n",
              "    <tr>\n",
              "      <th>0</th>\n",
              "      <td>7590-VHVEG</td>\n",
              "      <td>Female</td>\n",
              "      <td>0</td>\n",
              "      <td>Yes</td>\n",
              "      <td>No</td>\n",
              "      <td>1</td>\n",
              "      <td>No</td>\n",
              "      <td>No phone service</td>\n",
              "      <td>DSL</td>\n",
              "      <td>No</td>\n",
              "      <td>Yes</td>\n",
              "      <td>No</td>\n",
              "      <td>No</td>\n",
              "      <td>No</td>\n",
              "      <td>No</td>\n",
              "      <td>Month-to-month</td>\n",
              "      <td>Yes</td>\n",
              "      <td>Electronic check</td>\n",
              "      <td>29.85</td>\n",
              "      <td>29.85</td>\n",
              "      <td>0</td>\n",
              "      <td>0</td>\n",
              "    </tr>\n",
              "    <tr>\n",
              "      <th>1</th>\n",
              "      <td>5575-GNVDE</td>\n",
              "      <td>Male</td>\n",
              "      <td>0</td>\n",
              "      <td>No</td>\n",
              "      <td>No</td>\n",
              "      <td>34</td>\n",
              "      <td>Yes</td>\n",
              "      <td>No</td>\n",
              "      <td>DSL</td>\n",
              "      <td>Yes</td>\n",
              "      <td>No</td>\n",
              "      <td>Yes</td>\n",
              "      <td>No</td>\n",
              "      <td>No</td>\n",
              "      <td>No</td>\n",
              "      <td>One year</td>\n",
              "      <td>No</td>\n",
              "      <td>Mailed check</td>\n",
              "      <td>56.95</td>\n",
              "      <td>1889.5</td>\n",
              "      <td>0</td>\n",
              "      <td>0</td>\n",
              "    </tr>\n",
              "    <tr>\n",
              "      <th>2</th>\n",
              "      <td>3668-QPYBK</td>\n",
              "      <td>Male</td>\n",
              "      <td>0</td>\n",
              "      <td>No</td>\n",
              "      <td>No</td>\n",
              "      <td>2</td>\n",
              "      <td>Yes</td>\n",
              "      <td>No</td>\n",
              "      <td>DSL</td>\n",
              "      <td>Yes</td>\n",
              "      <td>Yes</td>\n",
              "      <td>No</td>\n",
              "      <td>No</td>\n",
              "      <td>No</td>\n",
              "      <td>No</td>\n",
              "      <td>Month-to-month</td>\n",
              "      <td>Yes</td>\n",
              "      <td>Mailed check</td>\n",
              "      <td>53.85</td>\n",
              "      <td>108.15</td>\n",
              "      <td>1</td>\n",
              "      <td>1</td>\n",
              "    </tr>\n",
              "    <tr>\n",
              "      <th>3</th>\n",
              "      <td>7795-CFOCW</td>\n",
              "      <td>Male</td>\n",
              "      <td>0</td>\n",
              "      <td>No</td>\n",
              "      <td>No</td>\n",
              "      <td>45</td>\n",
              "      <td>No</td>\n",
              "      <td>No phone service</td>\n",
              "      <td>DSL</td>\n",
              "      <td>Yes</td>\n",
              "      <td>No</td>\n",
              "      <td>Yes</td>\n",
              "      <td>Yes</td>\n",
              "      <td>No</td>\n",
              "      <td>No</td>\n",
              "      <td>One year</td>\n",
              "      <td>No</td>\n",
              "      <td>Bank transfer (automatic)</td>\n",
              "      <td>42.30</td>\n",
              "      <td>1840.75</td>\n",
              "      <td>0</td>\n",
              "      <td>0</td>\n",
              "    </tr>\n",
              "    <tr>\n",
              "      <th>4</th>\n",
              "      <td>9237-HQITU</td>\n",
              "      <td>Female</td>\n",
              "      <td>0</td>\n",
              "      <td>No</td>\n",
              "      <td>No</td>\n",
              "      <td>2</td>\n",
              "      <td>Yes</td>\n",
              "      <td>No</td>\n",
              "      <td>Fiber optic</td>\n",
              "      <td>No</td>\n",
              "      <td>No</td>\n",
              "      <td>No</td>\n",
              "      <td>No</td>\n",
              "      <td>No</td>\n",
              "      <td>No</td>\n",
              "      <td>Month-to-month</td>\n",
              "      <td>Yes</td>\n",
              "      <td>Electronic check</td>\n",
              "      <td>70.70</td>\n",
              "      <td>151.65</td>\n",
              "      <td>1</td>\n",
              "      <td>1</td>\n",
              "    </tr>\n",
              "  </tbody>\n",
              "</table>\n",
              "</div>"
            ],
            "text/plain": [
              "   customerID  gender  SeniorCitizen Partner Dependents  tenure PhoneService  \\\n",
              "0  7590-VHVEG  Female              0     Yes         No       1           No   \n",
              "1  5575-GNVDE    Male              0      No         No      34          Yes   \n",
              "2  3668-QPYBK    Male              0      No         No       2          Yes   \n",
              "3  7795-CFOCW    Male              0      No         No      45           No   \n",
              "4  9237-HQITU  Female              0      No         No       2          Yes   \n",
              "\n",
              "      MultipleLines InternetService OnlineSecurity OnlineBackup  \\\n",
              "0  No phone service             DSL             No          Yes   \n",
              "1                No             DSL            Yes           No   \n",
              "2                No             DSL            Yes          Yes   \n",
              "3  No phone service             DSL            Yes           No   \n",
              "4                No     Fiber optic             No           No   \n",
              "\n",
              "  DeviceProtection TechSupport StreamingTV StreamingMovies        Contract  \\\n",
              "0               No          No          No              No  Month-to-month   \n",
              "1              Yes          No          No              No        One year   \n",
              "2               No          No          No              No  Month-to-month   \n",
              "3              Yes         Yes          No              No        One year   \n",
              "4               No          No          No              No  Month-to-month   \n",
              "\n",
              "  PaperlessBilling              PaymentMethod  MonthlyCharges TotalCharges  \\\n",
              "0              Yes           Electronic check           29.85        29.85   \n",
              "1               No               Mailed check           56.95       1889.5   \n",
              "2              Yes               Mailed check           53.85       108.15   \n",
              "3               No  Bank transfer (automatic)           42.30      1840.75   \n",
              "4              Yes           Electronic check           70.70       151.65   \n",
              "\n",
              "   Churn  target  \n",
              "0      0       0  \n",
              "1      0       0  \n",
              "2      1       1  \n",
              "3      0       0  \n",
              "4      1       1  "
            ]
          },
          "metadata": {
            "tags": []
          },
          "execution_count": 165
        }
      ]
    },
    {
      "cell_type": "code",
      "metadata": {
        "id": "I7j14jh4o5BP",
        "colab_type": "code",
        "colab": {}
      },
      "source": [
        "# Set up categorical columns:\n",
        "\n",
        "cat_columns = ['gender', \n",
        "               'SeniorCitizen', \n",
        "               'Partner',\n",
        "               'Dependents', \n",
        "               'PhoneService',\n",
        "               'MultipleLines',\n",
        "               'InternetService',\n",
        "               'OnlineSecurity',\n",
        "               'OnlineBackup',\n",
        "               'DeviceProtection',\n",
        "               'TechSupport',\n",
        "               'StreamingTV', \n",
        "               'StreamingMovies', \n",
        "               'Contract', \n",
        "               'PaperlessBilling',\n",
        "               'PaymentMethod']"
      ],
      "execution_count": 0,
      "outputs": []
    },
    {
      "cell_type": "code",
      "metadata": {
        "id": "Ai9XDhzVo5fW",
        "colab_type": "code",
        "colab": {}
      },
      "source": [
        "# Set up pools for preprocessing:\n",
        "\n",
        "from catboost import Pool"
      ],
      "execution_count": 0,
      "outputs": []
    },
    {
      "cell_type": "code",
      "metadata": {
        "id": "7Uv5pGUvo5zQ",
        "colab_type": "code",
        "colab": {}
      },
      "source": [
        "# Setting up pools\n",
        "\n",
        "train_pool = Pool(cat_X_train,\n",
        "                  cat_y_train,\n",
        "                  cat_features = cat_columns)\n",
        "\n",
        "test_pool = Pool(cat_X_test,\n",
        "                 cat_y_test,\n",
        "                 cat_features = cat_columns)"
      ],
      "execution_count": 0,
      "outputs": []
    },
    {
      "cell_type": "markdown",
      "metadata": {
        "id": "qLHdMJWXpXgA",
        "colab_type": "text"
      },
      "source": [
        "### Fitting Catboost"
      ]
    },
    {
      "cell_type": "code",
      "metadata": {
        "id": "BUkPjW1Fo6Pv",
        "colab_type": "code",
        "colab": {}
      },
      "source": [
        "cb_model = CatBoostClassifier(random_seed = 42)"
      ],
      "execution_count": 0,
      "outputs": []
    },
    {
      "cell_type": "code",
      "metadata": {
        "id": "B8XbR1jto6ee",
        "colab_type": "code",
        "outputId": "1f96e7b9-ab91-43f7-f564-78d877fb91eb",
        "colab": {
          "base_uri": "https://localhost:8080/",
          "height": 1000
        }
      },
      "source": [
        "# Best is best test score with (iteration#)\n",
        "# Output looks like loss scores.\n",
        "\n",
        "cb_model.fit(train_pool, eval_set = test_pool)"
      ],
      "execution_count": 0,
      "outputs": [
        {
          "output_type": "stream",
          "text": [
            "Learning rate set to 0.092928\n",
            "0:\tlearn: 0.6354657\ttest: 0.6351501\tbest: 0.6351501 (0)\ttotal: 64.3ms\tremaining: 1m 4s\n",
            "1:\tlearn: 0.5912198\ttest: 0.5907117\tbest: 0.5907117 (1)\ttotal: 79.8ms\tremaining: 39.8s\n",
            "2:\tlearn: 0.5576431\ttest: 0.5563768\tbest: 0.5563768 (2)\ttotal: 95.4ms\tremaining: 31.7s\n",
            "3:\tlearn: 0.5303168\ttest: 0.5290114\tbest: 0.5290114 (3)\ttotal: 109ms\tremaining: 27.1s\n",
            "4:\tlearn: 0.5103542\ttest: 0.5093175\tbest: 0.5093175 (4)\ttotal: 123ms\tremaining: 24.4s\n",
            "5:\tlearn: 0.4920786\ttest: 0.4913412\tbest: 0.4913412 (5)\ttotal: 135ms\tremaining: 22.4s\n",
            "6:\tlearn: 0.4771083\ttest: 0.4764094\tbest: 0.4764094 (6)\ttotal: 149ms\tremaining: 21.1s\n",
            "7:\tlearn: 0.4658884\ttest: 0.4659009\tbest: 0.4659009 (7)\ttotal: 163ms\tremaining: 20.2s\n",
            "8:\tlearn: 0.4555880\ttest: 0.4552639\tbest: 0.4552639 (8)\ttotal: 176ms\tremaining: 19.4s\n",
            "9:\tlearn: 0.4492482\ttest: 0.4489296\tbest: 0.4489296 (9)\ttotal: 188ms\tremaining: 18.6s\n",
            "10:\tlearn: 0.4448778\ttest: 0.4442047\tbest: 0.4442047 (10)\ttotal: 194ms\tremaining: 17.4s\n",
            "11:\tlearn: 0.4402361\ttest: 0.4392519\tbest: 0.4392519 (11)\ttotal: 212ms\tremaining: 17.4s\n",
            "12:\tlearn: 0.4357621\ttest: 0.4347654\tbest: 0.4347654 (12)\ttotal: 228ms\tremaining: 17.3s\n",
            "13:\tlearn: 0.4309016\ttest: 0.4302035\tbest: 0.4302035 (13)\ttotal: 241ms\tremaining: 17s\n",
            "14:\tlearn: 0.4270002\ttest: 0.4272527\tbest: 0.4272527 (14)\ttotal: 258ms\tremaining: 16.9s\n",
            "15:\tlearn: 0.4250716\ttest: 0.4258765\tbest: 0.4258765 (15)\ttotal: 267ms\tremaining: 16.4s\n",
            "16:\tlearn: 0.4222948\ttest: 0.4235143\tbest: 0.4235143 (16)\ttotal: 283ms\tremaining: 16.4s\n",
            "17:\tlearn: 0.4210902\ttest: 0.4222882\tbest: 0.4222882 (17)\ttotal: 293ms\tremaining: 16s\n",
            "18:\tlearn: 0.4183285\ttest: 0.4202303\tbest: 0.4202303 (18)\ttotal: 308ms\tremaining: 15.9s\n",
            "19:\tlearn: 0.4167103\ttest: 0.4189531\tbest: 0.4189531 (19)\ttotal: 321ms\tremaining: 15.7s\n",
            "20:\tlearn: 0.4145654\ttest: 0.4167668\tbest: 0.4167668 (20)\ttotal: 333ms\tremaining: 15.5s\n",
            "21:\tlearn: 0.4124802\ttest: 0.4152357\tbest: 0.4152357 (21)\ttotal: 347ms\tremaining: 15.4s\n",
            "22:\tlearn: 0.4105292\ttest: 0.4136339\tbest: 0.4136339 (22)\ttotal: 360ms\tremaining: 15.3s\n",
            "23:\tlearn: 0.4093271\ttest: 0.4133029\tbest: 0.4133029 (23)\ttotal: 376ms\tremaining: 15.3s\n",
            "24:\tlearn: 0.4081172\ttest: 0.4123070\tbest: 0.4123070 (24)\ttotal: 387ms\tremaining: 15.1s\n",
            "25:\tlearn: 0.4068300\ttest: 0.4112868\tbest: 0.4112868 (25)\ttotal: 401ms\tremaining: 15s\n",
            "26:\tlearn: 0.4063584\ttest: 0.4108220\tbest: 0.4108220 (26)\ttotal: 415ms\tremaining: 15s\n",
            "27:\tlearn: 0.4059788\ttest: 0.4103379\tbest: 0.4103379 (27)\ttotal: 421ms\tremaining: 14.6s\n",
            "28:\tlearn: 0.4049600\ttest: 0.4099225\tbest: 0.4099225 (28)\ttotal: 432ms\tremaining: 14.5s\n",
            "29:\tlearn: 0.4038316\ttest: 0.4090300\tbest: 0.4090300 (29)\ttotal: 446ms\tremaining: 14.4s\n",
            "30:\tlearn: 0.4029538\ttest: 0.4082890\tbest: 0.4082890 (30)\ttotal: 460ms\tremaining: 14.4s\n",
            "31:\tlearn: 0.4014649\ttest: 0.4075229\tbest: 0.4075229 (31)\ttotal: 473ms\tremaining: 14.3s\n",
            "32:\tlearn: 0.4014329\ttest: 0.4074537\tbest: 0.4074537 (32)\ttotal: 478ms\tremaining: 14s\n",
            "33:\tlearn: 0.4008197\ttest: 0.4069151\tbest: 0.4069151 (33)\ttotal: 494ms\tremaining: 14s\n",
            "34:\tlearn: 0.3999098\ttest: 0.4064518\tbest: 0.4064518 (34)\ttotal: 507ms\tremaining: 14s\n",
            "35:\tlearn: 0.3989648\ttest: 0.4059352\tbest: 0.4059352 (35)\ttotal: 522ms\tremaining: 14s\n",
            "36:\tlearn: 0.3989123\ttest: 0.4058855\tbest: 0.4058855 (36)\ttotal: 531ms\tremaining: 13.8s\n",
            "37:\tlearn: 0.3989110\ttest: 0.4058888\tbest: 0.4058855 (36)\ttotal: 536ms\tremaining: 13.6s\n",
            "38:\tlearn: 0.3989068\ttest: 0.4058928\tbest: 0.4058855 (36)\ttotal: 542ms\tremaining: 13.4s\n",
            "39:\tlearn: 0.3976981\ttest: 0.4055959\tbest: 0.4055959 (39)\ttotal: 555ms\tremaining: 13.3s\n",
            "40:\tlearn: 0.3973202\ttest: 0.4053853\tbest: 0.4053853 (40)\ttotal: 568ms\tremaining: 13.3s\n",
            "41:\tlearn: 0.3970922\ttest: 0.4053591\tbest: 0.4053591 (41)\ttotal: 580ms\tremaining: 13.2s\n",
            "42:\tlearn: 0.3967858\ttest: 0.4051427\tbest: 0.4051427 (42)\ttotal: 594ms\tremaining: 13.2s\n",
            "43:\tlearn: 0.3967613\ttest: 0.4050573\tbest: 0.4050573 (43)\ttotal: 600ms\tremaining: 13s\n",
            "44:\tlearn: 0.3965971\ttest: 0.4049843\tbest: 0.4049843 (44)\ttotal: 607ms\tremaining: 12.9s\n",
            "45:\tlearn: 0.3957329\ttest: 0.4048555\tbest: 0.4048555 (45)\ttotal: 624ms\tremaining: 12.9s\n",
            "46:\tlearn: 0.3952839\ttest: 0.4048656\tbest: 0.4048555 (45)\ttotal: 637ms\tremaining: 12.9s\n",
            "47:\tlearn: 0.3949552\ttest: 0.4045908\tbest: 0.4045908 (47)\ttotal: 649ms\tremaining: 12.9s\n",
            "48:\tlearn: 0.3942154\ttest: 0.4044911\tbest: 0.4044911 (48)\ttotal: 663ms\tremaining: 12.9s\n",
            "49:\tlearn: 0.3937415\ttest: 0.4043611\tbest: 0.4043611 (49)\ttotal: 677ms\tremaining: 12.9s\n",
            "50:\tlearn: 0.3933040\ttest: 0.4042018\tbest: 0.4042018 (50)\ttotal: 689ms\tremaining: 12.8s\n",
            "51:\tlearn: 0.3928823\ttest: 0.4039481\tbest: 0.4039481 (51)\ttotal: 704ms\tremaining: 12.8s\n",
            "52:\tlearn: 0.3926794\ttest: 0.4038248\tbest: 0.4038248 (52)\ttotal: 716ms\tremaining: 12.8s\n",
            "53:\tlearn: 0.3926435\ttest: 0.4037751\tbest: 0.4037751 (53)\ttotal: 723ms\tremaining: 12.7s\n",
            "54:\tlearn: 0.3923647\ttest: 0.4035574\tbest: 0.4035574 (54)\ttotal: 736ms\tremaining: 12.6s\n",
            "55:\tlearn: 0.3922595\ttest: 0.4035367\tbest: 0.4035367 (55)\ttotal: 745ms\tremaining: 12.6s\n",
            "56:\tlearn: 0.3920939\ttest: 0.4034994\tbest: 0.4034994 (56)\ttotal: 763ms\tremaining: 12.6s\n",
            "57:\tlearn: 0.3915720\ttest: 0.4031036\tbest: 0.4031036 (57)\ttotal: 777ms\tremaining: 12.6s\n",
            "58:\tlearn: 0.3913758\ttest: 0.4031132\tbest: 0.4031036 (57)\ttotal: 791ms\tremaining: 12.6s\n",
            "59:\tlearn: 0.3908765\ttest: 0.4030828\tbest: 0.4030828 (59)\ttotal: 804ms\tremaining: 12.6s\n",
            "60:\tlearn: 0.3900804\ttest: 0.4028904\tbest: 0.4028904 (60)\ttotal: 817ms\tremaining: 12.6s\n",
            "61:\tlearn: 0.3900801\ttest: 0.4028878\tbest: 0.4028878 (61)\ttotal: 819ms\tremaining: 12.4s\n",
            "62:\tlearn: 0.3897048\ttest: 0.4029273\tbest: 0.4028878 (61)\ttotal: 835ms\tremaining: 12.4s\n",
            "63:\tlearn: 0.3895542\ttest: 0.4027864\tbest: 0.4027864 (63)\ttotal: 842ms\tremaining: 12.3s\n",
            "64:\tlearn: 0.3895256\ttest: 0.4027784\tbest: 0.4027784 (64)\ttotal: 855ms\tremaining: 12.3s\n",
            "65:\tlearn: 0.3893376\ttest: 0.4028515\tbest: 0.4027784 (64)\ttotal: 867ms\tremaining: 12.3s\n",
            "66:\tlearn: 0.3891510\ttest: 0.4025851\tbest: 0.4025851 (66)\ttotal: 881ms\tremaining: 12.3s\n",
            "67:\tlearn: 0.3888936\ttest: 0.4024536\tbest: 0.4024536 (67)\ttotal: 895ms\tremaining: 12.3s\n",
            "68:\tlearn: 0.3888935\ttest: 0.4024519\tbest: 0.4024519 (68)\ttotal: 900ms\tremaining: 12.1s\n",
            "69:\tlearn: 0.3880591\ttest: 0.4023723\tbest: 0.4023723 (69)\ttotal: 913ms\tremaining: 12.1s\n",
            "70:\tlearn: 0.3879487\ttest: 0.4023817\tbest: 0.4023723 (69)\ttotal: 919ms\tremaining: 12s\n",
            "71:\tlearn: 0.3879235\ttest: 0.4023764\tbest: 0.4023723 (69)\ttotal: 928ms\tremaining: 12s\n",
            "72:\tlearn: 0.3874930\ttest: 0.4023453\tbest: 0.4023453 (72)\ttotal: 943ms\tremaining: 12s\n",
            "73:\tlearn: 0.3867362\ttest: 0.4023020\tbest: 0.4023020 (73)\ttotal: 956ms\tremaining: 12s\n",
            "74:\tlearn: 0.3860913\ttest: 0.4022235\tbest: 0.4022235 (74)\ttotal: 969ms\tremaining: 11.9s\n",
            "75:\tlearn: 0.3860912\ttest: 0.4022219\tbest: 0.4022219 (75)\ttotal: 972ms\tremaining: 11.8s\n",
            "76:\tlearn: 0.3852558\ttest: 0.4019829\tbest: 0.4019829 (76)\ttotal: 986ms\tremaining: 11.8s\n",
            "77:\tlearn: 0.3846698\ttest: 0.4020423\tbest: 0.4019829 (76)\ttotal: 999ms\tremaining: 11.8s\n",
            "78:\tlearn: 0.3845721\ttest: 0.4020392\tbest: 0.4019829 (76)\ttotal: 1.01s\tremaining: 11.8s\n",
            "79:\tlearn: 0.3845670\ttest: 0.4020383\tbest: 0.4019829 (76)\ttotal: 1.02s\tremaining: 11.7s\n",
            "80:\tlearn: 0.3844256\ttest: 0.4020670\tbest: 0.4019829 (76)\ttotal: 1.03s\tremaining: 11.7s\n",
            "81:\tlearn: 0.3842545\ttest: 0.4020973\tbest: 0.4019829 (76)\ttotal: 1.05s\tremaining: 11.8s\n",
            "82:\tlearn: 0.3837358\ttest: 0.4020633\tbest: 0.4019829 (76)\ttotal: 1.06s\tremaining: 11.8s\n",
            "83:\tlearn: 0.3832822\ttest: 0.4020044\tbest: 0.4019829 (76)\ttotal: 1.08s\tremaining: 11.8s\n",
            "84:\tlearn: 0.3829822\ttest: 0.4022207\tbest: 0.4019829 (76)\ttotal: 1.09s\tremaining: 11.8s\n",
            "85:\tlearn: 0.3818550\ttest: 0.4023777\tbest: 0.4019829 (76)\ttotal: 1.1s\tremaining: 11.7s\n",
            "86:\tlearn: 0.3807917\ttest: 0.4027389\tbest: 0.4019829 (76)\ttotal: 1.12s\tremaining: 11.7s\n",
            "87:\tlearn: 0.3807751\ttest: 0.4027292\tbest: 0.4019829 (76)\ttotal: 1.13s\tremaining: 11.7s\n",
            "88:\tlearn: 0.3807749\ttest: 0.4027269\tbest: 0.4019829 (76)\ttotal: 1.13s\tremaining: 11.6s\n",
            "89:\tlearn: 0.3798663\ttest: 0.4029735\tbest: 0.4019829 (76)\ttotal: 1.14s\tremaining: 11.6s\n",
            "90:\tlearn: 0.3798201\ttest: 0.4029716\tbest: 0.4019829 (76)\ttotal: 1.16s\tremaining: 11.5s\n",
            "91:\tlearn: 0.3798200\ttest: 0.4029697\tbest: 0.4019829 (76)\ttotal: 1.16s\tremaining: 11.4s\n",
            "92:\tlearn: 0.3792070\ttest: 0.4029984\tbest: 0.4019829 (76)\ttotal: 1.17s\tremaining: 11.5s\n",
            "93:\tlearn: 0.3789750\ttest: 0.4028859\tbest: 0.4019829 (76)\ttotal: 1.19s\tremaining: 11.5s\n",
            "94:\tlearn: 0.3786653\ttest: 0.4028230\tbest: 0.4019829 (76)\ttotal: 1.2s\tremaining: 11.4s\n",
            "95:\tlearn: 0.3777979\ttest: 0.4025561\tbest: 0.4019829 (76)\ttotal: 1.22s\tremaining: 11.4s\n",
            "96:\tlearn: 0.3777155\ttest: 0.4025257\tbest: 0.4019829 (76)\ttotal: 1.23s\tremaining: 11.4s\n",
            "97:\tlearn: 0.3773887\ttest: 0.4025793\tbest: 0.4019829 (76)\ttotal: 1.25s\tremaining: 11.5s\n",
            "98:\tlearn: 0.3770728\ttest: 0.4025795\tbest: 0.4019829 (76)\ttotal: 1.26s\tremaining: 11.5s\n",
            "99:\tlearn: 0.3768860\ttest: 0.4026187\tbest: 0.4019829 (76)\ttotal: 1.27s\tremaining: 11.4s\n",
            "100:\tlearn: 0.3762232\ttest: 0.4024403\tbest: 0.4019829 (76)\ttotal: 1.28s\tremaining: 11.4s\n",
            "101:\tlearn: 0.3754789\ttest: 0.4023554\tbest: 0.4019829 (76)\ttotal: 1.3s\tremaining: 11.4s\n",
            "102:\tlearn: 0.3750528\ttest: 0.4023835\tbest: 0.4019829 (76)\ttotal: 1.31s\tremaining: 11.4s\n",
            "103:\tlearn: 0.3743657\ttest: 0.4024843\tbest: 0.4019829 (76)\ttotal: 1.33s\tremaining: 11.4s\n",
            "104:\tlearn: 0.3739346\ttest: 0.4026031\tbest: 0.4019829 (76)\ttotal: 1.34s\tremaining: 11.4s\n",
            "105:\tlearn: 0.3733420\ttest: 0.4028211\tbest: 0.4019829 (76)\ttotal: 1.36s\tremaining: 11.4s\n",
            "106:\tlearn: 0.3726128\ttest: 0.4031114\tbest: 0.4019829 (76)\ttotal: 1.37s\tremaining: 11.4s\n",
            "107:\tlearn: 0.3724681\ttest: 0.4031667\tbest: 0.4019829 (76)\ttotal: 1.38s\tremaining: 11.4s\n",
            "108:\tlearn: 0.3721634\ttest: 0.4031176\tbest: 0.4019829 (76)\ttotal: 1.4s\tremaining: 11.4s\n",
            "109:\tlearn: 0.3719746\ttest: 0.4030846\tbest: 0.4019829 (76)\ttotal: 1.42s\tremaining: 11.5s\n",
            "110:\tlearn: 0.3712239\ttest: 0.4028494\tbest: 0.4019829 (76)\ttotal: 1.43s\tremaining: 11.5s\n",
            "111:\tlearn: 0.3708024\ttest: 0.4028730\tbest: 0.4019829 (76)\ttotal: 1.45s\tremaining: 11.5s\n",
            "112:\tlearn: 0.3704825\ttest: 0.4028922\tbest: 0.4019829 (76)\ttotal: 1.46s\tremaining: 11.5s\n",
            "113:\tlearn: 0.3699676\ttest: 0.4028627\tbest: 0.4019829 (76)\ttotal: 1.48s\tremaining: 11.5s\n",
            "114:\tlearn: 0.3696457\ttest: 0.4028701\tbest: 0.4019829 (76)\ttotal: 1.49s\tremaining: 11.5s\n",
            "115:\tlearn: 0.3692702\ttest: 0.4029527\tbest: 0.4019829 (76)\ttotal: 1.5s\tremaining: 11.4s\n",
            "116:\tlearn: 0.3691679\ttest: 0.4029544\tbest: 0.4019829 (76)\ttotal: 1.51s\tremaining: 11.4s\n",
            "117:\tlearn: 0.3687519\ttest: 0.4029639\tbest: 0.4019829 (76)\ttotal: 1.53s\tremaining: 11.4s\n",
            "118:\tlearn: 0.3682840\ttest: 0.4032682\tbest: 0.4019829 (76)\ttotal: 1.54s\tremaining: 11.4s\n",
            "119:\tlearn: 0.3679619\ttest: 0.4032408\tbest: 0.4019829 (76)\ttotal: 1.56s\tremaining: 11.4s\n",
            "120:\tlearn: 0.3673042\ttest: 0.4029917\tbest: 0.4019829 (76)\ttotal: 1.57s\tremaining: 11.4s\n",
            "121:\tlearn: 0.3672391\ttest: 0.4029633\tbest: 0.4019829 (76)\ttotal: 1.58s\tremaining: 11.4s\n",
            "122:\tlearn: 0.3670953\ttest: 0.4029587\tbest: 0.4019829 (76)\ttotal: 1.6s\tremaining: 11.4s\n",
            "123:\tlearn: 0.3670424\ttest: 0.4030632\tbest: 0.4019829 (76)\ttotal: 1.61s\tremaining: 11.4s\n",
            "124:\tlearn: 0.3666384\ttest: 0.4029513\tbest: 0.4019829 (76)\ttotal: 1.62s\tremaining: 11.4s\n",
            "125:\tlearn: 0.3665482\ttest: 0.4030305\tbest: 0.4019829 (76)\ttotal: 1.64s\tremaining: 11.3s\n",
            "126:\tlearn: 0.3663966\ttest: 0.4030388\tbest: 0.4019829 (76)\ttotal: 1.65s\tremaining: 11.4s\n",
            "127:\tlearn: 0.3662943\ttest: 0.4031359\tbest: 0.4019829 (76)\ttotal: 1.66s\tremaining: 11.3s\n",
            "128:\tlearn: 0.3657386\ttest: 0.4034162\tbest: 0.4019829 (76)\ttotal: 1.68s\tremaining: 11.3s\n",
            "129:\tlearn: 0.3654048\ttest: 0.4035644\tbest: 0.4019829 (76)\ttotal: 1.69s\tremaining: 11.3s\n",
            "130:\tlearn: 0.3647979\ttest: 0.4032823\tbest: 0.4019829 (76)\ttotal: 1.71s\tremaining: 11.3s\n",
            "131:\tlearn: 0.3643957\ttest: 0.4033487\tbest: 0.4019829 (76)\ttotal: 1.72s\tremaining: 11.3s\n",
            "132:\tlearn: 0.3640151\ttest: 0.4035097\tbest: 0.4019829 (76)\ttotal: 1.73s\tremaining: 11.3s\n",
            "133:\tlearn: 0.3637596\ttest: 0.4034124\tbest: 0.4019829 (76)\ttotal: 1.75s\tremaining: 11.3s\n",
            "134:\tlearn: 0.3632616\ttest: 0.4033559\tbest: 0.4019829 (76)\ttotal: 1.77s\tremaining: 11.4s\n",
            "135:\tlearn: 0.3626825\ttest: 0.4033965\tbest: 0.4019829 (76)\ttotal: 1.79s\tremaining: 11.4s\n",
            "136:\tlearn: 0.3623185\ttest: 0.4033613\tbest: 0.4019829 (76)\ttotal: 1.8s\tremaining: 11.4s\n",
            "137:\tlearn: 0.3617539\ttest: 0.4030992\tbest: 0.4019829 (76)\ttotal: 1.82s\tremaining: 11.4s\n",
            "138:\tlearn: 0.3607935\ttest: 0.4028680\tbest: 0.4019829 (76)\ttotal: 1.83s\tremaining: 11.3s\n",
            "139:\tlearn: 0.3601802\ttest: 0.4027754\tbest: 0.4019829 (76)\ttotal: 1.84s\tremaining: 11.3s\n",
            "140:\tlearn: 0.3600231\ttest: 0.4027077\tbest: 0.4019829 (76)\ttotal: 1.86s\tremaining: 11.3s\n",
            "141:\tlearn: 0.3595946\ttest: 0.4026911\tbest: 0.4019829 (76)\ttotal: 1.87s\tremaining: 11.3s\n",
            "142:\tlearn: 0.3593526\ttest: 0.4026810\tbest: 0.4019829 (76)\ttotal: 1.89s\tremaining: 11.3s\n",
            "143:\tlearn: 0.3593093\ttest: 0.4026793\tbest: 0.4019829 (76)\ttotal: 1.9s\tremaining: 11.3s\n",
            "144:\tlearn: 0.3588835\ttest: 0.4026543\tbest: 0.4019829 (76)\ttotal: 1.91s\tremaining: 11.3s\n",
            "145:\tlearn: 0.3586509\ttest: 0.4027584\tbest: 0.4019829 (76)\ttotal: 1.93s\tremaining: 11.3s\n",
            "146:\tlearn: 0.3585335\ttest: 0.4027010\tbest: 0.4019829 (76)\ttotal: 1.94s\tremaining: 11.2s\n",
            "147:\tlearn: 0.3583523\ttest: 0.4027449\tbest: 0.4019829 (76)\ttotal: 1.95s\tremaining: 11.2s\n",
            "148:\tlearn: 0.3577480\ttest: 0.4025981\tbest: 0.4019829 (76)\ttotal: 1.96s\tremaining: 11.2s\n",
            "149:\tlearn: 0.3575294\ttest: 0.4025591\tbest: 0.4019829 (76)\ttotal: 1.99s\tremaining: 11.3s\n",
            "150:\tlearn: 0.3570574\ttest: 0.4027596\tbest: 0.4019829 (76)\ttotal: 2s\tremaining: 11.3s\n",
            "151:\tlearn: 0.3569047\ttest: 0.4027488\tbest: 0.4019829 (76)\ttotal: 2.02s\tremaining: 11.3s\n",
            "152:\tlearn: 0.3568590\ttest: 0.4027475\tbest: 0.4019829 (76)\ttotal: 2.03s\tremaining: 11.2s\n",
            "153:\tlearn: 0.3562800\ttest: 0.4029120\tbest: 0.4019829 (76)\ttotal: 2.04s\tremaining: 11.2s\n",
            "154:\tlearn: 0.3560021\ttest: 0.4031404\tbest: 0.4019829 (76)\ttotal: 2.06s\tremaining: 11.2s\n",
            "155:\tlearn: 0.3559298\ttest: 0.4031497\tbest: 0.4019829 (76)\ttotal: 2.07s\tremaining: 11.2s\n",
            "156:\tlearn: 0.3557873\ttest: 0.4031939\tbest: 0.4019829 (76)\ttotal: 2.09s\tremaining: 11.2s\n",
            "157:\tlearn: 0.3555909\ttest: 0.4031874\tbest: 0.4019829 (76)\ttotal: 2.1s\tremaining: 11.2s\n",
            "158:\tlearn: 0.3550482\ttest: 0.4030403\tbest: 0.4019829 (76)\ttotal: 2.12s\tremaining: 11.2s\n",
            "159:\tlearn: 0.3547276\ttest: 0.4030676\tbest: 0.4019829 (76)\ttotal: 2.13s\tremaining: 11.2s\n",
            "160:\tlearn: 0.3543367\ttest: 0.4032048\tbest: 0.4019829 (76)\ttotal: 2.14s\tremaining: 11.2s\n",
            "161:\tlearn: 0.3542479\ttest: 0.4031795\tbest: 0.4019829 (76)\ttotal: 2.16s\tremaining: 11.2s\n",
            "162:\tlearn: 0.3537961\ttest: 0.4032536\tbest: 0.4019829 (76)\ttotal: 2.17s\tremaining: 11.2s\n",
            "163:\tlearn: 0.3535664\ttest: 0.4033172\tbest: 0.4019829 (76)\ttotal: 2.19s\tremaining: 11.2s\n",
            "164:\tlearn: 0.3533242\ttest: 0.4034065\tbest: 0.4019829 (76)\ttotal: 2.2s\tremaining: 11.1s\n",
            "165:\tlearn: 0.3530493\ttest: 0.4033250\tbest: 0.4019829 (76)\ttotal: 2.21s\tremaining: 11.1s\n",
            "166:\tlearn: 0.3526304\ttest: 0.4031777\tbest: 0.4019829 (76)\ttotal: 2.23s\tremaining: 11.1s\n",
            "167:\tlearn: 0.3521158\ttest: 0.4034505\tbest: 0.4019829 (76)\ttotal: 2.24s\tremaining: 11.1s\n",
            "168:\tlearn: 0.3515081\ttest: 0.4035551\tbest: 0.4019829 (76)\ttotal: 2.26s\tremaining: 11.1s\n",
            "169:\tlearn: 0.3510036\ttest: 0.4038169\tbest: 0.4019829 (76)\ttotal: 2.27s\tremaining: 11.1s\n",
            "170:\tlearn: 0.3506766\ttest: 0.4037653\tbest: 0.4019829 (76)\ttotal: 2.29s\tremaining: 11.1s\n",
            "171:\tlearn: 0.3502391\ttest: 0.4036445\tbest: 0.4019829 (76)\ttotal: 2.3s\tremaining: 11.1s\n",
            "172:\tlearn: 0.3500968\ttest: 0.4036739\tbest: 0.4019829 (76)\ttotal: 2.31s\tremaining: 11.1s\n",
            "173:\tlearn: 0.3497692\ttest: 0.4036680\tbest: 0.4019829 (76)\ttotal: 2.33s\tremaining: 11.1s\n",
            "174:\tlearn: 0.3493404\ttest: 0.4037751\tbest: 0.4019829 (76)\ttotal: 2.34s\tremaining: 11s\n",
            "175:\tlearn: 0.3485335\ttest: 0.4034090\tbest: 0.4019829 (76)\ttotal: 2.36s\tremaining: 11s\n",
            "176:\tlearn: 0.3478327\ttest: 0.4034839\tbest: 0.4019829 (76)\ttotal: 2.37s\tremaining: 11s\n",
            "177:\tlearn: 0.3473632\ttest: 0.4030811\tbest: 0.4019829 (76)\ttotal: 2.38s\tremaining: 11s\n",
            "178:\tlearn: 0.3468771\ttest: 0.4031860\tbest: 0.4019829 (76)\ttotal: 2.4s\tremaining: 11s\n",
            "179:\tlearn: 0.3463998\ttest: 0.4031468\tbest: 0.4019829 (76)\ttotal: 2.41s\tremaining: 11s\n",
            "180:\tlearn: 0.3459140\ttest: 0.4035145\tbest: 0.4019829 (76)\ttotal: 2.43s\tremaining: 11s\n",
            "181:\tlearn: 0.3455485\ttest: 0.4035815\tbest: 0.4019829 (76)\ttotal: 2.44s\tremaining: 11s\n",
            "182:\tlearn: 0.3452295\ttest: 0.4033551\tbest: 0.4019829 (76)\ttotal: 2.46s\tremaining: 11s\n",
            "183:\tlearn: 0.3449146\ttest: 0.4034876\tbest: 0.4019829 (76)\ttotal: 2.48s\tremaining: 11s\n",
            "184:\tlearn: 0.3443678\ttest: 0.4036778\tbest: 0.4019829 (76)\ttotal: 2.49s\tremaining: 11s\n",
            "185:\tlearn: 0.3440998\ttest: 0.4036102\tbest: 0.4019829 (76)\ttotal: 2.5s\tremaining: 11s\n",
            "186:\tlearn: 0.3437560\ttest: 0.4035062\tbest: 0.4019829 (76)\ttotal: 2.52s\tremaining: 10.9s\n",
            "187:\tlearn: 0.3435661\ttest: 0.4035323\tbest: 0.4019829 (76)\ttotal: 2.53s\tremaining: 10.9s\n",
            "188:\tlearn: 0.3433184\ttest: 0.4035288\tbest: 0.4019829 (76)\ttotal: 2.54s\tremaining: 10.9s\n",
            "189:\tlearn: 0.3430708\ttest: 0.4035516\tbest: 0.4019829 (76)\ttotal: 2.56s\tremaining: 10.9s\n",
            "190:\tlearn: 0.3427097\ttest: 0.4036270\tbest: 0.4019829 (76)\ttotal: 2.57s\tremaining: 10.9s\n",
            "191:\tlearn: 0.3422697\ttest: 0.4035612\tbest: 0.4019829 (76)\ttotal: 2.59s\tremaining: 10.9s\n",
            "192:\tlearn: 0.3418109\ttest: 0.4035579\tbest: 0.4019829 (76)\ttotal: 2.6s\tremaining: 10.9s\n",
            "193:\tlearn: 0.3414143\ttest: 0.4037079\tbest: 0.4019829 (76)\ttotal: 2.62s\tremaining: 10.9s\n",
            "194:\tlearn: 0.3411325\ttest: 0.4038056\tbest: 0.4019829 (76)\ttotal: 2.63s\tremaining: 10.9s\n",
            "195:\tlearn: 0.3409032\ttest: 0.4037552\tbest: 0.4019829 (76)\ttotal: 2.65s\tremaining: 10.9s\n",
            "196:\tlearn: 0.3405934\ttest: 0.4038083\tbest: 0.4019829 (76)\ttotal: 2.66s\tremaining: 10.8s\n",
            "197:\tlearn: 0.3400274\ttest: 0.4039475\tbest: 0.4019829 (76)\ttotal: 2.69s\tremaining: 10.9s\n",
            "198:\tlearn: 0.3400094\ttest: 0.4039613\tbest: 0.4019829 (76)\ttotal: 2.71s\tremaining: 10.9s\n",
            "199:\tlearn: 0.3397719\ttest: 0.4039966\tbest: 0.4019829 (76)\ttotal: 2.72s\tremaining: 10.9s\n",
            "200:\tlearn: 0.3392808\ttest: 0.4040845\tbest: 0.4019829 (76)\ttotal: 2.73s\tremaining: 10.9s\n",
            "201:\tlearn: 0.3385104\ttest: 0.4042308\tbest: 0.4019829 (76)\ttotal: 2.75s\tremaining: 10.9s\n",
            "202:\tlearn: 0.3381925\ttest: 0.4043940\tbest: 0.4019829 (76)\ttotal: 2.77s\tremaining: 10.9s\n",
            "203:\tlearn: 0.3374882\ttest: 0.4043043\tbest: 0.4019829 (76)\ttotal: 2.79s\tremaining: 10.9s\n",
            "204:\tlearn: 0.3372160\ttest: 0.4045319\tbest: 0.4019829 (76)\ttotal: 2.81s\tremaining: 10.9s\n",
            "205:\tlearn: 0.3370131\ttest: 0.4045658\tbest: 0.4019829 (76)\ttotal: 2.82s\tremaining: 10.9s\n",
            "206:\tlearn: 0.3368092\ttest: 0.4044669\tbest: 0.4019829 (76)\ttotal: 2.84s\tremaining: 10.9s\n",
            "207:\tlearn: 0.3366138\ttest: 0.4046122\tbest: 0.4019829 (76)\ttotal: 2.85s\tremaining: 10.9s\n",
            "208:\tlearn: 0.3363943\ttest: 0.4045928\tbest: 0.4019829 (76)\ttotal: 2.87s\tremaining: 10.9s\n",
            "209:\tlearn: 0.3362710\ttest: 0.4045998\tbest: 0.4019829 (76)\ttotal: 2.88s\tremaining: 10.8s\n",
            "210:\tlearn: 0.3357778\ttest: 0.4045968\tbest: 0.4019829 (76)\ttotal: 2.9s\tremaining: 10.8s\n",
            "211:\tlearn: 0.3353162\ttest: 0.4047289\tbest: 0.4019829 (76)\ttotal: 2.91s\tremaining: 10.8s\n",
            "212:\tlearn: 0.3349854\ttest: 0.4047249\tbest: 0.4019829 (76)\ttotal: 2.92s\tremaining: 10.8s\n",
            "213:\tlearn: 0.3343384\ttest: 0.4043884\tbest: 0.4019829 (76)\ttotal: 2.94s\tremaining: 10.8s\n",
            "214:\tlearn: 0.3341231\ttest: 0.4044209\tbest: 0.4019829 (76)\ttotal: 2.95s\tremaining: 10.8s\n",
            "215:\tlearn: 0.3338889\ttest: 0.4044118\tbest: 0.4019829 (76)\ttotal: 2.97s\tremaining: 10.8s\n",
            "216:\tlearn: 0.3338311\ttest: 0.4044664\tbest: 0.4019829 (76)\ttotal: 2.98s\tremaining: 10.8s\n",
            "217:\tlearn: 0.3331657\ttest: 0.4040364\tbest: 0.4019829 (76)\ttotal: 3s\tremaining: 10.7s\n",
            "218:\tlearn: 0.3326639\ttest: 0.4037867\tbest: 0.4019829 (76)\ttotal: 3.01s\tremaining: 10.7s\n",
            "219:\tlearn: 0.3322827\ttest: 0.4039721\tbest: 0.4019829 (76)\ttotal: 3.02s\tremaining: 10.7s\n",
            "220:\tlearn: 0.3322022\ttest: 0.4040530\tbest: 0.4019829 (76)\ttotal: 3.04s\tremaining: 10.7s\n",
            "221:\tlearn: 0.3317549\ttest: 0.4040694\tbest: 0.4019829 (76)\ttotal: 3.06s\tremaining: 10.7s\n",
            "222:\tlearn: 0.3313862\ttest: 0.4044958\tbest: 0.4019829 (76)\ttotal: 3.07s\tremaining: 10.7s\n",
            "223:\tlearn: 0.3311606\ttest: 0.4045186\tbest: 0.4019829 (76)\ttotal: 3.09s\tremaining: 10.7s\n",
            "224:\tlearn: 0.3308316\ttest: 0.4046829\tbest: 0.4019829 (76)\ttotal: 3.1s\tremaining: 10.7s\n",
            "225:\tlearn: 0.3307704\ttest: 0.4047042\tbest: 0.4019829 (76)\ttotal: 3.11s\tremaining: 10.7s\n",
            "226:\tlearn: 0.3304935\ttest: 0.4048135\tbest: 0.4019829 (76)\ttotal: 3.13s\tremaining: 10.7s\n",
            "227:\tlearn: 0.3303695\ttest: 0.4048646\tbest: 0.4019829 (76)\ttotal: 3.14s\tremaining: 10.6s\n",
            "228:\tlearn: 0.3298855\ttest: 0.4047714\tbest: 0.4019829 (76)\ttotal: 3.15s\tremaining: 10.6s\n",
            "229:\tlearn: 0.3296172\ttest: 0.4047094\tbest: 0.4019829 (76)\ttotal: 3.17s\tremaining: 10.6s\n",
            "230:\tlearn: 0.3293188\ttest: 0.4048571\tbest: 0.4019829 (76)\ttotal: 3.18s\tremaining: 10.6s\n",
            "231:\tlearn: 0.3291873\ttest: 0.4047491\tbest: 0.4019829 (76)\ttotal: 3.2s\tremaining: 10.6s\n",
            "232:\tlearn: 0.3287307\ttest: 0.4048088\tbest: 0.4019829 (76)\ttotal: 3.21s\tremaining: 10.6s\n",
            "233:\tlearn: 0.3283395\ttest: 0.4049748\tbest: 0.4019829 (76)\ttotal: 3.23s\tremaining: 10.6s\n",
            "234:\tlearn: 0.3280374\ttest: 0.4049557\tbest: 0.4019829 (76)\ttotal: 3.24s\tremaining: 10.6s\n",
            "235:\tlearn: 0.3276651\ttest: 0.4049388\tbest: 0.4019829 (76)\ttotal: 3.26s\tremaining: 10.5s\n",
            "236:\tlearn: 0.3274728\ttest: 0.4050487\tbest: 0.4019829 (76)\ttotal: 3.27s\tremaining: 10.5s\n",
            "237:\tlearn: 0.3271499\ttest: 0.4052005\tbest: 0.4019829 (76)\ttotal: 3.29s\tremaining: 10.5s\n",
            "238:\tlearn: 0.3267896\ttest: 0.4050737\tbest: 0.4019829 (76)\ttotal: 3.3s\tremaining: 10.5s\n",
            "239:\tlearn: 0.3264996\ttest: 0.4052611\tbest: 0.4019829 (76)\ttotal: 3.32s\tremaining: 10.5s\n",
            "240:\tlearn: 0.3262798\ttest: 0.4052283\tbest: 0.4019829 (76)\ttotal: 3.33s\tremaining: 10.5s\n",
            "241:\tlearn: 0.3260028\ttest: 0.4051310\tbest: 0.4019829 (76)\ttotal: 3.35s\tremaining: 10.5s\n",
            "242:\tlearn: 0.3257328\ttest: 0.4050787\tbest: 0.4019829 (76)\ttotal: 3.36s\tremaining: 10.5s\n",
            "243:\tlearn: 0.3254726\ttest: 0.4051810\tbest: 0.4019829 (76)\ttotal: 3.37s\tremaining: 10.4s\n",
            "244:\tlearn: 0.3252422\ttest: 0.4052443\tbest: 0.4019829 (76)\ttotal: 3.39s\tremaining: 10.4s\n",
            "245:\tlearn: 0.3248695\ttest: 0.4051397\tbest: 0.4019829 (76)\ttotal: 3.4s\tremaining: 10.4s\n",
            "246:\tlearn: 0.3246035\ttest: 0.4051212\tbest: 0.4019829 (76)\ttotal: 3.41s\tremaining: 10.4s\n",
            "247:\tlearn: 0.3242884\ttest: 0.4050336\tbest: 0.4019829 (76)\ttotal: 3.43s\tremaining: 10.4s\n",
            "248:\tlearn: 0.3240600\ttest: 0.4051063\tbest: 0.4019829 (76)\ttotal: 3.44s\tremaining: 10.4s\n",
            "249:\tlearn: 0.3239288\ttest: 0.4051107\tbest: 0.4019829 (76)\ttotal: 3.46s\tremaining: 10.4s\n",
            "250:\tlearn: 0.3237970\ttest: 0.4051369\tbest: 0.4019829 (76)\ttotal: 3.47s\tremaining: 10.4s\n",
            "251:\tlearn: 0.3234048\ttest: 0.4052214\tbest: 0.4019829 (76)\ttotal: 3.49s\tremaining: 10.3s\n",
            "252:\tlearn: 0.3232432\ttest: 0.4053514\tbest: 0.4019829 (76)\ttotal: 3.5s\tremaining: 10.3s\n",
            "253:\tlearn: 0.3229152\ttest: 0.4053633\tbest: 0.4019829 (76)\ttotal: 3.52s\tremaining: 10.3s\n",
            "254:\tlearn: 0.3228738\ttest: 0.4054112\tbest: 0.4019829 (76)\ttotal: 3.53s\tremaining: 10.3s\n",
            "255:\tlearn: 0.3226096\ttest: 0.4055875\tbest: 0.4019829 (76)\ttotal: 3.54s\tremaining: 10.3s\n",
            "256:\tlearn: 0.3219872\ttest: 0.4056247\tbest: 0.4019829 (76)\ttotal: 3.56s\tremaining: 10.3s\n",
            "257:\tlearn: 0.3215185\ttest: 0.4053935\tbest: 0.4019829 (76)\ttotal: 3.57s\tremaining: 10.3s\n",
            "258:\tlearn: 0.3214001\ttest: 0.4054732\tbest: 0.4019829 (76)\ttotal: 3.58s\tremaining: 10.3s\n",
            "259:\tlearn: 0.3212402\ttest: 0.4056173\tbest: 0.4019829 (76)\ttotal: 3.6s\tremaining: 10.2s\n",
            "260:\tlearn: 0.3210174\ttest: 0.4055601\tbest: 0.4019829 (76)\ttotal: 3.61s\tremaining: 10.2s\n",
            "261:\tlearn: 0.3207523\ttest: 0.4055140\tbest: 0.4019829 (76)\ttotal: 3.63s\tremaining: 10.2s\n",
            "262:\tlearn: 0.3203736\ttest: 0.4053962\tbest: 0.4019829 (76)\ttotal: 3.64s\tremaining: 10.2s\n",
            "263:\tlearn: 0.3202124\ttest: 0.4057271\tbest: 0.4019829 (76)\ttotal: 3.65s\tremaining: 10.2s\n",
            "264:\tlearn: 0.3196309\ttest: 0.4057136\tbest: 0.4019829 (76)\ttotal: 3.67s\tremaining: 10.2s\n",
            "265:\tlearn: 0.3193083\ttest: 0.4055820\tbest: 0.4019829 (76)\ttotal: 3.68s\tremaining: 10.2s\n",
            "266:\tlearn: 0.3192619\ttest: 0.4055785\tbest: 0.4019829 (76)\ttotal: 3.7s\tremaining: 10.2s\n",
            "267:\tlearn: 0.3192137\ttest: 0.4055659\tbest: 0.4019829 (76)\ttotal: 3.71s\tremaining: 10.1s\n",
            "268:\tlearn: 0.3187621\ttest: 0.4058085\tbest: 0.4019829 (76)\ttotal: 3.73s\tremaining: 10.1s\n",
            "269:\tlearn: 0.3185056\ttest: 0.4057837\tbest: 0.4019829 (76)\ttotal: 3.74s\tremaining: 10.1s\n",
            "270:\tlearn: 0.3182316\ttest: 0.4057636\tbest: 0.4019829 (76)\ttotal: 3.75s\tremaining: 10.1s\n",
            "271:\tlearn: 0.3177282\ttest: 0.4058902\tbest: 0.4019829 (76)\ttotal: 3.77s\tremaining: 10.1s\n",
            "272:\tlearn: 0.3175759\ttest: 0.4059733\tbest: 0.4019829 (76)\ttotal: 3.79s\tremaining: 10.1s\n",
            "273:\tlearn: 0.3171657\ttest: 0.4061158\tbest: 0.4019829 (76)\ttotal: 3.81s\tremaining: 10.1s\n",
            "274:\tlearn: 0.3169301\ttest: 0.4063104\tbest: 0.4019829 (76)\ttotal: 3.83s\tremaining: 10.1s\n",
            "275:\tlearn: 0.3163366\ttest: 0.4063259\tbest: 0.4019829 (76)\ttotal: 3.84s\tremaining: 10.1s\n",
            "276:\tlearn: 0.3161089\ttest: 0.4064816\tbest: 0.4019829 (76)\ttotal: 3.86s\tremaining: 10.1s\n",
            "277:\tlearn: 0.3159662\ttest: 0.4064303\tbest: 0.4019829 (76)\ttotal: 3.87s\tremaining: 10.1s\n",
            "278:\tlearn: 0.3155550\ttest: 0.4065742\tbest: 0.4019829 (76)\ttotal: 3.89s\tremaining: 10.1s\n",
            "279:\tlearn: 0.3154040\ttest: 0.4065885\tbest: 0.4019829 (76)\ttotal: 3.9s\tremaining: 10s\n",
            "280:\tlearn: 0.3152328\ttest: 0.4066584\tbest: 0.4019829 (76)\ttotal: 3.92s\tremaining: 10s\n",
            "281:\tlearn: 0.3150436\ttest: 0.4066370\tbest: 0.4019829 (76)\ttotal: 3.94s\tremaining: 10s\n",
            "282:\tlearn: 0.3148934\ttest: 0.4066486\tbest: 0.4019829 (76)\ttotal: 3.95s\tremaining: 10s\n",
            "283:\tlearn: 0.3147142\ttest: 0.4066114\tbest: 0.4019829 (76)\ttotal: 3.96s\tremaining: 9.99s\n",
            "284:\tlearn: 0.3144704\ttest: 0.4066421\tbest: 0.4019829 (76)\ttotal: 3.98s\tremaining: 9.98s\n",
            "285:\tlearn: 0.3142361\ttest: 0.4069683\tbest: 0.4019829 (76)\ttotal: 3.99s\tremaining: 9.97s\n",
            "286:\tlearn: 0.3139029\ttest: 0.4068385\tbest: 0.4019829 (76)\ttotal: 4.01s\tremaining: 9.96s\n",
            "287:\tlearn: 0.3136264\ttest: 0.4069303\tbest: 0.4019829 (76)\ttotal: 4.02s\tremaining: 9.95s\n",
            "288:\tlearn: 0.3134294\ttest: 0.4072536\tbest: 0.4019829 (76)\ttotal: 4.04s\tremaining: 9.93s\n",
            "289:\tlearn: 0.3129981\ttest: 0.4074592\tbest: 0.4019829 (76)\ttotal: 4.05s\tremaining: 9.92s\n",
            "290:\tlearn: 0.3128690\ttest: 0.4074594\tbest: 0.4019829 (76)\ttotal: 4.07s\tremaining: 9.91s\n",
            "291:\tlearn: 0.3126696\ttest: 0.4073668\tbest: 0.4019829 (76)\ttotal: 4.09s\tremaining: 9.91s\n",
            "292:\tlearn: 0.3124026\ttest: 0.4073814\tbest: 0.4019829 (76)\ttotal: 4.1s\tremaining: 9.89s\n",
            "293:\tlearn: 0.3123021\ttest: 0.4072736\tbest: 0.4019829 (76)\ttotal: 4.12s\tremaining: 9.88s\n",
            "294:\tlearn: 0.3121585\ttest: 0.4074321\tbest: 0.4019829 (76)\ttotal: 4.13s\tremaining: 9.87s\n",
            "295:\tlearn: 0.3120695\ttest: 0.4074455\tbest: 0.4019829 (76)\ttotal: 4.14s\tremaining: 9.86s\n",
            "296:\tlearn: 0.3119307\ttest: 0.4074519\tbest: 0.4019829 (76)\ttotal: 4.16s\tremaining: 9.84s\n",
            "297:\tlearn: 0.3114832\ttest: 0.4073866\tbest: 0.4019829 (76)\ttotal: 4.17s\tremaining: 9.82s\n",
            "298:\tlearn: 0.3113319\ttest: 0.4073109\tbest: 0.4019829 (76)\ttotal: 4.18s\tremaining: 9.81s\n",
            "299:\tlearn: 0.3109822\ttest: 0.4073826\tbest: 0.4019829 (76)\ttotal: 4.2s\tremaining: 9.8s\n",
            "300:\tlearn: 0.3108874\ttest: 0.4074544\tbest: 0.4019829 (76)\ttotal: 4.21s\tremaining: 9.79s\n",
            "301:\tlearn: 0.3105820\ttest: 0.4075612\tbest: 0.4019829 (76)\ttotal: 4.23s\tremaining: 9.77s\n",
            "302:\tlearn: 0.3102550\ttest: 0.4076972\tbest: 0.4019829 (76)\ttotal: 4.24s\tremaining: 9.76s\n",
            "303:\tlearn: 0.3100119\ttest: 0.4076528\tbest: 0.4019829 (76)\ttotal: 4.26s\tremaining: 9.75s\n",
            "304:\tlearn: 0.3097403\ttest: 0.4076324\tbest: 0.4019829 (76)\ttotal: 4.27s\tremaining: 9.73s\n",
            "305:\tlearn: 0.3092997\ttest: 0.4075918\tbest: 0.4019829 (76)\ttotal: 4.29s\tremaining: 9.73s\n",
            "306:\tlearn: 0.3087513\ttest: 0.4078557\tbest: 0.4019829 (76)\ttotal: 4.3s\tremaining: 9.72s\n",
            "307:\tlearn: 0.3085035\ttest: 0.4080581\tbest: 0.4019829 (76)\ttotal: 4.32s\tremaining: 9.71s\n",
            "308:\tlearn: 0.3081579\ttest: 0.4080988\tbest: 0.4019829 (76)\ttotal: 4.33s\tremaining: 9.69s\n",
            "309:\tlearn: 0.3075148\ttest: 0.4082874\tbest: 0.4019829 (76)\ttotal: 4.35s\tremaining: 9.68s\n",
            "310:\tlearn: 0.3071756\ttest: 0.4084634\tbest: 0.4019829 (76)\ttotal: 4.36s\tremaining: 9.67s\n",
            "311:\tlearn: 0.3068384\ttest: 0.4088935\tbest: 0.4019829 (76)\ttotal: 4.38s\tremaining: 9.66s\n",
            "312:\tlearn: 0.3066622\ttest: 0.4088399\tbest: 0.4019829 (76)\ttotal: 4.39s\tremaining: 9.64s\n",
            "313:\tlearn: 0.3063353\ttest: 0.4088475\tbest: 0.4019829 (76)\ttotal: 4.41s\tremaining: 9.63s\n",
            "314:\tlearn: 0.3062792\ttest: 0.4087894\tbest: 0.4019829 (76)\ttotal: 4.42s\tremaining: 9.61s\n",
            "315:\tlearn: 0.3058362\ttest: 0.4087882\tbest: 0.4019829 (76)\ttotal: 4.43s\tremaining: 9.6s\n",
            "316:\tlearn: 0.3054249\ttest: 0.4088246\tbest: 0.4019829 (76)\ttotal: 4.45s\tremaining: 9.59s\n",
            "317:\tlearn: 0.3053014\ttest: 0.4088351\tbest: 0.4019829 (76)\ttotal: 4.46s\tremaining: 9.57s\n",
            "318:\tlearn: 0.3050755\ttest: 0.4087546\tbest: 0.4019829 (76)\ttotal: 4.48s\tremaining: 9.56s\n",
            "319:\tlearn: 0.3046218\ttest: 0.4087642\tbest: 0.4019829 (76)\ttotal: 4.5s\tremaining: 9.56s\n",
            "320:\tlearn: 0.3041960\ttest: 0.4088842\tbest: 0.4019829 (76)\ttotal: 4.51s\tremaining: 9.54s\n",
            "321:\tlearn: 0.3037795\ttest: 0.4090412\tbest: 0.4019829 (76)\ttotal: 4.53s\tremaining: 9.53s\n",
            "322:\tlearn: 0.3034610\ttest: 0.4091138\tbest: 0.4019829 (76)\ttotal: 4.54s\tremaining: 9.52s\n",
            "323:\tlearn: 0.3032143\ttest: 0.4090915\tbest: 0.4019829 (76)\ttotal: 4.56s\tremaining: 9.51s\n",
            "324:\tlearn: 0.3031205\ttest: 0.4091358\tbest: 0.4019829 (76)\ttotal: 4.57s\tremaining: 9.5s\n",
            "325:\tlearn: 0.3026285\ttest: 0.4091931\tbest: 0.4019829 (76)\ttotal: 4.59s\tremaining: 9.49s\n",
            "326:\tlearn: 0.3024862\ttest: 0.4091600\tbest: 0.4019829 (76)\ttotal: 4.6s\tremaining: 9.48s\n",
            "327:\tlearn: 0.3019693\ttest: 0.4091315\tbest: 0.4019829 (76)\ttotal: 4.62s\tremaining: 9.46s\n",
            "328:\tlearn: 0.3015460\ttest: 0.4091969\tbest: 0.4019829 (76)\ttotal: 4.63s\tremaining: 9.45s\n",
            "329:\tlearn: 0.3009721\ttest: 0.4092645\tbest: 0.4019829 (76)\ttotal: 4.65s\tremaining: 9.43s\n",
            "330:\tlearn: 0.3008530\ttest: 0.4092166\tbest: 0.4019829 (76)\ttotal: 4.66s\tremaining: 9.42s\n",
            "331:\tlearn: 0.3006933\ttest: 0.4093388\tbest: 0.4019829 (76)\ttotal: 4.67s\tremaining: 9.41s\n",
            "332:\tlearn: 0.3004648\ttest: 0.4093501\tbest: 0.4019829 (76)\ttotal: 4.69s\tremaining: 9.39s\n",
            "333:\tlearn: 0.3000421\ttest: 0.4094328\tbest: 0.4019829 (76)\ttotal: 4.71s\tremaining: 9.38s\n",
            "334:\tlearn: 0.2999494\ttest: 0.4094548\tbest: 0.4019829 (76)\ttotal: 4.72s\tremaining: 9.37s\n",
            "335:\tlearn: 0.2995957\ttest: 0.4094389\tbest: 0.4019829 (76)\ttotal: 4.74s\tremaining: 9.36s\n",
            "336:\tlearn: 0.2995923\ttest: 0.4094430\tbest: 0.4019829 (76)\ttotal: 4.75s\tremaining: 9.34s\n",
            "337:\tlearn: 0.2991893\ttest: 0.4094167\tbest: 0.4019829 (76)\ttotal: 4.76s\tremaining: 9.32s\n",
            "338:\tlearn: 0.2987673\ttest: 0.4098695\tbest: 0.4019829 (76)\ttotal: 4.78s\tremaining: 9.31s\n",
            "339:\tlearn: 0.2981263\ttest: 0.4099123\tbest: 0.4019829 (76)\ttotal: 4.79s\tremaining: 9.3s\n",
            "340:\tlearn: 0.2978992\ttest: 0.4102075\tbest: 0.4019829 (76)\ttotal: 4.82s\tremaining: 9.3s\n",
            "341:\tlearn: 0.2976589\ttest: 0.4103533\tbest: 0.4019829 (76)\ttotal: 4.83s\tremaining: 9.3s\n",
            "342:\tlearn: 0.2972606\ttest: 0.4103377\tbest: 0.4019829 (76)\ttotal: 4.84s\tremaining: 9.28s\n",
            "343:\tlearn: 0.2969866\ttest: 0.4103803\tbest: 0.4019829 (76)\ttotal: 4.86s\tremaining: 9.27s\n",
            "344:\tlearn: 0.2967387\ttest: 0.4103413\tbest: 0.4019829 (76)\ttotal: 4.88s\tremaining: 9.26s\n",
            "345:\tlearn: 0.2963716\ttest: 0.4103735\tbest: 0.4019829 (76)\ttotal: 4.89s\tremaining: 9.25s\n",
            "346:\tlearn: 0.2962846\ttest: 0.4104468\tbest: 0.4019829 (76)\ttotal: 4.91s\tremaining: 9.23s\n",
            "347:\tlearn: 0.2961947\ttest: 0.4104664\tbest: 0.4019829 (76)\ttotal: 4.92s\tremaining: 9.22s\n",
            "348:\tlearn: 0.2959991\ttest: 0.4105317\tbest: 0.4019829 (76)\ttotal: 4.94s\tremaining: 9.21s\n",
            "349:\tlearn: 0.2957082\ttest: 0.4105915\tbest: 0.4019829 (76)\ttotal: 4.95s\tremaining: 9.2s\n",
            "350:\tlearn: 0.2954622\ttest: 0.4105943\tbest: 0.4019829 (76)\ttotal: 4.96s\tremaining: 9.18s\n",
            "351:\tlearn: 0.2952759\ttest: 0.4105965\tbest: 0.4019829 (76)\ttotal: 4.98s\tremaining: 9.17s\n",
            "352:\tlearn: 0.2949954\ttest: 0.4108696\tbest: 0.4019829 (76)\ttotal: 4.99s\tremaining: 9.15s\n",
            "353:\tlearn: 0.2946843\ttest: 0.4110051\tbest: 0.4019829 (76)\ttotal: 5.01s\tremaining: 9.14s\n",
            "354:\tlearn: 0.2945296\ttest: 0.4109513\tbest: 0.4019829 (76)\ttotal: 5.02s\tremaining: 9.13s\n",
            "355:\tlearn: 0.2942476\ttest: 0.4112114\tbest: 0.4019829 (76)\ttotal: 5.04s\tremaining: 9.11s\n",
            "356:\tlearn: 0.2939021\ttest: 0.4111657\tbest: 0.4019829 (76)\ttotal: 5.05s\tremaining: 9.1s\n",
            "357:\tlearn: 0.2934891\ttest: 0.4115984\tbest: 0.4019829 (76)\ttotal: 5.07s\tremaining: 9.09s\n",
            "358:\tlearn: 0.2934578\ttest: 0.4116446\tbest: 0.4019829 (76)\ttotal: 5.08s\tremaining: 9.07s\n",
            "359:\tlearn: 0.2931456\ttest: 0.4117899\tbest: 0.4019829 (76)\ttotal: 5.09s\tremaining: 9.06s\n",
            "360:\tlearn: 0.2926230\ttest: 0.4120155\tbest: 0.4019829 (76)\ttotal: 5.11s\tremaining: 9.05s\n",
            "361:\tlearn: 0.2924451\ttest: 0.4120516\tbest: 0.4019829 (76)\ttotal: 5.13s\tremaining: 9.03s\n",
            "362:\tlearn: 0.2923372\ttest: 0.4120213\tbest: 0.4019829 (76)\ttotal: 5.14s\tremaining: 9.02s\n",
            "363:\tlearn: 0.2919863\ttest: 0.4123717\tbest: 0.4019829 (76)\ttotal: 5.16s\tremaining: 9.01s\n",
            "364:\tlearn: 0.2915064\ttest: 0.4127043\tbest: 0.4019829 (76)\ttotal: 5.17s\tremaining: 8.99s\n",
            "365:\tlearn: 0.2912797\ttest: 0.4128007\tbest: 0.4019829 (76)\ttotal: 5.18s\tremaining: 8.98s\n",
            "366:\tlearn: 0.2910263\ttest: 0.4130067\tbest: 0.4019829 (76)\ttotal: 5.2s\tremaining: 8.97s\n",
            "367:\tlearn: 0.2909313\ttest: 0.4130721\tbest: 0.4019829 (76)\ttotal: 5.21s\tremaining: 8.95s\n",
            "368:\tlearn: 0.2907683\ttest: 0.4132319\tbest: 0.4019829 (76)\ttotal: 5.23s\tremaining: 8.94s\n",
            "369:\tlearn: 0.2906237\ttest: 0.4133328\tbest: 0.4019829 (76)\ttotal: 5.24s\tremaining: 8.93s\n",
            "370:\tlearn: 0.2903074\ttest: 0.4135201\tbest: 0.4019829 (76)\ttotal: 5.26s\tremaining: 8.92s\n",
            "371:\tlearn: 0.2898954\ttest: 0.4138184\tbest: 0.4019829 (76)\ttotal: 5.28s\tremaining: 8.9s\n",
            "372:\tlearn: 0.2896908\ttest: 0.4140782\tbest: 0.4019829 (76)\ttotal: 5.29s\tremaining: 8.89s\n",
            "373:\tlearn: 0.2892842\ttest: 0.4140256\tbest: 0.4019829 (76)\ttotal: 5.3s\tremaining: 8.88s\n",
            "374:\tlearn: 0.2890806\ttest: 0.4141324\tbest: 0.4019829 (76)\ttotal: 5.32s\tremaining: 8.87s\n",
            "375:\tlearn: 0.2886144\ttest: 0.4140217\tbest: 0.4019829 (76)\ttotal: 5.33s\tremaining: 8.85s\n",
            "376:\tlearn: 0.2883640\ttest: 0.4141329\tbest: 0.4019829 (76)\ttotal: 5.35s\tremaining: 8.84s\n",
            "377:\tlearn: 0.2879850\ttest: 0.4143026\tbest: 0.4019829 (76)\ttotal: 5.36s\tremaining: 8.83s\n",
            "378:\tlearn: 0.2875709\ttest: 0.4147468\tbest: 0.4019829 (76)\ttotal: 5.38s\tremaining: 8.81s\n",
            "379:\tlearn: 0.2873161\ttest: 0.4147318\tbest: 0.4019829 (76)\ttotal: 5.39s\tremaining: 8.8s\n",
            "380:\tlearn: 0.2870918\ttest: 0.4146874\tbest: 0.4019829 (76)\ttotal: 5.41s\tremaining: 8.79s\n",
            "381:\tlearn: 0.2868342\ttest: 0.4148439\tbest: 0.4019829 (76)\ttotal: 5.42s\tremaining: 8.77s\n",
            "382:\tlearn: 0.2865952\ttest: 0.4146909\tbest: 0.4019829 (76)\ttotal: 5.44s\tremaining: 8.76s\n",
            "383:\tlearn: 0.2864296\ttest: 0.4147683\tbest: 0.4019829 (76)\ttotal: 5.45s\tremaining: 8.75s\n",
            "384:\tlearn: 0.2860952\ttest: 0.4150739\tbest: 0.4019829 (76)\ttotal: 5.47s\tremaining: 8.73s\n",
            "385:\tlearn: 0.2860058\ttest: 0.4150122\tbest: 0.4019829 (76)\ttotal: 5.48s\tremaining: 8.72s\n",
            "386:\tlearn: 0.2858680\ttest: 0.4151436\tbest: 0.4019829 (76)\ttotal: 5.5s\tremaining: 8.7s\n",
            "387:\tlearn: 0.2856007\ttest: 0.4151064\tbest: 0.4019829 (76)\ttotal: 5.51s\tremaining: 8.69s\n",
            "388:\tlearn: 0.2853017\ttest: 0.4151736\tbest: 0.4019829 (76)\ttotal: 5.53s\tremaining: 8.68s\n",
            "389:\tlearn: 0.2849957\ttest: 0.4152317\tbest: 0.4019829 (76)\ttotal: 5.54s\tremaining: 8.67s\n",
            "390:\tlearn: 0.2848726\ttest: 0.4152571\tbest: 0.4019829 (76)\ttotal: 5.55s\tremaining: 8.65s\n",
            "391:\tlearn: 0.2847687\ttest: 0.4152151\tbest: 0.4019829 (76)\ttotal: 5.57s\tremaining: 8.64s\n",
            "392:\tlearn: 0.2845389\ttest: 0.4152029\tbest: 0.4019829 (76)\ttotal: 5.59s\tremaining: 8.63s\n",
            "393:\tlearn: 0.2842409\ttest: 0.4152558\tbest: 0.4019829 (76)\ttotal: 5.6s\tremaining: 8.62s\n",
            "394:\tlearn: 0.2838634\ttest: 0.4153620\tbest: 0.4019829 (76)\ttotal: 5.62s\tremaining: 8.61s\n",
            "395:\tlearn: 0.2836706\ttest: 0.4153896\tbest: 0.4019829 (76)\ttotal: 5.63s\tremaining: 8.59s\n",
            "396:\tlearn: 0.2833977\ttest: 0.4154836\tbest: 0.4019829 (76)\ttotal: 5.65s\tremaining: 8.58s\n",
            "397:\tlearn: 0.2831077\ttest: 0.4154144\tbest: 0.4019829 (76)\ttotal: 5.66s\tremaining: 8.56s\n",
            "398:\tlearn: 0.2830407\ttest: 0.4154889\tbest: 0.4019829 (76)\ttotal: 5.67s\tremaining: 8.55s\n",
            "399:\tlearn: 0.2829163\ttest: 0.4155163\tbest: 0.4019829 (76)\ttotal: 5.69s\tremaining: 8.53s\n",
            "400:\tlearn: 0.2826813\ttest: 0.4156056\tbest: 0.4019829 (76)\ttotal: 5.7s\tremaining: 8.52s\n",
            "401:\tlearn: 0.2824149\ttest: 0.4157190\tbest: 0.4019829 (76)\ttotal: 5.72s\tremaining: 8.5s\n",
            "402:\tlearn: 0.2821600\ttest: 0.4158541\tbest: 0.4019829 (76)\ttotal: 5.73s\tremaining: 8.49s\n",
            "403:\tlearn: 0.2817118\ttest: 0.4157792\tbest: 0.4019829 (76)\ttotal: 5.75s\tremaining: 8.48s\n",
            "404:\tlearn: 0.2814491\ttest: 0.4160130\tbest: 0.4019829 (76)\ttotal: 5.76s\tremaining: 8.47s\n",
            "405:\tlearn: 0.2810185\ttest: 0.4158160\tbest: 0.4019829 (76)\ttotal: 5.78s\tremaining: 8.46s\n",
            "406:\tlearn: 0.2808336\ttest: 0.4158504\tbest: 0.4019829 (76)\ttotal: 5.79s\tremaining: 8.44s\n",
            "407:\tlearn: 0.2805606\ttest: 0.4159976\tbest: 0.4019829 (76)\ttotal: 5.81s\tremaining: 8.43s\n",
            "408:\tlearn: 0.2804100\ttest: 0.4159934\tbest: 0.4019829 (76)\ttotal: 5.83s\tremaining: 8.43s\n",
            "409:\tlearn: 0.2800406\ttest: 0.4159957\tbest: 0.4019829 (76)\ttotal: 5.85s\tremaining: 8.42s\n",
            "410:\tlearn: 0.2797556\ttest: 0.4161446\tbest: 0.4019829 (76)\ttotal: 5.87s\tremaining: 8.41s\n",
            "411:\tlearn: 0.2792845\ttest: 0.4163192\tbest: 0.4019829 (76)\ttotal: 5.88s\tremaining: 8.39s\n",
            "412:\tlearn: 0.2786919\ttest: 0.4162876\tbest: 0.4019829 (76)\ttotal: 5.89s\tremaining: 8.38s\n",
            "413:\tlearn: 0.2783889\ttest: 0.4165281\tbest: 0.4019829 (76)\ttotal: 5.91s\tremaining: 8.36s\n",
            "414:\tlearn: 0.2783278\ttest: 0.4166469\tbest: 0.4019829 (76)\ttotal: 5.92s\tremaining: 8.34s\n",
            "415:\tlearn: 0.2781323\ttest: 0.4167141\tbest: 0.4019829 (76)\ttotal: 5.93s\tremaining: 8.33s\n",
            "416:\tlearn: 0.2780311\ttest: 0.4168509\tbest: 0.4019829 (76)\ttotal: 5.95s\tremaining: 8.32s\n",
            "417:\tlearn: 0.2778739\ttest: 0.4168513\tbest: 0.4019829 (76)\ttotal: 5.96s\tremaining: 8.3s\n",
            "418:\tlearn: 0.2777631\ttest: 0.4170858\tbest: 0.4019829 (76)\ttotal: 5.98s\tremaining: 8.29s\n",
            "419:\tlearn: 0.2773759\ttest: 0.4171724\tbest: 0.4019829 (76)\ttotal: 5.99s\tremaining: 8.28s\n",
            "420:\tlearn: 0.2770711\ttest: 0.4173041\tbest: 0.4019829 (76)\ttotal: 6.01s\tremaining: 8.26s\n",
            "421:\tlearn: 0.2764880\ttest: 0.4171140\tbest: 0.4019829 (76)\ttotal: 6.02s\tremaining: 8.25s\n",
            "422:\tlearn: 0.2760592\ttest: 0.4171845\tbest: 0.4019829 (76)\ttotal: 6.04s\tremaining: 8.23s\n",
            "423:\tlearn: 0.2756811\ttest: 0.4171544\tbest: 0.4019829 (76)\ttotal: 6.05s\tremaining: 8.22s\n",
            "424:\tlearn: 0.2753798\ttest: 0.4175405\tbest: 0.4019829 (76)\ttotal: 6.07s\tremaining: 8.21s\n",
            "425:\tlearn: 0.2752527\ttest: 0.4175068\tbest: 0.4019829 (76)\ttotal: 6.08s\tremaining: 8.19s\n",
            "426:\tlearn: 0.2750461\ttest: 0.4176741\tbest: 0.4019829 (76)\ttotal: 6.09s\tremaining: 8.18s\n",
            "427:\tlearn: 0.2749459\ttest: 0.4177379\tbest: 0.4019829 (76)\ttotal: 6.11s\tremaining: 8.16s\n",
            "428:\tlearn: 0.2746967\ttest: 0.4178327\tbest: 0.4019829 (76)\ttotal: 6.12s\tremaining: 8.15s\n",
            "429:\tlearn: 0.2745536\ttest: 0.4178192\tbest: 0.4019829 (76)\ttotal: 6.13s\tremaining: 8.13s\n",
            "430:\tlearn: 0.2740552\ttest: 0.4178934\tbest: 0.4019829 (76)\ttotal: 6.15s\tremaining: 8.12s\n",
            "431:\tlearn: 0.2735675\ttest: 0.4178082\tbest: 0.4019829 (76)\ttotal: 6.17s\tremaining: 8.11s\n",
            "432:\tlearn: 0.2733497\ttest: 0.4177890\tbest: 0.4019829 (76)\ttotal: 6.18s\tremaining: 8.09s\n",
            "433:\tlearn: 0.2732303\ttest: 0.4178751\tbest: 0.4019829 (76)\ttotal: 6.2s\tremaining: 8.08s\n",
            "434:\tlearn: 0.2730690\ttest: 0.4179317\tbest: 0.4019829 (76)\ttotal: 6.21s\tremaining: 8.07s\n",
            "435:\tlearn: 0.2727333\ttest: 0.4179055\tbest: 0.4019829 (76)\ttotal: 6.22s\tremaining: 8.05s\n",
            "436:\tlearn: 0.2725405\ttest: 0.4178065\tbest: 0.4019829 (76)\ttotal: 6.24s\tremaining: 8.04s\n",
            "437:\tlearn: 0.2723760\ttest: 0.4178223\tbest: 0.4019829 (76)\ttotal: 6.25s\tremaining: 8.03s\n",
            "438:\tlearn: 0.2722206\ttest: 0.4178324\tbest: 0.4019829 (76)\ttotal: 6.27s\tremaining: 8.01s\n",
            "439:\tlearn: 0.2721381\ttest: 0.4177833\tbest: 0.4019829 (76)\ttotal: 6.28s\tremaining: 8s\n",
            "440:\tlearn: 0.2720693\ttest: 0.4177970\tbest: 0.4019829 (76)\ttotal: 6.3s\tremaining: 7.99s\n",
            "441:\tlearn: 0.2718570\ttest: 0.4179351\tbest: 0.4019829 (76)\ttotal: 6.31s\tremaining: 7.97s\n",
            "442:\tlearn: 0.2717116\ttest: 0.4179149\tbest: 0.4019829 (76)\ttotal: 6.33s\tremaining: 7.96s\n",
            "443:\tlearn: 0.2712385\ttest: 0.4181244\tbest: 0.4019829 (76)\ttotal: 6.34s\tremaining: 7.94s\n",
            "444:\tlearn: 0.2711172\ttest: 0.4180662\tbest: 0.4019829 (76)\ttotal: 6.36s\tremaining: 7.93s\n",
            "445:\tlearn: 0.2708766\ttest: 0.4178867\tbest: 0.4019829 (76)\ttotal: 6.38s\tremaining: 7.92s\n",
            "446:\tlearn: 0.2706137\ttest: 0.4178191\tbest: 0.4019829 (76)\ttotal: 6.39s\tremaining: 7.91s\n",
            "447:\tlearn: 0.2705711\ttest: 0.4178267\tbest: 0.4019829 (76)\ttotal: 6.4s\tremaining: 7.89s\n",
            "448:\tlearn: 0.2702343\ttest: 0.4180293\tbest: 0.4019829 (76)\ttotal: 6.42s\tremaining: 7.88s\n",
            "449:\tlearn: 0.2700245\ttest: 0.4180957\tbest: 0.4019829 (76)\ttotal: 6.43s\tremaining: 7.86s\n",
            "450:\tlearn: 0.2697939\ttest: 0.4181554\tbest: 0.4019829 (76)\ttotal: 6.45s\tremaining: 7.85s\n",
            "451:\tlearn: 0.2696449\ttest: 0.4181598\tbest: 0.4019829 (76)\ttotal: 6.46s\tremaining: 7.83s\n",
            "452:\tlearn: 0.2695396\ttest: 0.4181361\tbest: 0.4019829 (76)\ttotal: 6.47s\tremaining: 7.82s\n",
            "453:\tlearn: 0.2694192\ttest: 0.4182947\tbest: 0.4019829 (76)\ttotal: 6.49s\tremaining: 7.8s\n",
            "454:\tlearn: 0.2690956\ttest: 0.4182666\tbest: 0.4019829 (76)\ttotal: 6.5s\tremaining: 7.79s\n",
            "455:\tlearn: 0.2687171\ttest: 0.4181966\tbest: 0.4019829 (76)\ttotal: 6.51s\tremaining: 7.77s\n",
            "456:\tlearn: 0.2686346\ttest: 0.4181021\tbest: 0.4019829 (76)\ttotal: 6.53s\tremaining: 7.76s\n",
            "457:\tlearn: 0.2681664\ttest: 0.4182330\tbest: 0.4019829 (76)\ttotal: 6.54s\tremaining: 7.75s\n",
            "458:\tlearn: 0.2680323\ttest: 0.4182850\tbest: 0.4019829 (76)\ttotal: 6.56s\tremaining: 7.73s\n",
            "459:\tlearn: 0.2677169\ttest: 0.4185696\tbest: 0.4019829 (76)\ttotal: 6.58s\tremaining: 7.72s\n",
            "460:\tlearn: 0.2674962\ttest: 0.4187960\tbest: 0.4019829 (76)\ttotal: 6.59s\tremaining: 7.7s\n",
            "461:\tlearn: 0.2672406\ttest: 0.4188998\tbest: 0.4019829 (76)\ttotal: 6.6s\tremaining: 7.69s\n",
            "462:\tlearn: 0.2671015\ttest: 0.4189808\tbest: 0.4019829 (76)\ttotal: 6.62s\tremaining: 7.68s\n",
            "463:\tlearn: 0.2669754\ttest: 0.4190653\tbest: 0.4019829 (76)\ttotal: 6.63s\tremaining: 7.66s\n",
            "464:\tlearn: 0.2669231\ttest: 0.4190605\tbest: 0.4019829 (76)\ttotal: 6.65s\tremaining: 7.65s\n",
            "465:\tlearn: 0.2665200\ttest: 0.4189775\tbest: 0.4019829 (76)\ttotal: 6.67s\tremaining: 7.64s\n",
            "466:\tlearn: 0.2663524\ttest: 0.4189749\tbest: 0.4019829 (76)\ttotal: 6.68s\tremaining: 7.62s\n",
            "467:\tlearn: 0.2661637\ttest: 0.4191349\tbest: 0.4019829 (76)\ttotal: 6.69s\tremaining: 7.61s\n",
            "468:\tlearn: 0.2659291\ttest: 0.4190948\tbest: 0.4019829 (76)\ttotal: 6.71s\tremaining: 7.6s\n",
            "469:\tlearn: 0.2657276\ttest: 0.4191448\tbest: 0.4019829 (76)\ttotal: 6.72s\tremaining: 7.58s\n",
            "470:\tlearn: 0.2654947\ttest: 0.4191541\tbest: 0.4019829 (76)\ttotal: 6.74s\tremaining: 7.57s\n",
            "471:\tlearn: 0.2652110\ttest: 0.4195816\tbest: 0.4019829 (76)\ttotal: 6.75s\tremaining: 7.55s\n",
            "472:\tlearn: 0.2649717\ttest: 0.4198458\tbest: 0.4019829 (76)\ttotal: 6.76s\tremaining: 7.54s\n",
            "473:\tlearn: 0.2648068\ttest: 0.4197806\tbest: 0.4019829 (76)\ttotal: 6.79s\tremaining: 7.53s\n",
            "474:\tlearn: 0.2647118\ttest: 0.4199401\tbest: 0.4019829 (76)\ttotal: 6.8s\tremaining: 7.51s\n",
            "475:\tlearn: 0.2644118\ttest: 0.4199658\tbest: 0.4019829 (76)\ttotal: 6.81s\tremaining: 7.5s\n",
            "476:\tlearn: 0.2640146\ttest: 0.4201187\tbest: 0.4019829 (76)\ttotal: 6.82s\tremaining: 7.48s\n",
            "477:\tlearn: 0.2637097\ttest: 0.4198899\tbest: 0.4019829 (76)\ttotal: 6.85s\tremaining: 7.48s\n",
            "478:\tlearn: 0.2636502\ttest: 0.4198874\tbest: 0.4019829 (76)\ttotal: 6.87s\tremaining: 7.47s\n",
            "479:\tlearn: 0.2634563\ttest: 0.4196320\tbest: 0.4019829 (76)\ttotal: 6.88s\tremaining: 7.46s\n",
            "480:\tlearn: 0.2632557\ttest: 0.4198622\tbest: 0.4019829 (76)\ttotal: 6.9s\tremaining: 7.44s\n",
            "481:\tlearn: 0.2630515\ttest: 0.4198359\tbest: 0.4019829 (76)\ttotal: 6.91s\tremaining: 7.43s\n",
            "482:\tlearn: 0.2630291\ttest: 0.4198516\tbest: 0.4019829 (76)\ttotal: 6.93s\tremaining: 7.41s\n",
            "483:\tlearn: 0.2627129\ttest: 0.4199904\tbest: 0.4019829 (76)\ttotal: 6.94s\tremaining: 7.4s\n",
            "484:\tlearn: 0.2624610\ttest: 0.4201487\tbest: 0.4019829 (76)\ttotal: 6.96s\tremaining: 7.39s\n",
            "485:\tlearn: 0.2622875\ttest: 0.4201064\tbest: 0.4019829 (76)\ttotal: 6.97s\tremaining: 7.37s\n",
            "486:\tlearn: 0.2620910\ttest: 0.4203014\tbest: 0.4019829 (76)\ttotal: 6.99s\tremaining: 7.36s\n",
            "487:\tlearn: 0.2617861\ttest: 0.4202873\tbest: 0.4019829 (76)\ttotal: 7s\tremaining: 7.35s\n",
            "488:\tlearn: 0.2617151\ttest: 0.4203084\tbest: 0.4019829 (76)\ttotal: 7.02s\tremaining: 7.33s\n",
            "489:\tlearn: 0.2616036\ttest: 0.4202951\tbest: 0.4019829 (76)\ttotal: 7.03s\tremaining: 7.32s\n",
            "490:\tlearn: 0.2613610\ttest: 0.4202458\tbest: 0.4019829 (76)\ttotal: 7.05s\tremaining: 7.3s\n",
            "491:\tlearn: 0.2611805\ttest: 0.4202423\tbest: 0.4019829 (76)\ttotal: 7.06s\tremaining: 7.29s\n",
            "492:\tlearn: 0.2608601\ttest: 0.4200521\tbest: 0.4019829 (76)\ttotal: 7.08s\tremaining: 7.28s\n",
            "493:\tlearn: 0.2605945\ttest: 0.4202445\tbest: 0.4019829 (76)\ttotal: 7.09s\tremaining: 7.26s\n",
            "494:\tlearn: 0.2605564\ttest: 0.4201958\tbest: 0.4019829 (76)\ttotal: 7.1s\tremaining: 7.25s\n",
            "495:\tlearn: 0.2603992\ttest: 0.4203243\tbest: 0.4019829 (76)\ttotal: 7.12s\tremaining: 7.23s\n",
            "496:\tlearn: 0.2603042\ttest: 0.4203005\tbest: 0.4019829 (76)\ttotal: 7.13s\tremaining: 7.22s\n",
            "497:\tlearn: 0.2601433\ttest: 0.4203471\tbest: 0.4019829 (76)\ttotal: 7.14s\tremaining: 7.2s\n",
            "498:\tlearn: 0.2599609\ttest: 0.4202665\tbest: 0.4019829 (76)\ttotal: 7.16s\tremaining: 7.19s\n",
            "499:\tlearn: 0.2598007\ttest: 0.4203762\tbest: 0.4019829 (76)\ttotal: 7.17s\tremaining: 7.17s\n",
            "500:\tlearn: 0.2597172\ttest: 0.4204778\tbest: 0.4019829 (76)\ttotal: 7.19s\tremaining: 7.16s\n",
            "501:\tlearn: 0.2593779\ttest: 0.4201700\tbest: 0.4019829 (76)\ttotal: 7.21s\tremaining: 7.15s\n",
            "502:\tlearn: 0.2591382\ttest: 0.4202795\tbest: 0.4019829 (76)\ttotal: 7.22s\tremaining: 7.13s\n",
            "503:\tlearn: 0.2589291\ttest: 0.4202808\tbest: 0.4019829 (76)\ttotal: 7.24s\tremaining: 7.12s\n",
            "504:\tlearn: 0.2586470\ttest: 0.4201412\tbest: 0.4019829 (76)\ttotal: 7.25s\tremaining: 7.11s\n",
            "505:\tlearn: 0.2584280\ttest: 0.4200956\tbest: 0.4019829 (76)\ttotal: 7.26s\tremaining: 7.09s\n",
            "506:\tlearn: 0.2581441\ttest: 0.4200281\tbest: 0.4019829 (76)\ttotal: 7.28s\tremaining: 7.08s\n",
            "507:\tlearn: 0.2577405\ttest: 0.4197964\tbest: 0.4019829 (76)\ttotal: 7.29s\tremaining: 7.06s\n",
            "508:\tlearn: 0.2575925\ttest: 0.4197061\tbest: 0.4019829 (76)\ttotal: 7.31s\tremaining: 7.05s\n",
            "509:\tlearn: 0.2574232\ttest: 0.4196093\tbest: 0.4019829 (76)\ttotal: 7.33s\tremaining: 7.04s\n",
            "510:\tlearn: 0.2571206\ttest: 0.4196183\tbest: 0.4019829 (76)\ttotal: 7.34s\tremaining: 7.02s\n",
            "511:\tlearn: 0.2569362\ttest: 0.4197377\tbest: 0.4019829 (76)\ttotal: 7.36s\tremaining: 7.01s\n",
            "512:\tlearn: 0.2567327\ttest: 0.4198527\tbest: 0.4019829 (76)\ttotal: 7.37s\tremaining: 7s\n",
            "513:\tlearn: 0.2564613\ttest: 0.4197683\tbest: 0.4019829 (76)\ttotal: 7.38s\tremaining: 6.98s\n",
            "514:\tlearn: 0.2561933\ttest: 0.4197155\tbest: 0.4019829 (76)\ttotal: 7.4s\tremaining: 6.97s\n",
            "515:\tlearn: 0.2560029\ttest: 0.4198109\tbest: 0.4019829 (76)\ttotal: 7.42s\tremaining: 6.96s\n",
            "516:\tlearn: 0.2556089\ttest: 0.4200776\tbest: 0.4019829 (76)\ttotal: 7.43s\tremaining: 6.94s\n",
            "517:\tlearn: 0.2552742\ttest: 0.4201525\tbest: 0.4019829 (76)\ttotal: 7.45s\tremaining: 6.93s\n",
            "518:\tlearn: 0.2552422\ttest: 0.4202871\tbest: 0.4019829 (76)\ttotal: 7.46s\tremaining: 6.91s\n",
            "519:\tlearn: 0.2551031\ttest: 0.4202993\tbest: 0.4019829 (76)\ttotal: 7.47s\tremaining: 6.9s\n",
            "520:\tlearn: 0.2549087\ttest: 0.4202169\tbest: 0.4019829 (76)\ttotal: 7.49s\tremaining: 6.88s\n",
            "521:\tlearn: 0.2547706\ttest: 0.4202788\tbest: 0.4019829 (76)\ttotal: 7.5s\tremaining: 6.87s\n",
            "522:\tlearn: 0.2545569\ttest: 0.4202132\tbest: 0.4019829 (76)\ttotal: 7.52s\tremaining: 6.86s\n",
            "523:\tlearn: 0.2543696\ttest: 0.4201371\tbest: 0.4019829 (76)\ttotal: 7.54s\tremaining: 6.84s\n",
            "524:\tlearn: 0.2540535\ttest: 0.4204096\tbest: 0.4019829 (76)\ttotal: 7.55s\tremaining: 6.83s\n",
            "525:\tlearn: 0.2539697\ttest: 0.4203966\tbest: 0.4019829 (76)\ttotal: 7.57s\tremaining: 6.82s\n",
            "526:\tlearn: 0.2537150\ttest: 0.4204103\tbest: 0.4019829 (76)\ttotal: 7.58s\tremaining: 6.8s\n",
            "527:\tlearn: 0.2536138\ttest: 0.4204332\tbest: 0.4019829 (76)\ttotal: 7.59s\tremaining: 6.79s\n",
            "528:\tlearn: 0.2534772\ttest: 0.4205227\tbest: 0.4019829 (76)\ttotal: 7.61s\tremaining: 6.78s\n",
            "529:\tlearn: 0.2534237\ttest: 0.4205205\tbest: 0.4019829 (76)\ttotal: 7.62s\tremaining: 6.76s\n",
            "530:\tlearn: 0.2533751\ttest: 0.4205147\tbest: 0.4019829 (76)\ttotal: 7.64s\tremaining: 6.75s\n",
            "531:\tlearn: 0.2532115\ttest: 0.4205250\tbest: 0.4019829 (76)\ttotal: 7.66s\tremaining: 6.73s\n",
            "532:\tlearn: 0.2530839\ttest: 0.4204946\tbest: 0.4019829 (76)\ttotal: 7.67s\tremaining: 6.72s\n",
            "533:\tlearn: 0.2529295\ttest: 0.4204902\tbest: 0.4019829 (76)\ttotal: 7.68s\tremaining: 6.71s\n",
            "534:\tlearn: 0.2527384\ttest: 0.4205519\tbest: 0.4019829 (76)\ttotal: 7.7s\tremaining: 6.69s\n",
            "535:\tlearn: 0.2527202\ttest: 0.4205829\tbest: 0.4019829 (76)\ttotal: 7.72s\tremaining: 6.68s\n",
            "536:\tlearn: 0.2525755\ttest: 0.4205812\tbest: 0.4019829 (76)\ttotal: 7.73s\tremaining: 6.67s\n",
            "537:\tlearn: 0.2524124\ttest: 0.4206027\tbest: 0.4019829 (76)\ttotal: 7.75s\tremaining: 6.65s\n",
            "538:\tlearn: 0.2520188\ttest: 0.4205884\tbest: 0.4019829 (76)\ttotal: 7.76s\tremaining: 6.64s\n",
            "539:\tlearn: 0.2518060\ttest: 0.4206644\tbest: 0.4019829 (76)\ttotal: 7.78s\tremaining: 6.62s\n",
            "540:\tlearn: 0.2517584\ttest: 0.4206760\tbest: 0.4019829 (76)\ttotal: 7.79s\tremaining: 6.61s\n",
            "541:\tlearn: 0.2514720\ttest: 0.4206809\tbest: 0.4019829 (76)\ttotal: 7.8s\tremaining: 6.59s\n",
            "542:\tlearn: 0.2513474\ttest: 0.4206840\tbest: 0.4019829 (76)\ttotal: 7.82s\tremaining: 6.58s\n",
            "543:\tlearn: 0.2510739\ttest: 0.4208851\tbest: 0.4019829 (76)\ttotal: 7.84s\tremaining: 6.57s\n",
            "544:\tlearn: 0.2508982\ttest: 0.4209095\tbest: 0.4019829 (76)\ttotal: 7.86s\tremaining: 6.56s\n",
            "545:\tlearn: 0.2506752\ttest: 0.4208524\tbest: 0.4019829 (76)\ttotal: 7.88s\tremaining: 6.55s\n",
            "546:\tlearn: 0.2504437\ttest: 0.4209236\tbest: 0.4019829 (76)\ttotal: 7.89s\tremaining: 6.54s\n",
            "547:\tlearn: 0.2504345\ttest: 0.4209198\tbest: 0.4019829 (76)\ttotal: 7.91s\tremaining: 6.52s\n",
            "548:\tlearn: 0.2500566\ttest: 0.4208115\tbest: 0.4019829 (76)\ttotal: 7.92s\tremaining: 6.51s\n",
            "549:\tlearn: 0.2500384\ttest: 0.4208257\tbest: 0.4019829 (76)\ttotal: 7.94s\tremaining: 6.49s\n",
            "550:\tlearn: 0.2497852\ttest: 0.4209029\tbest: 0.4019829 (76)\ttotal: 7.95s\tremaining: 6.48s\n",
            "551:\tlearn: 0.2496209\ttest: 0.4208319\tbest: 0.4019829 (76)\ttotal: 7.97s\tremaining: 6.47s\n",
            "552:\tlearn: 0.2495486\ttest: 0.4208222\tbest: 0.4019829 (76)\ttotal: 7.98s\tremaining: 6.45s\n",
            "553:\tlearn: 0.2494713\ttest: 0.4207894\tbest: 0.4019829 (76)\ttotal: 8s\tremaining: 6.44s\n",
            "554:\tlearn: 0.2491517\ttest: 0.4207002\tbest: 0.4019829 (76)\ttotal: 8.01s\tremaining: 6.42s\n",
            "555:\tlearn: 0.2490213\ttest: 0.4208082\tbest: 0.4019829 (76)\ttotal: 8.03s\tremaining: 6.41s\n",
            "556:\tlearn: 0.2489924\ttest: 0.4208494\tbest: 0.4019829 (76)\ttotal: 8.04s\tremaining: 6.4s\n",
            "557:\tlearn: 0.2488635\ttest: 0.4207339\tbest: 0.4019829 (76)\ttotal: 8.06s\tremaining: 6.38s\n",
            "558:\tlearn: 0.2486349\ttest: 0.4209159\tbest: 0.4019829 (76)\ttotal: 8.07s\tremaining: 6.37s\n",
            "559:\tlearn: 0.2483973\ttest: 0.4208716\tbest: 0.4019829 (76)\ttotal: 8.09s\tremaining: 6.35s\n",
            "560:\tlearn: 0.2480205\ttest: 0.4205447\tbest: 0.4019829 (76)\ttotal: 8.1s\tremaining: 6.34s\n",
            "561:\tlearn: 0.2477928\ttest: 0.4205262\tbest: 0.4019829 (76)\ttotal: 8.12s\tremaining: 6.33s\n",
            "562:\tlearn: 0.2475774\ttest: 0.4206159\tbest: 0.4019829 (76)\ttotal: 8.13s\tremaining: 6.31s\n",
            "563:\tlearn: 0.2474634\ttest: 0.4205833\tbest: 0.4019829 (76)\ttotal: 8.15s\tremaining: 6.3s\n",
            "564:\tlearn: 0.2471869\ttest: 0.4206494\tbest: 0.4019829 (76)\ttotal: 8.16s\tremaining: 6.28s\n",
            "565:\tlearn: 0.2467986\ttest: 0.4206561\tbest: 0.4019829 (76)\ttotal: 8.18s\tremaining: 6.27s\n",
            "566:\tlearn: 0.2467056\ttest: 0.4205591\tbest: 0.4019829 (76)\ttotal: 8.19s\tremaining: 6.25s\n",
            "567:\tlearn: 0.2464684\ttest: 0.4204831\tbest: 0.4019829 (76)\ttotal: 8.2s\tremaining: 6.24s\n",
            "568:\tlearn: 0.2463147\ttest: 0.4205118\tbest: 0.4019829 (76)\ttotal: 8.22s\tremaining: 6.23s\n",
            "569:\tlearn: 0.2461826\ttest: 0.4204814\tbest: 0.4019829 (76)\ttotal: 8.24s\tremaining: 6.21s\n",
            "570:\tlearn: 0.2460424\ttest: 0.4205238\tbest: 0.4019829 (76)\ttotal: 8.25s\tremaining: 6.2s\n",
            "571:\tlearn: 0.2457988\ttest: 0.4204686\tbest: 0.4019829 (76)\ttotal: 8.27s\tremaining: 6.18s\n",
            "572:\tlearn: 0.2457235\ttest: 0.4204519\tbest: 0.4019829 (76)\ttotal: 8.28s\tremaining: 6.17s\n",
            "573:\tlearn: 0.2453864\ttest: 0.4206667\tbest: 0.4019829 (76)\ttotal: 8.3s\tremaining: 6.16s\n",
            "574:\tlearn: 0.2452160\ttest: 0.4206702\tbest: 0.4019829 (76)\ttotal: 8.31s\tremaining: 6.14s\n",
            "575:\tlearn: 0.2447902\ttest: 0.4208488\tbest: 0.4019829 (76)\ttotal: 8.32s\tremaining: 6.13s\n",
            "576:\tlearn: 0.2447393\ttest: 0.4208391\tbest: 0.4019829 (76)\ttotal: 8.34s\tremaining: 6.11s\n",
            "577:\tlearn: 0.2446265\ttest: 0.4207844\tbest: 0.4019829 (76)\ttotal: 8.36s\tremaining: 6.1s\n",
            "578:\tlearn: 0.2443776\ttest: 0.4207264\tbest: 0.4019829 (76)\ttotal: 8.37s\tremaining: 6.09s\n",
            "579:\tlearn: 0.2441564\ttest: 0.4207146\tbest: 0.4019829 (76)\ttotal: 8.39s\tremaining: 6.08s\n",
            "580:\tlearn: 0.2438981\ttest: 0.4208455\tbest: 0.4019829 (76)\ttotal: 8.41s\tremaining: 6.06s\n",
            "581:\tlearn: 0.2438447\ttest: 0.4208634\tbest: 0.4019829 (76)\ttotal: 8.44s\tremaining: 6.06s\n",
            "582:\tlearn: 0.2434946\ttest: 0.4209331\tbest: 0.4019829 (76)\ttotal: 8.47s\tremaining: 6.05s\n",
            "583:\tlearn: 0.2431959\ttest: 0.4210087\tbest: 0.4019829 (76)\ttotal: 8.48s\tremaining: 6.04s\n",
            "584:\tlearn: 0.2428097\ttest: 0.4210564\tbest: 0.4019829 (76)\ttotal: 8.5s\tremaining: 6.03s\n",
            "585:\tlearn: 0.2426690\ttest: 0.4212164\tbest: 0.4019829 (76)\ttotal: 8.51s\tremaining: 6.01s\n",
            "586:\tlearn: 0.2426239\ttest: 0.4212174\tbest: 0.4019829 (76)\ttotal: 8.53s\tremaining: 6s\n",
            "587:\tlearn: 0.2424497\ttest: 0.4211628\tbest: 0.4019829 (76)\ttotal: 8.54s\tremaining: 5.99s\n",
            "588:\tlearn: 0.2422513\ttest: 0.4214091\tbest: 0.4019829 (76)\ttotal: 8.56s\tremaining: 5.97s\n",
            "589:\tlearn: 0.2420930\ttest: 0.4214883\tbest: 0.4019829 (76)\ttotal: 8.58s\tremaining: 5.96s\n",
            "590:\tlearn: 0.2420452\ttest: 0.4215190\tbest: 0.4019829 (76)\ttotal: 8.59s\tremaining: 5.95s\n",
            "591:\tlearn: 0.2419537\ttest: 0.4215392\tbest: 0.4019829 (76)\ttotal: 8.61s\tremaining: 5.93s\n",
            "592:\tlearn: 0.2418554\ttest: 0.4214429\tbest: 0.4019829 (76)\ttotal: 8.62s\tremaining: 5.92s\n",
            "593:\tlearn: 0.2416421\ttest: 0.4215501\tbest: 0.4019829 (76)\ttotal: 8.64s\tremaining: 5.91s\n",
            "594:\tlearn: 0.2414875\ttest: 0.4216838\tbest: 0.4019829 (76)\ttotal: 8.66s\tremaining: 5.89s\n",
            "595:\tlearn: 0.2411165\ttest: 0.4217833\tbest: 0.4019829 (76)\ttotal: 8.67s\tremaining: 5.88s\n",
            "596:\tlearn: 0.2409119\ttest: 0.4217949\tbest: 0.4019829 (76)\ttotal: 8.69s\tremaining: 5.86s\n",
            "597:\tlearn: 0.2407795\ttest: 0.4218386\tbest: 0.4019829 (76)\ttotal: 8.7s\tremaining: 5.85s\n",
            "598:\tlearn: 0.2406775\ttest: 0.4217858\tbest: 0.4019829 (76)\ttotal: 8.71s\tremaining: 5.83s\n",
            "599:\tlearn: 0.2404283\ttest: 0.4217615\tbest: 0.4019829 (76)\ttotal: 8.73s\tremaining: 5.82s\n",
            "600:\tlearn: 0.2402343\ttest: 0.4217975\tbest: 0.4019829 (76)\ttotal: 8.75s\tremaining: 5.81s\n",
            "601:\tlearn: 0.2398934\ttest: 0.4219800\tbest: 0.4019829 (76)\ttotal: 8.76s\tremaining: 5.79s\n",
            "602:\tlearn: 0.2398216\ttest: 0.4220643\tbest: 0.4019829 (76)\ttotal: 8.78s\tremaining: 5.78s\n",
            "603:\tlearn: 0.2397144\ttest: 0.4221617\tbest: 0.4019829 (76)\ttotal: 8.79s\tremaining: 5.76s\n",
            "604:\tlearn: 0.2396141\ttest: 0.4222444\tbest: 0.4019829 (76)\ttotal: 8.81s\tremaining: 5.75s\n",
            "605:\tlearn: 0.2393567\ttest: 0.4223380\tbest: 0.4019829 (76)\ttotal: 8.82s\tremaining: 5.73s\n",
            "606:\tlearn: 0.2392370\ttest: 0.4223252\tbest: 0.4019829 (76)\ttotal: 8.84s\tremaining: 5.72s\n",
            "607:\tlearn: 0.2390057\ttest: 0.4226842\tbest: 0.4019829 (76)\ttotal: 8.85s\tremaining: 5.71s\n",
            "608:\tlearn: 0.2388751\ttest: 0.4226978\tbest: 0.4019829 (76)\ttotal: 8.87s\tremaining: 5.7s\n",
            "609:\tlearn: 0.2388159\ttest: 0.4227176\tbest: 0.4019829 (76)\ttotal: 8.89s\tremaining: 5.68s\n",
            "610:\tlearn: 0.2386381\ttest: 0.4226889\tbest: 0.4019829 (76)\ttotal: 8.91s\tremaining: 5.67s\n",
            "611:\tlearn: 0.2384203\ttest: 0.4229287\tbest: 0.4019829 (76)\ttotal: 8.92s\tremaining: 5.66s\n",
            "612:\tlearn: 0.2383910\ttest: 0.4228914\tbest: 0.4019829 (76)\ttotal: 8.94s\tremaining: 5.64s\n",
            "613:\tlearn: 0.2382125\ttest: 0.4229361\tbest: 0.4019829 (76)\ttotal: 8.96s\tremaining: 5.63s\n",
            "614:\tlearn: 0.2380221\ttest: 0.4229929\tbest: 0.4019829 (76)\ttotal: 8.97s\tremaining: 5.62s\n",
            "615:\tlearn: 0.2377979\ttest: 0.4229129\tbest: 0.4019829 (76)\ttotal: 8.98s\tremaining: 5.6s\n",
            "616:\tlearn: 0.2375617\ttest: 0.4228662\tbest: 0.4019829 (76)\ttotal: 9s\tremaining: 5.59s\n",
            "617:\tlearn: 0.2374978\ttest: 0.4229217\tbest: 0.4019829 (76)\ttotal: 9.01s\tremaining: 5.57s\n",
            "618:\tlearn: 0.2372570\ttest: 0.4229579\tbest: 0.4019829 (76)\ttotal: 9.03s\tremaining: 5.56s\n",
            "619:\tlearn: 0.2370108\ttest: 0.4229713\tbest: 0.4019829 (76)\ttotal: 9.04s\tremaining: 5.54s\n",
            "620:\tlearn: 0.2368583\ttest: 0.4230474\tbest: 0.4019829 (76)\ttotal: 9.06s\tremaining: 5.53s\n",
            "621:\tlearn: 0.2365711\ttest: 0.4232860\tbest: 0.4019829 (76)\ttotal: 9.07s\tremaining: 5.51s\n",
            "622:\tlearn: 0.2361827\ttest: 0.4231985\tbest: 0.4019829 (76)\ttotal: 9.09s\tremaining: 5.5s\n",
            "623:\tlearn: 0.2359526\ttest: 0.4233523\tbest: 0.4019829 (76)\ttotal: 9.1s\tremaining: 5.49s\n",
            "624:\tlearn: 0.2357095\ttest: 0.4233632\tbest: 0.4019829 (76)\ttotal: 9.12s\tremaining: 5.47s\n",
            "625:\tlearn: 0.2355451\ttest: 0.4233166\tbest: 0.4019829 (76)\ttotal: 9.13s\tremaining: 5.46s\n",
            "626:\tlearn: 0.2354274\ttest: 0.4235440\tbest: 0.4019829 (76)\ttotal: 9.15s\tremaining: 5.44s\n",
            "627:\tlearn: 0.2352505\ttest: 0.4236952\tbest: 0.4019829 (76)\ttotal: 9.16s\tremaining: 5.43s\n",
            "628:\tlearn: 0.2349186\ttest: 0.4237677\tbest: 0.4019829 (76)\ttotal: 9.18s\tremaining: 5.41s\n",
            "629:\tlearn: 0.2346546\ttest: 0.4237519\tbest: 0.4019829 (76)\ttotal: 9.19s\tremaining: 5.4s\n",
            "630:\tlearn: 0.2345369\ttest: 0.4239820\tbest: 0.4019829 (76)\ttotal: 9.21s\tremaining: 5.38s\n",
            "631:\tlearn: 0.2343733\ttest: 0.4239565\tbest: 0.4019829 (76)\ttotal: 9.22s\tremaining: 5.37s\n",
            "632:\tlearn: 0.2342527\ttest: 0.4240369\tbest: 0.4019829 (76)\ttotal: 9.23s\tremaining: 5.35s\n",
            "633:\tlearn: 0.2339534\ttest: 0.4238348\tbest: 0.4019829 (76)\ttotal: 9.25s\tremaining: 5.34s\n",
            "634:\tlearn: 0.2336926\ttest: 0.4239115\tbest: 0.4019829 (76)\ttotal: 9.27s\tremaining: 5.33s\n",
            "635:\tlearn: 0.2335079\ttest: 0.4239798\tbest: 0.4019829 (76)\ttotal: 9.28s\tremaining: 5.31s\n",
            "636:\tlearn: 0.2334914\ttest: 0.4239881\tbest: 0.4019829 (76)\ttotal: 9.29s\tremaining: 5.3s\n",
            "637:\tlearn: 0.2333297\ttest: 0.4240398\tbest: 0.4019829 (76)\ttotal: 9.31s\tremaining: 5.28s\n",
            "638:\tlearn: 0.2332696\ttest: 0.4240219\tbest: 0.4019829 (76)\ttotal: 9.32s\tremaining: 5.27s\n",
            "639:\tlearn: 0.2330425\ttest: 0.4241779\tbest: 0.4019829 (76)\ttotal: 9.34s\tremaining: 5.25s\n",
            "640:\tlearn: 0.2328220\ttest: 0.4240124\tbest: 0.4019829 (76)\ttotal: 9.35s\tremaining: 5.24s\n",
            "641:\tlearn: 0.2325515\ttest: 0.4241990\tbest: 0.4019829 (76)\ttotal: 9.37s\tremaining: 5.22s\n",
            "642:\tlearn: 0.2324521\ttest: 0.4242627\tbest: 0.4019829 (76)\ttotal: 9.38s\tremaining: 5.21s\n",
            "643:\tlearn: 0.2323613\ttest: 0.4241995\tbest: 0.4019829 (76)\ttotal: 9.4s\tremaining: 5.2s\n",
            "644:\tlearn: 0.2322668\ttest: 0.4242191\tbest: 0.4019829 (76)\ttotal: 9.41s\tremaining: 5.18s\n",
            "645:\tlearn: 0.2320102\ttest: 0.4242918\tbest: 0.4019829 (76)\ttotal: 9.43s\tremaining: 5.17s\n",
            "646:\tlearn: 0.2319330\ttest: 0.4242487\tbest: 0.4019829 (76)\ttotal: 9.45s\tremaining: 5.15s\n",
            "647:\tlearn: 0.2317797\ttest: 0.4242676\tbest: 0.4019829 (76)\ttotal: 9.46s\tremaining: 5.14s\n",
            "648:\tlearn: 0.2317630\ttest: 0.4242578\tbest: 0.4019829 (76)\ttotal: 9.48s\tremaining: 5.13s\n",
            "649:\tlearn: 0.2316423\ttest: 0.4244439\tbest: 0.4019829 (76)\ttotal: 9.49s\tremaining: 5.11s\n",
            "650:\tlearn: 0.2315055\ttest: 0.4244278\tbest: 0.4019829 (76)\ttotal: 9.51s\tremaining: 5.1s\n",
            "651:\tlearn: 0.2313996\ttest: 0.4244545\tbest: 0.4019829 (76)\ttotal: 9.52s\tremaining: 5.08s\n",
            "652:\tlearn: 0.2311189\ttest: 0.4244145\tbest: 0.4019829 (76)\ttotal: 9.54s\tremaining: 5.07s\n",
            "653:\tlearn: 0.2308025\ttest: 0.4246088\tbest: 0.4019829 (76)\ttotal: 9.55s\tremaining: 5.05s\n",
            "654:\tlearn: 0.2306144\ttest: 0.4247072\tbest: 0.4019829 (76)\ttotal: 9.57s\tremaining: 5.04s\n",
            "655:\tlearn: 0.2304339\ttest: 0.4246806\tbest: 0.4019829 (76)\ttotal: 9.58s\tremaining: 5.03s\n",
            "656:\tlearn: 0.2301574\ttest: 0.4245420\tbest: 0.4019829 (76)\ttotal: 9.6s\tremaining: 5.01s\n",
            "657:\tlearn: 0.2300956\ttest: 0.4245702\tbest: 0.4019829 (76)\ttotal: 9.61s\tremaining: 5s\n",
            "658:\tlearn: 0.2296944\ttest: 0.4247926\tbest: 0.4019829 (76)\ttotal: 9.63s\tremaining: 4.98s\n",
            "659:\tlearn: 0.2295260\ttest: 0.4248194\tbest: 0.4019829 (76)\ttotal: 9.64s\tremaining: 4.97s\n",
            "660:\tlearn: 0.2293371\ttest: 0.4248879\tbest: 0.4019829 (76)\ttotal: 9.65s\tremaining: 4.95s\n",
            "661:\tlearn: 0.2293050\ttest: 0.4249051\tbest: 0.4019829 (76)\ttotal: 9.67s\tremaining: 4.94s\n",
            "662:\tlearn: 0.2291258\ttest: 0.4247977\tbest: 0.4019829 (76)\ttotal: 9.69s\tremaining: 4.92s\n",
            "663:\tlearn: 0.2286226\ttest: 0.4247248\tbest: 0.4019829 (76)\ttotal: 9.7s\tremaining: 4.91s\n",
            "664:\tlearn: 0.2284086\ttest: 0.4246242\tbest: 0.4019829 (76)\ttotal: 9.72s\tremaining: 4.89s\n",
            "665:\tlearn: 0.2281156\ttest: 0.4246461\tbest: 0.4019829 (76)\ttotal: 9.73s\tremaining: 4.88s\n",
            "666:\tlearn: 0.2280123\ttest: 0.4245655\tbest: 0.4019829 (76)\ttotal: 9.75s\tremaining: 4.87s\n",
            "667:\tlearn: 0.2279024\ttest: 0.4246721\tbest: 0.4019829 (76)\ttotal: 9.76s\tremaining: 4.85s\n",
            "668:\tlearn: 0.2277783\ttest: 0.4245439\tbest: 0.4019829 (76)\ttotal: 9.78s\tremaining: 4.84s\n",
            "669:\tlearn: 0.2277186\ttest: 0.4245854\tbest: 0.4019829 (76)\ttotal: 9.8s\tremaining: 4.82s\n",
            "670:\tlearn: 0.2275411\ttest: 0.4246427\tbest: 0.4019829 (76)\ttotal: 9.81s\tremaining: 4.81s\n",
            "671:\tlearn: 0.2273782\ttest: 0.4245788\tbest: 0.4019829 (76)\ttotal: 9.82s\tremaining: 4.79s\n",
            "672:\tlearn: 0.2273242\ttest: 0.4246014\tbest: 0.4019829 (76)\ttotal: 9.84s\tremaining: 4.78s\n",
            "673:\tlearn: 0.2272007\ttest: 0.4245666\tbest: 0.4019829 (76)\ttotal: 9.85s\tremaining: 4.77s\n",
            "674:\tlearn: 0.2270506\ttest: 0.4246185\tbest: 0.4019829 (76)\ttotal: 9.87s\tremaining: 4.75s\n",
            "675:\tlearn: 0.2266899\ttest: 0.4247420\tbest: 0.4019829 (76)\ttotal: 9.89s\tremaining: 4.74s\n",
            "676:\tlearn: 0.2265670\ttest: 0.4247819\tbest: 0.4019829 (76)\ttotal: 9.93s\tremaining: 4.74s\n",
            "677:\tlearn: 0.2264413\ttest: 0.4248569\tbest: 0.4019829 (76)\ttotal: 9.94s\tremaining: 4.72s\n",
            "678:\tlearn: 0.2261770\ttest: 0.4251372\tbest: 0.4019829 (76)\ttotal: 9.96s\tremaining: 4.71s\n",
            "679:\tlearn: 0.2259296\ttest: 0.4251036\tbest: 0.4019829 (76)\ttotal: 9.97s\tremaining: 4.69s\n",
            "680:\tlearn: 0.2256649\ttest: 0.4248834\tbest: 0.4019829 (76)\ttotal: 9.99s\tremaining: 4.68s\n",
            "681:\tlearn: 0.2255721\ttest: 0.4249872\tbest: 0.4019829 (76)\ttotal: 10s\tremaining: 4.66s\n",
            "682:\tlearn: 0.2251016\ttest: 0.4251601\tbest: 0.4019829 (76)\ttotal: 10s\tremaining: 4.65s\n",
            "683:\tlearn: 0.2248804\ttest: 0.4251621\tbest: 0.4019829 (76)\ttotal: 10s\tremaining: 4.64s\n",
            "684:\tlearn: 0.2245936\ttest: 0.4249606\tbest: 0.4019829 (76)\ttotal: 10.1s\tremaining: 4.62s\n",
            "685:\tlearn: 0.2244244\ttest: 0.4249515\tbest: 0.4019829 (76)\ttotal: 10.1s\tremaining: 4.61s\n",
            "686:\tlearn: 0.2242432\ttest: 0.4251264\tbest: 0.4019829 (76)\ttotal: 10.1s\tremaining: 4.59s\n",
            "687:\tlearn: 0.2240308\ttest: 0.4252374\tbest: 0.4019829 (76)\ttotal: 10.1s\tremaining: 4.58s\n",
            "688:\tlearn: 0.2238391\ttest: 0.4251570\tbest: 0.4019829 (76)\ttotal: 10.1s\tremaining: 4.56s\n",
            "689:\tlearn: 0.2237995\ttest: 0.4252001\tbest: 0.4019829 (76)\ttotal: 10.1s\tremaining: 4.55s\n",
            "690:\tlearn: 0.2236927\ttest: 0.4252408\tbest: 0.4019829 (76)\ttotal: 10.1s\tremaining: 4.53s\n",
            "691:\tlearn: 0.2234363\ttest: 0.4255163\tbest: 0.4019829 (76)\ttotal: 10.2s\tremaining: 4.52s\n",
            "692:\tlearn: 0.2233986\ttest: 0.4255513\tbest: 0.4019829 (76)\ttotal: 10.2s\tremaining: 4.5s\n",
            "693:\tlearn: 0.2230435\ttest: 0.4255892\tbest: 0.4019829 (76)\ttotal: 10.2s\tremaining: 4.49s\n",
            "694:\tlearn: 0.2227519\ttest: 0.4256450\tbest: 0.4019829 (76)\ttotal: 10.2s\tremaining: 4.47s\n",
            "695:\tlearn: 0.2224028\ttest: 0.4255204\tbest: 0.4019829 (76)\ttotal: 10.2s\tremaining: 4.46s\n",
            "696:\tlearn: 0.2222621\ttest: 0.4255212\tbest: 0.4019829 (76)\ttotal: 10.2s\tremaining: 4.44s\n",
            "697:\tlearn: 0.2221669\ttest: 0.4255322\tbest: 0.4019829 (76)\ttotal: 10.2s\tremaining: 4.43s\n",
            "698:\tlearn: 0.2220350\ttest: 0.4254553\tbest: 0.4019829 (76)\ttotal: 10.3s\tremaining: 4.42s\n",
            "699:\tlearn: 0.2219375\ttest: 0.4255475\tbest: 0.4019829 (76)\ttotal: 10.3s\tremaining: 4.4s\n",
            "700:\tlearn: 0.2217477\ttest: 0.4252674\tbest: 0.4019829 (76)\ttotal: 10.3s\tremaining: 4.39s\n",
            "701:\tlearn: 0.2215960\ttest: 0.4253256\tbest: 0.4019829 (76)\ttotal: 10.3s\tremaining: 4.37s\n",
            "702:\tlearn: 0.2215231\ttest: 0.4252897\tbest: 0.4019829 (76)\ttotal: 10.3s\tremaining: 4.36s\n",
            "703:\tlearn: 0.2213504\ttest: 0.4253267\tbest: 0.4019829 (76)\ttotal: 10.3s\tremaining: 4.34s\n",
            "704:\tlearn: 0.2209899\ttest: 0.4254032\tbest: 0.4019829 (76)\ttotal: 10.3s\tremaining: 4.33s\n",
            "705:\tlearn: 0.2208249\ttest: 0.4253803\tbest: 0.4019829 (76)\ttotal: 10.4s\tremaining: 4.32s\n",
            "706:\tlearn: 0.2208141\ttest: 0.4253671\tbest: 0.4019829 (76)\ttotal: 10.4s\tremaining: 4.3s\n",
            "707:\tlearn: 0.2206251\ttest: 0.4253469\tbest: 0.4019829 (76)\ttotal: 10.4s\tremaining: 4.29s\n",
            "708:\tlearn: 0.2205638\ttest: 0.4253883\tbest: 0.4019829 (76)\ttotal: 10.4s\tremaining: 4.27s\n",
            "709:\tlearn: 0.2204081\ttest: 0.4254440\tbest: 0.4019829 (76)\ttotal: 10.4s\tremaining: 4.26s\n",
            "710:\tlearn: 0.2203225\ttest: 0.4254815\tbest: 0.4019829 (76)\ttotal: 10.4s\tremaining: 4.24s\n",
            "711:\tlearn: 0.2201624\ttest: 0.4255037\tbest: 0.4019829 (76)\ttotal: 10.5s\tremaining: 4.23s\n",
            "712:\tlearn: 0.2200224\ttest: 0.4256933\tbest: 0.4019829 (76)\ttotal: 10.5s\tremaining: 4.21s\n",
            "713:\tlearn: 0.2199610\ttest: 0.4256854\tbest: 0.4019829 (76)\ttotal: 10.5s\tremaining: 4.2s\n",
            "714:\tlearn: 0.2197631\ttest: 0.4258460\tbest: 0.4019829 (76)\ttotal: 10.5s\tremaining: 4.18s\n",
            "715:\tlearn: 0.2197250\ttest: 0.4257469\tbest: 0.4019829 (76)\ttotal: 10.5s\tremaining: 4.17s\n",
            "716:\tlearn: 0.2195966\ttest: 0.4260002\tbest: 0.4019829 (76)\ttotal: 10.5s\tremaining: 4.16s\n",
            "717:\tlearn: 0.2194632\ttest: 0.4260626\tbest: 0.4019829 (76)\ttotal: 10.5s\tremaining: 4.14s\n",
            "718:\tlearn: 0.2192548\ttest: 0.4262155\tbest: 0.4019829 (76)\ttotal: 10.6s\tremaining: 4.13s\n",
            "719:\tlearn: 0.2192063\ttest: 0.4262152\tbest: 0.4019829 (76)\ttotal: 10.6s\tremaining: 4.11s\n",
            "720:\tlearn: 0.2189462\ttest: 0.4264996\tbest: 0.4019829 (76)\ttotal: 10.6s\tremaining: 4.1s\n",
            "721:\tlearn: 0.2188446\ttest: 0.4265080\tbest: 0.4019829 (76)\ttotal: 10.6s\tremaining: 4.08s\n",
            "722:\tlearn: 0.2186431\ttest: 0.4266051\tbest: 0.4019829 (76)\ttotal: 10.6s\tremaining: 4.07s\n",
            "723:\tlearn: 0.2185015\ttest: 0.4267996\tbest: 0.4019829 (76)\ttotal: 10.6s\tremaining: 4.05s\n",
            "724:\tlearn: 0.2180799\ttest: 0.4268224\tbest: 0.4019829 (76)\ttotal: 10.6s\tremaining: 4.04s\n",
            "725:\tlearn: 0.2178067\ttest: 0.4269764\tbest: 0.4019829 (76)\ttotal: 10.7s\tremaining: 4.02s\n",
            "726:\tlearn: 0.2176816\ttest: 0.4269312\tbest: 0.4019829 (76)\ttotal: 10.7s\tremaining: 4.01s\n",
            "727:\tlearn: 0.2173280\ttest: 0.4273395\tbest: 0.4019829 (76)\ttotal: 10.7s\tremaining: 4s\n",
            "728:\tlearn: 0.2172994\ttest: 0.4273808\tbest: 0.4019829 (76)\ttotal: 10.7s\tremaining: 3.98s\n",
            "729:\tlearn: 0.2170891\ttest: 0.4274391\tbest: 0.4019829 (76)\ttotal: 10.7s\tremaining: 3.97s\n",
            "730:\tlearn: 0.2167309\ttest: 0.4275252\tbest: 0.4019829 (76)\ttotal: 10.7s\tremaining: 3.95s\n",
            "731:\tlearn: 0.2164293\ttest: 0.4273056\tbest: 0.4019829 (76)\ttotal: 10.8s\tremaining: 3.94s\n",
            "732:\tlearn: 0.2164160\ttest: 0.4273073\tbest: 0.4019829 (76)\ttotal: 10.8s\tremaining: 3.92s\n",
            "733:\tlearn: 0.2163021\ttest: 0.4271963\tbest: 0.4019829 (76)\ttotal: 10.8s\tremaining: 3.91s\n",
            "734:\tlearn: 0.2162691\ttest: 0.4271041\tbest: 0.4019829 (76)\ttotal: 10.8s\tremaining: 3.89s\n",
            "735:\tlearn: 0.2162058\ttest: 0.4271294\tbest: 0.4019829 (76)\ttotal: 10.8s\tremaining: 3.88s\n",
            "736:\tlearn: 0.2160913\ttest: 0.4270435\tbest: 0.4019829 (76)\ttotal: 10.8s\tremaining: 3.87s\n",
            "737:\tlearn: 0.2158752\ttest: 0.4271891\tbest: 0.4019829 (76)\ttotal: 10.9s\tremaining: 3.85s\n",
            "738:\tlearn: 0.2155904\ttest: 0.4271284\tbest: 0.4019829 (76)\ttotal: 10.9s\tremaining: 3.84s\n",
            "739:\tlearn: 0.2154749\ttest: 0.4270521\tbest: 0.4019829 (76)\ttotal: 10.9s\tremaining: 3.82s\n",
            "740:\tlearn: 0.2152740\ttest: 0.4269936\tbest: 0.4019829 (76)\ttotal: 10.9s\tremaining: 3.81s\n",
            "741:\tlearn: 0.2152203\ttest: 0.4269793\tbest: 0.4019829 (76)\ttotal: 10.9s\tremaining: 3.8s\n",
            "742:\tlearn: 0.2151678\ttest: 0.4269488\tbest: 0.4019829 (76)\ttotal: 10.9s\tremaining: 3.79s\n",
            "743:\tlearn: 0.2151451\ttest: 0.4269832\tbest: 0.4019829 (76)\ttotal: 11s\tremaining: 3.77s\n",
            "744:\tlearn: 0.2151189\ttest: 0.4269859\tbest: 0.4019829 (76)\ttotal: 11s\tremaining: 3.76s\n",
            "745:\tlearn: 0.2149840\ttest: 0.4271521\tbest: 0.4019829 (76)\ttotal: 11s\tremaining: 3.74s\n",
            "746:\tlearn: 0.2149140\ttest: 0.4271492\tbest: 0.4019829 (76)\ttotal: 11s\tremaining: 3.73s\n",
            "747:\tlearn: 0.2148662\ttest: 0.4271223\tbest: 0.4019829 (76)\ttotal: 11s\tremaining: 3.71s\n",
            "748:\tlearn: 0.2145166\ttest: 0.4271361\tbest: 0.4019829 (76)\ttotal: 11s\tremaining: 3.7s\n",
            "749:\tlearn: 0.2144647\ttest: 0.4270506\tbest: 0.4019829 (76)\ttotal: 11.1s\tremaining: 3.68s\n",
            "750:\tlearn: 0.2142728\ttest: 0.4271996\tbest: 0.4019829 (76)\ttotal: 11.1s\tremaining: 3.67s\n",
            "751:\tlearn: 0.2140259\ttest: 0.4273918\tbest: 0.4019829 (76)\ttotal: 11.1s\tremaining: 3.65s\n",
            "752:\tlearn: 0.2138161\ttest: 0.4276315\tbest: 0.4019829 (76)\ttotal: 11.1s\tremaining: 3.64s\n",
            "753:\tlearn: 0.2134925\ttest: 0.4275935\tbest: 0.4019829 (76)\ttotal: 11.1s\tremaining: 3.63s\n",
            "754:\tlearn: 0.2133267\ttest: 0.4276159\tbest: 0.4019829 (76)\ttotal: 11.1s\tremaining: 3.61s\n",
            "755:\tlearn: 0.2132020\ttest: 0.4276350\tbest: 0.4019829 (76)\ttotal: 11.1s\tremaining: 3.6s\n",
            "756:\tlearn: 0.2129987\ttest: 0.4277310\tbest: 0.4019829 (76)\ttotal: 11.2s\tremaining: 3.58s\n",
            "757:\tlearn: 0.2128796\ttest: 0.4277674\tbest: 0.4019829 (76)\ttotal: 11.2s\tremaining: 3.57s\n",
            "758:\tlearn: 0.2126823\ttest: 0.4277545\tbest: 0.4019829 (76)\ttotal: 11.2s\tremaining: 3.55s\n",
            "759:\tlearn: 0.2125570\ttest: 0.4276676\tbest: 0.4019829 (76)\ttotal: 11.2s\tremaining: 3.54s\n",
            "760:\tlearn: 0.2120771\ttest: 0.4277442\tbest: 0.4019829 (76)\ttotal: 11.2s\tremaining: 3.52s\n",
            "761:\tlearn: 0.2118473\ttest: 0.4276837\tbest: 0.4019829 (76)\ttotal: 11.2s\tremaining: 3.51s\n",
            "762:\tlearn: 0.2117521\ttest: 0.4277756\tbest: 0.4019829 (76)\ttotal: 11.2s\tremaining: 3.49s\n",
            "763:\tlearn: 0.2116148\ttest: 0.4278027\tbest: 0.4019829 (76)\ttotal: 11.3s\tremaining: 3.48s\n",
            "764:\tlearn: 0.2113765\ttest: 0.4278319\tbest: 0.4019829 (76)\ttotal: 11.3s\tremaining: 3.46s\n",
            "765:\tlearn: 0.2112808\ttest: 0.4279416\tbest: 0.4019829 (76)\ttotal: 11.3s\tremaining: 3.45s\n",
            "766:\tlearn: 0.2111982\ttest: 0.4279725\tbest: 0.4019829 (76)\ttotal: 11.3s\tremaining: 3.43s\n",
            "767:\tlearn: 0.2110636\ttest: 0.4279435\tbest: 0.4019829 (76)\ttotal: 11.3s\tremaining: 3.42s\n",
            "768:\tlearn: 0.2107740\ttest: 0.4280701\tbest: 0.4019829 (76)\ttotal: 11.3s\tremaining: 3.4s\n",
            "769:\tlearn: 0.2104844\ttest: 0.4280706\tbest: 0.4019829 (76)\ttotal: 11.3s\tremaining: 3.39s\n",
            "770:\tlearn: 0.2102942\ttest: 0.4281739\tbest: 0.4019829 (76)\ttotal: 11.4s\tremaining: 3.37s\n",
            "771:\tlearn: 0.2099989\ttest: 0.4281456\tbest: 0.4019829 (76)\ttotal: 11.4s\tremaining: 3.36s\n",
            "772:\tlearn: 0.2099166\ttest: 0.4280710\tbest: 0.4019829 (76)\ttotal: 11.4s\tremaining: 3.35s\n",
            "773:\tlearn: 0.2097804\ttest: 0.4280768\tbest: 0.4019829 (76)\ttotal: 11.4s\tremaining: 3.33s\n",
            "774:\tlearn: 0.2097695\ttest: 0.4280333\tbest: 0.4019829 (76)\ttotal: 11.4s\tremaining: 3.32s\n",
            "775:\tlearn: 0.2096912\ttest: 0.4279803\tbest: 0.4019829 (76)\ttotal: 11.4s\tremaining: 3.3s\n",
            "776:\tlearn: 0.2094474\ttest: 0.4279785\tbest: 0.4019829 (76)\ttotal: 11.5s\tremaining: 3.29s\n",
            "777:\tlearn: 0.2093648\ttest: 0.4280411\tbest: 0.4019829 (76)\ttotal: 11.5s\tremaining: 3.27s\n",
            "778:\tlearn: 0.2091585\ttest: 0.4281978\tbest: 0.4019829 (76)\ttotal: 11.5s\tremaining: 3.26s\n",
            "779:\tlearn: 0.2090740\ttest: 0.4281122\tbest: 0.4019829 (76)\ttotal: 11.5s\tremaining: 3.24s\n",
            "780:\tlearn: 0.2089850\ttest: 0.4281041\tbest: 0.4019829 (76)\ttotal: 11.5s\tremaining: 3.23s\n",
            "781:\tlearn: 0.2086779\ttest: 0.4282512\tbest: 0.4019829 (76)\ttotal: 11.5s\tremaining: 3.21s\n",
            "782:\tlearn: 0.2084855\ttest: 0.4284858\tbest: 0.4019829 (76)\ttotal: 11.5s\tremaining: 3.2s\n",
            "783:\tlearn: 0.2082643\ttest: 0.4290043\tbest: 0.4019829 (76)\ttotal: 11.6s\tremaining: 3.19s\n",
            "784:\tlearn: 0.2080918\ttest: 0.4291198\tbest: 0.4019829 (76)\ttotal: 11.6s\tremaining: 3.17s\n",
            "785:\tlearn: 0.2079621\ttest: 0.4291821\tbest: 0.4019829 (76)\ttotal: 11.6s\tremaining: 3.16s\n",
            "786:\tlearn: 0.2077608\ttest: 0.4291811\tbest: 0.4019829 (76)\ttotal: 11.6s\tremaining: 3.14s\n",
            "787:\tlearn: 0.2076099\ttest: 0.4294350\tbest: 0.4019829 (76)\ttotal: 11.6s\tremaining: 3.13s\n",
            "788:\tlearn: 0.2074951\ttest: 0.4294291\tbest: 0.4019829 (76)\ttotal: 11.6s\tremaining: 3.11s\n",
            "789:\tlearn: 0.2074499\ttest: 0.4294430\tbest: 0.4019829 (76)\ttotal: 11.7s\tremaining: 3.1s\n",
            "790:\tlearn: 0.2073543\ttest: 0.4293620\tbest: 0.4019829 (76)\ttotal: 11.7s\tremaining: 3.08s\n",
            "791:\tlearn: 0.2072956\ttest: 0.4294138\tbest: 0.4019829 (76)\ttotal: 11.7s\tremaining: 3.07s\n",
            "792:\tlearn: 0.2070589\ttest: 0.4295547\tbest: 0.4019829 (76)\ttotal: 11.7s\tremaining: 3.05s\n",
            "793:\tlearn: 0.2070061\ttest: 0.4295863\tbest: 0.4019829 (76)\ttotal: 11.7s\tremaining: 3.04s\n",
            "794:\tlearn: 0.2068936\ttest: 0.4295398\tbest: 0.4019829 (76)\ttotal: 11.7s\tremaining: 3.02s\n",
            "795:\tlearn: 0.2067587\ttest: 0.4295128\tbest: 0.4019829 (76)\ttotal: 11.7s\tremaining: 3.01s\n",
            "796:\tlearn: 0.2063633\ttest: 0.4298853\tbest: 0.4019829 (76)\ttotal: 11.8s\tremaining: 2.99s\n",
            "797:\tlearn: 0.2062866\ttest: 0.4299231\tbest: 0.4019829 (76)\ttotal: 11.8s\tremaining: 2.98s\n",
            "798:\tlearn: 0.2060810\ttest: 0.4299685\tbest: 0.4019829 (76)\ttotal: 11.8s\tremaining: 2.96s\n",
            "799:\tlearn: 0.2058255\ttest: 0.4299795\tbest: 0.4019829 (76)\ttotal: 11.8s\tremaining: 2.95s\n",
            "800:\tlearn: 0.2056954\ttest: 0.4300383\tbest: 0.4019829 (76)\ttotal: 11.8s\tremaining: 2.94s\n",
            "801:\tlearn: 0.2056586\ttest: 0.4300991\tbest: 0.4019829 (76)\ttotal: 11.8s\tremaining: 2.92s\n",
            "802:\tlearn: 0.2055878\ttest: 0.4299952\tbest: 0.4019829 (76)\ttotal: 11.8s\tremaining: 2.91s\n",
            "803:\tlearn: 0.2055733\ttest: 0.4299831\tbest: 0.4019829 (76)\ttotal: 11.9s\tremaining: 2.89s\n",
            "804:\tlearn: 0.2055157\ttest: 0.4300340\tbest: 0.4019829 (76)\ttotal: 11.9s\tremaining: 2.88s\n",
            "805:\tlearn: 0.2052092\ttest: 0.4303425\tbest: 0.4019829 (76)\ttotal: 11.9s\tremaining: 2.86s\n",
            "806:\tlearn: 0.2049626\ttest: 0.4300820\tbest: 0.4019829 (76)\ttotal: 11.9s\tremaining: 2.85s\n",
            "807:\tlearn: 0.2047786\ttest: 0.4301227\tbest: 0.4019829 (76)\ttotal: 11.9s\tremaining: 2.83s\n",
            "808:\tlearn: 0.2046854\ttest: 0.4301831\tbest: 0.4019829 (76)\ttotal: 12s\tremaining: 2.82s\n",
            "809:\tlearn: 0.2045592\ttest: 0.4301278\tbest: 0.4019829 (76)\ttotal: 12s\tremaining: 2.81s\n",
            "810:\tlearn: 0.2044281\ttest: 0.4302901\tbest: 0.4019829 (76)\ttotal: 12s\tremaining: 2.79s\n",
            "811:\tlearn: 0.2042005\ttest: 0.4302573\tbest: 0.4019829 (76)\ttotal: 12s\tremaining: 2.78s\n",
            "812:\tlearn: 0.2039113\ttest: 0.4301723\tbest: 0.4019829 (76)\ttotal: 12s\tremaining: 2.76s\n",
            "813:\tlearn: 0.2038458\ttest: 0.4301096\tbest: 0.4019829 (76)\ttotal: 12s\tremaining: 2.75s\n",
            "814:\tlearn: 0.2037555\ttest: 0.4301708\tbest: 0.4019829 (76)\ttotal: 12s\tremaining: 2.73s\n",
            "815:\tlearn: 0.2036269\ttest: 0.4301300\tbest: 0.4019829 (76)\ttotal: 12.1s\tremaining: 2.72s\n",
            "816:\tlearn: 0.2035682\ttest: 0.4300307\tbest: 0.4019829 (76)\ttotal: 12.1s\tremaining: 2.71s\n",
            "817:\tlearn: 0.2034454\ttest: 0.4300366\tbest: 0.4019829 (76)\ttotal: 12.1s\tremaining: 2.69s\n",
            "818:\tlearn: 0.2033989\ttest: 0.4300201\tbest: 0.4019829 (76)\ttotal: 12.1s\tremaining: 2.67s\n",
            "819:\tlearn: 0.2031483\ttest: 0.4301867\tbest: 0.4019829 (76)\ttotal: 12.1s\tremaining: 2.66s\n",
            "820:\tlearn: 0.2029197\ttest: 0.4301460\tbest: 0.4019829 (76)\ttotal: 12.1s\tremaining: 2.65s\n",
            "821:\tlearn: 0.2027485\ttest: 0.4300741\tbest: 0.4019829 (76)\ttotal: 12.1s\tremaining: 2.63s\n",
            "822:\tlearn: 0.2027300\ttest: 0.4300737\tbest: 0.4019829 (76)\ttotal: 12.2s\tremaining: 2.62s\n",
            "823:\tlearn: 0.2024952\ttest: 0.4301751\tbest: 0.4019829 (76)\ttotal: 12.2s\tremaining: 2.6s\n",
            "824:\tlearn: 0.2023997\ttest: 0.4302945\tbest: 0.4019829 (76)\ttotal: 12.2s\tremaining: 2.59s\n",
            "825:\tlearn: 0.2023649\ttest: 0.4303825\tbest: 0.4019829 (76)\ttotal: 12.2s\tremaining: 2.57s\n",
            "826:\tlearn: 0.2022280\ttest: 0.4303528\tbest: 0.4019829 (76)\ttotal: 12.2s\tremaining: 2.56s\n",
            "827:\tlearn: 0.2020216\ttest: 0.4303267\tbest: 0.4019829 (76)\ttotal: 12.2s\tremaining: 2.54s\n",
            "828:\tlearn: 0.2018774\ttest: 0.4304899\tbest: 0.4019829 (76)\ttotal: 12.3s\tremaining: 2.53s\n",
            "829:\tlearn: 0.2015905\ttest: 0.4307291\tbest: 0.4019829 (76)\ttotal: 12.3s\tremaining: 2.51s\n",
            "830:\tlearn: 0.2013649\ttest: 0.4306648\tbest: 0.4019829 (76)\ttotal: 12.3s\tremaining: 2.5s\n",
            "831:\tlearn: 0.2012496\ttest: 0.4305248\tbest: 0.4019829 (76)\ttotal: 12.3s\tremaining: 2.48s\n",
            "832:\tlearn: 0.2010183\ttest: 0.4305740\tbest: 0.4019829 (76)\ttotal: 12.3s\tremaining: 2.47s\n",
            "833:\tlearn: 0.2010076\ttest: 0.4305819\tbest: 0.4019829 (76)\ttotal: 12.3s\tremaining: 2.45s\n",
            "834:\tlearn: 0.2009147\ttest: 0.4305503\tbest: 0.4019829 (76)\ttotal: 12.3s\tremaining: 2.44s\n",
            "835:\tlearn: 0.2008805\ttest: 0.4305882\tbest: 0.4019829 (76)\ttotal: 12.4s\tremaining: 2.42s\n",
            "836:\tlearn: 0.2007743\ttest: 0.4306583\tbest: 0.4019829 (76)\ttotal: 12.4s\tremaining: 2.41s\n",
            "837:\tlearn: 0.2006613\ttest: 0.4308101\tbest: 0.4019829 (76)\ttotal: 12.4s\tremaining: 2.4s\n",
            "838:\tlearn: 0.2005571\ttest: 0.4308011\tbest: 0.4019829 (76)\ttotal: 12.4s\tremaining: 2.38s\n",
            "839:\tlearn: 0.2004104\ttest: 0.4308240\tbest: 0.4019829 (76)\ttotal: 12.4s\tremaining: 2.37s\n",
            "840:\tlearn: 0.2002536\ttest: 0.4308739\tbest: 0.4019829 (76)\ttotal: 12.4s\tremaining: 2.35s\n",
            "841:\tlearn: 0.2001581\ttest: 0.4308693\tbest: 0.4019829 (76)\ttotal: 12.5s\tremaining: 2.34s\n",
            "842:\tlearn: 0.2000981\ttest: 0.4309322\tbest: 0.4019829 (76)\ttotal: 12.5s\tremaining: 2.32s\n",
            "843:\tlearn: 0.1999262\ttest: 0.4309146\tbest: 0.4019829 (76)\ttotal: 12.5s\tremaining: 2.31s\n",
            "844:\tlearn: 0.1996822\ttest: 0.4311379\tbest: 0.4019829 (76)\ttotal: 12.5s\tremaining: 2.29s\n",
            "845:\tlearn: 0.1993989\ttest: 0.4314020\tbest: 0.4019829 (76)\ttotal: 12.5s\tremaining: 2.28s\n",
            "846:\tlearn: 0.1992279\ttest: 0.4316229\tbest: 0.4019829 (76)\ttotal: 12.5s\tremaining: 2.26s\n",
            "847:\tlearn: 0.1990647\ttest: 0.4315889\tbest: 0.4019829 (76)\ttotal: 12.5s\tremaining: 2.25s\n",
            "848:\tlearn: 0.1989430\ttest: 0.4315559\tbest: 0.4019829 (76)\ttotal: 12.6s\tremaining: 2.23s\n",
            "849:\tlearn: 0.1985392\ttest: 0.4316633\tbest: 0.4019829 (76)\ttotal: 12.6s\tremaining: 2.22s\n",
            "850:\tlearn: 0.1984586\ttest: 0.4316815\tbest: 0.4019829 (76)\ttotal: 12.6s\tremaining: 2.2s\n",
            "851:\tlearn: 0.1983913\ttest: 0.4316832\tbest: 0.4019829 (76)\ttotal: 12.6s\tremaining: 2.19s\n",
            "852:\tlearn: 0.1982619\ttest: 0.4316855\tbest: 0.4019829 (76)\ttotal: 12.6s\tremaining: 2.17s\n",
            "853:\tlearn: 0.1981501\ttest: 0.4317321\tbest: 0.4019829 (76)\ttotal: 12.6s\tremaining: 2.16s\n",
            "854:\tlearn: 0.1979823\ttest: 0.4317122\tbest: 0.4019829 (76)\ttotal: 12.7s\tremaining: 2.15s\n",
            "855:\tlearn: 0.1979309\ttest: 0.4317587\tbest: 0.4019829 (76)\ttotal: 12.7s\tremaining: 2.13s\n",
            "856:\tlearn: 0.1978787\ttest: 0.4317671\tbest: 0.4019829 (76)\ttotal: 12.7s\tremaining: 2.12s\n",
            "857:\tlearn: 0.1976350\ttest: 0.4321422\tbest: 0.4019829 (76)\ttotal: 12.7s\tremaining: 2.1s\n",
            "858:\tlearn: 0.1975476\ttest: 0.4321586\tbest: 0.4019829 (76)\ttotal: 12.7s\tremaining: 2.09s\n",
            "859:\tlearn: 0.1972546\ttest: 0.4321505\tbest: 0.4019829 (76)\ttotal: 12.7s\tremaining: 2.07s\n",
            "860:\tlearn: 0.1971544\ttest: 0.4322358\tbest: 0.4019829 (76)\ttotal: 12.7s\tremaining: 2.06s\n",
            "861:\tlearn: 0.1968790\ttest: 0.4326758\tbest: 0.4019829 (76)\ttotal: 12.8s\tremaining: 2.04s\n",
            "862:\tlearn: 0.1967372\ttest: 0.4326087\tbest: 0.4019829 (76)\ttotal: 12.8s\tremaining: 2.03s\n",
            "863:\tlearn: 0.1966835\ttest: 0.4326768\tbest: 0.4019829 (76)\ttotal: 12.8s\tremaining: 2.01s\n",
            "864:\tlearn: 0.1964574\ttest: 0.4327882\tbest: 0.4019829 (76)\ttotal: 12.8s\tremaining: 2s\n",
            "865:\tlearn: 0.1959356\ttest: 0.4328898\tbest: 0.4019829 (76)\ttotal: 12.8s\tremaining: 1.98s\n",
            "866:\tlearn: 0.1956285\ttest: 0.4328765\tbest: 0.4019829 (76)\ttotal: 12.8s\tremaining: 1.97s\n",
            "867:\tlearn: 0.1955628\ttest: 0.4329881\tbest: 0.4019829 (76)\ttotal: 12.8s\tremaining: 1.95s\n",
            "868:\tlearn: 0.1953004\ttest: 0.4329987\tbest: 0.4019829 (76)\ttotal: 12.9s\tremaining: 1.94s\n",
            "869:\tlearn: 0.1951908\ttest: 0.4332531\tbest: 0.4019829 (76)\ttotal: 12.9s\tremaining: 1.92s\n",
            "870:\tlearn: 0.1949416\ttest: 0.4332658\tbest: 0.4019829 (76)\ttotal: 12.9s\tremaining: 1.91s\n",
            "871:\tlearn: 0.1945528\ttest: 0.4336124\tbest: 0.4019829 (76)\ttotal: 12.9s\tremaining: 1.9s\n",
            "872:\tlearn: 0.1944448\ttest: 0.4336033\tbest: 0.4019829 (76)\ttotal: 12.9s\tremaining: 1.88s\n",
            "873:\tlearn: 0.1943392\ttest: 0.4336086\tbest: 0.4019829 (76)\ttotal: 12.9s\tremaining: 1.87s\n",
            "874:\tlearn: 0.1942381\ttest: 0.4335531\tbest: 0.4019829 (76)\ttotal: 13s\tremaining: 1.85s\n",
            "875:\tlearn: 0.1941959\ttest: 0.4335532\tbest: 0.4019829 (76)\ttotal: 13s\tremaining: 1.84s\n",
            "876:\tlearn: 0.1941458\ttest: 0.4336211\tbest: 0.4019829 (76)\ttotal: 13s\tremaining: 1.82s\n",
            "877:\tlearn: 0.1937516\ttest: 0.4337305\tbest: 0.4019829 (76)\ttotal: 13s\tremaining: 1.81s\n",
            "878:\tlearn: 0.1935111\ttest: 0.4336000\tbest: 0.4019829 (76)\ttotal: 13s\tremaining: 1.79s\n",
            "879:\tlearn: 0.1932885\ttest: 0.4334710\tbest: 0.4019829 (76)\ttotal: 13s\tremaining: 1.78s\n",
            "880:\tlearn: 0.1929719\ttest: 0.4333277\tbest: 0.4019829 (76)\ttotal: 13.1s\tremaining: 1.76s\n",
            "881:\tlearn: 0.1926702\ttest: 0.4338896\tbest: 0.4019829 (76)\ttotal: 13.1s\tremaining: 1.75s\n",
            "882:\tlearn: 0.1926250\ttest: 0.4339200\tbest: 0.4019829 (76)\ttotal: 13.1s\tremaining: 1.73s\n",
            "883:\tlearn: 0.1924410\ttest: 0.4339992\tbest: 0.4019829 (76)\ttotal: 13.1s\tremaining: 1.72s\n",
            "884:\tlearn: 0.1923070\ttest: 0.4340341\tbest: 0.4019829 (76)\ttotal: 13.1s\tremaining: 1.71s\n",
            "885:\tlearn: 0.1922787\ttest: 0.4340135\tbest: 0.4019829 (76)\ttotal: 13.1s\tremaining: 1.69s\n",
            "886:\tlearn: 0.1921058\ttest: 0.4339784\tbest: 0.4019829 (76)\ttotal: 13.2s\tremaining: 1.68s\n",
            "887:\tlearn: 0.1917705\ttest: 0.4342031\tbest: 0.4019829 (76)\ttotal: 13.2s\tremaining: 1.66s\n",
            "888:\tlearn: 0.1916459\ttest: 0.4341314\tbest: 0.4019829 (76)\ttotal: 13.2s\tremaining: 1.65s\n",
            "889:\tlearn: 0.1914795\ttest: 0.4341005\tbest: 0.4019829 (76)\ttotal: 13.2s\tremaining: 1.63s\n",
            "890:\tlearn: 0.1913140\ttest: 0.4342987\tbest: 0.4019829 (76)\ttotal: 13.2s\tremaining: 1.62s\n",
            "891:\tlearn: 0.1910681\ttest: 0.4342697\tbest: 0.4019829 (76)\ttotal: 13.2s\tremaining: 1.6s\n",
            "892:\tlearn: 0.1909343\ttest: 0.4341836\tbest: 0.4019829 (76)\ttotal: 13.2s\tremaining: 1.59s\n",
            "893:\tlearn: 0.1907682\ttest: 0.4342850\tbest: 0.4019829 (76)\ttotal: 13.3s\tremaining: 1.57s\n",
            "894:\tlearn: 0.1906342\ttest: 0.4344990\tbest: 0.4019829 (76)\ttotal: 13.3s\tremaining: 1.56s\n",
            "895:\tlearn: 0.1905230\ttest: 0.4344984\tbest: 0.4019829 (76)\ttotal: 13.3s\tremaining: 1.54s\n",
            "896:\tlearn: 0.1904966\ttest: 0.4345326\tbest: 0.4019829 (76)\ttotal: 13.3s\tremaining: 1.53s\n",
            "897:\tlearn: 0.1904710\ttest: 0.4344829\tbest: 0.4019829 (76)\ttotal: 13.3s\tremaining: 1.51s\n",
            "898:\tlearn: 0.1902284\ttest: 0.4347113\tbest: 0.4019829 (76)\ttotal: 13.3s\tremaining: 1.5s\n",
            "899:\tlearn: 0.1900438\ttest: 0.4349288\tbest: 0.4019829 (76)\ttotal: 13.3s\tremaining: 1.48s\n",
            "900:\tlearn: 0.1899201\ttest: 0.4349068\tbest: 0.4019829 (76)\ttotal: 13.4s\tremaining: 1.47s\n",
            "901:\tlearn: 0.1898659\ttest: 0.4348514\tbest: 0.4019829 (76)\ttotal: 13.4s\tremaining: 1.45s\n",
            "902:\tlearn: 0.1898032\ttest: 0.4348325\tbest: 0.4019829 (76)\ttotal: 13.4s\tremaining: 1.44s\n",
            "903:\tlearn: 0.1895895\ttest: 0.4348145\tbest: 0.4019829 (76)\ttotal: 13.4s\tremaining: 1.42s\n",
            "904:\tlearn: 0.1894626\ttest: 0.4349614\tbest: 0.4019829 (76)\ttotal: 13.4s\tremaining: 1.41s\n",
            "905:\tlearn: 0.1891652\ttest: 0.4349685\tbest: 0.4019829 (76)\ttotal: 13.4s\tremaining: 1.39s\n",
            "906:\tlearn: 0.1888682\ttest: 0.4352201\tbest: 0.4019829 (76)\ttotal: 13.5s\tremaining: 1.38s\n",
            "907:\tlearn: 0.1888303\ttest: 0.4351992\tbest: 0.4019829 (76)\ttotal: 13.5s\tremaining: 1.36s\n",
            "908:\tlearn: 0.1886568\ttest: 0.4352809\tbest: 0.4019829 (76)\ttotal: 13.5s\tremaining: 1.35s\n",
            "909:\tlearn: 0.1885665\ttest: 0.4353207\tbest: 0.4019829 (76)\ttotal: 13.5s\tremaining: 1.33s\n",
            "910:\tlearn: 0.1884163\ttest: 0.4353089\tbest: 0.4019829 (76)\ttotal: 13.5s\tremaining: 1.32s\n",
            "911:\tlearn: 0.1882227\ttest: 0.4355446\tbest: 0.4019829 (76)\ttotal: 13.5s\tremaining: 1.31s\n",
            "912:\tlearn: 0.1881315\ttest: 0.4355642\tbest: 0.4019829 (76)\ttotal: 13.6s\tremaining: 1.29s\n",
            "913:\tlearn: 0.1880935\ttest: 0.4355805\tbest: 0.4019829 (76)\ttotal: 13.6s\tremaining: 1.28s\n",
            "914:\tlearn: 0.1880820\ttest: 0.4355880\tbest: 0.4019829 (76)\ttotal: 13.6s\tremaining: 1.26s\n",
            "915:\tlearn: 0.1880555\ttest: 0.4355322\tbest: 0.4019829 (76)\ttotal: 13.6s\tremaining: 1.25s\n",
            "916:\tlearn: 0.1879066\ttest: 0.4356734\tbest: 0.4019829 (76)\ttotal: 13.6s\tremaining: 1.23s\n",
            "917:\tlearn: 0.1877477\ttest: 0.4357036\tbest: 0.4019829 (76)\ttotal: 13.6s\tremaining: 1.22s\n",
            "918:\tlearn: 0.1877256\ttest: 0.4357180\tbest: 0.4019829 (76)\ttotal: 13.6s\tremaining: 1.2s\n",
            "919:\tlearn: 0.1876265\ttest: 0.4356730\tbest: 0.4019829 (76)\ttotal: 13.7s\tremaining: 1.19s\n",
            "920:\tlearn: 0.1875921\ttest: 0.4357128\tbest: 0.4019829 (76)\ttotal: 13.7s\tremaining: 1.17s\n",
            "921:\tlearn: 0.1873175\ttest: 0.4359277\tbest: 0.4019829 (76)\ttotal: 13.7s\tremaining: 1.16s\n",
            "922:\tlearn: 0.1872951\ttest: 0.4359508\tbest: 0.4019829 (76)\ttotal: 13.7s\tremaining: 1.14s\n",
            "923:\tlearn: 0.1872361\ttest: 0.4359354\tbest: 0.4019829 (76)\ttotal: 13.7s\tremaining: 1.13s\n",
            "924:\tlearn: 0.1871459\ttest: 0.4359311\tbest: 0.4019829 (76)\ttotal: 13.7s\tremaining: 1.11s\n",
            "925:\tlearn: 0.1870651\ttest: 0.4360213\tbest: 0.4019829 (76)\ttotal: 13.7s\tremaining: 1.1s\n",
            "926:\tlearn: 0.1869831\ttest: 0.4361017\tbest: 0.4019829 (76)\ttotal: 13.8s\tremaining: 1.08s\n",
            "927:\tlearn: 0.1868659\ttest: 0.4361417\tbest: 0.4019829 (76)\ttotal: 13.8s\tremaining: 1.07s\n",
            "928:\tlearn: 0.1867655\ttest: 0.4361783\tbest: 0.4019829 (76)\ttotal: 13.8s\tremaining: 1.05s\n",
            "929:\tlearn: 0.1866316\ttest: 0.4360141\tbest: 0.4019829 (76)\ttotal: 13.8s\tremaining: 1.04s\n",
            "930:\tlearn: 0.1865314\ttest: 0.4359364\tbest: 0.4019829 (76)\ttotal: 13.8s\tremaining: 1.02s\n",
            "931:\tlearn: 0.1864888\ttest: 0.4359135\tbest: 0.4019829 (76)\ttotal: 13.8s\tremaining: 1.01s\n",
            "932:\tlearn: 0.1864496\ttest: 0.4359222\tbest: 0.4019829 (76)\ttotal: 13.8s\tremaining: 994ms\n",
            "933:\tlearn: 0.1862958\ttest: 0.4360172\tbest: 0.4019829 (76)\ttotal: 13.9s\tremaining: 980ms\n",
            "934:\tlearn: 0.1861561\ttest: 0.4359416\tbest: 0.4019829 (76)\ttotal: 13.9s\tremaining: 965ms\n",
            "935:\tlearn: 0.1859176\ttest: 0.4359648\tbest: 0.4019829 (76)\ttotal: 13.9s\tremaining: 950ms\n",
            "936:\tlearn: 0.1858695\ttest: 0.4359340\tbest: 0.4019829 (76)\ttotal: 13.9s\tremaining: 935ms\n",
            "937:\tlearn: 0.1856324\ttest: 0.4359395\tbest: 0.4019829 (76)\ttotal: 13.9s\tremaining: 920ms\n",
            "938:\tlearn: 0.1854704\ttest: 0.4360482\tbest: 0.4019829 (76)\ttotal: 13.9s\tremaining: 905ms\n",
            "939:\tlearn: 0.1853536\ttest: 0.4362609\tbest: 0.4019829 (76)\ttotal: 13.9s\tremaining: 890ms\n",
            "940:\tlearn: 0.1852175\ttest: 0.4362921\tbest: 0.4019829 (76)\ttotal: 14s\tremaining: 876ms\n",
            "941:\tlearn: 0.1849763\ttest: 0.4361535\tbest: 0.4019829 (76)\ttotal: 14s\tremaining: 861ms\n",
            "942:\tlearn: 0.1847944\ttest: 0.4363173\tbest: 0.4019829 (76)\ttotal: 14s\tremaining: 847ms\n",
            "943:\tlearn: 0.1845979\ttest: 0.4363707\tbest: 0.4019829 (76)\ttotal: 14s\tremaining: 832ms\n",
            "944:\tlearn: 0.1845161\ttest: 0.4363016\tbest: 0.4019829 (76)\ttotal: 14s\tremaining: 817ms\n",
            "945:\tlearn: 0.1843204\ttest: 0.4363359\tbest: 0.4019829 (76)\ttotal: 14s\tremaining: 802ms\n",
            "946:\tlearn: 0.1841090\ttest: 0.4365226\tbest: 0.4019829 (76)\ttotal: 14.1s\tremaining: 787ms\n",
            "947:\tlearn: 0.1838802\ttest: 0.4367584\tbest: 0.4019829 (76)\ttotal: 14.1s\tremaining: 772ms\n",
            "948:\tlearn: 0.1838451\ttest: 0.4367600\tbest: 0.4019829 (76)\ttotal: 14.1s\tremaining: 757ms\n",
            "949:\tlearn: 0.1836642\ttest: 0.4366591\tbest: 0.4019829 (76)\ttotal: 14.1s\tremaining: 743ms\n",
            "950:\tlearn: 0.1832948\ttest: 0.4366598\tbest: 0.4019829 (76)\ttotal: 14.1s\tremaining: 728ms\n",
            "951:\tlearn: 0.1832012\ttest: 0.4367030\tbest: 0.4019829 (76)\ttotal: 14.1s\tremaining: 713ms\n",
            "952:\tlearn: 0.1831730\ttest: 0.4367901\tbest: 0.4019829 (76)\ttotal: 14.2s\tremaining: 698ms\n",
            "953:\tlearn: 0.1830000\ttest: 0.4367182\tbest: 0.4019829 (76)\ttotal: 14.2s\tremaining: 683ms\n",
            "954:\tlearn: 0.1828053\ttest: 0.4366410\tbest: 0.4019829 (76)\ttotal: 14.2s\tremaining: 668ms\n",
            "955:\tlearn: 0.1826939\ttest: 0.4365492\tbest: 0.4019829 (76)\ttotal: 14.2s\tremaining: 653ms\n",
            "956:\tlearn: 0.1825503\ttest: 0.4365525\tbest: 0.4019829 (76)\ttotal: 14.2s\tremaining: 638ms\n",
            "957:\tlearn: 0.1824804\ttest: 0.4365248\tbest: 0.4019829 (76)\ttotal: 14.2s\tremaining: 624ms\n",
            "958:\tlearn: 0.1822809\ttest: 0.4365497\tbest: 0.4019829 (76)\ttotal: 14.2s\tremaining: 609ms\n",
            "959:\tlearn: 0.1821836\ttest: 0.4367007\tbest: 0.4019829 (76)\ttotal: 14.3s\tremaining: 594ms\n",
            "960:\tlearn: 0.1820323\ttest: 0.4366630\tbest: 0.4019829 (76)\ttotal: 14.3s\tremaining: 579ms\n",
            "961:\tlearn: 0.1819709\ttest: 0.4366776\tbest: 0.4019829 (76)\ttotal: 14.3s\tremaining: 564ms\n",
            "962:\tlearn: 0.1818257\ttest: 0.4369332\tbest: 0.4019829 (76)\ttotal: 14.3s\tremaining: 550ms\n",
            "963:\tlearn: 0.1816864\ttest: 0.4370105\tbest: 0.4019829 (76)\ttotal: 14.3s\tremaining: 535ms\n",
            "964:\tlearn: 0.1815296\ttest: 0.4367608\tbest: 0.4019829 (76)\ttotal: 14.3s\tremaining: 520ms\n",
            "965:\tlearn: 0.1814592\ttest: 0.4367861\tbest: 0.4019829 (76)\ttotal: 14.3s\tremaining: 505ms\n",
            "966:\tlearn: 0.1812822\ttest: 0.4368962\tbest: 0.4019829 (76)\ttotal: 14.4s\tremaining: 490ms\n",
            "967:\tlearn: 0.1811165\ttest: 0.4367792\tbest: 0.4019829 (76)\ttotal: 14.4s\tremaining: 475ms\n",
            "968:\tlearn: 0.1809241\ttest: 0.4367669\tbest: 0.4019829 (76)\ttotal: 14.4s\tremaining: 460ms\n",
            "969:\tlearn: 0.1808580\ttest: 0.4368446\tbest: 0.4019829 (76)\ttotal: 14.4s\tremaining: 445ms\n",
            "970:\tlearn: 0.1808309\ttest: 0.4368368\tbest: 0.4019829 (76)\ttotal: 14.4s\tremaining: 431ms\n",
            "971:\tlearn: 0.1807227\ttest: 0.4366376\tbest: 0.4019829 (76)\ttotal: 14.4s\tremaining: 416ms\n",
            "972:\tlearn: 0.1806143\ttest: 0.4365719\tbest: 0.4019829 (76)\ttotal: 14.4s\tremaining: 401ms\n",
            "973:\tlearn: 0.1805595\ttest: 0.4366138\tbest: 0.4019829 (76)\ttotal: 14.5s\tremaining: 386ms\n",
            "974:\tlearn: 0.1804471\ttest: 0.4366232\tbest: 0.4019829 (76)\ttotal: 14.5s\tremaining: 371ms\n",
            "975:\tlearn: 0.1803238\ttest: 0.4366930\tbest: 0.4019829 (76)\ttotal: 14.5s\tremaining: 356ms\n",
            "976:\tlearn: 0.1800750\ttest: 0.4368884\tbest: 0.4019829 (76)\ttotal: 14.5s\tremaining: 341ms\n",
            "977:\tlearn: 0.1799209\ttest: 0.4369644\tbest: 0.4019829 (76)\ttotal: 14.5s\tremaining: 327ms\n",
            "978:\tlearn: 0.1796916\ttest: 0.4369692\tbest: 0.4019829 (76)\ttotal: 14.5s\tremaining: 312ms\n",
            "979:\tlearn: 0.1796805\ttest: 0.4370008\tbest: 0.4019829 (76)\ttotal: 14.5s\tremaining: 297ms\n",
            "980:\tlearn: 0.1794732\ttest: 0.4369223\tbest: 0.4019829 (76)\ttotal: 14.6s\tremaining: 282ms\n",
            "981:\tlearn: 0.1793546\ttest: 0.4368746\tbest: 0.4019829 (76)\ttotal: 14.6s\tremaining: 267ms\n",
            "982:\tlearn: 0.1793271\ttest: 0.4368929\tbest: 0.4019829 (76)\ttotal: 14.6s\tremaining: 252ms\n",
            "983:\tlearn: 0.1792551\ttest: 0.4369109\tbest: 0.4019829 (76)\ttotal: 14.6s\tremaining: 237ms\n",
            "984:\tlearn: 0.1792186\ttest: 0.4369009\tbest: 0.4019829 (76)\ttotal: 14.6s\tremaining: 223ms\n",
            "985:\tlearn: 0.1791527\ttest: 0.4369003\tbest: 0.4019829 (76)\ttotal: 14.6s\tremaining: 208ms\n",
            "986:\tlearn: 0.1790614\ttest: 0.4369201\tbest: 0.4019829 (76)\ttotal: 14.6s\tremaining: 193ms\n",
            "987:\tlearn: 0.1789589\ttest: 0.4367889\tbest: 0.4019829 (76)\ttotal: 14.7s\tremaining: 178ms\n",
            "988:\tlearn: 0.1787927\ttest: 0.4368203\tbest: 0.4019829 (76)\ttotal: 14.7s\tremaining: 163ms\n",
            "989:\tlearn: 0.1787128\ttest: 0.4368258\tbest: 0.4019829 (76)\ttotal: 14.7s\tremaining: 148ms\n",
            "990:\tlearn: 0.1785190\ttest: 0.4370082\tbest: 0.4019829 (76)\ttotal: 14.7s\tremaining: 134ms\n",
            "991:\tlearn: 0.1784427\ttest: 0.4369257\tbest: 0.4019829 (76)\ttotal: 14.7s\tremaining: 119ms\n",
            "992:\tlearn: 0.1783925\ttest: 0.4369348\tbest: 0.4019829 (76)\ttotal: 14.7s\tremaining: 104ms\n",
            "993:\tlearn: 0.1781887\ttest: 0.4369207\tbest: 0.4019829 (76)\ttotal: 14.8s\tremaining: 89.1ms\n",
            "994:\tlearn: 0.1781331\ttest: 0.4369506\tbest: 0.4019829 (76)\ttotal: 14.8s\tremaining: 74.2ms\n",
            "995:\tlearn: 0.1780805\ttest: 0.4369756\tbest: 0.4019829 (76)\ttotal: 14.8s\tremaining: 59.4ms\n",
            "996:\tlearn: 0.1779240\ttest: 0.4372025\tbest: 0.4019829 (76)\ttotal: 14.8s\tremaining: 44.5ms\n",
            "997:\tlearn: 0.1778384\ttest: 0.4371036\tbest: 0.4019829 (76)\ttotal: 14.8s\tremaining: 29.7ms\n",
            "998:\tlearn: 0.1775654\ttest: 0.4372464\tbest: 0.4019829 (76)\ttotal: 14.8s\tremaining: 14.8ms\n",
            "999:\tlearn: 0.1774463\ttest: 0.4372256\tbest: 0.4019829 (76)\ttotal: 14.8s\tremaining: 0us\n",
            "\n",
            "bestTest = 0.4019829018\n",
            "bestIteration = 76\n",
            "\n",
            "Shrink model to first 77 iterations.\n"
          ],
          "name": "stdout"
        },
        {
          "output_type": "execute_result",
          "data": {
            "text/plain": [
              "<catboost.core.CatBoostClassifier at 0x7f7098c4c358>"
            ]
          },
          "metadata": {
            "tags": []
          },
          "execution_count": 170
        }
      ]
    },
    {
      "cell_type": "code",
      "metadata": {
        "id": "0hZEBw7TpcHb",
        "colab_type": "code",
        "outputId": "aeff03f3-dfcb-48b8-a243-657532e254b9",
        "colab": {
          "base_uri": "https://localhost:8080/",
          "height": 34
        }
      },
      "source": [
        "cb_model.best_iteration_"
      ],
      "execution_count": 0,
      "outputs": [
        {
          "output_type": "execute_result",
          "data": {
            "text/plain": [
              "76"
            ]
          },
          "metadata": {
            "tags": []
          },
          "execution_count": 171
        }
      ]
    },
    {
      "cell_type": "code",
      "metadata": {
        "id": "83FinXMgpcXk",
        "colab_type": "code",
        "outputId": "3c85295a-fe07-446b-c2fc-34888d13be00",
        "colab": {
          "base_uri": "https://localhost:8080/",
          "height": 51
        }
      },
      "source": [
        "cb_model.best_score_"
      ],
      "execution_count": 0,
      "outputs": [
        {
          "output_type": "execute_result",
          "data": {
            "text/plain": [
              "{'learn': {'Logloss': 0.17744626139830613},\n",
              " 'validation': {'Logloss': 0.40198290177071977}}"
            ]
          },
          "metadata": {
            "tags": []
          },
          "execution_count": 172
        }
      ]
    },
    {
      "cell_type": "code",
      "metadata": {
        "id": "Dmx4Sjohpcnl",
        "colab_type": "code",
        "outputId": "26f57fec-60f1-4b32-c481-1e900e9df341",
        "colab": {
          "base_uri": "https://localhost:8080/",
          "height": 1000
        }
      },
      "source": [
        "cb_model.evals_result_"
      ],
      "execution_count": 0,
      "outputs": [
        {
          "output_type": "execute_result",
          "data": {
            "text/plain": [
              "{'learn': {'Logloss': [0.6354656511676126,\n",
              "   0.5912197999229087,\n",
              "   0.5576430821892903,\n",
              "   0.5303167552001764,\n",
              "   0.5103542486659309,\n",
              "   0.4920786277211465,\n",
              "   0.47710829429859736,\n",
              "   0.4658884049114919,\n",
              "   0.45558795365323085,\n",
              "   0.44924821538802473,\n",
              "   0.4448777979547913,\n",
              "   0.4402360694305363,\n",
              "   0.43576207202367645,\n",
              "   0.43090159037086606,\n",
              "   0.4270002210843596,\n",
              "   0.4250716078889144,\n",
              "   0.4222947763091528,\n",
              "   0.4210901775506092,\n",
              "   0.4183285479977568,\n",
              "   0.41671027188385157,\n",
              "   0.4145653630638089,\n",
              "   0.4124801943598987,\n",
              "   0.41052918126876486,\n",
              "   0.40932705202462316,\n",
              "   0.4081171853206263,\n",
              "   0.4068300162595586,\n",
              "   0.4063584345531373,\n",
              "   0.40597883659224426,\n",
              "   0.40495995946359853,\n",
              "   0.4038316169207741,\n",
              "   0.40295383364384785,\n",
              "   0.4014649176066865,\n",
              "   0.4014329034064579,\n",
              "   0.40081969660606737,\n",
              "   0.3999098366116601,\n",
              "   0.3989648401944064,\n",
              "   0.39891228494582726,\n",
              "   0.3989109941487919,\n",
              "   0.39890681840667974,\n",
              "   0.3976981157519681,\n",
              "   0.39732017734138175,\n",
              "   0.3970921564483055,\n",
              "   0.39678580098551314,\n",
              "   0.3967612961771832,\n",
              "   0.3965971036974142,\n",
              "   0.3957328715227359,\n",
              "   0.3952839349393906,\n",
              "   0.3949552204245773,\n",
              "   0.39421542860903896,\n",
              "   0.39374152979174226,\n",
              "   0.39330403254617724,\n",
              "   0.39288226831753964,\n",
              "   0.3926794311943803,\n",
              "   0.3926435360828883,\n",
              "   0.3923646606451601,\n",
              "   0.3922594686439015,\n",
              "   0.3920938658919071,\n",
              "   0.3915720403670654,\n",
              "   0.391375780451364,\n",
              "   0.3908764625581606,\n",
              "   0.3900803746201753,\n",
              "   0.3900801142791204,\n",
              "   0.3897047871020756,\n",
              "   0.38955424918464304,\n",
              "   0.3895255812380523,\n",
              "   0.3893375588932686,\n",
              "   0.38915099924800245,\n",
              "   0.38889358794736784,\n",
              "   0.3888934564563225,\n",
              "   0.38805910094065543,\n",
              "   0.3879486866222495,\n",
              "   0.3879234508917312,\n",
              "   0.38749302912104644,\n",
              "   0.38673616110164655,\n",
              "   0.3860913333820036,\n",
              "   0.3860912192367165,\n",
              "   0.38525582599374336,\n",
              "   0.3846698421911257,\n",
              "   0.3845721115913525,\n",
              "   0.38456702827831446,\n",
              "   0.38442558075935285,\n",
              "   0.38425447392980994,\n",
              "   0.38373580107760047,\n",
              "   0.38328218428763255,\n",
              "   0.3829822444915273,\n",
              "   0.3818549796377955,\n",
              "   0.3807916917729232,\n",
              "   0.3807751154581361,\n",
              "   0.3807748939482424,\n",
              "   0.3798662765682364,\n",
              "   0.37982012041049384,\n",
              "   0.3798199588684621,\n",
              "   0.37920699896839916,\n",
              "   0.3789750438968199,\n",
              "   0.37866532887925747,\n",
              "   0.3777979482158851,\n",
              "   0.37771553252813106,\n",
              "   0.3773887298319589,\n",
              "   0.3770728128474405,\n",
              "   0.376885963567295,\n",
              "   0.3762231547163804,\n",
              "   0.37547886730142394,\n",
              "   0.3750527614433442,\n",
              "   0.3743657451532056,\n",
              "   0.373934639658295,\n",
              "   0.3733420127006414,\n",
              "   0.3726127764675361,\n",
              "   0.37246805875881944,\n",
              "   0.37216342912363476,\n",
              "   0.37197463762381167,\n",
              "   0.37122392848688,\n",
              "   0.3708024240646908,\n",
              "   0.3704824996501185,\n",
              "   0.3699676048234951,\n",
              "   0.3696456787120042,\n",
              "   0.3692701888388628,\n",
              "   0.36916788279940616,\n",
              "   0.368751939284521,\n",
              "   0.3682840390107352,\n",
              "   0.36796185083766575,\n",
              "   0.36730421239261424,\n",
              "   0.3672390657251214,\n",
              "   0.3670953156291646,\n",
              "   0.3670423791051711,\n",
              "   0.3666383829149966,\n",
              "   0.36654817304853426,\n",
              "   0.36639657672999004,\n",
              "   0.36629431684158253,\n",
              "   0.3657385654597819,\n",
              "   0.36540480567932837,\n",
              "   0.36479786824875843,\n",
              "   0.3643957179912666,\n",
              "   0.3640151374109029,\n",
              "   0.3637595693472237,\n",
              "   0.3632616467801813,\n",
              "   0.36268253620398927,\n",
              "   0.3623185298519295,\n",
              "   0.36175389376090994,\n",
              "   0.3607935299271854,\n",
              "   0.3601801559587009,\n",
              "   0.3600231204023471,\n",
              "   0.35959458549953843,\n",
              "   0.3593525744467805,\n",
              "   0.3593092758194769,\n",
              "   0.35888349314439,\n",
              "   0.35865089652618937,\n",
              "   0.3585335164221636,\n",
              "   0.3583523112523169,\n",
              "   0.3577480267457591,\n",
              "   0.35752936413107217,\n",
              "   0.35705735846735165,\n",
              "   0.35690465339192373,\n",
              "   0.35685903771080596,\n",
              "   0.35627997427200714,\n",
              "   0.35600209573048,\n",
              "   0.35592975554851375,\n",
              "   0.35578732671955726,\n",
              "   0.35559089046767833,\n",
              "   0.3550482253927468,\n",
              "   0.35472757897340346,\n",
              "   0.354336709506448,\n",
              "   0.3542479474667196,\n",
              "   0.3537960546392104,\n",
              "   0.35356638980513605,\n",
              "   0.35332421012236676,\n",
              "   0.3530492519506329,\n",
              "   0.35263043110425346,\n",
              "   0.352115846574277,\n",
              "   0.351508070612483,\n",
              "   0.35100362382806094,\n",
              "   0.3506766375911284,\n",
              "   0.3502390968197962,\n",
              "   0.3500967835750299,\n",
              "   0.34976923286499456,\n",
              "   0.34934035985253675,\n",
              "   0.3485335273979048,\n",
              "   0.3478327304392931,\n",
              "   0.3473631622695721,\n",
              "   0.34687712657551545,\n",
              "   0.3463998286843884,\n",
              "   0.3459140033932758,\n",
              "   0.3455484868495802,\n",
              "   0.34522950449562567,\n",
              "   0.34491458248026424,\n",
              "   0.34436776863682045,\n",
              "   0.34409980465072026,\n",
              "   0.3437559662962326,\n",
              "   0.343566119919795,\n",
              "   0.3433184456505146,\n",
              "   0.3430707909691116,\n",
              "   0.34270969580631605,\n",
              "   0.34226967335965514,\n",
              "   0.34181086694104035,\n",
              "   0.34141426349144743,\n",
              "   0.3411324816803746,\n",
              "   0.340903152778472,\n",
              "   0.3405933665040402,\n",
              "   0.3400273548417037,\n",
              "   0.3400094292717772,\n",
              "   0.33977186813344873,\n",
              "   0.3392807901198563,\n",
              "   0.3385104269715167,\n",
              "   0.33819250565486725,\n",
              "   0.3374882333402112,\n",
              "   0.3372159907940492,\n",
              "   0.33701309588497197,\n",
              "   0.3368092491825934,\n",
              "   0.3366138391978876,\n",
              "   0.33639428851750175,\n",
              "   0.3362710058204811,\n",
              "   0.3357777741222122,\n",
              "   0.33531617295132293,\n",
              "   0.33498541794167197,\n",
              "   0.3343383570430986,\n",
              "   0.3341230878610063,\n",
              "   0.3338888587291995,\n",
              "   0.33383111402406934,\n",
              "   0.33316570831439163,\n",
              "   0.3326639337384891,\n",
              "   0.3322827141933055,\n",
              "   0.3322022211973056,\n",
              "   0.33175487981239604,\n",
              "   0.3313861782718385,\n",
              "   0.33116059017579863,\n",
              "   0.3308315886832461,\n",
              "   0.3307703934269495,\n",
              "   0.33049349385229043,\n",
              "   0.33036954069655367,\n",
              "   0.3298854922535301,\n",
              "   0.3296172204779492,\n",
              "   0.3293188215399763,\n",
              "   0.3291873002495695,\n",
              "   0.32873065447614375,\n",
              "   0.3283394978284615,\n",
              "   0.32803737158146945,\n",
              "   0.3276650826366127,\n",
              "   0.32747282597664684,\n",
              "   0.32714993019089156,\n",
              "   0.32678959379629247,\n",
              "   0.32649955618654763,\n",
              "   0.32627981839578,\n",
              "   0.3260028404943525,\n",
              "   0.32573275043243854,\n",
              "   0.325472610775026,\n",
              "   0.32524220843608653,\n",
              "   0.32486948330881277,\n",
              "   0.32460350783081987,\n",
              "   0.32428839736428705,\n",
              "   0.3240600209946959,\n",
              "   0.32392883557712576,\n",
              "   0.3237969846556007,\n",
              "   0.32340480081115275,\n",
              "   0.3232431851792612,\n",
              "   0.32291520449385136,\n",
              "   0.32287381657700454,\n",
              "   0.3226096247365352,\n",
              "   0.3219872416714157,\n",
              "   0.32151847647720255,\n",
              "   0.32140014596302136,\n",
              "   0.32124022971961586,\n",
              "   0.3210174241384331,\n",
              "   0.3207523111728697,\n",
              "   0.32037364348427966,\n",
              "   0.32021235980110807,\n",
              "   0.3196308592796552,\n",
              "   0.3193083248097975,\n",
              "   0.3192619033490535,\n",
              "   0.3192137113872805,\n",
              "   0.3187620928560858,\n",
              "   0.3185056113815872,\n",
              "   0.3182315773233644,\n",
              "   0.31772817079339155,\n",
              "   0.3175759391874014,\n",
              "   0.31716570088328816,\n",
              "   0.31693005464053037,\n",
              "   0.31633664314993637,\n",
              "   0.31610886246850856,\n",
              "   0.3159662212213275,\n",
              "   0.3155549726499597,\n",
              "   0.31540396646222185,\n",
              "   0.3152328066493205,\n",
              "   0.31504357400065985,\n",
              "   0.3148933978973112,\n",
              "   0.31471418288516084,\n",
              "   0.3144704084029797,\n",
              "   0.3142360956682112,\n",
              "   0.31390286993666355,\n",
              "   0.31362639053767327,\n",
              "   0.3134294266592832,\n",
              "   0.31299808268154855,\n",
              "   0.3128689785426541,\n",
              "   0.31266957538532125,\n",
              "   0.31240261939705055,\n",
              "   0.31230214737516726,\n",
              "   0.312158540847514,\n",
              "   0.3120694954364116,\n",
              "   0.31193069449706423,\n",
              "   0.31148323093549085,\n",
              "   0.3113319248953472,\n",
              "   0.31098216592826583,\n",
              "   0.3108873837488429,\n",
              "   0.3105819781076505,\n",
              "   0.3102549974177012,\n",
              "   0.3100119026555635,\n",
              "   0.30974031401645485,\n",
              "   0.309299740924168,\n",
              "   0.30875129740869073,\n",
              "   0.30850349038569796,\n",
              "   0.30815786885921065,\n",
              "   0.30751484566394205,\n",
              "   0.3071756146016454,\n",
              "   0.3068384150990707,\n",
              "   0.3066622340777039,\n",
              "   0.30633534300732135,\n",
              "   0.30627918955472677,\n",
              "   0.3058361799210028,\n",
              "   0.3054249151172598,\n",
              "   0.30530139440405246,\n",
              "   0.3050755255019762,\n",
              "   0.3046217918117191,\n",
              "   0.304195970645782,\n",
              "   0.30377945082106794,\n",
              "   0.3034609894415542,\n",
              "   0.30321434950191734,\n",
              "   0.3031205173256738,\n",
              "   0.3026284916219804,\n",
              "   0.3024862123782624,\n",
              "   0.30196933299980055,\n",
              "   0.301545955871938,\n",
              "   0.3009720786289104,\n",
              "   0.3008530333568205,\n",
              "   0.3006932606439902,\n",
              "   0.30046479452538244,\n",
              "   0.30004211593271213,\n",
              "   0.29994935234282705,\n",
              "   0.2995956980475644,\n",
              "   0.2995922663808971,\n",
              "   0.299189285087066,\n",
              "   0.29876730692393805,\n",
              "   0.2981262531792997,\n",
              "   0.2978992105654675,\n",
              "   0.2976588598843041,\n",
              "   0.29726061545011767,\n",
              "   0.2969865975306685,\n",
              "   0.29673873575781334,\n",
              "   0.2963715891368816,\n",
              "   0.29628457280579346,\n",
              "   0.2961947423997843,\n",
              "   0.29599910419315023,\n",
              "   0.2957082251996378,\n",
              "   0.2954621886246853,\n",
              "   0.29527587049274173,\n",
              "   0.2949953705650394,\n",
              "   0.2946842616412233,\n",
              "   0.2945295898517572,\n",
              "   0.2942475853473292,\n",
              "   0.29390211459622617,\n",
              "   0.29348910899402136,\n",
              "   0.2934577643033712,\n",
              "   0.2931455970628464,\n",
              "   0.2926229595744031,\n",
              "   0.29244510966135884,\n",
              "   0.29233720030665666,\n",
              "   0.29198631499800204,\n",
              "   0.29150643996807796,\n",
              "   0.29127969150252025,\n",
              "   0.29102633644866044,\n",
              "   0.2909312874713765,\n",
              "   0.29076826684856666,\n",
              "   0.2906236711308786,\n",
              "   0.29030740185320303,\n",
              "   0.28989535911095654,\n",
              "   0.2896907645472903,\n",
              "   0.2892841532758323,\n",
              "   0.2890806464747698,\n",
              "   0.28861440047980713,\n",
              "   0.288364028922645,\n",
              "   0.28798501334148185,\n",
              "   0.28757087528797676,\n",
              "   0.28731609300685984,\n",
              "   0.28709179751151975,\n",
              "   0.2868342063829522,\n",
              "   0.2865952435727154,\n",
              "   0.2864296292329299,\n",
              "   0.28609515243824213,\n",
              "   0.2860058256326688,\n",
              "   0.2858679707738813,\n",
              "   0.2856006689773877,\n",
              "   0.2853017352980375,\n",
              "   0.2849957365612817,\n",
              "   0.2848725945197848,\n",
              "   0.28476869036771746,\n",
              "   0.2845389421434203,\n",
              "   0.2842409496383048,\n",
              "   0.2838633936562072,\n",
              "   0.283670621254318,\n",
              "   0.2833977421874111,\n",
              "   0.283107698506763,\n",
              "   0.28304074672639623,\n",
              "   0.2829163015778667,\n",
              "   0.2826812570885728,\n",
              "   0.2824148535243283,\n",
              "   0.2821599862703058,\n",
              "   0.2817118100481158,\n",
              "   0.2814490858401619,\n",
              "   0.2810185345818485,\n",
              "   0.2808336159243011,\n",
              "   0.28056055732111007,\n",
              "   0.2804100094405192,\n",
              "   0.2800406298741388,\n",
              "   0.27975555760966153,\n",
              "   0.2792844572591753,\n",
              "   0.27869194851633783,\n",
              "   0.27838886109571237,\n",
              "   0.2783277541168615,\n",
              "   0.27813229278253376,\n",
              "   0.27803110255921115,\n",
              "   0.2778739291445426,\n",
              "   0.27776309463846416,\n",
              "   0.27737592836680197,\n",
              "   0.2770710585394624,\n",
              "   0.2764880065414901,\n",
              "   0.2760591646724655,\n",
              "   0.2756810673091614,\n",
              "   0.27537980547604574,\n",
              "   0.27525274532213756,\n",
              "   0.2750461334129996,\n",
              "   0.274945877082129,\n",
              "   0.2746966634114416,\n",
              "   0.274553599102061,\n",
              "   0.27405520411687256,\n",
              "   0.2735674643514502,\n",
              "   0.27334970142718407,\n",
              "   0.2732302624472903,\n",
              "   0.2730689893910847,\n",
              "   0.2727332644720729,\n",
              "   0.27254046770843304,\n",
              "   0.2723759697812403,\n",
              "   0.2722206308307942,\n",
              "   0.2721381225943202,\n",
              "   0.272069306005316,\n",
              "   0.2718570234805689,\n",
              "   0.271711567804836,\n",
              "   0.2712385097701699,\n",
              "   0.2711171754214927,\n",
              "   0.27087657403230375,\n",
              "   0.2706136611997223,\n",
              "   0.27057113878056654,\n",
              "   0.27023425312590854,\n",
              "   0.2700244531747877,\n",
              "   0.2697938515262935,\n",
              "   0.26964491424442405,\n",
              "   0.2695396334402814,\n",
              "   0.2694192401842741,\n",
              "   0.26909557649338123,\n",
              "   0.2687171355359745,\n",
              "   0.26863457747353797,\n",
              "   0.26816636389583504,\n",
              "   0.2680323183344173,\n",
              "   0.2677168988447455,\n",
              "   0.2674961826881369,\n",
              "   0.2672405854332314,\n",
              "   0.26710151793589115,\n",
              "   0.2669754228423521,\n",
              "   0.26692314962170166,\n",
              "   0.2665199756002199,\n",
              "   0.26635239660870375,\n",
              "   0.2661636645663841,\n",
              "   0.2659290544432045,\n",
              "   0.2657275911876723,\n",
              "   0.26549471460322155,\n",
              "   0.26521097957593603,\n",
              "   0.2649717000911658,\n",
              "   0.2648067519310297,\n",
              "   0.26471175838150396,\n",
              "   0.26441176597415517,\n",
              "   0.2640145622733316,\n",
              "   0.26370968042474296,\n",
              "   0.26365015304572853,\n",
              "   0.26345627756800954,\n",
              "   0.2632557345753339,\n",
              "   0.2630515162482555,\n",
              "   0.2630291257318927,\n",
              "   0.262712931285431,\n",
              "   0.262461017850417,\n",
              "   0.2622874860628569,\n",
              "   0.26209099464596264,\n",
              "   0.26178611389907036,\n",
              "   0.2617151310848386,\n",
              "   0.2616036098714387,\n",
              "   0.2613610272074632,\n",
              "   0.2611805157213297,\n",
              "   0.2608600886562281,\n",
              "   0.2605945107051307,\n",
              "   0.26055644243596465,\n",
              "   0.2603991785464126,\n",
              "   0.260304184329266,\n",
              "   0.26014325800978993,\n",
              "   0.2599608984249423,\n",
              "   0.2598006991871351,\n",
              "   0.2597172176179937,\n",
              "   0.2593778599035558,\n",
              "   0.25913815316019306,\n",
              "   0.25892907065977266,\n",
              "   0.2586470388233817,\n",
              "   0.2584279710443402,\n",
              "   0.25814410144251765,\n",
              "   0.25774049149464434,\n",
              "   0.2575925001456084,\n",
              "   0.2574232083041511,\n",
              "   0.25712062714768097,\n",
              "   0.2569361702623823,\n",
              "   0.256732704251891,\n",
              "   0.2564612819297501,\n",
              "   0.25619329149638226,\n",
              "   0.2560028885772268,\n",
              "   0.255608944588091,\n",
              "   0.2552742055409677,\n",
              "   0.255242192215585,\n",
              "   0.25510309069219467,\n",
              "   0.25490865729129075,\n",
              "   0.25477057671146247,\n",
              "   0.25455687258605497,\n",
              "   0.25436957641158914,\n",
              "   0.2540534630018654,\n",
              "   0.25396974150687807,\n",
              "   0.2537150453025763,\n",
              "   0.2536137725839943,\n",
              "   0.2534772444430933,\n",
              "   0.2534237325046363,\n",
              "   0.253375069676127,\n",
              "   0.25321149369201806,\n",
              "   0.2530838780104906,\n",
              "   0.25292954877740514,\n",
              "   0.2527384150522715,\n",
              "   0.2527201626575529,\n",
              "   0.2525755240765335,\n",
              "   0.2524124160931106,\n",
              "   0.2520187890454885,\n",
              "   0.25180601114593765,\n",
              "   0.25175844928833024,\n",
              "   0.2514720385027727,\n",
              "   0.2513473686911702,\n",
              "   0.2510738865766566,\n",
              "   0.2508981569276725,\n",
              "   0.25067518674717265,\n",
              "   0.2504436552524621,\n",
              "   0.25043451045338355,\n",
              "   0.2500566294225383,\n",
              "   0.25003835660771423,\n",
              "   0.24978516591413813,\n",
              "   0.2496208876862649,\n",
              "   0.2495486230359919,\n",
              "   0.24947127688164616,\n",
              "   0.24915165703875955,\n",
              "   0.2490212502957881,\n",
              "   0.24899235389494837,\n",
              "   0.24886350515526998,\n",
              "   0.24863490733274965,\n",
              "   0.2483973263607721,\n",
              "   0.24802048224134332,\n",
              "   0.24779280137553794,\n",
              "   0.2475773807107726,\n",
              "   0.2474633734192504,\n",
              "   0.24718689202521127,\n",
              "   0.2467985917297526,\n",
              "   0.24670560161764443,\n",
              "   0.24646837562416685,\n",
              "   0.24631468723383312,\n",
              "   0.24618264886071015,\n",
              "   0.24604237839438098,\n",
              "   0.24579877085168572,\n",
              "   0.24572345995343328,\n",
              "   0.2453863806493637,\n",
              "   0.24521603117652782,\n",
              "   0.24479024513360712,\n",
              "   0.24473931481125638,\n",
              "   0.24462649119881802,\n",
              "   0.2443775700722739,\n",
              "   0.24415641191205498,\n",
              "   0.2438981485434016,\n",
              "   0.2438447421669787,\n",
              "   0.24349461372991116,\n",
              "   0.24319591323438688,\n",
              "   0.24280968238231052,\n",
              "   0.24266903546220783,\n",
              "   0.24262388769680962,\n",
              "   0.24244974242955394,\n",
              "   0.2422513119615001,\n",
              "   0.24209298563519815,\n",
              "   0.24204518602490716,\n",
              "   0.2419537286522334,\n",
              "   0.2418554300145412,\n",
              "   0.2416421085855875,\n",
              "   0.24148753956613797,\n",
              "   0.2411164885567925,\n",
              "   0.24091188500193036,\n",
              "   0.2407794945273264,\n",
              "   0.24067754958762086,\n",
              "   0.24042826788526914,\n",
              "   0.24023431005545756,\n",
              "   0.23989336875296527,\n",
              "   0.23982157150095826,\n",
              "   0.23971439438195138,\n",
              "   0.2396140707835384,\n",
              "   0.23935666065695496,\n",
              "   0.23923699801961398,\n",
              "   0.2390056776653432,\n",
              "   0.2388751274589814,\n",
              "   0.2388158808626723,\n",
              "   0.23863808459965047,\n",
              "   0.23842034098689188,\n",
              "   0.23839102699302614,\n",
              "   0.23821254468481978,\n",
              "   0.23802210682288133,\n",
              "   0.2377979097254362,\n",
              "   0.23756167951091184,\n",
              "   0.23749776055352081,\n",
              "   0.23725696265159704,\n",
              "   0.23701075051227546,\n",
              "   0.23685831893332457,\n",
              "   0.2365710817503037,\n",
              "   0.2361826900333163,\n",
              "   0.2359526204829393,\n",
              "   0.23570950013468941,\n",
              "   0.2355450959299922,\n",
              "   0.235427406408276,\n",
              "   0.23525045859040186,\n",
              "   0.23491857237846261,\n",
              "   0.23465461686640673,\n",
              "   0.23453693604706796,\n",
              "   0.23437326566181746,\n",
              "   0.23425271395084488,\n",
              "   0.23395336283535542,\n",
              "   0.23369256126195634,\n",
              "   0.23350794382048515,\n",
              "   0.23349141916427638,\n",
              "   0.2333297256403971,\n",
              "   0.23326961300301463,\n",
              "   0.2330425012336294,\n",
              "   0.23282200838648298,\n",
              "   0.2325514948436103,\n",
              "   0.23245212402044607,\n",
              "   0.2323612613100612,\n",
              "   0.2322667643575753,\n",
              "   0.23201017956001913,\n",
              "   0.23193300350140547,\n",
              "   0.23177967087109513,\n",
              "   0.23176300308395967,\n",
              "   0.23164225113750803,\n",
              "   0.23150550606668333,\n",
              "   0.23139957311611514,\n",
              "   0.23111888531086622,\n",
              "   0.23080252918124755,\n",
              "   0.23061436935395271,\n",
              "   0.2304338861329274,\n",
              "   0.2301573827765661,\n",
              "   0.23009560390527944,\n",
              "   0.22969440505145597,\n",
              "   0.22952603900059684,\n",
              "   0.22933709667613902,\n",
              "   0.22930495663269734,\n",
              "   0.22912578135493936,\n",
              "   0.22862260768366566,\n",
              "   0.22840858987673235,\n",
              "   0.22811559999992184,\n",
              "   0.2280123259534678,\n",
              "   0.2279023950617355,\n",
              "   0.22777832878591198,\n",
              "   0.22771858673761727,\n",
              "   0.2275410993590204,\n",
              "   0.22737822333524443,\n",
              "   0.22732420143170476,\n",
              "   0.22720068574594904,\n",
              "   0.22705061152982434,\n",
              "   0.22668990480064327,\n",
              "   0.22656696063873202,\n",
              "   0.22644131857568553,\n",
              "   0.22617698256977134,\n",
              "   0.2259295828965212,\n",
              "   0.22566487578419184,\n",
              "   0.225572132180864,\n",
              "   0.2251016226421778,\n",
              "   0.22488035373826257,\n",
              "   0.22459359291368486,\n",
              "   0.2244243783839034,\n",
              "   0.2242431781766077,\n",
              "   0.2240307500378706,\n",
              "   0.22383911657037386,\n",
              "   0.22379948045313847,\n",
              "   0.22369265634155588,\n",
              "   0.22343634527349865,\n",
              "   0.22339855924608165,\n",
              "   0.22304346138641706,\n",
              "   0.22275188894577416,\n",
              "   0.22240277957438087,\n",
              "   0.22226207053081623,\n",
              "   0.22216693251826403,\n",
              "   0.22203501295974448,\n",
              "   0.22193746329918887,\n",
              "   0.2217477374588197,\n",
              "   0.22159603257773627,\n",
              "   0.2215230911554137,\n",
              "   0.221350448227937,\n",
              "   0.22098991034291257,\n",
              "   0.22082486597706924,\n",
              "   0.22081407758137533,\n",
              "   0.22062513504116105,\n",
              "   0.22056376459719304,\n",
              "   0.2204081022717794,\n",
              "   0.22032250485453195,\n",
              "   0.22016244600490092,\n",
              "   0.22002240548717505,\n",
              "   0.21996096338812315,\n",
              "   0.2197631004055309,\n",
              "   0.21972497929029747,\n",
              "   0.21959662514634906,\n",
              "   0.21946319592172836,\n",
              "   0.21925477186342276,\n",
              "   0.21920626358076803,\n",
              "   0.21894622243757342,\n",
              "   0.2188445926052877,\n",
              "   0.21864313129584534,\n",
              "   0.2185015048512861,\n",
              "   0.2180799498657635,\n",
              "   0.21780673125192304,\n",
              "   0.21768160962187416,\n",
              "   0.21732798111192222,\n",
              "   0.2172994063177561,\n",
              "   0.2170890816061033,\n",
              "   0.21673088537073412,\n",
              "   0.21642934468336894,\n",
              "   0.21641597766644619,\n",
              "   0.21630214277673404,\n",
              "   0.21626912509967616,\n",
              "   0.2162058280327646,\n",
              "   0.2160913218908045,\n",
              "   0.21587516707079057,\n",
              "   0.2155904016605547,\n",
              "   0.21547485879105163,\n",
              "   0.21527399786360418,\n",
              "   0.21522034469196688,\n",
              "   0.21516782530667364,\n",
              "   0.2151451355984449,\n",
              "   0.21511888154837605,\n",
              "   0.21498403818017528,\n",
              "   0.21491397264720588,\n",
              "   0.21486620966339168,\n",
              "   0.21451658887352584,\n",
              "   0.21446466245150483,\n",
              "   0.21427284797942106,\n",
              "   0.21402591736941243,\n",
              "   0.21381608362296062,\n",
              "   0.21349245305694153,\n",
              "   0.2133266768520707,\n",
              "   0.2132019697362343,\n",
              "   0.2129987400161049,\n",
              "   0.2128795993234999,\n",
              "   0.21268227926865357,\n",
              "   0.2125570383686915,\n",
              "   0.21207706455698472,\n",
              "   0.21184729725762264,\n",
              "   0.21175206690073728,\n",
              "   0.21161482519121716,\n",
              "   0.21137649902602484,\n",
              "   0.2112807968901409,\n",
              "   0.21119824318056765,\n",
              "   0.21106359830617089,\n",
              "   0.21077403898593583,\n",
              "   0.21048440102063787,\n",
              "   0.21029421117345967,\n",
              "   0.20999886500645068,\n",
              "   0.20991660367544215,\n",
              "   0.20978040837857564,\n",
              "   0.20976948722653777,\n",
              "   0.20969123790931882,\n",
              "   0.20944737018152723,\n",
              "   0.20936481014862832,\n",
              "   0.20915847933073678,\n",
              "   0.2090739640961006,\n",
              "   0.20898503535934823,\n",
              "   0.20867791704932337,\n",
              "   0.208485483021655,\n",
              "   0.20826425672304263,\n",
              "   0.20809184330356295,\n",
              "   0.207962054706935,\n",
              "   0.20776081981677214,\n",
              "   0.20760986114852836,\n",
              "   0.20749511013475394,\n",
              "   0.20744989061358476,\n",
              "   0.20735427632537562,\n",
              "   0.2072956428748246,\n",
              "   0.2070588780122303,\n",
              "   0.20700611041786646,\n",
              "   0.20689358064816837,\n",
              "   0.2067587427609461,\n",
              "   0.20636333981698754,\n",
              "   0.20628660383230832,\n",
              "   0.2060809890093513,\n",
              "   0.2058254837581716,\n",
              "   0.20569543447574176,\n",
              "   0.20565860234032063,\n",
              "   0.2055878221092657,\n",
              "   0.20557328452589618,\n",
              "   0.20551574886807458,\n",
              "   0.20520921357581934,\n",
              "   0.20496262220816058,\n",
              "   0.20477858996647005,\n",
              "   0.2046854141594598,\n",
              "   0.20455915635489325,\n",
              "   0.20442809202201967,\n",
              "   0.20420046865816183,\n",
              "   0.20391134455598167,\n",
              "   0.20384582042840235,\n",
              "   0.20375551466752423,\n",
              "   0.20362687837841845,\n",
              "   0.20356817762897558,\n",
              "   0.20344542177656186,\n",
              "   0.2033988891658555,\n",
              "   0.20314827003742697,\n",
              "   0.20291966243360646,\n",
              "   0.20274846090097748,\n",
              "   0.20273000364293128,\n",
              "   0.20249515066851295,\n",
              "   0.2023996847195439,\n",
              "   0.20236489750284467,\n",
              "   0.20222800677690272,\n",
              "   0.20202162915596958,\n",
              "   0.2018774250753041,\n",
              "   0.20159045708453163,\n",
              "   0.20136492210642737,\n",
              "   0.2012496136130059,\n",
              "   0.20101834804673174,\n",
              "   0.20100764665697585,\n",
              "   0.20091465803645503,\n",
              "   0.20088046666692577,\n",
              "   0.20077425766143053,\n",
              "   0.20066130451908307,\n",
              "   0.20055711000798906,\n",
              "   0.20041035053887,\n",
              "   0.20025361453697055,\n",
              "   0.20015805610443652,\n",
              "   0.20009805252305443,\n",
              "   0.19992618024175865,\n",
              "   0.19968221126641375,\n",
              "   0.19939890166821045,\n",
              "   0.19922791094771933,\n",
              "   0.19906471087592847,\n",
              "   0.19894297298982058,\n",
              "   0.19853916840037794,\n",
              "   0.19845856908547635,\n",
              "   0.19839128540594209,\n",
              "   0.19826189757904752,\n",
              "   0.1981500872101535,\n",
              "   0.1979823278725841,\n",
              "   0.19793085946483882,\n",
              "   0.19787866323531608,\n",
              "   0.1976349799462282,\n",
              "   0.1975475577834555,\n",
              "   0.19725455932241787,\n",
              "   0.19715440345833538,\n",
              "   0.19687895549603845,\n",
              "   0.19673721358630486,\n",
              "   0.19668345951229474,\n",
              "   0.19645736397495792,\n",
              "   0.19593555365759105,\n",
              "   0.19562852965358057,\n",
              "   0.19556282789155188,\n",
              "   0.19530042652474763,\n",
              "   0.19519084945927834,\n",
              "   0.19494155229938742,\n",
              "   0.19455284758994992,\n",
              "   0.19444481534372524,\n",
              "   0.19433922363546796,\n",
              "   0.19423805062012858,\n",
              "   0.1941959057087709,\n",
              "   0.19414579147215807,\n",
              "   0.19375161516600872,\n",
              "   0.19351114697540778,\n",
              "   0.193288497814346,\n",
              "   0.1929718654424695,\n",
              "   0.1926701850855327,\n",
              "   0.19262498025670222,\n",
              "   0.19244096198639993,\n",
              "   0.19230701918031126,\n",
              "   0.19227866664863105,\n",
              "   0.19210584363595473,\n",
              "   0.19177047113322593,\n",
              "   0.19164592848353185,\n",
              "   0.1914795472806269,\n",
              "   0.19131398847417502,\n",
              "   0.19106813792385532,\n",
              "   0.1909342964187689,\n",
              "   0.1907681796625429,\n",
              "   0.1906342177858567,\n",
              "   0.190523003836542,\n",
              "   0.19049659607202776,\n",
              "   0.19047095706792544,\n",
              "   0.19022841681006428,\n",
              "   0.19004378077694187,\n",
              "   0.1899201183829618,\n",
              "   0.18986588287306175,\n",
              "   0.1898031645125875,\n",
              "   0.1895894605095343,\n",
              "   0.18946261254754565,\n",
              "   0.1891652075105855,\n",
              "   0.18886818295505264,\n",
              "   0.18883028290544632,\n",
              "   0.1886568182336534,\n",
              "   0.18856645920241635,\n",
              "   0.18841632268139777,\n",
              "   0.18822268172902504,\n",
              "   0.18813145568203124,\n",
              "   0.18809350049033574,\n",
              "   0.18808197963559356,\n",
              "   0.18805546552738242,\n",
              "   0.18790656519054574,\n",
              "   0.1877477065257315,\n",
              "   0.18772555896999274,\n",
              "   0.1876264706595861,\n",
              "   0.1875920519031171,\n",
              "   0.18731750610738804,\n",
              "   0.1872950773846198,\n",
              "   0.18723610733969204,\n",
              "   0.18714589193852713,\n",
              "   0.18706506423591573,\n",
              "   0.18698305852802252,\n",
              "   0.18686594830840317,\n",
              "   0.1867655023059056,\n",
              "   0.18663155917078805,\n",
              "   0.18653139874290742,\n",
              "   0.18648883504666966,\n",
              "   0.18644961589943096,\n",
              "   0.18629575340420693,\n",
              "   0.18615607780810442,\n",
              "   0.18591755539228846,\n",
              "   0.18586950732999194,\n",
              "   0.18563241108669676,\n",
              "   0.18547042118451937,\n",
              "   0.1853535998326806,\n",
              "   0.18521747472548053,\n",
              "   0.18497629701549342,\n",
              "   0.1847944413638714,\n",
              "   0.18459790064271994,\n",
              "   0.1845160970680155,\n",
              "   0.18432035983046444,\n",
              "   0.18410898797466546,\n",
              "   0.1838801685914068,\n",
              "   0.18384505470024226,\n",
              "   0.18366418128193637,\n",
              "   0.1832948269121939,\n",
              "   0.18320119064810403,\n",
              "   0.18317297965032311,\n",
              "   0.18299996214315817,\n",
              "   0.18280526165466104,\n",
              "   0.18269391603744065,\n",
              "   0.18255033014488228,\n",
              "   0.18248039011664932,\n",
              "   0.18228085816449216,\n",
              "   0.18218356411486022,\n",
              "   0.18203232077894177,\n",
              "   0.1819709182534249,\n",
              "   0.18182570294887257,\n",
              "   0.18168644410734308,\n",
              "   0.18152956174555782,\n",
              "   0.18145916528455672,\n",
              "   0.18128222782549724,\n",
              "   0.18111648064120175,\n",
              "   0.18092408321057266,\n",
              "   0.18085802165054798,\n",
              "   0.18083093176934414,\n",
              "   0.1807226965964911,\n",
              "   0.18061431255346755,\n",
              "   0.1805595173410667,\n",
              "   0.18044710160460645,\n",
              "   0.18032377680915726,\n",
              "   0.18007501642961313,\n",
              "   0.17992087490369874,\n",
              "   0.17969162313171236,\n",
              "   0.17968053498373274,\n",
              "   0.1794731851148384,\n",
              "   0.17935464327772574,\n",
              "   0.17932713012755783,\n",
              "   0.1792550700624905,\n",
              "   0.1792186024008949,\n",
              "   0.17915274650161447,\n",
              "   0.17906136919302534,\n",
              "   0.17895890341390822,\n",
              "   0.17879273926654876,\n",
              "   0.17871277716101097,\n",
              "   0.17851901959591318,\n",
              "   0.1784426849881511,\n",
              "   0.17839250731654097,\n",
              "   0.17818865478574963,\n",
              "   0.17813312839328302,\n",
              "   0.17808046695359148,\n",
              "   0.17792403829804904,\n",
              "   0.1778384179474597,\n",
              "   0.17756539196736618,\n",
              "   0.17744626139830613]},\n",
              " 'validation': {'Logloss': [0.6351501415772838,\n",
              "   0.590711658811743,\n",
              "   0.5563767918902074,\n",
              "   0.5290113647811817,\n",
              "   0.5093174518510327,\n",
              "   0.4913411580251364,\n",
              "   0.47640944734061846,\n",
              "   0.46590090093553516,\n",
              "   0.45526393564533774,\n",
              "   0.4489296039643633,\n",
              "   0.44420470784398924,\n",
              "   0.4392518749646536,\n",
              "   0.43476535740042577,\n",
              "   0.4302035493270232,\n",
              "   0.42725267769971786,\n",
              "   0.42587651555267664,\n",
              "   0.4235143378649146,\n",
              "   0.4222882430648342,\n",
              "   0.42023026965662696,\n",
              "   0.4189531286973677,\n",
              "   0.4167668211167012,\n",
              "   0.4152356986118219,\n",
              "   0.413633918863891,\n",
              "   0.41330291083373644,\n",
              "   0.412307017753956,\n",
              "   0.41128679599133705,\n",
              "   0.41082196314427116,\n",
              "   0.41033794843293087,\n",
              "   0.40992245414436485,\n",
              "   0.4090300035224584,\n",
              "   0.4082890061958427,\n",
              "   0.4075229424583279,\n",
              "   0.40745374410063767,\n",
              "   0.4069150933839155,\n",
              "   0.40645183615417396,\n",
              "   0.40593523853676616,\n",
              "   0.40588552719822907,\n",
              "   0.40588878990761634,\n",
              "   0.40589280859182203,\n",
              "   0.4055958862289557,\n",
              "   0.4053853391106748,\n",
              "   0.40535914545988777,\n",
              "   0.40514268825634164,\n",
              "   0.405057276518683,\n",
              "   0.40498427224672223,\n",
              "   0.4048555118133164,\n",
              "   0.40486562996926945,\n",
              "   0.4045907612538189,\n",
              "   0.40449109766838715,\n",
              "   0.40436113089174447,\n",
              "   0.404201838296767,\n",
              "   0.4039480754212306,\n",
              "   0.40382478229943564,\n",
              "   0.403775123371722,\n",
              "   0.4035573623719466,\n",
              "   0.40353671780679806,\n",
              "   0.40349938323485496,\n",
              "   0.4031035535367901,\n",
              "   0.40311324013615507,\n",
              "   0.4030827504134955,\n",
              "   0.4028904047885969,\n",
              "   0.40288782554617725,\n",
              "   0.40292731299108425,\n",
              "   0.4027864118762298,\n",
              "   0.40277835210286256,\n",
              "   0.4028514782080342,\n",
              "   0.4025851390838748,\n",
              "   0.4024536149766941,\n",
              "   0.40245191119696594,\n",
              "   0.4023722501780869,\n",
              "   0.4023816717359942,\n",
              "   0.4023763516974882,\n",
              "   0.40234527733887954,\n",
              "   0.4023019740548954,\n",
              "   0.4022235328047066,\n",
              "   0.4022218709232,\n",
              "   0.40198290177071977,\n",
              "   0.40204227289120803,\n",
              "   0.40203919282806083,\n",
              "   0.4020382588898357,\n",
              "   0.40206698932083496,\n",
              "   0.4020972844009591,\n",
              "   0.40206331307273213,\n",
              "   0.40200439158569423,\n",
              "   0.4022206751119617,\n",
              "   0.40237767628075605,\n",
              "   0.4027389259222594,\n",
              "   0.4027291686302362,\n",
              "   0.40272685530664654,\n",
              "   0.40297345932007805,\n",
              "   0.40297164629475757,\n",
              "   0.40296967430162445,\n",
              "   0.4029983844205119,\n",
              "   0.40288589299452754,\n",
              "   0.4028230265514511,\n",
              "   0.4025561156294355,\n",
              "   0.4025257166097221,\n",
              "   0.40257929362353534,\n",
              "   0.40257945851235577,\n",
              "   0.4026187123427491,\n",
              "   0.4024402627351385,\n",
              "   0.4023553820913654,\n",
              "   0.4023835323118055,\n",
              "   0.4024842554829541,\n",
              "   0.4026030816800416,\n",
              "   0.40282112410205534,\n",
              "   0.4031113527527413,\n",
              "   0.40316674433153393,\n",
              "   0.40311756663077436,\n",
              "   0.40308457352974997,\n",
              "   0.4028494241534194,\n",
              "   0.4028730461702437,\n",
              "   0.40289224001053986,\n",
              "   0.40286274257468324,\n",
              "   0.40287009498098647,\n",
              "   0.4029527183410462,\n",
              "   0.4029544425932657,\n",
              "   0.4029639160852642,\n",
              "   0.4032682008098831,\n",
              "   0.40324076034765194,\n",
              "   0.40299165979441753,\n",
              "   0.4029632991511095,\n",
              "   0.4029587272547234,\n",
              "   0.4030631708460543,\n",
              "   0.40295125994764025,\n",
              "   0.4030304606719685,\n",
              "   0.4030387517230875,\n",
              "   0.4031359415014539,\n",
              "   0.40341617955911746,\n",
              "   0.40356436960925196,\n",
              "   0.40328233061266183,\n",
              "   0.4033486996766394,\n",
              "   0.40350972560155496,\n",
              "   0.4034123597552752,\n",
              "   0.4033559295631309,\n",
              "   0.4033965415288273,\n",
              "   0.40336130196810477,\n",
              "   0.40309922759061423,\n",
              "   0.4028680211027528,\n",
              "   0.4027753840462697,\n",
              "   0.40270770913014314,\n",
              "   0.4026910516798924,\n",
              "   0.4026809555983888,\n",
              "   0.4026793159426199,\n",
              "   0.40265431637170224,\n",
              "   0.40275835730812193,\n",
              "   0.40270098412627503,\n",
              "   0.4027448905778526,\n",
              "   0.40259812540322054,\n",
              "   0.40255908985063515,\n",
              "   0.4027595517590701,\n",
              "   0.4027487837807888,\n",
              "   0.402747534422325,\n",
              "   0.4029120290196844,\n",
              "   0.4031403979851913,\n",
              "   0.40314967334021456,\n",
              "   0.403193943417229,\n",
              "   0.4031874053857693,\n",
              "   0.4030402761919982,\n",
              "   0.4030675537133385,\n",
              "   0.40320483283499886,\n",
              "   0.40317949299958694,\n",
              "   0.4032535733007683,\n",
              "   0.4033171519417932,\n",
              "   0.4034064826001358,\n",
              "   0.4033250058178702,\n",
              "   0.40317770941616615,\n",
              "   0.4034505420650956,\n",
              "   0.4035550698554872,\n",
              "   0.4038169492486195,\n",
              "   0.4037653050604424,\n",
              "   0.40364452496212483,\n",
              "   0.4036739465914602,\n",
              "   0.4036679806657243,\n",
              "   0.4037751389484657,\n",
              "   0.403408992686158,\n",
              "   0.40348389022689124,\n",
              "   0.4030810698414486,\n",
              "   0.4031859952787483,\n",
              "   0.40314681797293467,\n",
              "   0.40351454694158223,\n",
              "   0.4035815388927514,\n",
              "   0.40335514559020874,\n",
              "   0.4034876493004879,\n",
              "   0.4036777976653481,\n",
              "   0.4036101806472686,\n",
              "   0.4035061718453778,\n",
              "   0.4035322591600148,\n",
              "   0.40352875179507675,\n",
              "   0.40355163251863657,\n",
              "   0.4036269607689444,\n",
              "   0.4035612488446904,\n",
              "   0.4035579198384937,\n",
              "   0.40370786949669824,\n",
              "   0.40380555249229244,\n",
              "   0.4037552367677101,\n",
              "   0.4038082852566092,\n",
              "   0.40394748704724437,\n",
              "   0.4039613070464321,\n",
              "   0.4039965716717816,\n",
              "   0.4040845124096878,\n",
              "   0.40423077977334887,\n",
              "   0.4043939580249006,\n",
              "   0.4043043035563276,\n",
              "   0.40453189361461056,\n",
              "   0.4045658175108625,\n",
              "   0.40446686438978624,\n",
              "   0.4046122120985182,\n",
              "   0.4045928069367115,\n",
              "   0.40459984966835305,\n",
              "   0.4045968141489378,\n",
              "   0.404728887878006,\n",
              "   0.4047249495741697,\n",
              "   0.4043883883128889,\n",
              "   0.40442090565478894,\n",
              "   0.4044118044814304,\n",
              "   0.4044664292161531,\n",
              "   0.4040363944814876,\n",
              "   0.40378672796204923,\n",
              "   0.40397212072320904,\n",
              "   0.40405295617382536,\n",
              "   0.40406944967876335,\n",
              "   0.4044957604221766,\n",
              "   0.4045186405243262,\n",
              "   0.4046829226497634,\n",
              "   0.4047042485779718,\n",
              "   0.4048135072038473,\n",
              "   0.40486458566142025,\n",
              "   0.4047713982024566,\n",
              "   0.4047094404967762,\n",
              "   0.4048571294855529,\n",
              "   0.4047491116603201,\n",
              "   0.4048087905666963,\n",
              "   0.404974785743833,\n",
              "   0.4049556928806094,\n",
              "   0.4049388460706709,\n",
              "   0.40504866760445,\n",
              "   0.405200503840242,\n",
              "   0.405073749668116,\n",
              "   0.40526114347669845,\n",
              "   0.4052282975559067,\n",
              "   0.40513095023383316,\n",
              "   0.4050786545464253,\n",
              "   0.4051809856322232,\n",
              "   0.4052443107975225,\n",
              "   0.4051397172625878,\n",
              "   0.4051211730042973,\n",
              "   0.40503364863324914,\n",
              "   0.40510629570936746,\n",
              "   0.4051106879372419,\n",
              "   0.4051368962223511,\n",
              "   0.4052213655662532,\n",
              "   0.4053513730343558,\n",
              "   0.40536325903126824,\n",
              "   0.40541118856491615,\n",
              "   0.4055875437045933,\n",
              "   0.4056246643754703,\n",
              "   0.40539353483597296,\n",
              "   0.40547316053073323,\n",
              "   0.40561725441651314,\n",
              "   0.40556010621122046,\n",
              "   0.40551403104628314,\n",
              "   0.4053962471254235,\n",
              "   0.40572708580258315,\n",
              "   0.4057135635710773,\n",
              "   0.4055820339968717,\n",
              "   0.40557852659075244,\n",
              "   0.405565878406963,\n",
              "   0.4058085439136738,\n",
              "   0.40578365925440546,\n",
              "   0.40576360078962337,\n",
              "   0.40589020087222977,\n",
              "   0.40597331087199984,\n",
              "   0.4061158368985974,\n",
              "   0.40631041633553494,\n",
              "   0.4063258893645766,\n",
              "   0.4064815747331596,\n",
              "   0.40643032270256424,\n",
              "   0.40657416482604336,\n",
              "   0.4065884768214744,\n",
              "   0.40665836061042643,\n",
              "   0.40663696417019946,\n",
              "   0.4066485966968769,\n",
              "   0.40661143206473976,\n",
              "   0.40664208390537815,\n",
              "   0.40696831702758807,\n",
              "   0.4068384869445558,\n",
              "   0.4069303338712775,\n",
              "   0.40725364059738495,\n",
              "   0.40745917234919155,\n",
              "   0.4074593519222132,\n",
              "   0.40736681554608833,\n",
              "   0.40738141627106667,\n",
              "   0.40727361028872816,\n",
              "   0.4074320806788343,\n",
              "   0.4074455458450609,\n",
              "   0.40745192817855425,\n",
              "   0.40738658351520696,\n",
              "   0.4073108670626849,\n",
              "   0.4073826480496051,\n",
              "   0.4074544094741805,\n",
              "   0.40756120691052833,\n",
              "   0.40769722599418234,\n",
              "   0.407652811516875,\n",
              "   0.4076323798701548,\n",
              "   0.40759178077928043,\n",
              "   0.4078556980435714,\n",
              "   0.40805809620391287,\n",
              "   0.4080988370951224,\n",
              "   0.40828740940754094,\n",
              "   0.4084634258637671,\n",
              "   0.4088934974486422,\n",
              "   0.4088398927735979,\n",
              "   0.40884748514707003,\n",
              "   0.4087893601305526,\n",
              "   0.40878821746722316,\n",
              "   0.40882456553163765,\n",
              "   0.40883514648820807,\n",
              "   0.4087546243431821,\n",
              "   0.4087642406055941,\n",
              "   0.4088841561520753,\n",
              "   0.409041226082243,\n",
              "   0.40911377376361663,\n",
              "   0.40909147093885817,\n",
              "   0.4091358347579898,\n",
              "   0.4091930774159099,\n",
              "   0.4091599901271673,\n",
              "   0.4091315342101286,\n",
              "   0.40919688272238197,\n",
              "   0.40926448260290343,\n",
              "   0.40921659857329357,\n",
              "   0.4093388025605402,\n",
              "   0.409350052596877,\n",
              "   0.40943280656739717,\n",
              "   0.4094547666361678,\n",
              "   0.4094388945462662,\n",
              "   0.40944295643694945,\n",
              "   0.4094166939147595,\n",
              "   0.4098694818982331,\n",
              "   0.40991233103674857,\n",
              "   0.4102074665427399,\n",
              "   0.4103532557120671,\n",
              "   0.4103377146010195,\n",
              "   0.41038031922791335,\n",
              "   0.4103413176344486,\n",
              "   0.4103734863910749,\n",
              "   0.41044682276686506,\n",
              "   0.4104664369859715,\n",
              "   0.4105317429500694,\n",
              "   0.41059146455824524,\n",
              "   0.4105942790729826,\n",
              "   0.41059651766440886,\n",
              "   0.4108695718823515,\n",
              "   0.4110050726874159,\n",
              "   0.4109513024386876,\n",
              "   0.41121136494608135,\n",
              "   0.4111657012566675,\n",
              "   0.4115983513238231,\n",
              "   0.4116445672059865,\n",
              "   0.4117899237146943,\n",
              "   0.4120155007858409,\n",
              "   0.4120516085193252,\n",
              "   0.4120213033209386,\n",
              "   0.41237166883149345,\n",
              "   0.4127043357110471,\n",
              "   0.4128007456741003,\n",
              "   0.4130067322930826,\n",
              "   0.4130720963238321,\n",
              "   0.41323192069543613,\n",
              "   0.4133327920765249,\n",
              "   0.41352010381620397,\n",
              "   0.41381836350713286,\n",
              "   0.41407816347582843,\n",
              "   0.41402564017880283,\n",
              "   0.41413242807649964,\n",
              "   0.4140217262978267,\n",
              "   0.41413288186822955,\n",
              "   0.41430256911117447,\n",
              "   0.4147467899421623,\n",
              "   0.4147318424296299,\n",
              "   0.4146873784962613,\n",
              "   0.4148438826996943,\n",
              "   0.4146908876036556,\n",
              "   0.4147683071270819,\n",
              "   0.4150739024468913,\n",
              "   0.4150122298053886,\n",
              "   0.4151435783939631,\n",
              "   0.41510637426871544,\n",
              "   0.4151736371865769,\n",
              "   0.41523169866871634,\n",
              "   0.41525706501848453,\n",
              "   0.4152151416805051,\n",
              "   0.4152029269639862,\n",
              "   0.4152557536965425,\n",
              "   0.41536201514386417,\n",
              "   0.4153895987719825,\n",
              "   0.41548355084819766,\n",
              "   0.4154143605761311,\n",
              "   0.4154888960442648,\n",
              "   0.4155162933382703,\n",
              "   0.41560555886451817,\n",
              "   0.4157190465903839,\n",
              "   0.4158541300266181,\n",
              "   0.4157792043817544,\n",
              "   0.4160129619221159,\n",
              "   0.415816018186495,\n",
              "   0.41585039125070544,\n",
              "   0.41599761595181683,\n",
              "   0.4159934150490894,\n",
              "   0.4159957389038965,\n",
              "   0.4161445844254543,\n",
              "   0.4163191829685123,\n",
              "   0.41628764287245257,\n",
              "   0.4165281455050434,\n",
              "   0.416646945367195,\n",
              "   0.4167140566521337,\n",
              "   0.4168508585186606,\n",
              "   0.4168512533157994,\n",
              "   0.4170857887990223,\n",
              "   0.4171724424514608,\n",
              "   0.4173040611141537,\n",
              "   0.4171140245439723,\n",
              "   0.41718446887393174,\n",
              "   0.41715440306433305,\n",
              "   0.4175404738749938,\n",
              "   0.41750683728389354,\n",
              "   0.4176740926981747,\n",
              "   0.4177379287237201,\n",
              "   0.41783265747722,\n",
              "   0.4178192190811683,\n",
              "   0.41789343020250247,\n",
              "   0.4178082267303375,\n",
              "   0.4177889805163274,\n",
              "   0.4178751295707787,\n",
              "   0.41793168991401664,\n",
              "   0.41790545484367425,\n",
              "   0.4178065268843042,\n",
              "   0.41782233135402913,\n",
              "   0.4178323958359347,\n",
              "   0.41778334424541197,\n",
              "   0.417797009595866,\n",
              "   0.4179351456196674,\n",
              "   0.4179149303119348,\n",
              "   0.4181244145921178,\n",
              "   0.41806621574680364,\n",
              "   0.41788673917825186,\n",
              "   0.417819142486436,\n",
              "   0.41782673793865654,\n",
              "   0.41802934722594587,\n",
              "   0.4180957242891668,\n",
              "   0.41815538753162773,\n",
              "   0.418159810907522,\n",
              "   0.4181361007127405,\n",
              "   0.4182946570369266,\n",
              "   0.4182666160295445,\n",
              "   0.4181965991080753,\n",
              "   0.4181020863303045,\n",
              "   0.41823301451542705,\n",
              "   0.4182849523477447,\n",
              "   0.4185695751741621,\n",
              "   0.41879595733858027,\n",
              "   0.4188998461103211,\n",
              "   0.41898079292606655,\n",
              "   0.4190653066183711,\n",
              "   0.4190604799127017,\n",
              "   0.41897748406994884,\n",
              "   0.41897491900468975,\n",
              "   0.4191348681450651,\n",
              "   0.4190948061530012,\n",
              "   0.41914475577511284,\n",
              "   0.41915412185363055,\n",
              "   0.4195816246214744,\n",
              "   0.41984577706119935,\n",
              "   0.4197805876887247,\n",
              "   0.41994005997567085,\n",
              "   0.41996584386439634,\n",
              "   0.4201187173538478,\n",
              "   0.4198898867019667,\n",
              "   0.41988743968761266,\n",
              "   0.41963198326243034,\n",
              "   0.41986221744738805,\n",
              "   0.4198358722118055,\n",
              "   0.41985161637399526,\n",
              "   0.4199904431020742,\n",
              "   0.4201486727694938,\n",
              "   0.4201064139361237,\n",
              "   0.4203013652813047,\n",
              "   0.42028725795798516,\n",
              "   0.4203083999276369,\n",
              "   0.4202951028291357,\n",
              "   0.4202458393133598,\n",
              "   0.4202422667914705,\n",
              "   0.4200521466322221,\n",
              "   0.4202444536719302,\n",
              "   0.42019576814190035,\n",
              "   0.4203242937769251,\n",
              "   0.42030047623127825,\n",
              "   0.4203470524899536,\n",
              "   0.42026646301230225,\n",
              "   0.42037619445486013,\n",
              "   0.42047779358498344,\n",
              "   0.42016998640717745,\n",
              "   0.4202795058034809,\n",
              "   0.42028078167717053,\n",
              "   0.420141161526973,\n",
              "   0.4200955981670575,\n",
              "   0.42002808503583156,\n",
              "   0.419796364850765,\n",
              "   0.4197061133945305,\n",
              "   0.41960929643982126,\n",
              "   0.41961827541161834,\n",
              "   0.41973768256949645,\n",
              "   0.4198527172970906,\n",
              "   0.4197682999939397,\n",
              "   0.4197155324434912,\n",
              "   0.41981090984143565,\n",
              "   0.42007762754689854,\n",
              "   0.42015245544438506,\n",
              "   0.42028709376471834,\n",
              "   0.4202993079447205,\n",
              "   0.4202169005263328,\n",
              "   0.4202788227724352,\n",
              "   0.42021322477422784,\n",
              "   0.42013706427463016,\n",
              "   0.4204095700286397,\n",
              "   0.42039663303834235,\n",
              "   0.42041029905195165,\n",
              "   0.4204332465946136,\n",
              "   0.42052272394358003,\n",
              "   0.4205204587149728,\n",
              "   0.4205146868556053,\n",
              "   0.42052495895626574,\n",
              "   0.4204946267161978,\n",
              "   0.4204902271472502,\n",
              "   0.4205518814314631,\n",
              "   0.4205829045813145,\n",
              "   0.42058121178617175,\n",
              "   0.4206026580628552,\n",
              "   0.42058838937709503,\n",
              "   0.4206643957446491,\n",
              "   0.42067604939747183,\n",
              "   0.4206808960922529,\n",
              "   0.4206839832389712,\n",
              "   0.42088514629342494,\n",
              "   0.4209094639803713,\n",
              "   0.42085244901350266,\n",
              "   0.4209236445756687,\n",
              "   0.42091983118523646,\n",
              "   0.4208114813272167,\n",
              "   0.4208257067634138,\n",
              "   0.42090289160144995,\n",
              "   0.42083189357836903,\n",
              "   0.42082219572691243,\n",
              "   0.4207894181864235,\n",
              "   0.4207002254157648,\n",
              "   0.42080822911415655,\n",
              "   0.42084937919252013,\n",
              "   0.4207339402380936,\n",
              "   0.4209159319873489,\n",
              "   0.42087159632415094,\n",
              "   0.4205446664390495,\n",
              "   0.420526206386097,\n",
              "   0.4206159366231268,\n",
              "   0.4205833490948076,\n",
              "   0.42064943385592823,\n",
              "   0.42065609358631345,\n",
              "   0.42055908652865326,\n",
              "   0.42048308729602357,\n",
              "   0.42051180956102985,\n",
              "   0.42048142251344245,\n",
              "   0.42052378113966166,\n",
              "   0.42046859593627095,\n",
              "   0.42045192797481074,\n",
              "   0.4206667267092635,\n",
              "   0.42067024185312013,\n",
              "   0.42084884519422977,\n",
              "   0.4208391274121225,\n",
              "   0.4207843773912335,\n",
              "   0.4207263839537232,\n",
              "   0.420714625467273,\n",
              "   0.4208454715391496,\n",
              "   0.4208634419030678,\n",
              "   0.420933069560221,\n",
              "   0.4210086700546723,\n",
              "   0.4210563584905827,\n",
              "   0.4212164400796735,\n",
              "   0.4212174423315119,\n",
              "   0.4211628073891,\n",
              "   0.42140911658498054,\n",
              "   0.4214883467258223,\n",
              "   0.42151904941478263,\n",
              "   0.42153916649544004,\n",
              "   0.4214428588766044,\n",
              "   0.4215501023949967,\n",
              "   0.42168379492061214,\n",
              "   0.42178328502946283,\n",
              "   0.4217948583779671,\n",
              "   0.4218385927025038,\n",
              "   0.42178583586029256,\n",
              "   0.42176152143960677,\n",
              "   0.42179745497810045,\n",
              "   0.4219799699789329,\n",
              "   0.4220643176830767,\n",
              "   0.42216171891729565,\n",
              "   0.422244405184124,\n",
              "   0.4223379593807181,\n",
              "   0.42232523492230184,\n",
              "   0.42268422626316093,\n",
              "   0.4226978479145687,\n",
              "   0.4227176258295955,\n",
              "   0.4226889098386715,\n",
              "   0.422928665401321,\n",
              "   0.4228913646493123,\n",
              "   0.42293607276439127,\n",
              "   0.422992921043819,\n",
              "   0.42291291281007753,\n",
              "   0.4228661873549893,\n",
              "   0.42292170258407474,\n",
              "   0.42295792495942797,\n",
              "   0.4229712693675421,\n",
              "   0.42304742404952744,\n",
              "   0.42328595689756987,\n",
              "   0.42319854045666544,\n",
              "   0.4233522778009759,\n",
              "   0.42336316933336365,\n",
              "   0.4233165876371554,\n",
              "   0.4235439503186867,\n",
              "   0.4236951938198403,\n",
              "   0.42376765629955615,\n",
              "   0.4237518766461236,\n",
              "   0.42398198490806843,\n",
              "   0.42395651803336937,\n",
              "   0.42403689940580913,\n",
              "   0.4238348455508099,\n",
              "   0.4239114945749082,\n",
              "   0.42397983744221235,\n",
              "   0.42398810504916695,\n",
              "   0.4240398361691032,\n",
              "   0.4240219017077917,\n",
              "   0.42417787348810543,\n",
              "   0.4240124457236285,\n",
              "   0.4241989899902024,\n",
              "   0.4242627463487484,\n",
              "   0.42419949529696926,\n",
              "   0.4242190630752834,\n",
              "   0.42429183951564575,\n",
              "   0.4242486752711826,\n",
              "   0.42426758446685886,\n",
              "   0.42425775267240856,\n",
              "   0.4244438510795414,\n",
              "   0.42442782091157166,\n",
              "   0.42445448981036665,\n",
              "   0.4244145098303255,\n",
              "   0.4246087585360565,\n",
              "   0.4247071502970797,\n",
              "   0.42468063379703214,\n",
              "   0.4245419784753464,\n",
              "   0.4245702440545681,\n",
              "   0.4247926005382721,\n",
              "   0.4248194021474302,\n",
              "   0.4248879455297757,\n",
              "   0.4249051330504121,\n",
              "   0.4247976938763175,\n",
              "   0.4247247594597647,\n",
              "   0.42462424818916616,\n",
              "   0.42464613223140446,\n",
              "   0.4245654999706119,\n",
              "   0.4246720856124125,\n",
              "   0.4245439061167724,\n",
              "   0.42458537661355317,\n",
              "   0.4246427435367878,\n",
              "   0.4245787957169829,\n",
              "   0.42460144078320866,\n",
              "   0.42456664477341494,\n",
              "   0.42461851413875923,\n",
              "   0.4247419963690899,\n",
              "   0.4247819066457507,\n",
              "   0.42485688932903637,\n",
              "   0.42513716609079183,\n",
              "   0.4251036131281001,\n",
              "   0.4248834320118263,\n",
              "   0.42498717401075015,\n",
              "   0.42516007630569264,\n",
              "   0.4251620609299915,\n",
              "   0.4249605950111422,\n",
              "   0.42495148683498435,\n",
              "   0.42512642768208087,\n",
              "   0.4252374339301457,\n",
              "   0.4251570195810168,\n",
              "   0.42520010164333805,\n",
              "   0.4252408472088926,\n",
              "   0.4255163301061511,\n",
              "   0.4255513240763047,\n",
              "   0.42558917428610477,\n",
              "   0.4256450236111033,\n",
              "   0.42552035026616375,\n",
              "   0.42552121916683744,\n",
              "   0.4255321966677496,\n",
              "   0.4254552507803116,\n",
              "   0.4255474734255912,\n",
              "   0.4252674104267297,\n",
              "   0.4253255751283073,\n",
              "   0.425289735425214,\n",
              "   0.4253267348641826,\n",
              "   0.4254032230470973,\n",
              "   0.4253802869805203,\n",
              "   0.42536710026610075,\n",
              "   0.42534687707927116,\n",
              "   0.42538833391197667,\n",
              "   0.4254439798878969,\n",
              "   0.42548149179662303,\n",
              "   0.42550370617841227,\n",
              "   0.42569330068954797,\n",
              "   0.42568541476352023,\n",
              "   0.42584603282101313,\n",
              "   0.4257468988825759,\n",
              "   0.42600018373484344,\n",
              "   0.4260626407362114,\n",
              "   0.4262154677582475,\n",
              "   0.42621524140596123,\n",
              "   0.4264995644603443,\n",
              "   0.42650795811746467,\n",
              "   0.42660512729954686,\n",
              "   0.4267995715863416,\n",
              "   0.4268223951725207,\n",
              "   0.4269763796722578,\n",
              "   0.42693123686400863,\n",
              "   0.4273395226078032,\n",
              "   0.42738082528448734,\n",
              "   0.4274390685972461,\n",
              "   0.4275251785401249,\n",
              "   0.4273055557532022,\n",
              "   0.4273072993648959,\n",
              "   0.42719628876935994,\n",
              "   0.42710410536995613,\n",
              "   0.4271294413210777,\n",
              "   0.4270435443487066,\n",
              "   0.42718912498515044,\n",
              "   0.4271283517506415,\n",
              "   0.427052054741393,\n",
              "   0.4269936245178584,\n",
              "   0.42697925219220334,\n",
              "   0.42694884506857655,\n",
              "   0.42698315308158247,\n",
              "   0.4269859410427994,\n",
              "   0.42715207802072397,\n",
              "   0.42714920035564197,\n",
              "   0.42712228293721827,\n",
              "   0.42713609779335815,\n",
              "   0.42705063586842307,\n",
              "   0.42719957752697424,\n",
              "   0.4273917539304576,\n",
              "   0.42763153005278737,\n",
              "   0.427593506016523,\n",
              "   0.4276159038359027,\n",
              "   0.42763499983461484,\n",
              "   0.42773098473555443,\n",
              "   0.42776739044378165,\n",
              "   0.42775454598969315,\n",
              "   0.42766756135742334,\n",
              "   0.42774420148011233,\n",
              "   0.42768374215743854,\n",
              "   0.42777555585740673,\n",
              "   0.427802734649154,\n",
              "   0.427831945066688,\n",
              "   0.42794162636339966,\n",
              "   0.427972451702989,\n",
              "   0.4279434545065712,\n",
              "   0.42807010925297584,\n",
              "   0.4280705579179059,\n",
              "   0.42817385262833474,\n",
              "   0.42814556732261605,\n",
              "   0.42807103251162815,\n",
              "   0.4280767660674335,\n",
              "   0.4280332735506227,\n",
              "   0.4279803439392401,\n",
              "   0.42797851859120295,\n",
              "   0.4280411302351208,\n",
              "   0.4281977607638688,\n",
              "   0.42811220821936957,\n",
              "   0.4281040917776428,\n",
              "   0.4282511549018196,\n",
              "   0.4284858028696298,\n",
              "   0.4290043373088441,\n",
              "   0.429119788695531,\n",
              "   0.42918212823028645,\n",
              "   0.42918109261567394,\n",
              "   0.42943500644562727,\n",
              "   0.4294291244008661,\n",
              "   0.4294429991423661,\n",
              "   0.4293619568495789,\n",
              "   0.4294137508319768,\n",
              "   0.42955468144246295,\n",
              "   0.4295863329208633,\n",
              "   0.429539844674794,\n",
              "   0.42951284435799647,\n",
              "   0.42988527956891737,\n",
              "   0.4299230814398664,\n",
              "   0.42996850593799907,\n",
              "   0.42997946497928646,\n",
              "   0.4300383443045297,\n",
              "   0.4300991046192458,\n",
              "   0.42999516169553603,\n",
              "   0.4299830518981354,\n",
              "   0.43003404849563887,\n",
              "   0.43034253448091087,\n",
              "   0.43008199394649393,\n",
              "   0.43012274970582026,\n",
              "   0.4301830513128264,\n",
              "   0.43012783179432273,\n",
              "   0.4302901025123151,\n",
              "   0.4302573102648772,\n",
              "   0.4301723458859506,\n",
              "   0.430109635223655,\n",
              "   0.43017079762544846,\n",
              "   0.43012997910717515,\n",
              "   0.43003071658018854,\n",
              "   0.43003657027278114,\n",
              "   0.43002011539726753,\n",
              "   0.430186747424099,\n",
              "   0.4301459965269777,\n",
              "   0.43007405108210295,\n",
              "   0.43007370120543637,\n",
              "   0.4301751442316723,\n",
              "   0.4302945242458565,\n",
              "   0.43038248817945146,\n",
              "   0.4303527779427772,\n",
              "   0.43032670593580347,\n",
              "   0.4304899299748824,\n",
              "   0.43072913204647717,\n",
              "   0.43066476575221824,\n",
              "   0.43052483413890336,\n",
              "   0.4305740404545814,\n",
              "   0.4305819308917326,\n",
              "   0.4305502702126418,\n",
              "   0.4305882083360092,\n",
              "   0.4306582946187707,\n",
              "   0.43081011121574037,\n",
              "   0.4308011343409027,\n",
              "   0.4308239528726207,\n",
              "   0.43087386912756837,\n",
              "   0.4308692628790415,\n",
              "   0.43093218831742325,\n",
              "   0.43091456565967523,\n",
              "   0.4311379184239234,\n",
              "   0.43140200412893226,\n",
              "   0.4316228752751371,\n",
              "   0.43158893126366504,\n",
              "   0.43155591110481334,\n",
              "   0.43166331224140736,\n",
              "   0.431681476016107,\n",
              "   0.4316831731262426,\n",
              "   0.43168552491578116,\n",
              "   0.4317320867234374,\n",
              "   0.431712189596184,\n",
              "   0.4317587239350617,\n",
              "   0.4317670678103667,\n",
              "   0.43214217652446574,\n",
              "   0.43215857554893605,\n",
              "   0.4321504712222504,\n",
              "   0.4322358155074784,\n",
              "   0.43267579553152125,\n",
              "   0.432608747775923,\n",
              "   0.43267683943263524,\n",
              "   0.4327881903202314,\n",
              "   0.4328898283333055,\n",
              "   0.43287651947103933,\n",
              "   0.43298812201145737,\n",
              "   0.4329987217104985,\n",
              "   0.43325313652435476,\n",
              "   0.4332657753530234,\n",
              "   0.4336123501023412,\n",
              "   0.43360331521642703,\n",
              "   0.43360864346558636,\n",
              "   0.4335531357587056,\n",
              "   0.4335531734042703,\n",
              "   0.4336211182555281,\n",
              "   0.4337304574672358,\n",
              "   0.43359997198526334,\n",
              "   0.43347101449198777,\n",
              "   0.4333276655230323,\n",
              "   0.4338896091798456,\n",
              "   0.4339199716454677,\n",
              "   0.4339991689149992,\n",
              "   0.4340341217560692,\n",
              "   0.4340135063408941,\n",
              "   0.4339783916959383,\n",
              "   0.43420308062462265,\n",
              "   0.434131389788211,\n",
              "   0.43410048125775824,\n",
              "   0.4342987307483372,\n",
              "   0.43426971506778206,\n",
              "   0.434183588697284,\n",
              "   0.43428498981812047,\n",
              "   0.4344989814458593,\n",
              "   0.43449836841627787,\n",
              "   0.4345326213171987,\n",
              "   0.4344829225730049,\n",
              "   0.4347113178220735,\n",
              "   0.4349287586678111,\n",
              "   0.43490684085777387,\n",
              "   0.43485144821758587,\n",
              "   0.43483253853624276,\n",
              "   0.43481452351289684,\n",
              "   0.4349613707220039,\n",
              "   0.43496852555976284,\n",
              "   0.4352200908329446,\n",
              "   0.4351992252752963,\n",
              "   0.4352808764652046,\n",
              "   0.4353206507733322,\n",
              "   0.43530885512973067,\n",
              "   0.4355445923448197,\n",
              "   0.43556424307398683,\n",
              "   0.43558049349687766,\n",
              "   0.43558801659654894,\n",
              "   0.43553218727392945,\n",
              "   0.4356733821144141,\n",
              "   0.4357035913385442,\n",
              "   0.4357179781535287,\n",
              "   0.43567296104448194,\n",
              "   0.4357127852582775,\n",
              "   0.43592767154686596,\n",
              "   0.43595080074248804,\n",
              "   0.43593542838431,\n",
              "   0.4359311221387305,\n",
              "   0.4360212582873053,\n",
              "   0.43610170882752974,\n",
              "   0.43614169017182064,\n",
              "   0.4361782911054689,\n",
              "   0.4360141214022169,\n",
              "   0.43593641409715833,\n",
              "   0.4359135382858506,\n",
              "   0.43592217634321573,\n",
              "   0.43601717136203383,\n",
              "   0.43594160007994714,\n",
              "   0.43596480531316584,\n",
              "   0.4359339747167343,\n",
              "   0.43593946678481127,\n",
              "   0.436048233623438,\n",
              "   0.43626089460094064,\n",
              "   0.436292145827886,\n",
              "   0.43615345245786336,\n",
              "   0.4363172810755046,\n",
              "   0.43637066749160924,\n",
              "   0.43630155417405486,\n",
              "   0.4363359182495173,\n",
              "   0.4365225639171114,\n",
              "   0.43675840441950586,\n",
              "   0.43675998936125954,\n",
              "   0.43665905141176226,\n",
              "   0.43665976982856464,\n",
              "   0.43670301111159543,\n",
              "   0.43679010225709786,\n",
              "   0.4367182186725232,\n",
              "   0.4366409633574209,\n",
              "   0.4365491810472458,\n",
              "   0.4365524644925109,\n",
              "   0.4365247969318252,\n",
              "   0.4365497418078157,\n",
              "   0.4367006878579211,\n",
              "   0.4366629548620527,\n",
              "   0.4366776123037054,\n",
              "   0.4369331557619082,\n",
              "   0.4370104697811417,\n",
              "   0.4367608210273786,\n",
              "   0.43678609871720875,\n",
              "   0.4368962357329496,\n",
              "   0.43677923265313356,\n",
              "   0.4367669094782493,\n",
              "   0.4368445775175309,\n",
              "   0.4368368498260435,\n",
              "   0.43663764515634274,\n",
              "   0.4365719221789429,\n",
              "   0.4366138293100269,\n",
              "   0.4366232204257827,\n",
              "   0.436692953423674,\n",
              "   0.4368883910445275,\n",
              "   0.43696437005248473,\n",
              "   0.4369691507011788,\n",
              "   0.4370008223833234,\n",
              "   0.43692233174100187,\n",
              "   0.4368745648714026,\n",
              "   0.4368929238804922,\n",
              "   0.43691094257289403,\n",
              "   0.43690088092967005,\n",
              "   0.4369002885103411,\n",
              "   0.4369200771841759,\n",
              "   0.436788861206532,\n",
              "   0.4368203146718314,\n",
              "   0.43682575587843514,\n",
              "   0.43700818636331024,\n",
              "   0.4369257368239779,\n",
              "   0.43693479997249984,\n",
              "   0.4369206720807912,\n",
              "   0.43695055255982834,\n",
              "   0.43697557127776177,\n",
              "   0.4372024916699782,\n",
              "   0.4371036322939469,\n",
              "   0.43724642529181407,\n",
              "   0.4372256443558572]}}"
            ]
          },
          "metadata": {
            "tags": []
          },
          "execution_count": 173
        }
      ]
    },
    {
      "cell_type": "code",
      "metadata": {
        "id": "URNO-goXpc29",
        "colab_type": "code",
        "outputId": "98048f6f-91f1-443d-fcd0-fb3767598006",
        "colab": {
          "base_uri": "https://localhost:8080/",
          "height": 34
        }
      },
      "source": [
        "cb_model.evals_result_.keys()"
      ],
      "execution_count": 0,
      "outputs": [
        {
          "output_type": "execute_result",
          "data": {
            "text/plain": [
              "dict_keys(['learn', 'validation'])"
            ]
          },
          "metadata": {
            "tags": []
          },
          "execution_count": 174
        }
      ]
    },
    {
      "cell_type": "code",
      "metadata": {
        "id": "ji8SpVdv3Thu",
        "colab_type": "code",
        "outputId": "2d91a7a4-39b9-4e77-83ab-045f6ebce862",
        "colab": {
          "base_uri": "https://localhost:8080/",
          "height": 51
        }
      },
      "source": [
        "cb_model.best_score_"
      ],
      "execution_count": 0,
      "outputs": [
        {
          "output_type": "execute_result",
          "data": {
            "text/plain": [
              "{'learn': {'Logloss': 0.17744626139830613},\n",
              " 'validation': {'Logloss': 0.40198290177071977}}"
            ]
          },
          "metadata": {
            "tags": []
          },
          "execution_count": 175
        }
      ]
    },
    {
      "cell_type": "code",
      "metadata": {
        "id": "1hqzwcvNslZS",
        "colab_type": "code",
        "colab": {}
      },
      "source": [
        "cb_results = cb_model.evals_result_"
      ],
      "execution_count": 0,
      "outputs": []
    },
    {
      "cell_type": "markdown",
      "metadata": {
        "id": "CKx5GN6rtBEX",
        "colab_type": "text"
      },
      "source": [
        "### Plotting Metrics"
      ]
    },
    {
      "cell_type": "code",
      "metadata": {
        "id": "ynJZQntDs3tK",
        "colab_type": "code",
        "outputId": "fa99d2e9-00c8-4985-d8f1-df0b4af3dd00",
        "colab": {
          "base_uri": "https://localhost:8080/",
          "height": 279
        }
      },
      "source": [
        "\n",
        "\n",
        "plt.plot(cb_results['learn']['Logloss'], label = 'train')\n",
        "plt.plot(cb_results['validation']['Logloss'], label = 'test')\n",
        "\n",
        "plt.legend()\n",
        "\n",
        "plt.axvline(x = 390, color = 'k', alpha = 0.5)"
      ],
      "execution_count": 0,
      "outputs": [
        {
          "output_type": "execute_result",
          "data": {
            "text/plain": [
              "<matplotlib.lines.Line2D at 0x7f70a1c82908>"
            ]
          },
          "metadata": {
            "tags": []
          },
          "execution_count": 177
        },
        {
          "output_type": "display_data",
          "data": {
            "image/png": "[encoded data removed]",
            "text/plain": [
              "<Figure size 432x288 with 1 Axes>"
            ]
          },
          "metadata": {
            "tags": []
          }
        }
      ]
    },
    {
      "cell_type": "code",
      "metadata": {
        "id": "q7Ea_iP1s3Nc",
        "colab_type": "code",
        "colab": {}
      },
      "source": [
        "# "
      ],
      "execution_count": 0,
      "outputs": []
    },
    {
      "cell_type": "markdown",
      "metadata": {
        "id": "55P9qPD-vyXQ",
        "colab_type": "text"
      },
      "source": [
        "# Selected Ensemble Model - Adaboost"
      ]
    },
    {
      "cell_type": "markdown",
      "metadata": {
        "id": "X6RCHDXPCLs5",
        "colab_type": "text"
      },
      "source": [
        "From comparing best scores for each of the models, model candidates include\n",
        "\n",
        "* Adaboost Randomized Grid Search (Best Score: 79.60%)\n",
        "* Adaboost Grid Search (Best Score: 79.98%)\n",
        "* XGBoost Dart Booster Randomized Grid Search (Best Score: 80%)\n",
        "* XGBoost Dart Booster Grid Search (Best Score: 80.21%)\n",
        "\n",
        "\n"
      ]
    },
    {
      "cell_type": "markdown",
      "metadata": {
        "id": "sknQ8DhZE7Xm",
        "colab_type": "text"
      },
      "source": [
        "If a model is selected based on best score only then XGboost would be the winner. However, XGBoost used about 100 for `n_estimators` and Adaboost used about 50 `n_estimators` and has a slightly lower best score.\n",
        "\n",
        "Adaboost will be selected as I am favouring the idea of parsimony. The simpler model is chosen."
      ]
    },
    {
      "cell_type": "code",
      "metadata": {
        "id": "j3SUs5luv1pa",
        "colab_type": "code",
        "outputId": "e0eac7ce-0397-4592-a1d7-af176e806a82",
        "colab": {
          "base_uri": "https://localhost:8080/",
          "height": 34
        }
      },
      "source": [
        "# Chosen Adaboost parameters:\n",
        "'''\n",
        "{'algorithm': 'SAMME',\n",
        " 'learning_rate': 1.3,\n",
        " 'n_estimators': 49,\n",
        " 'random_state': 42}\n",
        " '''"
      ],
      "execution_count": 0,
      "outputs": [
        {
          "output_type": "execute_result",
          "data": {
            "text/plain": [
              "\"\\n{'algorithm': 'SAMME',\\n 'learning_rate': 1.3,\\n 'n_estimators': 49,\\n 'random_state': 42}\\n \""
            ]
          },
          "metadata": {
            "tags": []
          },
          "execution_count": 179
        }
      ]
    },
    {
      "cell_type": "code",
      "metadata": {
        "id": "hdi7H9hQUy7w",
        "colab_type": "code",
        "colab": {}
      },
      "source": [
        "from sklearn.ensemble import AdaBoostClassifier"
      ],
      "execution_count": 0,
      "outputs": []
    },
    {
      "cell_type": "code",
      "metadata": {
        "id": "7GoBMF7jN1RX",
        "colab_type": "code",
        "colab": {}
      },
      "source": [
        "adaboost_classifier = AdaBoostClassifier(\n",
        "    algorithm = 'SAMME',\n",
        "    n_estimators=49,\n",
        "    learning_rate = 1.3,\n",
        "    random_state = 42\n",
        ")\n"
      ],
      "execution_count": 0,
      "outputs": []
    },
    {
      "cell_type": "code",
      "metadata": {
        "id": "ZCsEhbmtO6G2",
        "colab_type": "code",
        "outputId": "d7e9e287-841c-4937-9863-51f30358816d",
        "colab": {
          "base_uri": "https://localhost:8080/",
          "height": 105
        }
      },
      "source": [
        "# Model fit\n",
        "\n",
        "adaboost_classifier.fit(X_train, y_train)"
      ],
      "execution_count": 0,
      "outputs": [
        {
          "output_type": "stream",
          "text": [
            "/usr/local/lib/python3.6/dist-packages/sklearn/utils/validation.py:724: DataConversionWarning: A column-vector y was passed when a 1d array was expected. Please change the shape of y to (n_samples, ), for example using ravel().\n",
            "  y = column_or_1d(y, warn=True)\n"
          ],
          "name": "stderr"
        },
        {
          "output_type": "execute_result",
          "data": {
            "text/plain": [
              "AdaBoostClassifier(algorithm='SAMME', base_estimator=None, learning_rate=1.3,\n",
              "                   n_estimators=49, random_state=42)"
            ]
          },
          "metadata": {
            "tags": []
          },
          "execution_count": 182
        }
      ]
    },
    {
      "cell_type": "code",
      "metadata": {
        "id": "TjOEtSOfVG-4",
        "colab_type": "code",
        "outputId": "5aa40170-ed2a-49a9-c73c-5dd235a43b81",
        "colab": {
          "base_uri": "https://localhost:8080/",
          "height": 34
        }
      },
      "source": [
        "# Adaboost score:\n",
        "\n",
        "adaboost_classifier.score(X_train, y_train)"
      ],
      "execution_count": 0,
      "outputs": [
        {
          "output_type": "execute_result",
          "data": {
            "text/plain": [
              "0.8068639053254438"
            ]
          },
          "metadata": {
            "tags": []
          },
          "execution_count": 183
        }
      ]
    },
    {
      "cell_type": "code",
      "metadata": {
        "id": "eg3awX3CWVel",
        "colab_type": "code",
        "colab": {}
      },
      "source": [
        "# Feature Importances:\n",
        "# Ref: https://towardsdatascience.com/running-random-forests-inspect-the-feature-importances-with-this-code-2b00dd72b92e\n",
        "\n",
        "feature_importances = pd.DataFrame(adaboost_classifier.feature_importances_,\n",
        "                                   index = X_train.columns,\n",
        "                                  columns=['importance']).sort_values('importance', \n",
        "                                                                        ascending=False)"
      ],
      "execution_count": 0,
      "outputs": []
    },
    {
      "cell_type": "code",
      "metadata": {
        "id": "Lv3TDJoQczMu",
        "colab_type": "code",
        "outputId": "4fe97b1c-5d26-43c2-d6a7-cc1142002664",
        "colab": {
          "base_uri": "https://localhost:8080/",
          "height": 636
        }
      },
      "source": [
        "# Check feature importances:\n",
        "feature_importances"
      ],
      "execution_count": 0,
      "outputs": [
        {
          "output_type": "execute_result",
          "data": {
            "text/html": [
              "<div>\n",
              "<style scoped>\n",
              "    .dataframe tbody tr th:only-of-type {\n",
              "        vertical-align: middle;\n",
              "    }\n",
              "\n",
              "    .dataframe tbody tr th {\n",
              "        vertical-align: top;\n",
              "    }\n",
              "\n",
              "    .dataframe thead th {\n",
              "        text-align: right;\n",
              "    }\n",
              "</style>\n",
              "<table border=\"1\" class=\"dataframe\">\n",
              "  <thead>\n",
              "    <tr style=\"text-align: right;\">\n",
              "      <th></th>\n",
              "      <th>importance</th>\n",
              "    </tr>\n",
              "  </thead>\n",
              "  <tbody>\n",
              "    <tr>\n",
              "      <th>Contract</th>\n",
              "      <td>0.413318</td>\n",
              "    </tr>\n",
              "    <tr>\n",
              "      <th>tenure</th>\n",
              "      <td>0.155563</td>\n",
              "    </tr>\n",
              "    <tr>\n",
              "      <th>TotalCharges</th>\n",
              "      <td>0.129703</td>\n",
              "    </tr>\n",
              "    <tr>\n",
              "      <th>MonthlyCharges</th>\n",
              "      <td>0.116793</td>\n",
              "    </tr>\n",
              "    <tr>\n",
              "      <th>OnlineSecurity</th>\n",
              "      <td>0.089206</td>\n",
              "    </tr>\n",
              "    <tr>\n",
              "      <th>PaymentMethod</th>\n",
              "      <td>0.028280</td>\n",
              "    </tr>\n",
              "    <tr>\n",
              "      <th>PhoneService</th>\n",
              "      <td>0.027463</td>\n",
              "    </tr>\n",
              "    <tr>\n",
              "      <th>PaperlessBilling</th>\n",
              "      <td>0.015331</td>\n",
              "    </tr>\n",
              "    <tr>\n",
              "      <th>MultipleLines</th>\n",
              "      <td>0.013861</td>\n",
              "    </tr>\n",
              "    <tr>\n",
              "      <th>TechSupport</th>\n",
              "      <td>0.010482</td>\n",
              "    </tr>\n",
              "    <tr>\n",
              "      <th>DeviceProtection</th>\n",
              "      <td>0.000000</td>\n",
              "    </tr>\n",
              "    <tr>\n",
              "      <th>StreamingTV</th>\n",
              "      <td>0.000000</td>\n",
              "    </tr>\n",
              "    <tr>\n",
              "      <th>SeniorCitizen</th>\n",
              "      <td>0.000000</td>\n",
              "    </tr>\n",
              "    <tr>\n",
              "      <th>InternetService</th>\n",
              "      <td>0.000000</td>\n",
              "    </tr>\n",
              "    <tr>\n",
              "      <th>OnlineBackup</th>\n",
              "      <td>0.000000</td>\n",
              "    </tr>\n",
              "    <tr>\n",
              "      <th>StreamingMovies</th>\n",
              "      <td>0.000000</td>\n",
              "    </tr>\n",
              "    <tr>\n",
              "      <th>Partner</th>\n",
              "      <td>0.000000</td>\n",
              "    </tr>\n",
              "    <tr>\n",
              "      <th>gender</th>\n",
              "      <td>0.000000</td>\n",
              "    </tr>\n",
              "    <tr>\n",
              "      <th>Dependents</th>\n",
              "      <td>0.000000</td>\n",
              "    </tr>\n",
              "  </tbody>\n",
              "</table>\n",
              "</div>"
            ],
            "text/plain": [
              "                  importance\n",
              "Contract            0.413318\n",
              "tenure              0.155563\n",
              "TotalCharges        0.129703\n",
              "MonthlyCharges      0.116793\n",
              "OnlineSecurity      0.089206\n",
              "PaymentMethod       0.028280\n",
              "PhoneService        0.027463\n",
              "PaperlessBilling    0.015331\n",
              "MultipleLines       0.013861\n",
              "TechSupport         0.010482\n",
              "DeviceProtection    0.000000\n",
              "StreamingTV         0.000000\n",
              "SeniorCitizen       0.000000\n",
              "InternetService     0.000000\n",
              "OnlineBackup        0.000000\n",
              "StreamingMovies     0.000000\n",
              "Partner             0.000000\n",
              "gender              0.000000\n",
              "Dependents          0.000000"
            ]
          },
          "metadata": {
            "tags": []
          },
          "execution_count": 185
        }
      ]
    },
    {
      "cell_type": "code",
      "metadata": {
        "id": "e1N6X7sfc9dg",
        "colab_type": "code",
        "colab": {}
      },
      "source": [
        "# Obtain predictions:\n",
        "# https://analyticsindiamag.com/introduction-to-boosting-implementing-adaboost-in-python/\n",
        "\n",
        "y_pred = adaboost_classifier.predict(X_test)"
      ],
      "execution_count": 0,
      "outputs": []
    },
    {
      "cell_type": "code",
      "metadata": {
        "id": "hZW9EZnoskNA",
        "colab_type": "code",
        "colab": {}
      },
      "source": [
        "from sklearn.metrics import confusion_matrix\n"
      ],
      "execution_count": 0,
      "outputs": []
    },
    {
      "cell_type": "code",
      "metadata": {
        "id": "toQ809c2soad",
        "colab_type": "code",
        "outputId": "2677faca-a283-4896-a662-c7ed782457fa",
        "colab": {
          "base_uri": "https://localhost:8080/",
          "height": 51
        }
      },
      "source": [
        "conf_mat = confusion_matrix(y_test,y_pred)\n",
        "\n",
        "conf_mat"
      ],
      "execution_count": 0,
      "outputs": [
        {
          "output_type": "execute_result",
          "data": {
            "text/plain": [
              "array([[933, 103],\n",
              "       [165, 208]])"
            ]
          },
          "metadata": {
            "tags": []
          },
          "execution_count": 190
        }
      ]
    },
    {
      "cell_type": "code",
      "metadata": {
        "id": "0p7AjdbWstNV",
        "colab_type": "code",
        "colab": {}
      },
      "source": [
        "accuracy = float(conf_mat.diagonal().sum())/len(y_test)"
      ],
      "execution_count": 0,
      "outputs": []
    },
    {
      "cell_type": "code",
      "metadata": {
        "id": "dIGQSNWys5Sd",
        "colab_type": "code",
        "outputId": "3dbf4dfc-db5d-48f7-9ac6-e0e046d34f69",
        "colab": {
          "base_uri": "https://localhost:8080/",
          "height": 34
        }
      },
      "source": [
        "accuracy"
      ],
      "execution_count": 0,
      "outputs": [
        {
          "output_type": "execute_result",
          "data": {
            "text/plain": [
              "0.8097941802696949"
            ]
          },
          "metadata": {
            "tags": []
          },
          "execution_count": 193
        }
      ]
    },
    {
      "cell_type": "code",
      "metadata": {
        "id": "nmp9BEOls9QR",
        "colab_type": "code",
        "colab": {}
      },
      "source": [
        ""
      ],
      "execution_count": 0,
      "outputs": []
    }
  ]
}