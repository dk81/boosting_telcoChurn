{
 "cells": [
  {
   "cell_type": "markdown",
   "metadata": {
    "colab_type": "text",
    "id": "kaAsfmYorLni"
   },
   "source": [
    "# Unit 5 Project - Telco Churn With Boosting Models"
   ]
  },
  {
   "cell_type": "markdown",
   "metadata": {
    "colab_type": "text",
    "id": "5uUbHCILuYS-"
   },
   "source": [
    "**Brief**\n",
    "\n",
    "In a telecomunnications dataset, the telco company would like to know which customers are likely to leave (churn). \n",
    "\n",
    "A plan also needs to be developed to try to keep customers from leaving/churning."
   ]
  },
  {
   "cell_type": "markdown",
   "metadata": {
    "colab_type": "text",
    "id": "nnETXBAgrQuS"
   },
   "source": [
    "For this boosting models with classification project, I am using the Unit 2 Telco Churn dataset."
   ]
  },
  {
   "cell_type": "code",
   "execution_count": 1,
   "metadata": {
    "colab": {
     "base_uri": "https://localhost:8080/",
     "height": 70
    },
    "colab_type": "code",
    "id": "2ko37GQrr72I",
    "outputId": "2ab20734-8132-4e40-bf3f-d1b0c98f2ecb"
   },
   "outputs": [
    {
     "name": "stdout",
     "output_type": "stream",
     "text": [
      "Collecting xgboost\n",
      "  Downloading https://files.pythonhosted.org/packages/5e/49/b95c037b717b4ceadc76b6e164603471225c27052d1611d5a2e832757945/xgboost-0.90-py2.py3-none-win_amd64.whl (18.3MB)\n",
      "Requirement already satisfied: scipy in c:\\users\\dku_7\\anaconda3\\lib\\site-packages (from xgboost) (1.2.1)\n",
      "Requirement already satisfied: numpy in c:\\users\\dku_7\\anaconda3\\lib\\site-packages (from xgboost) (1.16.4)\n",
      "Installing collected packages: xgboost\n",
      "Successfully installed xgboost-0.90\n",
      "Note: you may need to restart the kernel to use updated packages.\n"
     ]
    }
   ],
   "source": [
    "pip install xgboost"
   ]
  },
  {
   "cell_type": "code",
   "execution_count": 5,
   "metadata": {
    "colab": {
     "base_uri": "https://localhost:8080/",
     "height": 371
    },
    "colab_type": "code",
    "id": "5PADUwFYr-Mp",
    "outputId": "e2dde97b-e96e-4754-8096-ad4966b4e647"
   },
   "outputs": [
    {
     "name": "stdout",
     "output_type": "stream",
     "text": [
      "Collecting catboost\n",
      "\u001b[?25l  Downloading https://files.pythonhosted.org/packages/3d/f6/733fe7cca5d0d882e1a708ad59da2510416cc2e4fa54e17c7a5082f67811/catboost-0.20.1-cp36-none-manylinux1_x86_64.whl (63.6MB)\n",
      "\u001b[K     |████████████████████████████████| 63.6MB 36kB/s \n",
      "\u001b[?25hRequirement already satisfied: six in /usr/local/lib/python3.6/dist-packages (from catboost) (1.12.0)\n",
      "Requirement already satisfied: graphviz in /usr/local/lib/python3.6/dist-packages (from catboost) (0.10.1)\n",
      "Requirement already satisfied: pandas>=0.24.0 in /usr/local/lib/python3.6/dist-packages (from catboost) (0.25.3)\n",
      "Requirement already satisfied: numpy>=1.16.0 in /usr/local/lib/python3.6/dist-packages (from catboost) (1.17.4)\n",
      "Requirement already satisfied: matplotlib in /usr/local/lib/python3.6/dist-packages (from catboost) (3.1.2)\n",
      "Requirement already satisfied: scipy in /usr/local/lib/python3.6/dist-packages (from catboost) (1.3.3)\n",
      "Requirement already satisfied: plotly in /usr/local/lib/python3.6/dist-packages (from catboost) (4.1.1)\n",
      "Requirement already satisfied: python-dateutil>=2.6.1 in /usr/local/lib/python3.6/dist-packages (from pandas>=0.24.0->catboost) (2.6.1)\n",
      "Requirement already satisfied: pytz>=2017.2 in /usr/local/lib/python3.6/dist-packages (from pandas>=0.24.0->catboost) (2018.9)\n",
      "Requirement already satisfied: pyparsing!=2.0.4,!=2.1.2,!=2.1.6,>=2.0.1 in /usr/local/lib/python3.6/dist-packages (from matplotlib->catboost) (2.4.5)\n",
      "Requirement already satisfied: kiwisolver>=1.0.1 in /usr/local/lib/python3.6/dist-packages (from matplotlib->catboost) (1.1.0)\n",
      "Requirement already satisfied: cycler>=0.10 in /usr/local/lib/python3.6/dist-packages (from matplotlib->catboost) (0.10.0)\n",
      "Requirement already satisfied: retrying>=1.3.3 in /usr/local/lib/python3.6/dist-packages (from plotly->catboost) (1.3.3)\n",
      "Requirement already satisfied: setuptools in /usr/local/lib/python3.6/dist-packages (from kiwisolver>=1.0.1->matplotlib->catboost) (42.0.2)\n",
      "Installing collected packages: catboost\n",
      "Successfully installed catboost-0.20.1\n"
     ]
    }
   ],
   "source": [
    "pip install catboost"
   ]
  },
  {
   "cell_type": "code",
   "execution_count": 0,
   "metadata": {
    "colab": {},
    "colab_type": "code",
    "id": "n0ekQvtZrMb6"
   },
   "outputs": [],
   "source": [
    "# Imports:\n",
    "\n",
    "import pandas as pd\n",
    "import numpy as np\n",
    "import matplotlib.pyplot as plt\n",
    "import seaborn as sns\n",
    "\n",
    "from sklearn import ensemble, preprocessing\n",
    "from sklearn.model_selection import train_test_split\n",
    "from sklearn.metrics import classification_report\n",
    "\n",
    "import xgboost as xgb\n",
    "from catboost import CatBoostClassifier\n",
    "\n",
    "# Show all columns\n",
    "pd.set_option('display.max_columns', None)"
   ]
  },
  {
   "cell_type": "code",
   "execution_count": 1,
   "metadata": {
    "colab": {
     "base_uri": "https://localhost:8080/",
     "height": 125
    },
    "colab_type": "code",
    "id": "mZl2xritrwmo",
    "outputId": "e198604a-0ced-4663-ee4c-d0a478c8abf3"
   },
   "outputs": [
    {
     "name": "stdout",
     "output_type": "stream",
     "text": [
      "Go to this URL in a browser: https://accounts.google.com/o/oauth2/auth?client_id=947318989803-6bn6qk8qdgf4n4g3pfee6491hc0brc4i.apps.googleusercontent.com&redirect_uri=urn%3aietf%3awg%3aoauth%3a2.0%3aoob&response_type=code&scope=email%20https%3a%2f%2fwww.googleapis.com%2fauth%2fdocs.test%20https%3a%2f%2fwww.googleapis.com%2fauth%2fdrive%20https%3a%2f%2fwww.googleapis.com%2fauth%2fdrive.photos.readonly%20https%3a%2f%2fwww.googleapis.com%2fauth%2fpeopleapi.readonly\n",
      "\n",
      "Enter your authorization code:\n",
      "··········\n",
      "Mounted at /content/drive\n"
     ]
    }
   ],
   "source": [
    "from google.colab import drive\n",
    "drive.mount('/content/drive')"
   ]
  },
  {
   "cell_type": "code",
   "execution_count": 0,
   "metadata": {
    "colab": {},
    "colab_type": "code",
    "id": "-PRwMl8KrMkL"
   },
   "outputs": [],
   "source": [
    "# Read data in:\n",
    "\n",
    "telco_data = pd.read_csv('/content/drive/My Drive/Telco-Customer-Churn.csv')"
   ]
  },
  {
   "cell_type": "code",
   "execution_count": 13,
   "metadata": {
    "colab": {
     "base_uri": "https://localhost:8080/",
     "height": 309
    },
    "colab_type": "code",
    "id": "pV-VhHATr4hi",
    "outputId": "377a1c2f-19f6-4824-d2a6-3cf5f9e540ad"
   },
   "outputs": [
    {
     "data": {
      "text/html": [
       "<div>\n",
       "<style scoped>\n",
       "    .dataframe tbody tr th:only-of-type {\n",
       "        vertical-align: middle;\n",
       "    }\n",
       "\n",
       "    .dataframe tbody tr th {\n",
       "        vertical-align: top;\n",
       "    }\n",
       "\n",
       "    .dataframe thead th {\n",
       "        text-align: right;\n",
       "    }\n",
       "</style>\n",
       "<table border=\"1\" class=\"dataframe\">\n",
       "  <thead>\n",
       "    <tr style=\"text-align: right;\">\n",
       "      <th></th>\n",
       "      <th>customerID</th>\n",
       "      <th>gender</th>\n",
       "      <th>SeniorCitizen</th>\n",
       "      <th>Partner</th>\n",
       "      <th>Dependents</th>\n",
       "      <th>tenure</th>\n",
       "      <th>PhoneService</th>\n",
       "      <th>MultipleLines</th>\n",
       "      <th>InternetService</th>\n",
       "      <th>OnlineSecurity</th>\n",
       "      <th>OnlineBackup</th>\n",
       "      <th>DeviceProtection</th>\n",
       "      <th>TechSupport</th>\n",
       "      <th>StreamingTV</th>\n",
       "      <th>StreamingMovies</th>\n",
       "      <th>Contract</th>\n",
       "      <th>PaperlessBilling</th>\n",
       "      <th>PaymentMethod</th>\n",
       "      <th>MonthlyCharges</th>\n",
       "      <th>TotalCharges</th>\n",
       "      <th>Churn</th>\n",
       "    </tr>\n",
       "  </thead>\n",
       "  <tbody>\n",
       "    <tr>\n",
       "      <th>0</th>\n",
       "      <td>7590-VHVEG</td>\n",
       "      <td>Female</td>\n",
       "      <td>0</td>\n",
       "      <td>Yes</td>\n",
       "      <td>No</td>\n",
       "      <td>1</td>\n",
       "      <td>No</td>\n",
       "      <td>No phone service</td>\n",
       "      <td>DSL</td>\n",
       "      <td>No</td>\n",
       "      <td>Yes</td>\n",
       "      <td>No</td>\n",
       "      <td>No</td>\n",
       "      <td>No</td>\n",
       "      <td>No</td>\n",
       "      <td>Month-to-month</td>\n",
       "      <td>Yes</td>\n",
       "      <td>Electronic check</td>\n",
       "      <td>29.85</td>\n",
       "      <td>29.85</td>\n",
       "      <td>No</td>\n",
       "    </tr>\n",
       "    <tr>\n",
       "      <th>1</th>\n",
       "      <td>5575-GNVDE</td>\n",
       "      <td>Male</td>\n",
       "      <td>0</td>\n",
       "      <td>No</td>\n",
       "      <td>No</td>\n",
       "      <td>34</td>\n",
       "      <td>Yes</td>\n",
       "      <td>No</td>\n",
       "      <td>DSL</td>\n",
       "      <td>Yes</td>\n",
       "      <td>No</td>\n",
       "      <td>Yes</td>\n",
       "      <td>No</td>\n",
       "      <td>No</td>\n",
       "      <td>No</td>\n",
       "      <td>One year</td>\n",
       "      <td>No</td>\n",
       "      <td>Mailed check</td>\n",
       "      <td>56.95</td>\n",
       "      <td>1889.5</td>\n",
       "      <td>No</td>\n",
       "    </tr>\n",
       "    <tr>\n",
       "      <th>2</th>\n",
       "      <td>3668-QPYBK</td>\n",
       "      <td>Male</td>\n",
       "      <td>0</td>\n",
       "      <td>No</td>\n",
       "      <td>No</td>\n",
       "      <td>2</td>\n",
       "      <td>Yes</td>\n",
       "      <td>No</td>\n",
       "      <td>DSL</td>\n",
       "      <td>Yes</td>\n",
       "      <td>Yes</td>\n",
       "      <td>No</td>\n",
       "      <td>No</td>\n",
       "      <td>No</td>\n",
       "      <td>No</td>\n",
       "      <td>Month-to-month</td>\n",
       "      <td>Yes</td>\n",
       "      <td>Mailed check</td>\n",
       "      <td>53.85</td>\n",
       "      <td>108.15</td>\n",
       "      <td>Yes</td>\n",
       "    </tr>\n",
       "    <tr>\n",
       "      <th>3</th>\n",
       "      <td>7795-CFOCW</td>\n",
       "      <td>Male</td>\n",
       "      <td>0</td>\n",
       "      <td>No</td>\n",
       "      <td>No</td>\n",
       "      <td>45</td>\n",
       "      <td>No</td>\n",
       "      <td>No phone service</td>\n",
       "      <td>DSL</td>\n",
       "      <td>Yes</td>\n",
       "      <td>No</td>\n",
       "      <td>Yes</td>\n",
       "      <td>Yes</td>\n",
       "      <td>No</td>\n",
       "      <td>No</td>\n",
       "      <td>One year</td>\n",
       "      <td>No</td>\n",
       "      <td>Bank transfer (automatic)</td>\n",
       "      <td>42.30</td>\n",
       "      <td>1840.75</td>\n",
       "      <td>No</td>\n",
       "    </tr>\n",
       "    <tr>\n",
       "      <th>4</th>\n",
       "      <td>9237-HQITU</td>\n",
       "      <td>Female</td>\n",
       "      <td>0</td>\n",
       "      <td>No</td>\n",
       "      <td>No</td>\n",
       "      <td>2</td>\n",
       "      <td>Yes</td>\n",
       "      <td>No</td>\n",
       "      <td>Fiber optic</td>\n",
       "      <td>No</td>\n",
       "      <td>No</td>\n",
       "      <td>No</td>\n",
       "      <td>No</td>\n",
       "      <td>No</td>\n",
       "      <td>No</td>\n",
       "      <td>Month-to-month</td>\n",
       "      <td>Yes</td>\n",
       "      <td>Electronic check</td>\n",
       "      <td>70.70</td>\n",
       "      <td>151.65</td>\n",
       "      <td>Yes</td>\n",
       "    </tr>\n",
       "  </tbody>\n",
       "</table>\n",
       "</div>"
      ],
      "text/plain": [
       "   customerID  gender  SeniorCitizen Partner Dependents  tenure PhoneService  \\\n",
       "0  7590-VHVEG  Female              0     Yes         No       1           No   \n",
       "1  5575-GNVDE    Male              0      No         No      34          Yes   \n",
       "2  3668-QPYBK    Male              0      No         No       2          Yes   \n",
       "3  7795-CFOCW    Male              0      No         No      45           No   \n",
       "4  9237-HQITU  Female              0      No         No       2          Yes   \n",
       "\n",
       "      MultipleLines InternetService OnlineSecurity OnlineBackup  \\\n",
       "0  No phone service             DSL             No          Yes   \n",
       "1                No             DSL            Yes           No   \n",
       "2                No             DSL            Yes          Yes   \n",
       "3  No phone service             DSL            Yes           No   \n",
       "4                No     Fiber optic             No           No   \n",
       "\n",
       "  DeviceProtection TechSupport StreamingTV StreamingMovies        Contract  \\\n",
       "0               No          No          No              No  Month-to-month   \n",
       "1              Yes          No          No              No        One year   \n",
       "2               No          No          No              No  Month-to-month   \n",
       "3              Yes         Yes          No              No        One year   \n",
       "4               No          No          No              No  Month-to-month   \n",
       "\n",
       "  PaperlessBilling              PaymentMethod  MonthlyCharges TotalCharges  \\\n",
       "0              Yes           Electronic check           29.85        29.85   \n",
       "1               No               Mailed check           56.95       1889.5   \n",
       "2              Yes               Mailed check           53.85       108.15   \n",
       "3               No  Bank transfer (automatic)           42.30      1840.75   \n",
       "4              Yes           Electronic check           70.70       151.65   \n",
       "\n",
       "  Churn  \n",
       "0    No  \n",
       "1    No  \n",
       "2   Yes  \n",
       "3    No  \n",
       "4   Yes  "
      ]
     },
     "execution_count": 13,
     "metadata": {
      "tags": []
     },
     "output_type": "execute_result"
    }
   ],
   "source": [
    "# Preview\n",
    "\n",
    "telco_data.head()"
   ]
  },
  {
   "cell_type": "code",
   "execution_count": 14,
   "metadata": {
    "colab": {
     "base_uri": "https://localhost:8080/",
     "height": 123
    },
    "colab_type": "code",
    "id": "sKGfAtDwsXBQ",
    "outputId": "61891425-4f72-423d-dd43-0b44d0259d35"
   },
   "outputs": [
    {
     "data": {
      "text/plain": [
       "Index(['customerID', 'gender', 'SeniorCitizen', 'Partner', 'Dependents',\n",
       "       'tenure', 'PhoneService', 'MultipleLines', 'InternetService',\n",
       "       'OnlineSecurity', 'OnlineBackup', 'DeviceProtection', 'TechSupport',\n",
       "       'StreamingTV', 'StreamingMovies', 'Contract', 'PaperlessBilling',\n",
       "       'PaymentMethod', 'MonthlyCharges', 'TotalCharges', 'Churn'],\n",
       "      dtype='object')"
      ]
     },
     "execution_count": 14,
     "metadata": {
      "tags": []
     },
     "output_type": "execute_result"
    }
   ],
   "source": [
    "telco_data.columns"
   ]
  },
  {
   "cell_type": "code",
   "execution_count": 16,
   "metadata": {
    "colab": {
     "base_uri": "https://localhost:8080/",
     "height": 475
    },
    "colab_type": "code",
    "id": "Z95rC1g5sYcu",
    "outputId": "c5f8c987-54bc-4509-a9b3-fed3c16c0c35"
   },
   "outputs": [
    {
     "name": "stdout",
     "output_type": "stream",
     "text": [
      "<class 'pandas.core.frame.DataFrame'>\n",
      "RangeIndex: 7043 entries, 0 to 7042\n",
      "Data columns (total 21 columns):\n",
      "customerID          7043 non-null object\n",
      "gender              7043 non-null object\n",
      "SeniorCitizen       7043 non-null int64\n",
      "Partner             7043 non-null object\n",
      "Dependents          7043 non-null object\n",
      "tenure              7043 non-null int64\n",
      "PhoneService        7043 non-null object\n",
      "MultipleLines       7043 non-null object\n",
      "InternetService     7043 non-null object\n",
      "OnlineSecurity      7043 non-null object\n",
      "OnlineBackup        7043 non-null object\n",
      "DeviceProtection    7043 non-null object\n",
      "TechSupport         7043 non-null object\n",
      "StreamingTV         7043 non-null object\n",
      "StreamingMovies     7043 non-null object\n",
      "Contract            7043 non-null object\n",
      "PaperlessBilling    7043 non-null object\n",
      "PaymentMethod       7043 non-null object\n",
      "MonthlyCharges      7043 non-null float64\n",
      "TotalCharges        7043 non-null object\n",
      "Churn               7043 non-null object\n",
      "dtypes: float64(1), int64(2), object(18)\n",
      "memory usage: 1.1+ MB\n"
     ]
    }
   ],
   "source": [
    "telco_data.info()"
   ]
  },
  {
   "cell_type": "markdown",
   "metadata": {
    "colab_type": "text",
    "id": "dD9txubFuLA3"
   },
   "source": [
    "There are no NULL values."
   ]
  },
  {
   "cell_type": "code",
   "execution_count": 64,
   "metadata": {
    "colab": {
     "base_uri": "https://localhost:8080/",
     "height": 404
    },
    "colab_type": "code",
    "id": "F_tadhyILkVt",
    "outputId": "b412ff59-e8e3-425c-9035-7f547edb7f0d"
   },
   "outputs": [
    {
     "data": {
      "text/plain": [
       "customerID          7043\n",
       "gender                 2\n",
       "SeniorCitizen          2\n",
       "Partner                2\n",
       "Dependents             2\n",
       "tenure                73\n",
       "PhoneService           2\n",
       "MultipleLines          3\n",
       "InternetService        3\n",
       "OnlineSecurity         3\n",
       "OnlineBackup           3\n",
       "DeviceProtection       3\n",
       "TechSupport            3\n",
       "StreamingTV            3\n",
       "StreamingMovies        3\n",
       "Contract               3\n",
       "PaperlessBilling       2\n",
       "PaymentMethod          4\n",
       "MonthlyCharges      1585\n",
       "TotalCharges        6531\n",
       "Churn                  2\n",
       "dtype: int64"
      ]
     },
     "execution_count": 64,
     "metadata": {
      "tags": []
     },
     "output_type": "execute_result"
    }
   ],
   "source": [
    "telco_data.nunique()"
   ]
  },
  {
   "cell_type": "markdown",
   "metadata": {
    "colab_type": "text",
    "id": "Rs13BkBJswf5"
   },
   "source": [
    "# Some Exploratory Data Analysis (EDA)"
   ]
  },
  {
   "cell_type": "code",
   "execution_count": 0,
   "metadata": {
    "colab": {},
    "colab_type": "code",
    "id": "man700hAsnt1"
   },
   "outputs": [],
   "source": []
  },
  {
   "cell_type": "markdown",
   "metadata": {
    "colab_type": "text",
    "id": "NBnniUktsn2L"
   },
   "source": [
    "## Kaplan-Meier Survival Curve - Copied Mostly From Unit 2 Classification\n"
   ]
  },
  {
   "cell_type": "markdown",
   "metadata": {
    "colab_type": "text",
    "id": "ODZxTyZ-wRox"
   },
   "source": [
    "**Same thing from Unit 2 Project**"
   ]
  },
  {
   "cell_type": "markdown",
   "metadata": {
    "colab_type": "text",
    "id": "TrFGI_ELxm3e"
   },
   "source": [
    "A Kaplan-Meier survival curve from the statistical field of Survival Analysis can be used to model churns from different groups.\n",
    "\n",
    "The groups here are Month-To-Month customers, One-Year contract customers and Two-Year contract customers.\n",
    "\n",
    "This Kaplan-Meier survival curve looks at the people leaving (customer churn) and the remaining customers over time (tenure)."
   ]
  },
  {
   "cell_type": "markdown",
   "metadata": {
    "colab_type": "text",
    "id": "hmx156ySeqro"
   },
   "source": [
    "The statistical field of survival analysis involves time to event data.\n",
    "\n",
    "* Tenure: Customer service time (months)\n",
    "* Event Of Interest: Churn (Yes/ True)\n",
    "* Kaplan-Meier survival curve visualization for customer churn by contract.\n",
    "* Survival curve estimates the probability of the customer staying (non-churn) past a point in time.\n",
    "\n",
    "&nbsp;\n",
    "\n",
    "[Survival Analysis Python Reference](https://lifelines.readthedocs.io/en/latest/Survival%20Analysis%20intro.html)\n",
    "\n",
    "---\n",
    "\n",
    "Given a customer's time with the business $C$, the survival function of a population $S(t)$ is the probability of the customer time $C$ being greater than some point in time $t$.\n",
    "\n",
    "$$S(t) = P(C > t)$$\n",
    "\n",
    "&nbsp;\n",
    "\n",
    "The survival function is related to the cumulative distribution function $F(t)$. This formula holds true.\n",
    "\n",
    "$$S(t) = 1 - F(t) = 1 - P(C \\leq t)$$\n"
   ]
  },
  {
   "cell_type": "code",
   "execution_count": 17,
   "metadata": {
    "colab": {
     "base_uri": "https://localhost:8080/",
     "height": 389
    },
    "colab_type": "code",
    "id": "SgxNK_lhfGp_",
    "outputId": "fbab6f9b-163b-4d80-b394-a45639e3449a"
   },
   "outputs": [
    {
     "name": "stdout",
     "output_type": "stream",
     "text": [
      "Collecting lifelines\n",
      "\u001b[?25l  Downloading https://files.pythonhosted.org/packages/c9/a8/dc466b5ed4e63cd1735eed444929fe7992aa35d720b3b621b60322bf97a9/lifelines-0.23.2-py2.py3-none-any.whl (383kB)\n",
      "\r",
      "\u001b[K     |▉                               | 10kB 20.3MB/s eta 0:00:01\r",
      "\u001b[K     |█▊                              | 20kB 1.8MB/s eta 0:00:01\r",
      "\u001b[K     |██▋                             | 30kB 2.6MB/s eta 0:00:01\r",
      "\u001b[K     |███▍                            | 40kB 1.7MB/s eta 0:00:01\r",
      "\u001b[K     |████▎                           | 51kB 2.1MB/s eta 0:00:01\r",
      "\u001b[K     |█████▏                          | 61kB 2.5MB/s eta 0:00:01\r",
      "\u001b[K     |██████                          | 71kB 2.9MB/s eta 0:00:01\r",
      "\u001b[K     |██████▉                         | 81kB 3.3MB/s eta 0:00:01\r",
      "\u001b[K     |███████▊                        | 92kB 2.5MB/s eta 0:00:01\r",
      "\u001b[K     |████████▌                       | 102kB 2.8MB/s eta 0:00:01\r",
      "\u001b[K     |█████████▍                      | 112kB 2.8MB/s eta 0:00:01\r",
      "\u001b[K     |██████████▎                     | 122kB 2.8MB/s eta 0:00:01\r",
      "\u001b[K     |███████████                     | 133kB 2.8MB/s eta 0:00:01\r",
      "\u001b[K     |████████████                    | 143kB 2.8MB/s eta 0:00:01\r",
      "\u001b[K     |████████████▉                   | 153kB 2.8MB/s eta 0:00:01\r",
      "\u001b[K     |█████████████▊                  | 163kB 2.8MB/s eta 0:00:01\r",
      "\u001b[K     |██████████████▌                 | 174kB 2.8MB/s eta 0:00:01\r",
      "\u001b[K     |███████████████▍                | 184kB 2.8MB/s eta 0:00:01\r",
      "\u001b[K     |████████████████▎               | 194kB 2.8MB/s eta 0:00:01\r",
      "\u001b[K     |█████████████████               | 204kB 2.8MB/s eta 0:00:01\r",
      "\u001b[K     |██████████████████              | 215kB 2.8MB/s eta 0:00:01\r",
      "\u001b[K     |██████████████████▉             | 225kB 2.8MB/s eta 0:00:01\r",
      "\u001b[K     |███████████████████▋            | 235kB 2.8MB/s eta 0:00:01\r",
      "\u001b[K     |████████████████████▌           | 245kB 2.8MB/s eta 0:00:01\r",
      "\u001b[K     |█████████████████████▍          | 256kB 2.8MB/s eta 0:00:01\r",
      "\u001b[K     |██████████████████████▏         | 266kB 2.8MB/s eta 0:00:01\r",
      "\u001b[K     |███████████████████████         | 276kB 2.8MB/s eta 0:00:01\r",
      "\u001b[K     |████████████████████████        | 286kB 2.8MB/s eta 0:00:01\r",
      "\u001b[K     |████████████████████████▊       | 296kB 2.8MB/s eta 0:00:01\r",
      "\u001b[K     |█████████████████████████▋      | 307kB 2.8MB/s eta 0:00:01\r",
      "\u001b[K     |██████████████████████████▌     | 317kB 2.8MB/s eta 0:00:01\r",
      "\u001b[K     |███████████████████████████▍    | 327kB 2.8MB/s eta 0:00:01\r",
      "\u001b[K     |████████████████████████████▏   | 337kB 2.8MB/s eta 0:00:01\r",
      "\u001b[K     |█████████████████████████████   | 348kB 2.8MB/s eta 0:00:01\r",
      "\u001b[K     |██████████████████████████████  | 358kB 2.8MB/s eta 0:00:01\r",
      "\u001b[K     |██████████████████████████████▊ | 368kB 2.8MB/s eta 0:00:01\r",
      "\u001b[K     |███████████████████████████████▋| 378kB 2.8MB/s eta 0:00:01\r",
      "\u001b[K     |████████████████████████████████| 389kB 2.8MB/s \n",
      "\u001b[?25hRequirement already satisfied: numpy>=1.14.0 in /usr/local/lib/python3.6/dist-packages (from lifelines) (1.17.4)\n",
      "Requirement already satisfied: autograd>=1.3 in /usr/local/lib/python3.6/dist-packages (from lifelines) (1.3)\n",
      "Collecting autograd-gamma>=0.3\n",
      "  Downloading https://files.pythonhosted.org/packages/3e/87/788c4bf90cc5c534cb3b7fdb5b719175e33e2658decce75e35e2ce69766f/autograd_gamma-0.4.1-py2.py3-none-any.whl\n",
      "Requirement already satisfied: scipy>=1.0 in /usr/local/lib/python3.6/dist-packages (from lifelines) (1.3.3)\n",
      "Requirement already satisfied: matplotlib>=3.0 in /usr/local/lib/python3.6/dist-packages (from lifelines) (3.1.2)\n",
      "Requirement already satisfied: pandas>=0.23.0 in /usr/local/lib/python3.6/dist-packages (from lifelines) (0.25.3)\n",
      "Requirement already satisfied: future>=0.15.2 in /usr/local/lib/python3.6/dist-packages (from autograd>=1.3->lifelines) (0.16.0)\n",
      "Requirement already satisfied: cycler>=0.10 in /usr/local/lib/python3.6/dist-packages (from matplotlib>=3.0->lifelines) (0.10.0)\n",
      "Requirement already satisfied: pyparsing!=2.0.4,!=2.1.2,!=2.1.6,>=2.0.1 in /usr/local/lib/python3.6/dist-packages (from matplotlib>=3.0->lifelines) (2.4.5)\n",
      "Requirement already satisfied: kiwisolver>=1.0.1 in /usr/local/lib/python3.6/dist-packages (from matplotlib>=3.0->lifelines) (1.1.0)\n",
      "Requirement already satisfied: python-dateutil>=2.1 in /usr/local/lib/python3.6/dist-packages (from matplotlib>=3.0->lifelines) (2.6.1)\n",
      "Requirement already satisfied: pytz>=2017.2 in /usr/local/lib/python3.6/dist-packages (from pandas>=0.23.0->lifelines) (2018.9)\n",
      "Requirement already satisfied: six in /usr/local/lib/python3.6/dist-packages (from cycler>=0.10->matplotlib>=3.0->lifelines) (1.12.0)\n",
      "Requirement already satisfied: setuptools in /usr/local/lib/python3.6/dist-packages (from kiwisolver>=1.0.1->matplotlib>=3.0->lifelines) (42.0.2)\n",
      "Installing collected packages: autograd-gamma, lifelines\n",
      "Successfully installed autograd-gamma-0.4.1 lifelines-0.23.2\n"
     ]
    }
   ],
   "source": [
    "pip install lifelines"
   ]
  },
  {
   "cell_type": "code",
   "execution_count": 0,
   "metadata": {
    "colab": {},
    "colab_type": "code",
    "id": "o1KpQ-DJyOPr"
   },
   "outputs": [],
   "source": [
    "# Ref: https://lifelines.readthedocs.io/en/latest/Quickstart.html\n",
    "# Ref 2: https://plot.ly/ipython-notebooks/survival-analysis-r-vs-python/\n",
    "# Use lifelines library for survival analysis.\n",
    "\n",
    "from lifelines import KaplanMeierFitter"
   ]
  },
  {
   "cell_type": "markdown",
   "metadata": {
    "colab_type": "text",
    "id": "UaAaPEBdyx8y"
   },
   "source": [
    "##### Overall Churn"
   ]
  },
  {
   "cell_type": "code",
   "execution_count": 0,
   "metadata": {
    "colab": {},
    "colab_type": "code",
    "id": "DYdJBnoEzF8j"
   },
   "outputs": [],
   "source": [
    "# Set variables for Kaplan-Meier survival curve:\n",
    "\n",
    "km_time = telco_data['tenure']\n",
    "km_churn = telco_data['Churn'].apply(lambda x: True if x == 'Yes' else False)"
   ]
  },
  {
   "cell_type": "code",
   "execution_count": 20,
   "metadata": {
    "colab": {
     "base_uri": "https://localhost:8080/",
     "height": 123
    },
    "colab_type": "code",
    "id": "FUyEFgJ4zvol",
    "outputId": "0e1d6d77-98b3-4e4a-a1a3-e0bd06c9179d"
   },
   "outputs": [
    {
     "data": {
      "text/plain": [
       "0    False\n",
       "1    False\n",
       "2     True\n",
       "3    False\n",
       "4     True\n",
       "Name: Churn, dtype: bool"
      ]
     },
     "execution_count": 20,
     "metadata": {
      "tags": []
     },
     "output_type": "execute_result"
    }
   ],
   "source": [
    "# Check churn_km\n",
    "\n",
    "km_churn.head()"
   ]
  },
  {
   "cell_type": "markdown",
   "metadata": {
    "colab_type": "text",
    "id": "-xW07-ubb0B8"
   },
   "source": [
    "**How Many Customers Churn**"
   ]
  },
  {
   "cell_type": "code",
   "execution_count": 21,
   "metadata": {
    "colab": {
     "base_uri": "https://localhost:8080/",
     "height": 35
    },
    "colab_type": "code",
    "id": "I7sKgHr5cLMf",
    "outputId": "ada9d462-9406-4930-cf46-e741ca369563"
   },
   "outputs": [
    {
     "data": {
      "text/plain": [
       "7043"
      ]
     },
     "execution_count": 21,
     "metadata": {
      "tags": []
     },
     "output_type": "execute_result"
    }
   ],
   "source": [
    "# Number of customers in dataset\n",
    "\n",
    "km_churn.count()"
   ]
  },
  {
   "cell_type": "code",
   "execution_count": 22,
   "metadata": {
    "colab": {
     "base_uri": "https://localhost:8080/",
     "height": 70
    },
    "colab_type": "code",
    "id": "VsqNlTudb3ow",
    "outputId": "11a6fbf0-985f-45a1-a963-c402944b63fd"
   },
   "outputs": [
    {
     "data": {
      "text/plain": [
       "False    5174\n",
       "True     1869\n",
       "Name: Churn, dtype: int64"
      ]
     },
     "execution_count": 22,
     "metadata": {
      "tags": []
     },
     "output_type": "execute_result"
    }
   ],
   "source": [
    "# 1869 out of 7043 Churn\n",
    "\n",
    "km_churn.value_counts()"
   ]
  },
  {
   "cell_type": "code",
   "execution_count": 23,
   "metadata": {
    "colab": {
     "base_uri": "https://localhost:8080/",
     "height": 70
    },
    "colab_type": "code",
    "id": "TwwzDngAcN-Z",
    "outputId": "736edeed-9066-437a-c61d-dace94d1fbb7"
   },
   "outputs": [
    {
     "data": {
      "text/plain": [
       "False    0.73463\n",
       "True     0.26537\n",
       "Name: Churn, dtype: float64"
      ]
     },
     "execution_count": 23,
     "metadata": {
      "tags": []
     },
     "output_type": "execute_result"
    }
   ],
   "source": [
    "km_churn.value_counts(normalize = True)"
   ]
  },
  {
   "cell_type": "markdown",
   "metadata": {
    "colab_type": "text",
    "id": "FClbeTQccSX3"
   },
   "source": [
    "There are 1869 customers who churn from the 7043 customers in the dataset. This is about 26.5 percent of 7043."
   ]
  },
  {
   "cell_type": "code",
   "execution_count": 24,
   "metadata": {
    "colab": {
     "base_uri": "https://localhost:8080/",
     "height": 52
    },
    "colab_type": "code",
    "id": "zzC7RAiX1A_T",
    "outputId": "e5c9671c-7bb5-415d-cf9b-7c5e05774952"
   },
   "outputs": [
    {
     "name": "stdout",
     "output_type": "stream",
     "text": [
      "Median tenure: 29.0\n",
      "Mean tenure: 32.37114865824223\n"
     ]
    }
   ],
   "source": [
    "# Median & mean tenure:\n",
    "\n",
    "print(f'Median tenure: {np.median(km_time)}')\n",
    "print(f'Mean tenure: {np.mean(km_time)}')"
   ]
  },
  {
   "cell_type": "code",
   "execution_count": 26,
   "metadata": {
    "colab": {
     "base_uri": "https://localhost:8080/",
     "height": 35
    },
    "colab_type": "code",
    "id": "X10Vw4UjyQJx",
    "outputId": "50dd3606-ef26-43c4-c6dd-df9aad5d0a1a"
   },
   "outputs": [
    {
     "data": {
      "text/plain": [
       "<lifelines.KaplanMeierFitter:\"KM_estimate\", fitted with 7043 total observations, 5174 right-censored observations>"
      ]
     },
     "execution_count": 26,
     "metadata": {
      "tags": []
     },
     "output_type": "execute_result"
    }
   ],
   "source": [
    "# Fit Kaplan Meier Curve\n",
    "\n",
    "km_curve = KaplanMeierFitter()\n",
    "km_curve.fit(km_time, event_observed = km_churn)"
   ]
  },
  {
   "cell_type": "code",
   "execution_count": 29,
   "metadata": {
    "colab": {
     "base_uri": "https://localhost:8080/",
     "height": 337
    },
    "colab_type": "code",
    "id": "a8n_gHPqzXBm",
    "outputId": "0bf3412b-d44f-40b6-ad21-bbc79e7fd280"
   },
   "outputs": [
    {
     "data": {
      "image/png": "[encoded data removed]",
      "text/plain": [
       "<Figure size 432x288 with 1 Axes>"
      ]
     },
     "metadata": {
      "tags": []
     },
     "output_type": "display_data"
    }
   ],
   "source": [
    "# Plot Of Tenure Time For All Customers\n",
    "\n",
    "# Set style:\n",
    "\n",
    "km_curve.survival_function_\n",
    "km_curve.cumulative_density_\n",
    "#km_curve.median_\n",
    "\n",
    "km_curve.plot_survival_function() # or just kmf.plot()\n",
    "\n",
    "# Median line:\n",
    "#plt.axvline(x = np.median(time_km), color = 'green', alpha = 0.3)\n",
    "\n",
    "# Mean line:\n",
    "#plt.axvline(x = np.mean(time_km), color = 'black', alpha = 0.2)\n",
    "\n",
    "# Look at 12 months and 24 months tenure (1 yr and 2 yr contracts)\n",
    "\n",
    "#plt.axvline(x = 12, color = 'black', alpha = 0.2)\n",
    "\n",
    "#plt.axvline(x = 24, color = 'black', alpha = 0.2)\n",
    "\n",
    "\n",
    "\n",
    "plt.xlabel('\\n Customer Tenure (Months)')\n",
    "plt.ylabel('Probability Of Customer Not Churning \\n')\n",
    "plt.title('Kaplan-Meier Survival Curve \\n Telecommunications Customer Churn Data \\n')\n",
    "\n",
    "plt.savefig('overallChurn.png', dpi=300, bbox_inches = \"tight\")"
   ]
  },
  {
   "cell_type": "markdown",
   "metadata": {
    "colab_type": "text",
    "id": "hG1AiF8W2uLo"
   },
   "source": [
    "**Observations**\n",
    "\n",
    "* It appears that after 12 months, there is a 15% chance of the customers leaving. \n",
    "* After 20 months there is a 80% chance of non-churn or a 20% chance of the customer leaving."
   ]
  },
  {
   "cell_type": "markdown",
   "metadata": {
    "colab_type": "text",
    "id": "6cPnY7Gl4-l5"
   },
   "source": [
    "##### By Contract Type"
   ]
  },
  {
   "cell_type": "code",
   "execution_count": 0,
   "metadata": {
    "colab": {},
    "colab_type": "code",
    "id": "iIyKIcCIzdKs"
   },
   "outputs": [],
   "source": [
    "# Filtered data for Kaplan-Meier\n",
    "\n",
    "telco_km = telco_data[['Contract', 'tenure', 'Churn']]"
   ]
  },
  {
   "cell_type": "code",
   "execution_count": 31,
   "metadata": {
    "colab": {
     "base_uri": "https://localhost:8080/",
     "height": 203
    },
    "colab_type": "code",
    "id": "oAW2HH066TNX",
    "outputId": "c5687d93-006b-49ea-f1ce-1379b9880cca"
   },
   "outputs": [
    {
     "data": {
      "text/html": [
       "<div>\n",
       "<style scoped>\n",
       "    .dataframe tbody tr th:only-of-type {\n",
       "        vertical-align: middle;\n",
       "    }\n",
       "\n",
       "    .dataframe tbody tr th {\n",
       "        vertical-align: top;\n",
       "    }\n",
       "\n",
       "    .dataframe thead th {\n",
       "        text-align: right;\n",
       "    }\n",
       "</style>\n",
       "<table border=\"1\" class=\"dataframe\">\n",
       "  <thead>\n",
       "    <tr style=\"text-align: right;\">\n",
       "      <th></th>\n",
       "      <th>Contract</th>\n",
       "      <th>tenure</th>\n",
       "      <th>Churn</th>\n",
       "    </tr>\n",
       "  </thead>\n",
       "  <tbody>\n",
       "    <tr>\n",
       "      <th>7038</th>\n",
       "      <td>One year</td>\n",
       "      <td>24</td>\n",
       "      <td>No</td>\n",
       "    </tr>\n",
       "    <tr>\n",
       "      <th>7039</th>\n",
       "      <td>One year</td>\n",
       "      <td>72</td>\n",
       "      <td>No</td>\n",
       "    </tr>\n",
       "    <tr>\n",
       "      <th>7040</th>\n",
       "      <td>Month-to-month</td>\n",
       "      <td>11</td>\n",
       "      <td>No</td>\n",
       "    </tr>\n",
       "    <tr>\n",
       "      <th>7041</th>\n",
       "      <td>Month-to-month</td>\n",
       "      <td>4</td>\n",
       "      <td>Yes</td>\n",
       "    </tr>\n",
       "    <tr>\n",
       "      <th>7042</th>\n",
       "      <td>Two year</td>\n",
       "      <td>66</td>\n",
       "      <td>No</td>\n",
       "    </tr>\n",
       "  </tbody>\n",
       "</table>\n",
       "</div>"
      ],
      "text/plain": [
       "            Contract  tenure Churn\n",
       "7038        One year      24    No\n",
       "7039        One year      72    No\n",
       "7040  Month-to-month      11    No\n",
       "7041  Month-to-month       4   Yes\n",
       "7042        Two year      66    No"
      ]
     },
     "execution_count": 31,
     "metadata": {
      "tags": []
     },
     "output_type": "execute_result"
    }
   ],
   "source": [
    "# Check:\n",
    "\n",
    "telco_km.tail(5)"
   ]
  },
  {
   "cell_type": "code",
   "execution_count": 0,
   "metadata": {
    "colab": {},
    "colab_type": "code",
    "id": "W7jyhWjN5Qfz"
   },
   "outputs": [],
   "source": [
    "# Filter by contract:\n",
    "\n",
    "telco_km_mthmth = telco_km[telco_km['Contract'] == 'Month-to-month']\n",
    "\n",
    "telco_km_oneyear = telco_km[telco_km['Contract'] == 'One year']\n",
    "\n",
    "telco_km_twoyear = telco_km[telco_km['Contract'] == 'Two year']"
   ]
  },
  {
   "cell_type": "markdown",
   "metadata": {
    "colab_type": "text",
    "id": "yCu7sInFb_TC"
   },
   "source": [
    "**Month To Month Tenure**"
   ]
  },
  {
   "cell_type": "code",
   "execution_count": 33,
   "metadata": {
    "colab": {
     "base_uri": "https://localhost:8080/",
     "height": 123
    },
    "colab_type": "code",
    "id": "OVytOZGK5RsG",
    "outputId": "3ad98b24-48df-4c4d-be21-b092c7a3eeb3"
   },
   "outputs": [
    {
     "data": {
      "text/plain": [
       "0     1\n",
       "2     2\n",
       "4     2\n",
       "5     8\n",
       "6    22\n",
       "Name: tenure, dtype: int64"
      ]
     },
     "execution_count": 33,
     "metadata": {
      "tags": []
     },
     "output_type": "execute_result"
    }
   ],
   "source": [
    "mthmth_tenure = telco_km_mthmth['tenure']\n",
    "\n",
    "mthmth_tenure.head()"
   ]
  },
  {
   "cell_type": "code",
   "execution_count": 34,
   "metadata": {
    "colab": {
     "base_uri": "https://localhost:8080/",
     "height": 87
    },
    "colab_type": "code",
    "id": "JW9E1N4Ycq88",
    "outputId": "2fb41551-958a-4a7b-ace6-29717f3cb623"
   },
   "outputs": [
    {
     "data": {
      "text/plain": [
       "Month-to-month    3875\n",
       "Two year          1695\n",
       "One year          1473\n",
       "Name: Contract, dtype: int64"
      ]
     },
     "execution_count": 34,
     "metadata": {
      "tags": []
     },
     "output_type": "execute_result"
    }
   ],
   "source": [
    "# Number of Month To Month customers:\n",
    "\n",
    "\n",
    "telco_data['Contract'].value_counts()"
   ]
  },
  {
   "cell_type": "code",
   "execution_count": 35,
   "metadata": {
    "colab": {
     "base_uri": "https://localhost:8080/",
     "height": 123
    },
    "colab_type": "code",
    "id": "QGz9GofjbKVY",
    "outputId": "d83564fe-4782-4994-a2bb-7a709c81de17"
   },
   "outputs": [
    {
     "data": {
      "text/plain": [
       "0    False\n",
       "2     True\n",
       "4     True\n",
       "5     True\n",
       "6    False\n",
       "Name: Churn, dtype: bool"
      ]
     },
     "execution_count": 35,
     "metadata": {
      "tags": []
     },
     "output_type": "execute_result"
    }
   ],
   "source": [
    "# Change Yes and No to True & False:\n",
    "\n",
    "churn_mthmth = telco_km_mthmth['Churn'].apply(lambda x: True if x == 'Yes' else False)\n",
    "\n",
    "churn_mthmth.head()"
   ]
  },
  {
   "cell_type": "code",
   "execution_count": 36,
   "metadata": {
    "colab": {
     "base_uri": "https://localhost:8080/",
     "height": 175
    },
    "colab_type": "code",
    "id": "nP6qMrYXem0-",
    "outputId": "299901da-0a6c-4f24-842c-01f27a7afaff"
   },
   "outputs": [
    {
     "data": {
      "text/plain": [
       "count    3875.000000\n",
       "mean       18.036645\n",
       "std        17.689054\n",
       "min         1.000000\n",
       "25%         3.000000\n",
       "50%        12.000000\n",
       "75%        29.000000\n",
       "max        72.000000\n",
       "Name: tenure, dtype: float64"
      ]
     },
     "execution_count": 36,
     "metadata": {
      "tags": []
     },
     "output_type": "execute_result"
    }
   ],
   "source": [
    "mthmth_tenure.describe()"
   ]
  },
  {
   "cell_type": "code",
   "execution_count": 37,
   "metadata": {
    "colab": {
     "base_uri": "https://localhost:8080/",
     "height": 35
    },
    "colab_type": "code",
    "id": "j2T8YjOqQ1Fl",
    "outputId": "edbc826f-1403-4e13-d1a1-336ab2a849ca"
   },
   "outputs": [
    {
     "data": {
      "text/plain": [
       "1655"
      ]
     },
     "execution_count": 37,
     "metadata": {
      "tags": []
     },
     "output_type": "execute_result"
    }
   ],
   "source": [
    "churn_mthmth.sum()"
   ]
  },
  {
   "cell_type": "code",
   "execution_count": 38,
   "metadata": {
    "colab": {
     "base_uri": "https://localhost:8080/",
     "height": 297
    },
    "colab_type": "code",
    "id": "MBWgxyuQet5D",
    "outputId": "1487a7d1-90f6-406b-f969-98282708bb45"
   },
   "outputs": [
    {
     "data": {
      "text/plain": [
       "<matplotlib.axes._subplots.AxesSubplot at 0x7f7085e67198>"
      ]
     },
     "execution_count": 38,
     "metadata": {
      "tags": []
     },
     "output_type": "execute_result"
    },
    {
     "data": {
      "image/png": "[encoded data removed]",
      "text/plain": [
       "<Figure size 432x288 with 1 Axes>"
      ]
     },
     "metadata": {
      "tags": []
     },
     "output_type": "display_data"
    }
   ],
   "source": [
    "# Distribution Plot of month to month tenure:\n",
    "\n",
    "sns.distplot(mthmth_tenure, kde = False)\n",
    "#plt.xticks(range(0, 75, 6))"
   ]
  },
  {
   "cell_type": "code",
   "execution_count": 0,
   "metadata": {
    "colab": {},
    "colab_type": "code",
    "id": "aFxPY9BKfVCS"
   },
   "outputs": [],
   "source": [
    "# Kaplan-Meier Survival Curve For Month To Month\n",
    "\n",
    "#ax = plt.subplot(111)\n",
    "\n",
    "#kmf_catg.fit(mthmth_tenure , churn_mthmth, label = 'Month-To-Month')\n",
    "#kmf_catg.survival_function_.plot(ax=ax)\n",
    "                                 \n",
    "#kmf2 = plt.gcf()"
   ]
  },
  {
   "cell_type": "code",
   "execution_count": 0,
   "metadata": {
    "colab": {},
    "colab_type": "code",
    "id": "8W8I9kFVb0-f"
   },
   "outputs": [],
   "source": [
    "# Obtain tenure times and Churn events from one year contracts and two year contracts:\n",
    "\n",
    "oneyear_tenure = telco_km_oneyear['tenure']\n",
    "churn_oneyear = telco_km_oneyear['Churn'].apply(lambda x: True if x == 'Yes' else False)\n",
    "\n",
    "twoyear_tenure = telco_km_twoyear['tenure']\n",
    "churn_twoyear = telco_km_twoyear['Churn'].apply(lambda x: True if x == 'Yes' else False)"
   ]
  },
  {
   "cell_type": "code",
   "execution_count": 41,
   "metadata": {
    "colab": {
     "base_uri": "https://localhost:8080/",
     "height": 123
    },
    "colab_type": "code",
    "id": "tha_kw2H5RoM",
    "outputId": "df2c3a17-510c-4c25-f1c7-dcce9b235c78"
   },
   "outputs": [
    {
     "data": {
      "text/plain": [
       "1     False\n",
       "3     False\n",
       "9     False\n",
       "12    False\n",
       "16    False\n",
       "Name: Churn, dtype: bool"
      ]
     },
     "execution_count": 41,
     "metadata": {
      "tags": []
     },
     "output_type": "execute_result"
    }
   ],
   "source": [
    "churn_oneyear.head()"
   ]
  },
  {
   "cell_type": "markdown",
   "metadata": {
    "colab_type": "text",
    "id": "UOpFQyU2feCa"
   },
   "source": [
    "### Kaplan-Meier Curve For All Three Contracts - Month-To-Month Churns Most"
   ]
  },
  {
   "cell_type": "code",
   "execution_count": 42,
   "metadata": {
    "colab": {
     "base_uri": "https://localhost:8080/",
     "height": 316
    },
    "colab_type": "code",
    "id": "58OwCbXZbEsJ",
    "outputId": "923250aa-8e60-4b39-9a74-75531730845a"
   },
   "outputs": [
    {
     "data": {
      "image/png": "[encoded data removed]",
      "text/plain": [
       "<Figure size 432x288 with 1 Axes>"
      ]
     },
     "metadata": {
      "tags": []
     },
     "output_type": "display_data"
    }
   ],
   "source": [
    "# Fit Kaplan Meier Curve\n",
    "# Removed grid and added legend frame after presentation\n",
    "\n",
    "# Set style:\n",
    "\n",
    "plt.style.use('seaborn-whitegrid')\n",
    "\n",
    "kmf_catg = KaplanMeierFitter()\n",
    "\n",
    "ax = plt.subplot(111)\n",
    "\n",
    "kmf_catg.fit(twoyear_tenure, churn_twoyear, label = 'Two Year')\n",
    "kmf_catg.survival_function_.plot(ax=ax)\n",
    "\n",
    "kmf_catg.fit(oneyear_tenure , churn_oneyear, label = 'One Year')\n",
    "kmf_catg.survival_function_.plot(ax=ax)\n",
    "\n",
    "kmf_catg.fit(mthmth_tenure , churn_mthmth, label = 'Month-To-Month')\n",
    "kmf_catg.survival_function_.plot(ax=ax)\n",
    "\n",
    "plt.title('Kaplan-Meier Survival Curve By Contracts \\n')\n",
    "plt.xlabel('\\n Time In Months (t)')\n",
    "plt.ylabel('Probability Of Customer Staying \\n Past Time t \\n')\n",
    "plt.legend(frameon = True)\n",
    "plt.grid()\n",
    "\n",
    "plt.savefig('Churn_byContract.png', dpi=300, bbox_inches = \"tight\")"
   ]
  },
  {
   "cell_type": "markdown",
   "metadata": {
    "colab_type": "text",
    "id": "11NMIrNuo8_W"
   },
   "source": [
    "This Kaplan-Meier survival curve turned out very nicely in terms of comparing groups. It can be easily be seen that over time that month-to-month customers are more likely to leave compared to the one-year and two-year contracts.\n"
   ]
  },
  {
   "cell_type": "markdown",
   "metadata": {
    "colab_type": "text",
    "id": "64qWbV-9dTJG"
   },
   "source": [
    "**Month-To-Month Contracts Analysis**\n",
    "\n",
    "* It appears that 40% of month-to-month customers do churn by the 20th month. \n",
    "\n",
    "* About 25% of month-to-month customers churn by the 10th month."
   ]
  },
  {
   "cell_type": "code",
   "execution_count": 0,
   "metadata": {
    "colab": {
     "base_uri": "https://localhost:8080/",
     "height": 34
    },
    "colab_type": "code",
    "id": "xi5Nfoqtjw9z",
    "outputId": "b8e4ab39-e111-4bfd-83e7-f546485980dd"
   },
   "outputs": [
    {
     "data": {
      "text/plain": [
       "1550.0"
      ]
     },
     "execution_count": 43,
     "metadata": {
      "tags": []
     },
     "output_type": "execute_result"
    }
   ],
   "source": [
    "# 40% Of The Number Of Month-To-Month Customers:\n",
    "# Represents number of loss customers by month 20\n",
    "\n",
    "0.4 * 3875 "
   ]
  },
  {
   "cell_type": "code",
   "execution_count": 0,
   "metadata": {
    "colab": {
     "base_uri": "https://localhost:8080/",
     "height": 34
    },
    "colab_type": "code",
    "id": "GNYapi1C0tPt",
    "outputId": "6cab7255-e5ea-4b4f-dd0c-519cb10a8baf"
   },
   "outputs": [
    {
     "data": {
      "text/plain": [
       "968.75"
      ]
     },
     "execution_count": 44,
     "metadata": {
      "tags": []
     },
     "output_type": "execute_result"
    }
   ],
   "source": [
    "# 25% Of The Number Of Month-To-Month Customers:\n",
    "# Represents number of loss customers by month 10\n",
    "\n",
    "0.25 * 3875 "
   ]
  },
  {
   "cell_type": "code",
   "execution_count": 0,
   "metadata": {
    "colab": {
     "base_uri": "https://localhost:8080/",
     "height": 404
    },
    "colab_type": "code",
    "id": "OI-DkMc0dg9e",
    "outputId": "67f975d6-72f2-4dce-9a19-75bd007fb630"
   },
   "outputs": [
    {
     "data": {
      "text/plain": [
       "customerID          2047\n",
       "gender              2047\n",
       "SeniorCitizen       2047\n",
       "Partner             2047\n",
       "Dependents          2047\n",
       "tenure              2047\n",
       "PhoneService        2047\n",
       "MultipleLines       2047\n",
       "InternetService     2047\n",
       "OnlineSecurity      2047\n",
       "OnlineBackup        2047\n",
       "DeviceProtection    2047\n",
       "TechSupport         2047\n",
       "StreamingTV         2047\n",
       "StreamingMovies     2047\n",
       "Contract            2047\n",
       "PaperlessBilling    2047\n",
       "PaymentMethod       2047\n",
       "MonthlyCharges      2047\n",
       "TotalCharges        2047\n",
       "Churn               2047\n",
       "dtype: int64"
      ]
     },
     "execution_count": 45,
     "metadata": {
      "tags": []
     },
     "output_type": "execute_result"
    }
   ],
   "source": [
    "telco_data[(telco_data['Contract'] == 'Month-to-month') & (telco_data['tenure'] > 10)].count()"
   ]
  },
  {
   "cell_type": "code",
   "execution_count": 0,
   "metadata": {
    "colab": {
     "base_uri": "https://localhost:8080/",
     "height": 404
    },
    "colab_type": "code",
    "id": "XYrpddHAeUf9",
    "outputId": "9ecf3a55-4eed-4274-e06f-893352d2da58"
   },
   "outputs": [
    {
     "data": {
      "text/plain": [
       "customerID          1828\n",
       "gender              1828\n",
       "SeniorCitizen       1828\n",
       "Partner             1828\n",
       "Dependents          1828\n",
       "tenure              1828\n",
       "PhoneService        1828\n",
       "MultipleLines       1828\n",
       "InternetService     1828\n",
       "OnlineSecurity      1828\n",
       "OnlineBackup        1828\n",
       "DeviceProtection    1828\n",
       "TechSupport         1828\n",
       "StreamingTV         1828\n",
       "StreamingMovies     1828\n",
       "Contract            1828\n",
       "PaperlessBilling    1828\n",
       "PaymentMethod       1828\n",
       "MonthlyCharges      1828\n",
       "TotalCharges        1828\n",
       "Churn               1828\n",
       "dtype: int64"
      ]
     },
     "execution_count": 46,
     "metadata": {
      "tags": []
     },
     "output_type": "execute_result"
    }
   ],
   "source": [
    "telco_data[(telco_data['Contract'] == 'Month-to-month') & (telco_data['tenure'] <= 10)].count()"
   ]
  },
  {
   "cell_type": "markdown",
   "metadata": {
    "colab_type": "text",
    "id": "i2aCh3wyyGgl"
   },
   "source": [
    "## Overall Churn Counts By Contract"
   ]
  },
  {
   "cell_type": "markdown",
   "metadata": {
    "colab_type": "text",
    "id": "TpI-tkTiZQ6W"
   },
   "source": [
    "Want to look at number of churns over tenure time (months) for each contract.\n",
    "\n",
    "1. Month-To-Month (`telco_km_mthmth`)\n",
    "2. One Year (`telco_km_oneyear`)\n",
    "3. Two Year (`telco_km_twoyear`)"
   ]
  },
  {
   "cell_type": "markdown",
   "metadata": {
    "colab_type": "text",
    "id": "xm6_W-nGZ1Dw"
   },
   "source": [
    "##### Month-To-Month"
   ]
  },
  {
   "cell_type": "code",
   "execution_count": 43,
   "metadata": {
    "colab": {
     "base_uri": "https://localhost:8080/",
     "height": 203
    },
    "colab_type": "code",
    "id": "TM1uZQ3wV1Xv",
    "outputId": "d34d1857-2440-4c1f-f9d1-18e78a7e25f3"
   },
   "outputs": [
    {
     "data": {
      "text/html": [
       "<div>\n",
       "<style scoped>\n",
       "    .dataframe tbody tr th:only-of-type {\n",
       "        vertical-align: middle;\n",
       "    }\n",
       "\n",
       "    .dataframe tbody tr th {\n",
       "        vertical-align: top;\n",
       "    }\n",
       "\n",
       "    .dataframe thead th {\n",
       "        text-align: right;\n",
       "    }\n",
       "</style>\n",
       "<table border=\"1\" class=\"dataframe\">\n",
       "  <thead>\n",
       "    <tr style=\"text-align: right;\">\n",
       "      <th></th>\n",
       "      <th>Contract</th>\n",
       "      <th>tenure</th>\n",
       "      <th>Churn</th>\n",
       "    </tr>\n",
       "  </thead>\n",
       "  <tbody>\n",
       "    <tr>\n",
       "      <th>0</th>\n",
       "      <td>Month-to-month</td>\n",
       "      <td>1</td>\n",
       "      <td>No</td>\n",
       "    </tr>\n",
       "    <tr>\n",
       "      <th>2</th>\n",
       "      <td>Month-to-month</td>\n",
       "      <td>2</td>\n",
       "      <td>Yes</td>\n",
       "    </tr>\n",
       "    <tr>\n",
       "      <th>4</th>\n",
       "      <td>Month-to-month</td>\n",
       "      <td>2</td>\n",
       "      <td>Yes</td>\n",
       "    </tr>\n",
       "    <tr>\n",
       "      <th>5</th>\n",
       "      <td>Month-to-month</td>\n",
       "      <td>8</td>\n",
       "      <td>Yes</td>\n",
       "    </tr>\n",
       "    <tr>\n",
       "      <th>6</th>\n",
       "      <td>Month-to-month</td>\n",
       "      <td>22</td>\n",
       "      <td>No</td>\n",
       "    </tr>\n",
       "  </tbody>\n",
       "</table>\n",
       "</div>"
      ],
      "text/plain": [
       "         Contract  tenure Churn\n",
       "0  Month-to-month       1    No\n",
       "2  Month-to-month       2   Yes\n",
       "4  Month-to-month       2   Yes\n",
       "5  Month-to-month       8   Yes\n",
       "6  Month-to-month      22    No"
      ]
     },
     "execution_count": 43,
     "metadata": {
      "tags": []
     },
     "output_type": "execute_result"
    }
   ],
   "source": [
    "# Monthly contract customers\n",
    "\n",
    "telco_km_mthmth.head()"
   ]
  },
  {
   "cell_type": "code",
   "execution_count": 44,
   "metadata": {
    "colab": {
     "base_uri": "https://localhost:8080/",
     "height": 203
    },
    "colab_type": "code",
    "id": "Z6AqZhZVWr0G",
    "outputId": "c5b0802f-4344-49e2-f58c-a5169821b085"
   },
   "outputs": [
    {
     "data": {
      "text/html": [
       "<div>\n",
       "<style scoped>\n",
       "    .dataframe tbody tr th:only-of-type {\n",
       "        vertical-align: middle;\n",
       "    }\n",
       "\n",
       "    .dataframe tbody tr th {\n",
       "        vertical-align: top;\n",
       "    }\n",
       "\n",
       "    .dataframe thead th {\n",
       "        text-align: right;\n",
       "    }\n",
       "</style>\n",
       "<table border=\"1\" class=\"dataframe\">\n",
       "  <thead>\n",
       "    <tr style=\"text-align: right;\">\n",
       "      <th></th>\n",
       "      <th>Contract</th>\n",
       "      <th>tenure</th>\n",
       "      <th>Churn</th>\n",
       "    </tr>\n",
       "  </thead>\n",
       "  <tbody>\n",
       "    <tr>\n",
       "      <th>2</th>\n",
       "      <td>Month-to-month</td>\n",
       "      <td>2</td>\n",
       "      <td>Yes</td>\n",
       "    </tr>\n",
       "    <tr>\n",
       "      <th>4</th>\n",
       "      <td>Month-to-month</td>\n",
       "      <td>2</td>\n",
       "      <td>Yes</td>\n",
       "    </tr>\n",
       "    <tr>\n",
       "      <th>5</th>\n",
       "      <td>Month-to-month</td>\n",
       "      <td>8</td>\n",
       "      <td>Yes</td>\n",
       "    </tr>\n",
       "    <tr>\n",
       "      <th>8</th>\n",
       "      <td>Month-to-month</td>\n",
       "      <td>28</td>\n",
       "      <td>Yes</td>\n",
       "    </tr>\n",
       "    <tr>\n",
       "      <th>13</th>\n",
       "      <td>Month-to-month</td>\n",
       "      <td>49</td>\n",
       "      <td>Yes</td>\n",
       "    </tr>\n",
       "  </tbody>\n",
       "</table>\n",
       "</div>"
      ],
      "text/plain": [
       "          Contract  tenure Churn\n",
       "2   Month-to-month       2   Yes\n",
       "4   Month-to-month       2   Yes\n",
       "5   Month-to-month       8   Yes\n",
       "8   Month-to-month      28   Yes\n",
       "13  Month-to-month      49   Yes"
      ]
     },
     "execution_count": 44,
     "metadata": {
      "tags": []
     },
     "output_type": "execute_result"
    }
   ],
   "source": [
    "# 1) Churned numbers for month-to-month customers\n",
    "\n",
    "telco_monthly_churn = telco_km_mthmth[telco_km_mthmth['Churn'] == 'Yes']\n",
    "\n",
    "telco_monthly_churn.head()"
   ]
  },
  {
   "cell_type": "code",
   "execution_count": 45,
   "metadata": {
    "colab": {
     "base_uri": "https://localhost:8080/",
     "height": 87
    },
    "colab_type": "code",
    "id": "NQHMq8Gktdk9",
    "outputId": "8d1c1379-942b-44e9-a29e-659cc1ef5e46"
   },
   "outputs": [
    {
     "data": {
      "text/plain": [
       "Contract    1655\n",
       "tenure      1655\n",
       "Churn       1655\n",
       "dtype: int64"
      ]
     },
     "execution_count": 45,
     "metadata": {
      "tags": []
     },
     "output_type": "execute_result"
    }
   ],
   "source": [
    "telco_monthly_churn.count()"
   ]
  },
  {
   "cell_type": "code",
   "execution_count": 0,
   "metadata": {
    "colab": {},
    "colab_type": "code",
    "id": "TtyJvSVpV1Xx"
   },
   "outputs": [],
   "source": [
    "# Month-to-month churn counts\n",
    "monthly_churn_counts =  telco_monthly_churn.groupby(['tenure'])['Churn'].count()"
   ]
  },
  {
   "cell_type": "code",
   "execution_count": 47,
   "metadata": {
    "colab": {
     "base_uri": "https://localhost:8080/",
     "height": 35
    },
    "colab_type": "code",
    "id": "3zIJbqUbj1W1",
    "outputId": "3b190479-3391-4235-992e-179cac2cb65c"
   },
   "outputs": [
    {
     "data": {
      "text/plain": [
       "1655"
      ]
     },
     "execution_count": 47,
     "metadata": {
      "tags": []
     },
     "output_type": "execute_result"
    }
   ],
   "source": [
    "# Total churn counts:\n",
    "\n",
    "monthly_churn_counts.sum()"
   ]
  },
  {
   "cell_type": "code",
   "execution_count": 50,
   "metadata": {
    "colab": {
     "base_uri": "https://localhost:8080/",
     "height": 293
    },
    "colab_type": "code",
    "id": "1VE8NzeAV1Xy",
    "outputId": "feaecde3-4b50-4ab9-e900-920f7a8a4ef3"
   },
   "outputs": [
    {
     "data": {
      "text/plain": [
       "<matplotlib.axes._subplots.AxesSubplot at 0x7f7085cb0470>"
      ]
     },
     "execution_count": 50,
     "metadata": {
      "tags": []
     },
     "output_type": "execute_result"
    },
    {
     "data": {
      "image/png": "[encoded data removed]",
      "text/plain": [
       "<Figure size 432x288 with 1 Axes>"
      ]
     },
     "metadata": {
      "tags": []
     },
     "output_type": "display_data"
    }
   ],
   "source": [
    "# Month-to-month churn plots:\n",
    "\n",
    "sns.lineplot(x = monthly_churn_counts.index, y = monthly_churn_counts, \n",
    "             color = 'green',\n",
    "             alpha = 0.8)\n"
   ]
  },
  {
   "cell_type": "markdown",
   "metadata": {
    "colab_type": "text",
    "id": "hX_UC3alZ7kq"
   },
   "source": [
    "##### One Year Contract Customers"
   ]
  },
  {
   "cell_type": "code",
   "execution_count": 51,
   "metadata": {
    "colab": {
     "base_uri": "https://localhost:8080/",
     "height": 203
    },
    "colab_type": "code",
    "id": "B8WrVn28Zg6n",
    "outputId": "a8434383-cc43-42c0-c3c1-d36a2ada2929"
   },
   "outputs": [
    {
     "data": {
      "text/html": [
       "<div>\n",
       "<style scoped>\n",
       "    .dataframe tbody tr th:only-of-type {\n",
       "        vertical-align: middle;\n",
       "    }\n",
       "\n",
       "    .dataframe tbody tr th {\n",
       "        vertical-align: top;\n",
       "    }\n",
       "\n",
       "    .dataframe thead th {\n",
       "        text-align: right;\n",
       "    }\n",
       "</style>\n",
       "<table border=\"1\" class=\"dataframe\">\n",
       "  <thead>\n",
       "    <tr style=\"text-align: right;\">\n",
       "      <th></th>\n",
       "      <th>Contract</th>\n",
       "      <th>tenure</th>\n",
       "      <th>Churn</th>\n",
       "    </tr>\n",
       "  </thead>\n",
       "  <tbody>\n",
       "    <tr>\n",
       "      <th>173</th>\n",
       "      <td>One year</td>\n",
       "      <td>53</td>\n",
       "      <td>Yes</td>\n",
       "    </tr>\n",
       "    <tr>\n",
       "      <th>317</th>\n",
       "      <td>One year</td>\n",
       "      <td>38</td>\n",
       "      <td>Yes</td>\n",
       "    </tr>\n",
       "    <tr>\n",
       "      <th>320</th>\n",
       "      <td>One year</td>\n",
       "      <td>54</td>\n",
       "      <td>Yes</td>\n",
       "    </tr>\n",
       "    <tr>\n",
       "      <th>335</th>\n",
       "      <td>One year</td>\n",
       "      <td>68</td>\n",
       "      <td>Yes</td>\n",
       "    </tr>\n",
       "    <tr>\n",
       "      <th>495</th>\n",
       "      <td>One year</td>\n",
       "      <td>22</td>\n",
       "      <td>Yes</td>\n",
       "    </tr>\n",
       "  </tbody>\n",
       "</table>\n",
       "</div>"
      ],
      "text/plain": [
       "     Contract  tenure Churn\n",
       "173  One year      53   Yes\n",
       "317  One year      38   Yes\n",
       "320  One year      54   Yes\n",
       "335  One year      68   Yes\n",
       "495  One year      22   Yes"
      ]
     },
     "execution_count": 51,
     "metadata": {
      "tags": []
     },
     "output_type": "execute_result"
    }
   ],
   "source": [
    "# 2) Churned numbers for one year contract customers\n",
    "\n",
    "oneyear_churn = telco_km_oneyear[telco_km_oneyear['Churn'] == 'Yes']\n",
    "\n",
    "oneyear_churn.head()"
   ]
  },
  {
   "cell_type": "code",
   "execution_count": 0,
   "metadata": {
    "colab": {},
    "colab_type": "code",
    "id": "-jO-uVWOaETB"
   },
   "outputs": [],
   "source": [
    "# 1 yr contract churn counts\n",
    "\n",
    "oneyear_churn_counts =  oneyear_churn.groupby(['tenure'])['Churn'].count()"
   ]
  },
  {
   "cell_type": "code",
   "execution_count": 53,
   "metadata": {
    "colab": {
     "base_uri": "https://localhost:8080/",
     "height": 228
    },
    "colab_type": "code",
    "id": "Xz5YQ5xtaEIf",
    "outputId": "5dcf5295-547f-4e43-c238-c1a7071e7281"
   },
   "outputs": [
    {
     "data": {
      "text/plain": [
       "tenure\n",
       "2     2\n",
       "4     1\n",
       "5     1\n",
       "7     1\n",
       "8     1\n",
       "9     1\n",
       "11    1\n",
       "12    5\n",
       "13    1\n",
       "14    1\n",
       "Name: Churn, dtype: int64"
      ]
     },
     "execution_count": 53,
     "metadata": {
      "tags": []
     },
     "output_type": "execute_result"
    }
   ],
   "source": [
    "# Check counts:\n",
    "\n",
    "oneyear_churn_counts.head(10)"
   ]
  },
  {
   "cell_type": "code",
   "execution_count": 55,
   "metadata": {
    "colab": {
     "base_uri": "https://localhost:8080/",
     "height": 293
    },
    "colab_type": "code",
    "id": "VwZprx-HaD9U",
    "outputId": "cfce6410-197a-432e-ca2c-befcb3dd088c"
   },
   "outputs": [
    {
     "data": {
      "text/plain": [
       "<matplotlib.axes._subplots.AxesSubplot at 0x7f7085bfc0f0>"
      ]
     },
     "execution_count": 55,
     "metadata": {
      "tags": []
     },
     "output_type": "execute_result"
    },
    {
     "data": {
      "image/png": "[encoded data removed]",
      "text/plain": [
       "<Figure size 432x288 with 1 Axes>"
      ]
     },
     "metadata": {
      "tags": []
     },
     "output_type": "display_data"
    }
   ],
   "source": [
    "# One year contract churn plots:\n",
    "\n",
    "sns.lineplot(x = oneyear_churn_counts.index, y = oneyear_churn_counts, \n",
    "             color = 'red',\n",
    "             alpha = 0.4)\n",
    "\n"
   ]
  },
  {
   "cell_type": "markdown",
   "metadata": {
    "colab_type": "text",
    "id": "0458nOKcaAgv"
   },
   "source": [
    "##### Two Year Contract Customers"
   ]
  },
  {
   "cell_type": "code",
   "execution_count": 56,
   "metadata": {
    "colab": {
     "base_uri": "https://localhost:8080/",
     "height": 203
    },
    "colab_type": "code",
    "id": "KJjZt7s7bFD_",
    "outputId": "f26b1e46-ebce-458c-808c-922cd297498f"
   },
   "outputs": [
    {
     "data": {
      "text/html": [
       "<div>\n",
       "<style scoped>\n",
       "    .dataframe tbody tr th:only-of-type {\n",
       "        vertical-align: middle;\n",
       "    }\n",
       "\n",
       "    .dataframe tbody tr th {\n",
       "        vertical-align: top;\n",
       "    }\n",
       "\n",
       "    .dataframe thead th {\n",
       "        text-align: right;\n",
       "    }\n",
       "</style>\n",
       "<table border=\"1\" class=\"dataframe\">\n",
       "  <thead>\n",
       "    <tr style=\"text-align: right;\">\n",
       "      <th></th>\n",
       "      <th>Contract</th>\n",
       "      <th>tenure</th>\n",
       "      <th>Churn</th>\n",
       "    </tr>\n",
       "  </thead>\n",
       "  <tbody>\n",
       "    <tr>\n",
       "      <th>104</th>\n",
       "      <td>Two year</td>\n",
       "      <td>68</td>\n",
       "      <td>Yes</td>\n",
       "    </tr>\n",
       "    <tr>\n",
       "      <th>268</th>\n",
       "      <td>Two year</td>\n",
       "      <td>59</td>\n",
       "      <td>Yes</td>\n",
       "    </tr>\n",
       "    <tr>\n",
       "      <th>336</th>\n",
       "      <td>Two year</td>\n",
       "      <td>43</td>\n",
       "      <td>Yes</td>\n",
       "    </tr>\n",
       "    <tr>\n",
       "      <th>811</th>\n",
       "      <td>Two year</td>\n",
       "      <td>70</td>\n",
       "      <td>Yes</td>\n",
       "    </tr>\n",
       "    <tr>\n",
       "      <th>975</th>\n",
       "      <td>Two year</td>\n",
       "      <td>71</td>\n",
       "      <td>Yes</td>\n",
       "    </tr>\n",
       "  </tbody>\n",
       "</table>\n",
       "</div>"
      ],
      "text/plain": [
       "     Contract  tenure Churn\n",
       "104  Two year      68   Yes\n",
       "268  Two year      59   Yes\n",
       "336  Two year      43   Yes\n",
       "811  Two year      70   Yes\n",
       "975  Two year      71   Yes"
      ]
     },
     "execution_count": 56,
     "metadata": {
      "tags": []
     },
     "output_type": "execute_result"
    }
   ],
   "source": [
    "# 3) Churned numbers for one year contract customers\n",
    "\n",
    "twoyear_churn = telco_km_twoyear[telco_km_twoyear['Churn'] == 'Yes']\n",
    "\n",
    "twoyear_churn.head()"
   ]
  },
  {
   "cell_type": "code",
   "execution_count": 0,
   "metadata": {
    "colab": {},
    "colab_type": "code",
    "id": "NymTsgEUbFeD"
   },
   "outputs": [],
   "source": [
    "# 2 yr contract churn counts\n",
    "\n",
    "twoyear_churn_counts =  twoyear_churn.groupby(['tenure'])['Churn'].count()"
   ]
  },
  {
   "cell_type": "code",
   "execution_count": 58,
   "metadata": {
    "colab": {
     "base_uri": "https://localhost:8080/",
     "height": 140
    },
    "colab_type": "code",
    "id": "l5lJKv-DbFvA",
    "outputId": "a8d82f7f-2485-477a-ebd0-38704b865a2b"
   },
   "outputs": [
    {
     "data": {
      "text/plain": [
       "tenure\n",
       "25    1\n",
       "33    1\n",
       "39    1\n",
       "43    1\n",
       "46    1\n",
       "Name: Churn, dtype: int64"
      ]
     },
     "execution_count": 58,
     "metadata": {
      "tags": []
     },
     "output_type": "execute_result"
    }
   ],
   "source": [
    "# Check:\n",
    "\n",
    "twoyear_churn_counts.head()"
   ]
  },
  {
   "cell_type": "code",
   "execution_count": 59,
   "metadata": {
    "colab": {
     "base_uri": "https://localhost:8080/",
     "height": 276
    },
    "colab_type": "code",
    "id": "kx0q3DT3bfjg",
    "outputId": "3a2a0912-62f7-4f1f-9ace-ebca5d44411b"
   },
   "outputs": [
    {
     "data": {
      "image/png": "[encoded data removed]",
      "text/plain": [
       "<Figure size 432x288 with 1 Axes>"
      ]
     },
     "metadata": {
      "tags": []
     },
     "output_type": "display_data"
    }
   ],
   "source": [
    "# Two year contract churn plots:\n",
    "\n",
    "sns.lineplot(x = twoyear_churn_counts.index, y = twoyear_churn_counts, \n",
    "             color = 'blue',\n",
    "             alpha = 0.4)\n",
    "\n",
    "plt.grid()"
   ]
  },
  {
   "cell_type": "markdown",
   "metadata": {
    "colab_type": "text",
    "id": "FhAYA_vMby7-"
   },
   "source": [
    "##### All Three Customer Churn Plots In One"
   ]
  },
  {
   "cell_type": "code",
   "execution_count": 61,
   "metadata": {
    "colab": {
     "base_uri": "https://localhost:8080/",
     "height": 416
    },
    "colab_type": "code",
    "id": "-e1GsNffb7a5",
    "outputId": "24566b56-3403-42e7-addf-efced8b6628b"
   },
   "outputs": [
    {
     "data": {
      "image/png": "[encoded data removed]",
      "text/plain": [
       "<Figure size 720x360 with 3 Axes>"
      ]
     },
     "metadata": {
      "tags": []
     },
     "output_type": "display_data"
    }
   ],
   "source": [
    "## A Better Plot Than The Above For Comparison\n",
    "\n",
    "# Subplots\n",
    "\n",
    "fig, axes = plt.subplots(figsize = (10, 5), \n",
    "                                    nrows = 1, \n",
    "                                    ncols = 3,\n",
    "                                    sharex = True,\n",
    "                                    sharey = True)\n",
    "\n",
    "# fig = overall figure\n",
    "\n",
    "# Left (ax1) plot - Month-To-Month Customer Churn\n",
    "\n",
    "sns.lineplot(x = monthly_churn_counts.index, y = monthly_churn_counts, \n",
    "             color = 'green',\n",
    "             alpha = 0.8,\n",
    "             ax = axes[0])\n",
    "\n",
    "\n",
    "# Center (ax2) Plot - One year contract churn numbers\n",
    "\n",
    "sns.lineplot(x = oneyear_churn_counts.index, y = oneyear_churn_counts, \n",
    "             color = 'red',\n",
    "             alpha = 0.4,\n",
    "             ax = axes[1])\n",
    "\n",
    "# Right (ax3) Plot - Two year contract churn plots:\n",
    "\n",
    "sns.lineplot(x = twoyear_churn_counts.index, y = twoyear_churn_counts, \n",
    "             color = 'blue',\n",
    "             alpha = 0.4,\n",
    "             ax = axes[2])\n",
    "\n",
    "# Vertical light blue lines to separate years:\n",
    "\n",
    "#for i in range(3):\n",
    "#  axes[i].axvline(x = '2018-01-01', linewidth=2, color='blue', alpha = 0.10)\n",
    "#  axes[i].axvline(x = '2017-01-01', linewidth=2, color='blue', alpha = 0.10)\n",
    "#  axes[i].axvline(x = '2016-01-01', linewidth=2, color='blue', alpha = 0.10)\n",
    "\n",
    "# Set titles:\n",
    "\n",
    "axes[0].set_title('Month-To-Month  \\n')\n",
    "\n",
    "axes[1].set_title('One Year  \\n')\n",
    "\n",
    "axes[2].set_title('Two Year \\n')\n",
    "\n",
    "# y-axis Label:\n",
    "\n",
    "axes[0].set_ylabel(\"Number Of Churned Customers \\n\")\n",
    "\n",
    "# x-axis labels for labelling and rotation:\n",
    "# https://stackoverflow.com/questions/31186019/rotate-tick-labels-in-subplot-pyplot-matplotlib-gridspec\n",
    "\n",
    "for j in range(3):\n",
    "  axes[j].set_xlabel('\\n Tenure (Months)')\n",
    "\n",
    "# Main title:\n",
    "plt.suptitle('Customer Churn Numbers By Contract \\n', \n",
    "             size = 14, \n",
    "             y = 1.10)\n",
    "\n",
    "plt.tight_layout()\n",
    "\n",
    "# x-ticks:\n",
    "\n",
    "plt.xticks(np.arange(0, 74, step = 6))\n",
    "\n",
    "# Save figure:\n",
    "\n",
    "plt.autoscale()\n",
    "plt.savefig('churnCounts_contract.png', dpi=300, bbox_inches = \"tight\")\n",
    "\n",
    "plt.show()"
   ]
  },
  {
   "cell_type": "markdown",
   "metadata": {
    "colab_type": "text",
    "id": "IVR9DpisK3wd"
   },
   "source": [
    "# Data Preprocessing"
   ]
  },
  {
   "cell_type": "code",
   "execution_count": 62,
   "metadata": {
    "colab": {
     "base_uri": "https://localhost:8080/",
     "height": 309
    },
    "colab_type": "code",
    "id": "JE1TiENkLAjF",
    "outputId": "2b855d8f-c668-4e78-e362-6fef73b88ad2"
   },
   "outputs": [
    {
     "data": {
      "text/html": [
       "<div>\n",
       "<style scoped>\n",
       "    .dataframe tbody tr th:only-of-type {\n",
       "        vertical-align: middle;\n",
       "    }\n",
       "\n",
       "    .dataframe tbody tr th {\n",
       "        vertical-align: top;\n",
       "    }\n",
       "\n",
       "    .dataframe thead th {\n",
       "        text-align: right;\n",
       "    }\n",
       "</style>\n",
       "<table border=\"1\" class=\"dataframe\">\n",
       "  <thead>\n",
       "    <tr style=\"text-align: right;\">\n",
       "      <th></th>\n",
       "      <th>customerID</th>\n",
       "      <th>gender</th>\n",
       "      <th>SeniorCitizen</th>\n",
       "      <th>Partner</th>\n",
       "      <th>Dependents</th>\n",
       "      <th>tenure</th>\n",
       "      <th>PhoneService</th>\n",
       "      <th>MultipleLines</th>\n",
       "      <th>InternetService</th>\n",
       "      <th>OnlineSecurity</th>\n",
       "      <th>OnlineBackup</th>\n",
       "      <th>DeviceProtection</th>\n",
       "      <th>TechSupport</th>\n",
       "      <th>StreamingTV</th>\n",
       "      <th>StreamingMovies</th>\n",
       "      <th>Contract</th>\n",
       "      <th>PaperlessBilling</th>\n",
       "      <th>PaymentMethod</th>\n",
       "      <th>MonthlyCharges</th>\n",
       "      <th>TotalCharges</th>\n",
       "      <th>Churn</th>\n",
       "    </tr>\n",
       "  </thead>\n",
       "  <tbody>\n",
       "    <tr>\n",
       "      <th>0</th>\n",
       "      <td>7590-VHVEG</td>\n",
       "      <td>Female</td>\n",
       "      <td>0</td>\n",
       "      <td>Yes</td>\n",
       "      <td>No</td>\n",
       "      <td>1</td>\n",
       "      <td>No</td>\n",
       "      <td>No phone service</td>\n",
       "      <td>DSL</td>\n",
       "      <td>No</td>\n",
       "      <td>Yes</td>\n",
       "      <td>No</td>\n",
       "      <td>No</td>\n",
       "      <td>No</td>\n",
       "      <td>No</td>\n",
       "      <td>Month-to-month</td>\n",
       "      <td>Yes</td>\n",
       "      <td>Electronic check</td>\n",
       "      <td>29.85</td>\n",
       "      <td>29.85</td>\n",
       "      <td>No</td>\n",
       "    </tr>\n",
       "    <tr>\n",
       "      <th>1</th>\n",
       "      <td>5575-GNVDE</td>\n",
       "      <td>Male</td>\n",
       "      <td>0</td>\n",
       "      <td>No</td>\n",
       "      <td>No</td>\n",
       "      <td>34</td>\n",
       "      <td>Yes</td>\n",
       "      <td>No</td>\n",
       "      <td>DSL</td>\n",
       "      <td>Yes</td>\n",
       "      <td>No</td>\n",
       "      <td>Yes</td>\n",
       "      <td>No</td>\n",
       "      <td>No</td>\n",
       "      <td>No</td>\n",
       "      <td>One year</td>\n",
       "      <td>No</td>\n",
       "      <td>Mailed check</td>\n",
       "      <td>56.95</td>\n",
       "      <td>1889.5</td>\n",
       "      <td>No</td>\n",
       "    </tr>\n",
       "    <tr>\n",
       "      <th>2</th>\n",
       "      <td>3668-QPYBK</td>\n",
       "      <td>Male</td>\n",
       "      <td>0</td>\n",
       "      <td>No</td>\n",
       "      <td>No</td>\n",
       "      <td>2</td>\n",
       "      <td>Yes</td>\n",
       "      <td>No</td>\n",
       "      <td>DSL</td>\n",
       "      <td>Yes</td>\n",
       "      <td>Yes</td>\n",
       "      <td>No</td>\n",
       "      <td>No</td>\n",
       "      <td>No</td>\n",
       "      <td>No</td>\n",
       "      <td>Month-to-month</td>\n",
       "      <td>Yes</td>\n",
       "      <td>Mailed check</td>\n",
       "      <td>53.85</td>\n",
       "      <td>108.15</td>\n",
       "      <td>Yes</td>\n",
       "    </tr>\n",
       "    <tr>\n",
       "      <th>3</th>\n",
       "      <td>7795-CFOCW</td>\n",
       "      <td>Male</td>\n",
       "      <td>0</td>\n",
       "      <td>No</td>\n",
       "      <td>No</td>\n",
       "      <td>45</td>\n",
       "      <td>No</td>\n",
       "      <td>No phone service</td>\n",
       "      <td>DSL</td>\n",
       "      <td>Yes</td>\n",
       "      <td>No</td>\n",
       "      <td>Yes</td>\n",
       "      <td>Yes</td>\n",
       "      <td>No</td>\n",
       "      <td>No</td>\n",
       "      <td>One year</td>\n",
       "      <td>No</td>\n",
       "      <td>Bank transfer (automatic)</td>\n",
       "      <td>42.30</td>\n",
       "      <td>1840.75</td>\n",
       "      <td>No</td>\n",
       "    </tr>\n",
       "    <tr>\n",
       "      <th>4</th>\n",
       "      <td>9237-HQITU</td>\n",
       "      <td>Female</td>\n",
       "      <td>0</td>\n",
       "      <td>No</td>\n",
       "      <td>No</td>\n",
       "      <td>2</td>\n",
       "      <td>Yes</td>\n",
       "      <td>No</td>\n",
       "      <td>Fiber optic</td>\n",
       "      <td>No</td>\n",
       "      <td>No</td>\n",
       "      <td>No</td>\n",
       "      <td>No</td>\n",
       "      <td>No</td>\n",
       "      <td>No</td>\n",
       "      <td>Month-to-month</td>\n",
       "      <td>Yes</td>\n",
       "      <td>Electronic check</td>\n",
       "      <td>70.70</td>\n",
       "      <td>151.65</td>\n",
       "      <td>Yes</td>\n",
       "    </tr>\n",
       "  </tbody>\n",
       "</table>\n",
       "</div>"
      ],
      "text/plain": [
       "   customerID  gender  SeniorCitizen Partner Dependents  tenure PhoneService  \\\n",
       "0  7590-VHVEG  Female              0     Yes         No       1           No   \n",
       "1  5575-GNVDE    Male              0      No         No      34          Yes   \n",
       "2  3668-QPYBK    Male              0      No         No       2          Yes   \n",
       "3  7795-CFOCW    Male              0      No         No      45           No   \n",
       "4  9237-HQITU  Female              0      No         No       2          Yes   \n",
       "\n",
       "      MultipleLines InternetService OnlineSecurity OnlineBackup  \\\n",
       "0  No phone service             DSL             No          Yes   \n",
       "1                No             DSL            Yes           No   \n",
       "2                No             DSL            Yes          Yes   \n",
       "3  No phone service             DSL            Yes           No   \n",
       "4                No     Fiber optic             No           No   \n",
       "\n",
       "  DeviceProtection TechSupport StreamingTV StreamingMovies        Contract  \\\n",
       "0               No          No          No              No  Month-to-month   \n",
       "1              Yes          No          No              No        One year   \n",
       "2               No          No          No              No  Month-to-month   \n",
       "3              Yes         Yes          No              No        One year   \n",
       "4               No          No          No              No  Month-to-month   \n",
       "\n",
       "  PaperlessBilling              PaymentMethod  MonthlyCharges TotalCharges  \\\n",
       "0              Yes           Electronic check           29.85        29.85   \n",
       "1               No               Mailed check           56.95       1889.5   \n",
       "2              Yes               Mailed check           53.85       108.15   \n",
       "3               No  Bank transfer (automatic)           42.30      1840.75   \n",
       "4              Yes           Electronic check           70.70       151.65   \n",
       "\n",
       "  Churn  \n",
       "0    No  \n",
       "1    No  \n",
       "2   Yes  \n",
       "3    No  \n",
       "4   Yes  "
      ]
     },
     "execution_count": 62,
     "metadata": {
      "tags": []
     },
     "output_type": "execute_result"
    }
   ],
   "source": [
    "telco_data.head()"
   ]
  },
  {
   "cell_type": "code",
   "execution_count": 68,
   "metadata": {
    "colab": {
     "base_uri": "https://localhost:8080/",
     "height": 387
    },
    "colab_type": "code",
    "id": "Tm6TOyBMMH4j",
    "outputId": "8d8afe61-80bb-4f77-8f64-8208815586c5"
   },
   "outputs": [
    {
     "data": {
      "text/plain": [
       "['customerID',\n",
       " 'gender',\n",
       " 'SeniorCitizen',\n",
       " 'Partner',\n",
       " 'Dependents',\n",
       " 'tenure',\n",
       " 'PhoneService',\n",
       " 'MultipleLines',\n",
       " 'InternetService',\n",
       " 'OnlineSecurity',\n",
       " 'OnlineBackup',\n",
       " 'DeviceProtection',\n",
       " 'TechSupport',\n",
       " 'StreamingTV',\n",
       " 'StreamingMovies',\n",
       " 'Contract',\n",
       " 'PaperlessBilling',\n",
       " 'PaymentMethod',\n",
       " 'MonthlyCharges',\n",
       " 'TotalCharges',\n",
       " 'Churn']"
      ]
     },
     "execution_count": 68,
     "metadata": {
      "tags": []
     },
     "output_type": "execute_result"
    }
   ],
   "source": [
    "list(telco_data.columns)"
   ]
  },
  {
   "cell_type": "code",
   "execution_count": 71,
   "metadata": {
    "colab": {
     "base_uri": "https://localhost:8080/",
     "height": 35
    },
    "colab_type": "code",
    "id": "cliBea49NHrB",
    "outputId": "a938a4f5-de29-4fb6-9ee1-c0aaa4db109c"
   },
   "outputs": [
    {
     "data": {
      "text/plain": [
       "21"
      ]
     },
     "execution_count": 71,
     "metadata": {
      "tags": []
     },
     "output_type": "execute_result"
    }
   ],
   "source": [
    "len(list(telco_data.columns))"
   ]
  },
  {
   "cell_type": "code",
   "execution_count": 70,
   "metadata": {
    "colab": {
     "base_uri": "https://localhost:8080/",
     "height": 351
    },
    "colab_type": "code",
    "id": "j7ithnVgMw7T",
    "outputId": "b92ecd65-5dc5-4f96-9f24-c9355183370a"
   },
   "outputs": [
    {
     "data": {
      "text/plain": [
       "['Partner',\n",
       " 'StreamingMovies',\n",
       " 'PaperlessBilling',\n",
       " 'OnlineSecurity',\n",
       " 'gender',\n",
       " 'PaymentMethod',\n",
       " 'InternetService',\n",
       " 'SeniorCitizen',\n",
       " 'Contract',\n",
       " 'PhoneService',\n",
       " 'TotalCharges',\n",
       " 'OnlineBackup',\n",
       " 'MultipleLines',\n",
       " 'DeviceProtection',\n",
       " 'TechSupport',\n",
       " 'Dependents',\n",
       " 'StreamingTV',\n",
       " 'tenure',\n",
       " 'MonthlyCharges']"
      ]
     },
     "execution_count": 70,
     "metadata": {
      "tags": []
     },
     "output_type": "execute_result"
    }
   ],
   "source": [
    "# Remove Churn and customerID columns from columns list (experiment):\n",
    "\n",
    "list(set(telco_data.columns) - set(['Churn', 'customerID']))"
   ]
  },
  {
   "cell_type": "code",
   "execution_count": 0,
   "metadata": {
    "colab": {},
    "colab_type": "code",
    "id": "F7ul2FgAs-9U"
   },
   "outputs": [],
   "source": [
    "# Select variables:\n",
    "\n",
    "X_cols = list(set(telco_data.columns) - set(['Churn', 'customerID']))\n",
    "\n",
    "y_col = ['Churn']"
   ]
  },
  {
   "cell_type": "code",
   "execution_count": 74,
   "metadata": {
    "colab": {
     "base_uri": "https://localhost:8080/",
     "height": 35
    },
    "colab_type": "code",
    "id": "lYR764ZesusO",
    "outputId": "d0bfdccc-ec93-469b-cd58-4d9eba12b6cc"
   },
   "outputs": [
    {
     "data": {
      "text/plain": [
       "19"
      ]
     },
     "execution_count": 74,
     "metadata": {
      "tags": []
     },
     "output_type": "execute_result"
    }
   ],
   "source": [
    "len(X_cols)"
   ]
  },
  {
   "cell_type": "code",
   "execution_count": 0,
   "metadata": {
    "colab": {},
    "colab_type": "code",
    "id": "_Ed6XDsvN8p7"
   },
   "outputs": [],
   "source": [
    "# Make a copy for transformed data:\n",
    "\n",
    "telco_data_tf = telco_data.copy()"
   ]
  },
  {
   "cell_type": "markdown",
   "metadata": {
    "colab_type": "text",
    "id": "M_dTx2CHO-pT"
   },
   "source": [
    "Label encoders will be used to convert text values into numeric values."
   ]
  },
  {
   "cell_type": "code",
   "execution_count": 0,
   "metadata": {
    "colab": {},
    "colab_type": "code",
    "id": "7ev1MKJUO96-"
   },
   "outputs": [],
   "source": [
    "# Create empty dictionary:\n",
    "\n",
    "encoders = {}"
   ]
  },
  {
   "cell_type": "code",
   "execution_count": 0,
   "metadata": {
    "colab": {},
    "colab_type": "code",
    "id": "GIsh36XAO-Fc"
   },
   "outputs": [],
   "source": [
    "# Encode X_columns with a for loop\n",
    "\n",
    "for xcol in X_cols:\n",
    "  if df[column].dtype != pd.np.object: # Strings considered to be objects in Numpy module\n",
    "    continue\n",
    "  # Fitting inidividual Label Encoders\n",
    "  le = preprocessing.LabelEncoder() \n",
    "  le.fit(df[column].values)\n",
    "  df_transformed[column] = le.transform(df[column])\n",
    "  # Add label encoder into dictionary\n",
    "  encoders[column] = le"
   ]
  },
  {
   "cell_type": "code",
   "execution_count": 0,
   "metadata": {
    "colab": {},
    "colab_type": "code",
    "id": "SGfvWmRwP2NL"
   },
   "outputs": [],
   "source": [
    "encoders"
   ]
  },
  {
   "cell_type": "code",
   "execution_count": 0,
   "metadata": {
    "colab": {},
    "colab_type": "code",
    "id": "cFDLQBW0P4vq"
   },
   "outputs": [],
   "source": [
    "telco_data_tf.head()"
   ]
  },
  {
   "cell_type": "markdown",
   "metadata": {
    "colab_type": "text",
    "id": "oNS_NJDrtAUF"
   },
   "source": [
    "# Ensemble Methods For Classification"
   ]
  },
  {
   "cell_type": "code",
   "execution_count": 0,
   "metadata": {
    "colab": {},
    "colab_type": "code",
    "id": "ww4azytMtC3-"
   },
   "outputs": [],
   "source": []
  },
  {
   "cell_type": "code",
   "execution_count": 0,
   "metadata": {
    "colab": {},
    "colab_type": "code",
    "id": "x-UpleWKtDa0"
   },
   "outputs": [],
   "source": []
  },
  {
   "cell_type": "code",
   "execution_count": 0,
   "metadata": {
    "colab": {},
    "colab_type": "code",
    "id": "1agkYcQDtDdp"
   },
   "outputs": [],
   "source": [
    "# Train Test Split"
   ]
  },
  {
   "cell_type": "markdown",
   "metadata": {
    "colab_type": "text",
    "id": "x8GkOqC9tEEX"
   },
   "source": [
    "## 1) Random Forest"
   ]
  },
  {
   "cell_type": "code",
   "execution_count": 0,
   "metadata": {
    "colab": {},
    "colab_type": "code",
    "id": "txzn8RYPtGDk"
   },
   "outputs": [],
   "source": []
  },
  {
   "cell_type": "code",
   "execution_count": 0,
   "metadata": {
    "colab": {},
    "colab_type": "code",
    "id": "Xc4vcXmvtGqa"
   },
   "outputs": [],
   "source": []
  },
  {
   "cell_type": "code",
   "execution_count": 0,
   "metadata": {
    "colab": {},
    "colab_type": "code",
    "id": "4cTUGGjItGtm"
   },
   "outputs": [],
   "source": []
  },
  {
   "cell_type": "markdown",
   "metadata": {
    "colab_type": "text",
    "id": "ztPqmYUdtG83"
   },
   "source": [
    "## 2) Adaboost"
   ]
  },
  {
   "cell_type": "code",
   "execution_count": 0,
   "metadata": {
    "colab": {},
    "colab_type": "code",
    "id": "-ihDjr6StKD4"
   },
   "outputs": [],
   "source": []
  },
  {
   "cell_type": "code",
   "execution_count": 0,
   "metadata": {
    "colab": {},
    "colab_type": "code",
    "id": "anaPu5_UtLLM"
   },
   "outputs": [],
   "source": []
  },
  {
   "cell_type": "code",
   "execution_count": 0,
   "metadata": {
    "colab": {},
    "colab_type": "code",
    "id": "PGmlN0FStLOP"
   },
   "outputs": [],
   "source": []
  },
  {
   "cell_type": "code",
   "execution_count": 0,
   "metadata": {
    "colab": {},
    "colab_type": "code",
    "id": "WcCqKr3NtLSN"
   },
   "outputs": [],
   "source": []
  },
  {
   "cell_type": "markdown",
   "metadata": {
    "colab_type": "text",
    "id": "v8_s9Xl0tLm8"
   },
   "source": [
    "## 3) Xtreme Gradient Boosting (XGBoost)"
   ]
  },
  {
   "cell_type": "code",
   "execution_count": 0,
   "metadata": {
    "colab": {},
    "colab_type": "code",
    "id": "G27s26sZtPol"
   },
   "outputs": [],
   "source": []
  },
  {
   "cell_type": "code",
   "execution_count": 0,
   "metadata": {
    "colab": {},
    "colab_type": "code",
    "id": "SLnYeT05tQHr"
   },
   "outputs": [],
   "source": []
  },
  {
   "cell_type": "code",
   "execution_count": 0,
   "metadata": {
    "colab": {},
    "colab_type": "code",
    "id": "vbtdwV5qtQKf"
   },
   "outputs": [],
   "source": []
  },
  {
   "cell_type": "markdown",
   "metadata": {
    "colab_type": "text",
    "id": "r-2HZWBQtQuf"
   },
   "source": [
    "## 4) CatBoost"
   ]
  },
  {
   "cell_type": "code",
   "execution_count": 0,
   "metadata": {
    "colab": {},
    "colab_type": "code",
    "id": "SAtqQ5tktSfQ"
   },
   "outputs": [],
   "source": []
  },
  {
   "cell_type": "code",
   "execution_count": 0,
   "metadata": {
    "colab": {},
    "colab_type": "code",
    "id": "9yxR8rgktTW7"
   },
   "outputs": [],
   "source": []
  },
  {
   "cell_type": "code",
   "execution_count": 0,
   "metadata": {
    "colab": {},
    "colab_type": "code",
    "id": "kJNjjxMhtTZu"
   },
   "outputs": [],
   "source": []
  },
  {
   "cell_type": "markdown",
   "metadata": {
    "colab_type": "text",
    "id": "QhplSRlitTx2"
   },
   "source": [
    "## Comparing Metric Scores (Recall)"
   ]
  },
  {
   "cell_type": "code",
   "execution_count": 0,
   "metadata": {
    "colab": {},
    "colab_type": "code",
    "id": "QU0WgcgntWzf"
   },
   "outputs": [],
   "source": []
  }
 ],
 "metadata": {
  "colab": {
   "collapsed_sections": [],
   "name": "boosting_telcoChurn_dku.ipynb",
   "provenance": [],
   "toc_visible": true
  },
  "kernelspec": {
   "display_name": "Python 3",
   "language": "python",
   "name": "python3"
  },
  "language_info": {
   "codemirror_mode": {
    "name": "ipython",
    "version": 3
   },
   "file_extension": ".py",
   "mimetype": "text/x-python",
   "name": "python",
   "nbconvert_exporter": "python",
   "pygments_lexer": "ipython3",
   "version": "3.7.3"
  }
 },
 "nbformat": 4,
 "nbformat_minor": 1
}
